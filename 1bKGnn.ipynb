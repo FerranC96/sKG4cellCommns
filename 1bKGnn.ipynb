{
 "cells": [
  {
   "cell_type": "code",
   "execution_count": 1,
   "metadata": {
    "colab": {
     "base_uri": "https://localhost:8080/"
    },
    "id": "YG7dsu4iQSZd",
    "outputId": "9d6c78cc-0ba4-42aa-8d74-2073cb2694bc"
   },
   "outputs": [],
   "source": [
    "# #To be used on cloud platforms\n",
    "\n",
    "# ! python -c \"import pykeen\" || pip install pykeen\n",
    "# ! python -c \"import scprep\" || pip install scprep"
   ]
  },
  {
   "cell_type": "code",
   "execution_count": 2,
   "metadata": {
    "colab": {
     "base_uri": "https://localhost:8080/"
    },
    "id": "EyBR1hPrQSZl",
    "outputId": "9cd4c56a-ce28-43d7-bb28-0e0c5c17329e"
   },
   "outputs": [],
   "source": [
    "import os, pandas as pd, numpy as np, matplotlib.pyplot as plt\n",
    "import networkx, scprep, magic, torch, pykeen\n",
    "import rpy2, rpy2.situation\n",
    "from rpy2.robjects import r, pandas2ri"
   ]
  },
  {
   "cell_type": "code",
   "execution_count": 3,
   "metadata": {},
   "outputs": [
    {
     "name": "stdout",
     "output_type": "stream",
     "text": [
      "/gpfs/ysm/project/krishnaswamy_smita/fc489/yaleCollab\n"
     ]
    }
   ],
   "source": [
    "print(os.getcwd())\n",
    "data_dir = f\"{os.getcwd()}/data\"\n",
    "kge_dir = f\"{os.getcwd()}/KGEs\""
   ]
  },
  {
   "cell_type": "markdown",
   "metadata": {},
   "source": [
    "Building a KG based on the NicheNet LigandReceptor-Signalling dataset (within their hosted weighted_networks.rds object).\n",
    "\n",
    "The data is presented as weighted edges, so we can use the weights if using the graph directly or set a cutoff value if building a KG (unweighted).\n"
   ]
  },
  {
   "cell_type": "markdown",
   "metadata": {
    "id": "03mZIyN9QSaN"
   },
   "source": [
    "# NicheNet KnowledgeGraph"
   ]
  },
  {
   "cell_type": "markdown",
   "metadata": {},
   "source": [
    "## Constructing dKGnn"
   ]
  },
  {
   "cell_type": "code",
   "execution_count": 4,
   "metadata": {
    "id": "eOPEbeTUQSaO",
    "outputId": "aa1d6191-1520-43f3-8d29-316620cdf352",
    "scrolled": true
   },
   "outputs": [
    {
     "name": "stdout",
     "output_type": "stream",
     "text": [
      "\u001b[1mrpy2 version:\u001b[0m\n",
      "3.5.1\n",
      "\u001b[1mPython version:\u001b[0m\n",
      "3.9.13 | packaged by conda-forge | (main, May 27 2022, 16:58:50) \n",
      "[GCC 10.3.0]\n",
      "\u001b[1mLooking for R's HOME:\u001b[0m\n",
      "    Environment variable R_HOME: /gpfs/ysm/project/krishnaswamy_smita/fc489/conda_envs/collab/lib/R\n",
      "    Calling `R RHOME`: /gpfs/ysm/project/krishnaswamy_smita/fc489/conda_envs/collab/lib/R\n",
      "    Environment variable R_LIBS_USER: None\n",
      "\u001b[1mR's additions to LD_LIBRARY_PATH:\u001b[0m\n",
      "\n",
      "\u001b[1mR version:\u001b[0m\n",
      "    In the PATH: R version 4.1.3 (2022-03-10) -- \"One Push-Up\"\n",
      "    Loading R library from rpy2: OK\n",
      "\u001b[1mAdditional directories to load R packages from:\u001b[0m\n",
      "None\n",
      "\u001b[1mC extension compilation:\u001b[0m\n",
      "  include:\n",
      "  ['/gpfs/ysm/project/krishnaswamy_smita/fc489/conda_envs/collab/lib/R/include']\n",
      "  libraries:\n",
      "  ['R', 'pcre2-8', 'lzma', 'bz2', 'z', 'rt', 'dl', 'm', 'iconv', 'icuuc', 'icui18n']\n",
      "  library_dirs:\n",
      "  ['/gpfs/ysm/project/krishnaswamy_smita/fc489/conda_envs/collab/lib', '/gpfs/ysm/project/krishnaswamy_smita/fc489/conda_envs/collab/lib/R/lib', '/gpfs/ysm/project/krishnaswamy_smita/fc489/conda_envs/collab/lib']\n",
      "  extra_compile_args:\n",
      "  []\n",
      "  extra_link_args:\n",
      "  ['-Wl,--export-dynamic', '-fopenmp', '-Wl,-O2', '-Wl,--sort-common', '-Wl,--as-needed', '-Wl,-z,relro', '-Wl,-z,now', '-Wl,--disable-new-dtags', '-Wl,--gc-sections', '-Wl,--allow-shlib-undefined', '-Wl,-rpath,/gpfs/ysm/project/krishnaswamy_smita/fc489/conda_envs/collab/lib', '-Wl,-rpath-link,/gpfs/ysm/project/krishnaswamy_smita/fc489/conda_envs/collab/lib']\n"
     ]
    }
   ],
   "source": [
    "for i in rpy2.situation.iter_info(): # Print Rpy2 info\n",
    "    print(i)\n",
    "\n",
    "pandas2ri.activate()\n",
    "%load_ext rpy2.ipython"
   ]
  },
  {
   "cell_type": "markdown",
   "metadata": {},
   "source": [
    "%%R -o dNNlr,dNNs,dNNgr\n",
    "#Directly load RDS object from NicheNet's zenodo repo\n",
    "dNNlr = readRDS(url(\"https://zenodo.org/record/3260758/files/lr_network.rds\"))\n",
    "dNNs = readRDS(url(\"https://zenodo.org/record/3260758/files/signaling_network.rds\"))\n",
    "dNNgr = readRDS(url(\"https://zenodo.org/record/3260758/files/gr_network.rds\"))"
   ]
  },
  {
   "cell_type": "markdown",
   "metadata": {
    "scrolled": false
   },
   "source": [
    "print(dNNlr.describe())\n",
    "print(dNNs.describe())\n",
    "print(dNNgr.describe())\n",
    "\n",
    "dNNlr = pd.DataFrame({\n",
    "            \"head\":dNNlr[\"from\"],\n",
    "            \"relation\":np.repeat(\"LR\", dNNlr.shape[0]),\n",
    "            \"tail\":dNNlr[\"to\"]\n",
    "        })\n",
    "dNNs = pd.DataFrame({\n",
    "            \"head\":dNNs[\"from\"],\n",
    "            \"relation\":np.repeat(\"SIG\", dNNs.shape[0]),\n",
    "            \"tail\":dNNs[\"to\"]\n",
    "        })\n",
    "dNNgr = pd.DataFrame({\n",
    "            \"head\":dNNgr[\"from\"],\n",
    "            \"relation\":np.repeat(\"GR\", dNNgr.shape[0]),\n",
    "            \"tail\":dNNgr[\"to\"]\n",
    "        })"
   ]
  },
  {
   "cell_type": "markdown",
   "metadata": {},
   "source": [
    "Load in pathway data from Ensembl2Reactome file. \n",
    "We will use this data to add new triples (named pathway) from REactome IDs to human gene symbols."
   ]
  },
  {
   "cell_type": "markdown",
   "metadata": {},
   "source": [
    "We're getting ensembl peptide IDs as we want to annotate human gene symbols that correspond to proteins."
   ]
  },
  {
   "cell_type": "markdown",
   "metadata": {
    "scrolled": true
   },
   "source": [
    "from biomart import BiomartServer\n",
    "\n",
    "#Load reactome database\n",
    "dPathEnsR = pd.read_csv(f\"{data_dir}/DBs/Ensembl2Reactome.txt\", sep=\"\\t\", header=None)\n",
    "dPathEnsR = dPathEnsR.loc[dPathEnsR[5]==\"Homo sapiens\"][[0,1]].drop_duplicates()\n",
    "\n",
    "#Biomart section\n",
    "server = BiomartServer(\"http://useast.ensembl.org/biomart\")\n",
    "server.verbose = True\n",
    "mart = server.datasets[\"hsapiens_gene_ensembl\"]\n",
    "response = mart.search({\"attributes\":[\"ensembl_peptide_id\",\"hgnc_symbol\"]})\n",
    "#Translation\n",
    "transDF = []\n",
    "for line in response.raw.data.decode(\"utf-8\").splitlines():\n",
    "    line = line.split(\"\\t\")\n",
    "    if len(line[0]) > 0: #Only get gene symbols with ENSP ID\n",
    "        transDF.append(line)\n",
    "transDF = pd.DataFrame(transDF, \n",
    "                columns=[\"ensembl_peptide_id\",\"hgnc_symbol\"]\n",
    "                ).drop_duplicates() \n",
    "transDict = transDF.set_index(\"ensembl_peptide_id\"\n",
    "                ).to_dict(\n",
    "                    #Transform DF into a dictionary but first set index\n",
    "                )[\"hgnc_symbol\"]#Nested dict, so get first (and only item)\n",
    "\n",
    "dPathEnsR[0] = dPathEnsR[0].map(transDict)\n",
    "dPathEnsR = dPathEnsR.dropna().drop_duplicates()\n",
    "dPathEnsR = pd.DataFrame({\n",
    "            \"head\":dPathEnsR[1],\n",
    "            \"relation\":np.repeat(\"pathway\", dPathEnsR.shape[0]),\n",
    "            \"tail\":dPathEnsR[0]\n",
    "        })"
   ]
  },
  {
   "cell_type": "markdown",
   "metadata": {},
   "source": [
    "### Make pathway metadata df"
   ]
  },
  {
   "cell_type": "markdown",
   "metadata": {
    "scrolled": true
   },
   "source": [
    "#Add in pathway metadata info: Dict with pathway name and Reactome PE IDs belonging to it\n",
    "#Kepp in mind that not all of them are PTMs, some are just the protein\n",
    "dPathMETA = pd.read_csv(f\"{data_dir}/DBs/Ensembl2Reactome_PE_Pathway.txt\", sep=\"\\t\", header=None)\n",
    "dPathMETA = dPathMETA.loc[\n",
    "    dPathMETA[7]==\"Homo sapiens\"][[1,2,3,5]].drop_duplicates().rename(\n",
    "        columns = {1:\"PE\",2:\"PE_name\",3:\"pathway\",5:\"pathway_name\"})\n",
    "dPathMETA = dPathMETA.loc[dPathMETA[\"pathway\"].isin(dPathEnsR[\"head\"])].reset_index(drop=True)\n",
    "dPathMETA"
   ]
  },
  {
   "cell_type": "code",
   "execution_count": null,
   "metadata": {
    "scrolled": true
   },
   "outputs": [],
   "source": [
    "# DEPRECATED CELL\n",
    "# # print(len(dPathMETA[\"PE\"].unique()))\n",
    "# # print(len(dPathMETA[\"PE_name\"].unique()))\n",
    "# # print(len(dPathMETA[\"pathway\"].unique()))\n",
    "# # print(len(dPathMETA[\"pathway_name\"].unique()))\n",
    "\n",
    "# # df = dPathMETA[[\"pathway\",\"pathway_name\"]].drop_duplicates()\n",
    "\n",
    "# # dPathMDdict = {}\n",
    "# # for i in dPathMETA.iterrows():\n",
    "# #     if i[1][\"pathway\"] not in dPathMDdict.keys():\n",
    "# #         dPathMDdict[i[1][\"pathway\"]] = i[1][\"pathway_name\"]\n",
    "# #         dPathMDdict[\"PEdict\"] = {i[1][\"PE\"]:i[1][\"PE_name\"]}\n",
    "# # print(dPathMDdict)\n",
    "\n",
    "# # for name, group in dPathMETA.groupby(by=\"pathway\"):\n",
    "# #     print(name)\n",
    "# #     print(group.to_dict(\"records\"))"
   ]
  },
  {
   "cell_type": "markdown",
   "metadata": {},
   "source": [
    "#### Save Pathway metadata"
   ]
  },
  {
   "cell_type": "markdown",
   "metadata": {},
   "source": [
    "dPathMETA.to_csv(f\"{data_dir}/dPathMETA.csv.tar.gz\", index=False)"
   ]
  },
  {
   "cell_type": "markdown",
   "metadata": {},
   "source": [
    "### Assemble triples dataset\n",
    "\n",
    "Build final set of triples.\n",
    "To make pykeen object, use from_labelled_triples() and load data columns of dKGnn as numpy and pass the metadata column (for pathways) as metadata arg."
   ]
  },
  {
   "cell_type": "markdown",
   "metadata": {},
   "source": [
    "#### Save dKGnn"
   ]
  },
  {
   "cell_type": "markdown",
   "metadata": {},
   "source": [
    "dKGnn = pd.concat([dNNlr, dNNs, dNNgr, dPathEnsR]).drop_duplicates().reset_index(drop=True)\n",
    "del dNNlr,dNNs,dNNgr,dPathEnsR\n",
    "dKGnn"
   ]
  },
  {
   "cell_type": "markdown",
   "metadata": {},
   "source": [
    "dKGnn.to_csv(f\"{data_dir}/dKGnn.csv.tar.gz\", index=False, header=False)"
   ]
  },
  {
   "cell_type": "markdown",
   "metadata": {},
   "source": [
    "## LOAD dKGnn and metadata"
   ]
  },
  {
   "cell_type": "markdown",
   "metadata": {},
   "source": [
    "Load dKGnn"
   ]
  },
  {
   "cell_type": "code",
   "execution_count": 14,
   "metadata": {},
   "outputs": [
    {
     "data": {
      "text/html": [
       "<div>\n",
       "<style scoped>\n",
       "    .dataframe tbody tr th:only-of-type {\n",
       "        vertical-align: middle;\n",
       "    }\n",
       "\n",
       "    .dataframe tbody tr th {\n",
       "        vertical-align: top;\n",
       "    }\n",
       "\n",
       "    .dataframe thead th {\n",
       "        text-align: right;\n",
       "    }\n",
       "</style>\n",
       "<table border=\"1\" class=\"dataframe\">\n",
       "  <thead>\n",
       "    <tr style=\"text-align: right;\">\n",
       "      <th></th>\n",
       "      <th>0</th>\n",
       "      <th>1</th>\n",
       "      <th>2</th>\n",
       "    </tr>\n",
       "  </thead>\n",
       "  <tbody>\n",
       "    <tr>\n",
       "      <th>0</th>\n",
       "      <td>CXCL1</td>\n",
       "      <td>LR</td>\n",
       "      <td>CXCR2</td>\n",
       "    </tr>\n",
       "    <tr>\n",
       "      <th>1</th>\n",
       "      <td>CXCL2</td>\n",
       "      <td>LR</td>\n",
       "      <td>CXCR2</td>\n",
       "    </tr>\n",
       "    <tr>\n",
       "      <th>2</th>\n",
       "      <td>CXCL3</td>\n",
       "      <td>LR</td>\n",
       "      <td>CXCR2</td>\n",
       "    </tr>\n",
       "    <tr>\n",
       "      <th>3</th>\n",
       "      <td>CXCL5</td>\n",
       "      <td>LR</td>\n",
       "      <td>CXCR2</td>\n",
       "    </tr>\n",
       "    <tr>\n",
       "      <th>4</th>\n",
       "      <td>PPBP</td>\n",
       "      <td>LR</td>\n",
       "      <td>CXCR2</td>\n",
       "    </tr>\n",
       "    <tr>\n",
       "      <th>...</th>\n",
       "      <td>...</td>\n",
       "      <td>...</td>\n",
       "      <td>...</td>\n",
       "    </tr>\n",
       "    <tr>\n",
       "      <th>5444497</th>\n",
       "      <td>R-HSA-6798695</td>\n",
       "      <td>pathway</td>\n",
       "      <td>SIGLEC5</td>\n",
       "    </tr>\n",
       "    <tr>\n",
       "      <th>5444498</th>\n",
       "      <td>R-HSA-1181150</td>\n",
       "      <td>pathway</td>\n",
       "      <td>TDGF1P3</td>\n",
       "    </tr>\n",
       "    <tr>\n",
       "      <th>5444499</th>\n",
       "      <td>R-HSA-1433617</td>\n",
       "      <td>pathway</td>\n",
       "      <td>TDGF1P3</td>\n",
       "    </tr>\n",
       "    <tr>\n",
       "      <th>5444500</th>\n",
       "      <td>R-HSA-3295583</td>\n",
       "      <td>pathway</td>\n",
       "      <td>TRPM5</td>\n",
       "    </tr>\n",
       "    <tr>\n",
       "      <th>5444501</th>\n",
       "      <td>R-HSA-9717207</td>\n",
       "      <td>pathway</td>\n",
       "      <td>TRPM5</td>\n",
       "    </tr>\n",
       "  </tbody>\n",
       "</table>\n",
       "<p>5444502 rows × 3 columns</p>\n",
       "</div>"
      ],
      "text/plain": [
       "                     0        1        2\n",
       "0                CXCL1       LR    CXCR2\n",
       "1                CXCL2       LR    CXCR2\n",
       "2                CXCL3       LR    CXCR2\n",
       "3                CXCL5       LR    CXCR2\n",
       "4                 PPBP       LR    CXCR2\n",
       "...                ...      ...      ...\n",
       "5444497  R-HSA-6798695  pathway  SIGLEC5\n",
       "5444498  R-HSA-1181150  pathway  TDGF1P3\n",
       "5444499  R-HSA-1433617  pathway  TDGF1P3\n",
       "5444500  R-HSA-3295583  pathway    TRPM5\n",
       "5444501  R-HSA-9717207  pathway    TRPM5\n",
       "\n",
       "[5444502 rows x 3 columns]"
      ]
     },
     "execution_count": 14,
     "metadata": {},
     "output_type": "execute_result"
    }
   ],
   "source": [
    "dKGnn = pd.read_csv(f\"{data_dir}/dKGnn.csv.tar.gz\", header=None)\n",
    "dKGnn"
   ]
  },
  {
   "cell_type": "markdown",
   "metadata": {},
   "source": [
    "Load pathway metadata"
   ]
  },
  {
   "cell_type": "code",
   "execution_count": 11,
   "metadata": {
    "scrolled": true
   },
   "outputs": [
    {
     "data": {
      "text/html": [
       "<div>\n",
       "<style scoped>\n",
       "    .dataframe tbody tr th:only-of-type {\n",
       "        vertical-align: middle;\n",
       "    }\n",
       "\n",
       "    .dataframe tbody tr th {\n",
       "        vertical-align: top;\n",
       "    }\n",
       "\n",
       "    .dataframe thead th {\n",
       "        text-align: right;\n",
       "    }\n",
       "</style>\n",
       "<table border=\"1\" class=\"dataframe\">\n",
       "  <thead>\n",
       "    <tr style=\"text-align: right;\">\n",
       "      <th></th>\n",
       "      <th>PE</th>\n",
       "      <th>PE_name</th>\n",
       "      <th>pathway</th>\n",
       "      <th>pathway_name</th>\n",
       "    </tr>\n",
       "  </thead>\n",
       "  <tbody>\n",
       "    <tr>\n",
       "      <th>0</th>\n",
       "      <td>R-HSA-162865</td>\n",
       "      <td>DPM1 [endoplasmic reticulum membrane]</td>\n",
       "      <td>R-HSA-162699</td>\n",
       "      <td>Synthesis of dolichyl-phosphate mannose</td>\n",
       "    </tr>\n",
       "    <tr>\n",
       "      <th>1</th>\n",
       "      <td>R-HSA-4717383</td>\n",
       "      <td>DPM1 G111Lfs*45 [endoplasmic reticulum membrane]</td>\n",
       "      <td>R-HSA-4717374</td>\n",
       "      <td>Defective DPM1 causes DPM1-CDG</td>\n",
       "    </tr>\n",
       "    <tr>\n",
       "      <th>2</th>\n",
       "      <td>R-HSA-4717361</td>\n",
       "      <td>DPM1 Q210Rfs*4 [endoplasmic reticulum membrane]</td>\n",
       "      <td>R-HSA-4717374</td>\n",
       "      <td>Defective DPM1 causes DPM1-CDG</td>\n",
       "    </tr>\n",
       "    <tr>\n",
       "      <th>3</th>\n",
       "      <td>R-HSA-4717370</td>\n",
       "      <td>DPM1 R92G [endoplasmic reticulum membrane]</td>\n",
       "      <td>R-HSA-4717374</td>\n",
       "      <td>Defective DPM1 causes DPM1-CDG</td>\n",
       "    </tr>\n",
       "    <tr>\n",
       "      <th>4</th>\n",
       "      <td>R-HSA-162865</td>\n",
       "      <td>DPM1 [endoplasmic reticulum membrane]</td>\n",
       "      <td>R-HSA-4719360</td>\n",
       "      <td>Defective DPM3 causes DPM3-CDG</td>\n",
       "    </tr>\n",
       "    <tr>\n",
       "      <th>...</th>\n",
       "      <td>...</td>\n",
       "      <td>...</td>\n",
       "      <td>...</td>\n",
       "      <td>...</td>\n",
       "    </tr>\n",
       "    <tr>\n",
       "      <th>71351</th>\n",
       "      <td>R-HSA-3209107</td>\n",
       "      <td>p14ARF mRNA [cytosol]</td>\n",
       "      <td>R-HSA-8951936</td>\n",
       "      <td>RUNX3 regulates p14-ARF</td>\n",
       "    </tr>\n",
       "    <tr>\n",
       "      <th>71352</th>\n",
       "      <td>R-HSA-8848195</td>\n",
       "      <td>U4atac snRNA [nucleoplasm]</td>\n",
       "      <td>R-HSA-6807505</td>\n",
       "      <td>RNA polymerase II transcribes snRNA genes</td>\n",
       "    </tr>\n",
       "    <tr>\n",
       "      <th>71353</th>\n",
       "      <td>R-HSA-8848195</td>\n",
       "      <td>U4atac snRNA [nucleoplasm]</td>\n",
       "      <td>R-HSA-72165</td>\n",
       "      <td>mRNA Splicing - Minor Pathway</td>\n",
       "    </tr>\n",
       "    <tr>\n",
       "      <th>71354</th>\n",
       "      <td>R-HSA-428380</td>\n",
       "      <td>MYC mRNA [cytosol]</td>\n",
       "      <td>R-HSA-428359</td>\n",
       "      <td>Insulin-like Growth Factor-2 mRNA Binding Prot...</td>\n",
       "    </tr>\n",
       "    <tr>\n",
       "      <th>71355</th>\n",
       "      <td>R-HSA-6790030</td>\n",
       "      <td>IL23A gene [nucleoplasm]</td>\n",
       "      <td>R-HSA-6785807</td>\n",
       "      <td>Interleukin-4 and Interleukin-13 signaling</td>\n",
       "    </tr>\n",
       "  </tbody>\n",
       "</table>\n",
       "<p>71356 rows × 4 columns</p>\n",
       "</div>"
      ],
      "text/plain": [
       "                  PE                                           PE_name  \\\n",
       "0       R-HSA-162865             DPM1 [endoplasmic reticulum membrane]   \n",
       "1      R-HSA-4717383  DPM1 G111Lfs*45 [endoplasmic reticulum membrane]   \n",
       "2      R-HSA-4717361   DPM1 Q210Rfs*4 [endoplasmic reticulum membrane]   \n",
       "3      R-HSA-4717370        DPM1 R92G [endoplasmic reticulum membrane]   \n",
       "4       R-HSA-162865             DPM1 [endoplasmic reticulum membrane]   \n",
       "...              ...                                               ...   \n",
       "71351  R-HSA-3209107                             p14ARF mRNA [cytosol]   \n",
       "71352  R-HSA-8848195                        U4atac snRNA [nucleoplasm]   \n",
       "71353  R-HSA-8848195                        U4atac snRNA [nucleoplasm]   \n",
       "71354   R-HSA-428380                                MYC mRNA [cytosol]   \n",
       "71355  R-HSA-6790030                          IL23A gene [nucleoplasm]   \n",
       "\n",
       "             pathway                                       pathway_name  \n",
       "0       R-HSA-162699            Synthesis of dolichyl-phosphate mannose  \n",
       "1      R-HSA-4717374                     Defective DPM1 causes DPM1-CDG  \n",
       "2      R-HSA-4717374                     Defective DPM1 causes DPM1-CDG  \n",
       "3      R-HSA-4717374                     Defective DPM1 causes DPM1-CDG  \n",
       "4      R-HSA-4719360                     Defective DPM3 causes DPM3-CDG  \n",
       "...              ...                                                ...  \n",
       "71351  R-HSA-8951936                            RUNX3 regulates p14-ARF  \n",
       "71352  R-HSA-6807505          RNA polymerase II transcribes snRNA genes  \n",
       "71353    R-HSA-72165                      mRNA Splicing - Minor Pathway  \n",
       "71354   R-HSA-428359  Insulin-like Growth Factor-2 mRNA Binding Prot...  \n",
       "71355  R-HSA-6785807         Interleukin-4 and Interleukin-13 signaling  \n",
       "\n",
       "[71356 rows x 4 columns]"
      ]
     },
     "execution_count": 11,
     "metadata": {},
     "output_type": "execute_result"
    }
   ],
   "source": [
    "dPathMETA = pd.read_csv(f\"{data_dir}/dPathMETA.csv.tar.gz\")\n",
    "dPathMETA"
   ]
  },
  {
   "cell_type": "markdown",
   "metadata": {},
   "source": [
    "## KGnn graph metrics"
   ]
  },
  {
   "cell_type": "code",
   "execution_count": 15,
   "metadata": {
    "scrolled": true
   },
   "outputs": [
    {
     "name": "stderr",
     "output_type": "stream",
     "text": [
      "/tmp/ipykernel_146497/1248142686.py:3: DeprecationWarning: info is deprecated and will be removed in version 3.0.\n",
      "\n",
      "  print(f\"{networkx.info(G)}, with a density of {networkx.density(G)}\")\n"
     ]
    },
    {
     "name": "stdout",
     "output_type": "stream",
     "text": [
      "Graph with 27620 nodes and 4258252 edges, with a density of 0.011164254560457875\n",
      "We have this many isolates:  0\n",
      "The graph is connected: True\n"
     ]
    }
   ],
   "source": [
    "G = networkx.from_pandas_edgelist(dKGnn,source=0,target=2,edge_attr=1)\n",
    "\n",
    "print(f\"{networkx.info(G)}, with a density of {networkx.density(G)}\")\n",
    "print(\"We have this many isolates: \", \n",
    "      networkx.number_of_isolates(G))\n",
    "print(\"The graph is connected:\",\n",
    "     networkx.is_connected(G))\n",
    "\n",
    "if not networkx.is_connected(G):\n",
    "    print(f\"\\nWe have {networkx.number_connected_components(G)} connected subgraphs\")\n",
    "    \n",
    "    Gcomponents = [G.subgraph(c).copy() for c in networkx.connected_components(G)]\n",
    "    for i,g in enumerate(Gcomponents,start=1):\n",
    "        print(f\"Component {i}: {networkx.info(g)}, with a density of {networkx.density(g)}\")"
   ]
  },
  {
   "cell_type": "code",
   "execution_count": null,
   "metadata": {},
   "outputs": [],
   "source": [
    "networkx.draw(G)"
   ]
  },
  {
   "cell_type": "markdown",
   "metadata": {},
   "source": [
    "# KGEmbedding"
   ]
  },
  {
   "cell_type": "markdown",
   "metadata": {},
   "source": [
    "## Build the KGE"
   ]
  },
  {
   "cell_type": "code",
   "execution_count": 18,
   "metadata": {},
   "outputs": [],
   "source": [
    "from pykeen.pipeline import pipeline\n",
    "from pykeen.triples import TriplesFactory"
   ]
  },
  {
   "cell_type": "code",
   "execution_count": 25,
   "metadata": {},
   "outputs": [
    {
     "data": {
      "text/plain": [
       "array([['CXCL1', 'LR', 'CXCR2'],\n",
       "       ['CXCL2', 'LR', 'CXCR2'],\n",
       "       ['CXCL3', 'LR', 'CXCR2'],\n",
       "       ...,\n",
       "       ['R-HSA-1433617', 'pathway', 'TDGF1P3'],\n",
       "       ['R-HSA-3295583', 'pathway', 'TRPM5'],\n",
       "       ['R-HSA-9717207', 'pathway', 'TRPM5']], dtype='<U22')"
      ]
     },
     "execution_count": 25,
     "metadata": {},
     "output_type": "execute_result"
    }
   ],
   "source": [
    "dKGnn.to_numpy(dtype=\"str\")"
   ]
  },
  {
   "cell_type": "code",
   "execution_count": 26,
   "metadata": {},
   "outputs": [
    {
     "data": {
      "text/plain": [
       "TriplesFactory(num_entities=27620, num_relations=4, create_inverse_triples=False, num_triples=5444502)"
      ]
     },
     "execution_count": 26,
     "metadata": {},
     "output_type": "execute_result"
    }
   ],
   "source": [
    "tf = TriplesFactory.from_labeled_triples(\n",
    "        dKGnn.to_numpy(dtype=\"str\"),create_inverse_triples=False)\n",
    "tf"
   ]
  },
  {
   "cell_type": "code",
   "execution_count": 27,
   "metadata": {},
   "outputs": [],
   "source": [
    "import json\n",
    "with open(f\"{data_dir}/dKGnn_entityIDS.json\",\"w\") as outf:\n",
    "    json.dump(tf.entity_id_to_label, outf)"
   ]
  },
  {
   "cell_type": "markdown",
   "metadata": {},
   "source": [
    "Compute with default model:"
   ]
  },
  {
   "cell_type": "code",
   "execution_count": 28,
   "metadata": {},
   "outputs": [],
   "source": [
    "modelKGE = \"KGnn_50_unstratified_stopped_transe\""
   ]
  },
  {
   "cell_type": "code",
   "execution_count": 29,
   "metadata": {
    "scrolled": true
   },
   "outputs": [
    {
     "name": "stderr",
     "output_type": "stream",
     "text": [
      "using automatically assigned random_state=1715493942\n"
     ]
    },
    {
     "data": {
      "application/vnd.jupyter.widget-view+json": {
       "model_id": "441faeb0d2d240b783ef052a8e755b31",
       "version_major": 2,
       "version_minor": 0
      },
      "text/plain": [
       "Training epochs on cuda:0:   0%|          | 0/10 [00:00<?, ?epoch/s]"
      ]
     },
     "metadata": {},
     "output_type": "display_data"
    },
    {
     "data": {
      "application/vnd.jupyter.widget-view+json": {
       "model_id": "",
       "version_major": 2,
       "version_minor": 0
      },
      "text/plain": [
       "Training batches on cuda:0:   0%|          | 0/17015 [00:00<?, ?batch/s]"
      ]
     },
     "metadata": {},
     "output_type": "display_data"
    },
    {
     "data": {
      "application/vnd.jupyter.widget-view+json": {
       "model_id": "",
       "version_major": 2,
       "version_minor": 0
      },
      "text/plain": [
       "Training batches on cuda:0:   0%|          | 0/17015 [00:00<?, ?batch/s]"
      ]
     },
     "metadata": {},
     "output_type": "display_data"
    },
    {
     "data": {
      "application/vnd.jupyter.widget-view+json": {
       "model_id": "",
       "version_major": 2,
       "version_minor": 0
      },
      "text/plain": [
       "Training batches on cuda:0:   0%|          | 0/17015 [00:00<?, ?batch/s]"
      ]
     },
     "metadata": {},
     "output_type": "display_data"
    },
    {
     "data": {
      "application/vnd.jupyter.widget-view+json": {
       "model_id": "",
       "version_major": 2,
       "version_minor": 0
      },
      "text/plain": [
       "Training batches on cuda:0:   0%|          | 0/17015 [00:00<?, ?batch/s]"
      ]
     },
     "metadata": {},
     "output_type": "display_data"
    },
    {
     "data": {
      "application/vnd.jupyter.widget-view+json": {
       "model_id": "",
       "version_major": 2,
       "version_minor": 0
      },
      "text/plain": [
       "Training batches on cuda:0:   0%|          | 0/17015 [00:00<?, ?batch/s]"
      ]
     },
     "metadata": {},
     "output_type": "display_data"
    },
    {
     "data": {
      "application/vnd.jupyter.widget-view+json": {
       "model_id": "",
       "version_major": 2,
       "version_minor": 0
      },
      "text/plain": [
       "Training batches on cuda:0:   0%|          | 0/17015 [00:00<?, ?batch/s]"
      ]
     },
     "metadata": {},
     "output_type": "display_data"
    },
    {
     "data": {
      "application/vnd.jupyter.widget-view+json": {
       "model_id": "",
       "version_major": 2,
       "version_minor": 0
      },
      "text/plain": [
       "Training batches on cuda:0:   0%|          | 0/17015 [00:00<?, ?batch/s]"
      ]
     },
     "metadata": {},
     "output_type": "display_data"
    },
    {
     "data": {
      "application/vnd.jupyter.widget-view+json": {
       "model_id": "",
       "version_major": 2,
       "version_minor": 0
      },
      "text/plain": [
       "Training batches on cuda:0:   0%|          | 0/17015 [00:00<?, ?batch/s]"
      ]
     },
     "metadata": {},
     "output_type": "display_data"
    },
    {
     "data": {
      "application/vnd.jupyter.widget-view+json": {
       "model_id": "",
       "version_major": 2,
       "version_minor": 0
      },
      "text/plain": [
       "Training batches on cuda:0:   0%|          | 0/17015 [00:00<?, ?batch/s]"
      ]
     },
     "metadata": {},
     "output_type": "display_data"
    },
    {
     "data": {
      "application/vnd.jupyter.widget-view+json": {
       "model_id": "",
       "version_major": 2,
       "version_minor": 0
      },
      "text/plain": [
       "Training batches on cuda:0:   0%|          | 0/17015 [00:00<?, ?batch/s]"
      ]
     },
     "metadata": {},
     "output_type": "display_data"
    },
    {
     "name": "stderr",
     "output_type": "stream",
     "text": [
      "INFO:pykeen.evaluation.evaluator:Starting batch_size search for evaluation now...\n",
      "INFO:pykeen.evaluation.evaluator:Concluded batch_size search with batch_size=256.\n",
      "INFO:pykeen.evaluation.evaluator:Evaluation took 282.16s seconds\n",
      "INFO:pykeen.stoppers.early_stopping:New best result at epoch 10: 0.04303693077981306. Saved model weights to /home/fc489/.data/pykeen/checkpoints/best-model-weights-95eb8170-6338-4543-a41f-49d8244da596.pt\n",
      "INFO:pykeen.training.training_loop:=> Saved checkpoint after having finished epoch 10.\n"
     ]
    },
    {
     "data": {
      "application/vnd.jupyter.widget-view+json": {
       "model_id": "e6021de6bf0c4078a9bb60e8b7d03b9e",
       "version_major": 2,
       "version_minor": 0
      },
      "text/plain": [
       "Evaluating on cuda:0:   0%|          | 0.00/544k [00:00<?, ?triple/s]"
      ]
     },
     "metadata": {},
     "output_type": "display_data"
    },
    {
     "name": "stderr",
     "output_type": "stream",
     "text": [
      "INFO:pykeen.evaluation.evaluator:Evaluation took 315.51s seconds\n",
      "INFO:pykeen.triples.triples_factory:Stored TriplesFactory(num_entities=27620, num_relations=4, create_inverse_triples=False, num_triples=4355601) to file:///gpfs/ysm/project/krishnaswamy_smita/fc489/yaleCollab/KGEs/KGnn_50_unstratified_stopped_transe/training_triples\n",
      "INFO:pykeen.pipeline.api:Saved to directory: file:///gpfs/ysm/project/krishnaswamy_smita/fc489/yaleCollab/KGEs/KGnn_50_unstratified_stopped_transe\n"
     ]
    },
    {
     "name": "stdout",
     "output_type": "stream",
     "text": [
      "TransE(\n",
      "  (loss): MarginRankingLoss(\n",
      "    (margin_activation): ReLU()\n",
      "  )\n",
      "  (interaction): TransEInteraction()\n",
      "  (entity_representations): ModuleList(\n",
      "    (0): Embedding(\n",
      "      (_embeddings): Embedding(27620, 50)\n",
      "    )\n",
      "  )\n",
      "  (relation_representations): ModuleList(\n",
      "    (0): Embedding(\n",
      "      (_embeddings): Embedding(4, 50)\n",
      "    )\n",
      "  )\n",
      "  (weight_regularizers): ModuleList()\n",
      ")\n",
      "CPU times: user 1h 40min 8s, sys: 1h 25min 17s, total: 3h 5min 25s\n",
      "Wall time: 35min 39s\n"
     ]
    },
    {
     "data": {
      "text/plain": [
       "<AxesSubplot: title={'center': 'Losses Plot'}, xlabel='Epoch', ylabel='marginranking Loss'>"
      ]
     },
     "execution_count": 29,
     "metadata": {},
     "output_type": "execute_result"
    },
    {
     "data": {
      "image/png": "[encoded data removed]",
      "text/plain": [
       "<Figure size 640x480 with 1 Axes>"
      ]
     },
     "metadata": {},
     "output_type": "display_data"
    }
   ],
   "source": [
    "%%time\n",
    "\n",
    "training, testing, validation = tf.split([.8, .1, .1])\n",
    "\n",
    "result = pipeline(\n",
    "    training=training,\n",
    "    testing=testing,\n",
    "    validation=validation,\n",
    "    model=\"TransE\",\n",
    "    model_kwargs=dict(embedding_dim=50),\n",
    "    training_loop='sLCWA',\n",
    "    negative_sampler='basic',\n",
    "    stopper=\"early\",\n",
    "    random_seed=42,\n",
    "    epochs=10,  # short epochs for testing - you should go\n",
    "                # higher, especially with early stopper enabled\n",
    "                \n",
    ")\n",
    "\n",
    "# result.save_to_directory(f\"{kge_dir}/one50_unstratified_stopped_transe\")\n",
    "result.save_to_directory(f\"{kge_dir}/{modelKGE}\")\n",
    "\n",
    "#model used TransE has only one representation for entities and relations, \n",
    "# so modules objects will be of length 1\n",
    "print(result.model)\n",
    "result.plot_losses()\n",
    "# result.plot_early_stopping()"
   ]
  },
  {
   "cell_type": "code",
   "execution_count": 31,
   "metadata": {},
   "outputs": [
    {
     "name": "stdout",
     "output_type": "stream",
     "text": [
      "test\n"
     ]
    }
   ],
   "source": [
    "print(\"test\")"
   ]
  }
 ],
 "metadata": {
  "accelerator": "GPU",
  "colab": {
   "provenance": []
  },
  "gpuClass": "standard",
  "kernelspec": {
   "display_name": "Python 3 (ipykernel)",
   "language": "python",
   "name": "python3"
  },
  "language_info": {
   "codemirror_mode": {
    "name": "ipython",
    "version": 3
   },
   "file_extension": ".py",
   "mimetype": "text/x-python",
   "name": "python",
   "nbconvert_exporter": "python",
   "pygments_lexer": "ipython3",
   "version": "3.9.13"
  },
  "vscode": {
   "interpreter": {
    "hash": "949777d72b0d2535278d3dc13498b2535136f6dfe0678499012e853ee9abcab1"
   }
  }
 },
 "nbformat": 4,
 "nbformat_minor": 1
}
