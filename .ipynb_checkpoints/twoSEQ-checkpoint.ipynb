{
 "cells": [
  {
   "cell_type": "code",
   "execution_count": null,
   "metadata": {},
   "outputs": [],
   "source": [
    "# #To be used on cloud platforms\n",
    "\n",
    "# ! python -c \"import pykeen\" || pip install pykeen\n",
    "# ! python -c \"import scprep\" || pip install scprep"
   ]
  },
  {
   "cell_type": "code",
   "execution_count": 1,
   "metadata": {},
   "outputs": [],
   "source": [
    "import os, pandas as pd, numpy as np, torch, pykeen, scprep\n",
    "import rpy2, rpy2.situation\n"
   ]
  },
  {
   "cell_type": "code",
   "execution_count": 2,
   "metadata": {},
   "outputs": [
    {
     "name": "stdout",
     "output_type": "stream",
     "text": [
      "/gpfs/ysm/project/krishnaswamy_smita/fc489/yaleCollab\n"
     ]
    }
   ],
   "source": [
    "print(os.getcwd())\n",
    "data_dir = f\"{os.getcwd()}/data\"\n",
    "kge_dir = f\"{os.getcwd()}/KGEs\""
   ]
  },
  {
   "cell_type": "markdown",
   "metadata": {},
   "source": [
    "# DataBases\n",
    "\n",
    "The integrated database is the object ingested by pykeen's *TriplesFactory*."
   ]
  },
  {
   "cell_type": "code",
   "execution_count": 3,
   "metadata": {},
   "outputs": [
    {
     "data": {
      "text/html": [
       "<div>\n",
       "<style scoped>\n",
       "    .dataframe tbody tr th:only-of-type {\n",
       "        vertical-align: middle;\n",
       "    }\n",
       "\n",
       "    .dataframe tbody tr th {\n",
       "        vertical-align: top;\n",
       "    }\n",
       "\n",
       "    .dataframe thead th {\n",
       "        text-align: right;\n",
       "    }\n",
       "</style>\n",
       "<table border=\"1\" class=\"dataframe\">\n",
       "  <thead>\n",
       "    <tr style=\"text-align: right;\">\n",
       "      <th></th>\n",
       "      <th>head</th>\n",
       "      <th>relation</th>\n",
       "      <th>tail</th>\n",
       "      <th>pathway</th>\n",
       "    </tr>\n",
       "  </thead>\n",
       "  <tbody>\n",
       "    <tr>\n",
       "      <th>0</th>\n",
       "      <td>Tgfb1</td>\n",
       "      <td>LRinteraction</td>\n",
       "      <td>Tgfbr1</td>\n",
       "      <td>TGFb</td>\n",
       "    </tr>\n",
       "    <tr>\n",
       "      <th>1</th>\n",
       "      <td>Tgfb1</td>\n",
       "      <td>LRinteraction</td>\n",
       "      <td>Tgfbr2</td>\n",
       "      <td>TGFb</td>\n",
       "    </tr>\n",
       "    <tr>\n",
       "      <th>2</th>\n",
       "      <td>Tgfb2</td>\n",
       "      <td>LRinteraction</td>\n",
       "      <td>Tgfbr1</td>\n",
       "      <td>TGFb</td>\n",
       "    </tr>\n",
       "    <tr>\n",
       "      <th>3</th>\n",
       "      <td>Tgfb2</td>\n",
       "      <td>LRinteraction</td>\n",
       "      <td>Tgfbr2</td>\n",
       "      <td>TGFb</td>\n",
       "    </tr>\n",
       "    <tr>\n",
       "      <th>4</th>\n",
       "      <td>Tgfb3</td>\n",
       "      <td>LRinteraction</td>\n",
       "      <td>Tgfbr1</td>\n",
       "      <td>TGFb</td>\n",
       "    </tr>\n",
       "    <tr>\n",
       "      <th>...</th>\n",
       "      <td>...</td>\n",
       "      <td>...</td>\n",
       "      <td>...</td>\n",
       "      <td>...</td>\n",
       "    </tr>\n",
       "    <tr>\n",
       "      <th>2058</th>\n",
       "      <td>Vcam1</td>\n",
       "      <td>LRinteraction</td>\n",
       "      <td>Itga4</td>\n",
       "      <td>VCAM</td>\n",
       "    </tr>\n",
       "    <tr>\n",
       "      <th>2059</th>\n",
       "      <td>Vcam1</td>\n",
       "      <td>LRinteraction</td>\n",
       "      <td>Itgb1</td>\n",
       "      <td>VCAM</td>\n",
       "    </tr>\n",
       "    <tr>\n",
       "      <th>2060</th>\n",
       "      <td>Vcam1</td>\n",
       "      <td>LRinteraction</td>\n",
       "      <td>Itga9</td>\n",
       "      <td>VCAM</td>\n",
       "    </tr>\n",
       "    <tr>\n",
       "      <th>2061</th>\n",
       "      <td>Vcam1</td>\n",
       "      <td>LRinteraction</td>\n",
       "      <td>Itgb7</td>\n",
       "      <td>VCAM</td>\n",
       "    </tr>\n",
       "    <tr>\n",
       "      <th>2062</th>\n",
       "      <td>Vsir</td>\n",
       "      <td>LRinteraction</td>\n",
       "      <td>Igsf11</td>\n",
       "      <td>VISTA</td>\n",
       "    </tr>\n",
       "  </tbody>\n",
       "</table>\n",
       "<p>2063 rows × 4 columns</p>\n",
       "</div>"
      ],
      "text/plain": [
       "       head       relation    tail pathway\n",
       "0     Tgfb1  LRinteraction  Tgfbr1    TGFb\n",
       "1     Tgfb1  LRinteraction  Tgfbr2    TGFb\n",
       "2     Tgfb2  LRinteraction  Tgfbr1    TGFb\n",
       "3     Tgfb2  LRinteraction  Tgfbr2    TGFb\n",
       "4     Tgfb3  LRinteraction  Tgfbr1    TGFb\n",
       "...     ...            ...     ...     ...\n",
       "2058  Vcam1  LRinteraction   Itga4    VCAM\n",
       "2059  Vcam1  LRinteraction   Itgb1    VCAM\n",
       "2060  Vcam1  LRinteraction   Itga9    VCAM\n",
       "2061  Vcam1  LRinteraction   Itgb7    VCAM\n",
       "2062   Vsir  LRinteraction  Igsf11   VISTA\n",
       "\n",
       "[2063 rows x 4 columns]"
      ]
     },
     "execution_count": 3,
     "metadata": {},
     "output_type": "execute_result"
    }
   ],
   "source": [
    "pd.read_csv(f\"{data_dir}/dCellChat.tsv\", sep=\"\\t\")"
   ]
  },
  {
   "cell_type": "code",
   "execution_count": 4,
   "metadata": {},
   "outputs": [
    {
     "data": {
      "text/html": [
       "<div>\n",
       "<style scoped>\n",
       "    .dataframe tbody tr th:only-of-type {\n",
       "        vertical-align: middle;\n",
       "    }\n",
       "\n",
       "    .dataframe tbody tr th {\n",
       "        vertical-align: top;\n",
       "    }\n",
       "\n",
       "    .dataframe thead th {\n",
       "        text-align: right;\n",
       "    }\n",
       "</style>\n",
       "<table border=\"1\" class=\"dataframe\">\n",
       "  <thead>\n",
       "    <tr style=\"text-align: right;\">\n",
       "      <th></th>\n",
       "      <th>head</th>\n",
       "      <th>relation</th>\n",
       "      <th>tail</th>\n",
       "    </tr>\n",
       "  </thead>\n",
       "  <tbody>\n",
       "    <tr>\n",
       "      <th>0</th>\n",
       "      <td>Gnai3</td>\n",
       "      <td>FIstring</td>\n",
       "      <td>Prkca</td>\n",
       "    </tr>\n",
       "    <tr>\n",
       "      <th>1</th>\n",
       "      <td>Gnai3</td>\n",
       "      <td>FIstring</td>\n",
       "      <td>Rgs18</td>\n",
       "    </tr>\n",
       "    <tr>\n",
       "      <th>2</th>\n",
       "      <td>Gnai3</td>\n",
       "      <td>FIstring</td>\n",
       "      <td>Gpsm2</td>\n",
       "    </tr>\n",
       "    <tr>\n",
       "      <th>3</th>\n",
       "      <td>Gnai3</td>\n",
       "      <td>FIstring</td>\n",
       "      <td>Adrb3</td>\n",
       "    </tr>\n",
       "    <tr>\n",
       "      <th>4</th>\n",
       "      <td>Gnai3</td>\n",
       "      <td>FIstring</td>\n",
       "      <td>Gnat2</td>\n",
       "    </tr>\n",
       "    <tr>\n",
       "      <th>...</th>\n",
       "      <td>...</td>\n",
       "      <td>...</td>\n",
       "      <td>...</td>\n",
       "    </tr>\n",
       "    <tr>\n",
       "      <th>437237</th>\n",
       "      <td>Gm28635</td>\n",
       "      <td>FIstring</td>\n",
       "      <td>Arhgap35</td>\n",
       "    </tr>\n",
       "    <tr>\n",
       "      <th>437238</th>\n",
       "      <td>Gm28635</td>\n",
       "      <td>FIstring</td>\n",
       "      <td>Cdh17</td>\n",
       "    </tr>\n",
       "    <tr>\n",
       "      <th>437239</th>\n",
       "      <td>Gm28635</td>\n",
       "      <td>FIstring</td>\n",
       "      <td>Kif5b</td>\n",
       "    </tr>\n",
       "    <tr>\n",
       "      <th>437240</th>\n",
       "      <td>Gm28635</td>\n",
       "      <td>FIstring</td>\n",
       "      <td>Tjp3</td>\n",
       "    </tr>\n",
       "    <tr>\n",
       "      <th>437241</th>\n",
       "      <td>Carf</td>\n",
       "      <td>FIstring</td>\n",
       "      <td>Cpa5</td>\n",
       "    </tr>\n",
       "  </tbody>\n",
       "</table>\n",
       "<p>437242 rows × 3 columns</p>\n",
       "</div>"
      ],
      "text/plain": [
       "           head  relation      tail\n",
       "0         Gnai3  FIstring     Prkca\n",
       "1         Gnai3  FIstring     Rgs18\n",
       "2         Gnai3  FIstring     Gpsm2\n",
       "3         Gnai3  FIstring     Adrb3\n",
       "4         Gnai3  FIstring     Gnat2\n",
       "...         ...       ...       ...\n",
       "437237  Gm28635  FIstring  Arhgap35\n",
       "437238  Gm28635  FIstring     Cdh17\n",
       "437239  Gm28635  FIstring     Kif5b\n",
       "437240  Gm28635  FIstring      Tjp3\n",
       "437241     Carf  FIstring      Cpa5\n",
       "\n",
       "[437242 rows x 3 columns]"
      ]
     },
     "execution_count": 4,
     "metadata": {},
     "output_type": "execute_result"
    }
   ],
   "source": [
    "pd.read_csv(f\"{data_dir}/dSTRING.tsv\", sep=\"\\t\")"
   ]
  },
  {
   "cell_type": "code",
   "execution_count": 5,
   "metadata": {},
   "outputs": [
    {
     "data": {
      "text/html": [
       "<div>\n",
       "<style scoped>\n",
       "    .dataframe tbody tr th:only-of-type {\n",
       "        vertical-align: middle;\n",
       "    }\n",
       "\n",
       "    .dataframe tbody tr th {\n",
       "        vertical-align: top;\n",
       "    }\n",
       "\n",
       "    .dataframe thead th {\n",
       "        text-align: right;\n",
       "    }\n",
       "</style>\n",
       "<table border=\"1\" class=\"dataframe\">\n",
       "  <thead>\n",
       "    <tr style=\"text-align: right;\">\n",
       "      <th></th>\n",
       "      <th>0</th>\n",
       "      <th>1</th>\n",
       "      <th>2</th>\n",
       "    </tr>\n",
       "  </thead>\n",
       "  <tbody>\n",
       "    <tr>\n",
       "      <th>0</th>\n",
       "      <td>Tgfb1</td>\n",
       "      <td>LRinteraction</td>\n",
       "      <td>Tgfbr1</td>\n",
       "    </tr>\n",
       "    <tr>\n",
       "      <th>1</th>\n",
       "      <td>Tgfb1</td>\n",
       "      <td>LRinteraction</td>\n",
       "      <td>Tgfbr2</td>\n",
       "    </tr>\n",
       "    <tr>\n",
       "      <th>2</th>\n",
       "      <td>Tgfb2</td>\n",
       "      <td>LRinteraction</td>\n",
       "      <td>Tgfbr1</td>\n",
       "    </tr>\n",
       "    <tr>\n",
       "      <th>3</th>\n",
       "      <td>Tgfb2</td>\n",
       "      <td>LRinteraction</td>\n",
       "      <td>Tgfbr2</td>\n",
       "    </tr>\n",
       "    <tr>\n",
       "      <th>4</th>\n",
       "      <td>Tgfb3</td>\n",
       "      <td>LRinteraction</td>\n",
       "      <td>Tgfbr1</td>\n",
       "    </tr>\n",
       "    <tr>\n",
       "      <th>...</th>\n",
       "      <td>...</td>\n",
       "      <td>...</td>\n",
       "      <td>...</td>\n",
       "    </tr>\n",
       "    <tr>\n",
       "      <th>439018</th>\n",
       "      <td>Gm28635</td>\n",
       "      <td>FIstring</td>\n",
       "      <td>Arhgap35</td>\n",
       "    </tr>\n",
       "    <tr>\n",
       "      <th>439019</th>\n",
       "      <td>Gm28635</td>\n",
       "      <td>FIstring</td>\n",
       "      <td>Cdh17</td>\n",
       "    </tr>\n",
       "    <tr>\n",
       "      <th>439020</th>\n",
       "      <td>Gm28635</td>\n",
       "      <td>FIstring</td>\n",
       "      <td>Kif5b</td>\n",
       "    </tr>\n",
       "    <tr>\n",
       "      <th>439021</th>\n",
       "      <td>Gm28635</td>\n",
       "      <td>FIstring</td>\n",
       "      <td>Tjp3</td>\n",
       "    </tr>\n",
       "    <tr>\n",
       "      <th>439022</th>\n",
       "      <td>Carf</td>\n",
       "      <td>FIstring</td>\n",
       "      <td>Cpa5</td>\n",
       "    </tr>\n",
       "  </tbody>\n",
       "</table>\n",
       "<p>439023 rows × 3 columns</p>\n",
       "</div>"
      ],
      "text/plain": [
       "              0              1         2\n",
       "0         Tgfb1  LRinteraction    Tgfbr1\n",
       "1         Tgfb1  LRinteraction    Tgfbr2\n",
       "2         Tgfb2  LRinteraction    Tgfbr1\n",
       "3         Tgfb2  LRinteraction    Tgfbr2\n",
       "4         Tgfb3  LRinteraction    Tgfbr1\n",
       "...         ...            ...       ...\n",
       "439018  Gm28635       FIstring  Arhgap35\n",
       "439019  Gm28635       FIstring     Cdh17\n",
       "439020  Gm28635       FIstring     Kif5b\n",
       "439021  Gm28635       FIstring      Tjp3\n",
       "439022     Carf       FIstring      Cpa5\n",
       "\n",
       "[439023 rows x 3 columns]"
      ]
     },
     "execution_count": 5,
     "metadata": {},
     "output_type": "execute_result"
    }
   ],
   "source": [
    "pd.read_csv(f\"{data_dir}/dINT_simpl.tsv\", sep=\"\\t\", header=None)"
   ]
  },
  {
   "cell_type": "markdown",
   "metadata": {},
   "source": [
    "# scRNAseq data\n",
    "\n",
    "We will have to use rpy to import the seurat object with the data. From there we already have code (from RNA Velo NBs) to extract metadata. Need to extract count matrices."
   ]
  },
  {
   "cell_type": "code",
   "execution_count": 6,
   "metadata": {},
   "outputs": [
    {
     "name": "stdout",
     "output_type": "stream",
     "text": [
      "\u001b[1mrpy2 version:\u001b[0m\n",
      "3.5.1\n",
      "\u001b[1mPython version:\u001b[0m\n",
      "3.9.13 | packaged by conda-forge | (main, May 27 2022, 16:58:50) \n",
      "[GCC 10.3.0]\n",
      "\u001b[1mLooking for R's HOME:\u001b[0m\n",
      "    Environment variable R_HOME: None\n",
      "    Calling `R RHOME`: /gpfs/ysm/project/krishnaswamy_smita/fc489/conda_envs/ccmultiomkge/lib/R\n",
      "    Environment variable R_LIBS_USER: None\n",
      "\u001b[1mR's additions to LD_LIBRARY_PATH:\u001b[0m\n",
      "\n",
      "\u001b[1mR version:\u001b[0m\n",
      "    In the PATH: R version 4.1.3 (2022-03-10) -- \"One Push-Up\"\n",
      "    Loading R library from rpy2: OK\n",
      "\u001b[1mAdditional directories to load R packages from:\u001b[0m\n",
      "None\n",
      "\u001b[1mC extension compilation:\u001b[0m\n",
      "  include:\n",
      "  ['/gpfs/ysm/project/krishnaswamy_smita/fc489/conda_envs/ccmultiomkge/lib/R/include']\n",
      "  libraries:\n",
      "  ['R', 'pcre2-8', 'lzma', 'bz2', 'z', 'rt', 'dl', 'm', 'iconv', 'icuuc', 'icui18n']\n",
      "  library_dirs:\n",
      "  ['/gpfs/ysm/project/krishnaswamy_smita/fc489/conda_envs/ccmultiomkge/lib', '/gpfs/ysm/project/krishnaswamy_smita/fc489/conda_envs/ccmultiomkge/lib/R/lib', '/gpfs/ysm/project/krishnaswamy_smita/fc489/conda_envs/ccmultiomkge/lib']\n",
      "  extra_compile_args:\n",
      "  []\n",
      "  extra_link_args:\n",
      "  ['-Wl,--export-dynamic', '-fopenmp', '-Wl,-O2', '-Wl,--sort-common', '-Wl,--as-needed', '-Wl,-z,relro', '-Wl,-z,now', '-Wl,--disable-new-dtags', '-Wl,--gc-sections', '-Wl,--allow-shlib-undefined', '-Wl,-rpath,/gpfs/ysm/project/krishnaswamy_smita/fc489/conda_envs/ccmultiomkge/lib', '-Wl,-rpath-link,/gpfs/ysm/project/krishnaswamy_smita/fc489/conda_envs/ccmultiomkge/lib']\n"
     ]
    }
   ],
   "source": [
    "for i in rpy2.situation.iter_info(): # Print Rpy2 info\n",
    "    print(i)"
   ]
  },
  {
   "cell_type": "code",
   "execution_count": 7,
   "metadata": {},
   "outputs": [],
   "source": [
    "%load_ext rpy2.ipython"
   ]
  },
  {
   "cell_type": "markdown",
   "metadata": {},
   "source": [
    "## Prep data"
   ]
  },
  {
   "cell_type": "code",
   "execution_count": 8,
   "metadata": {},
   "outputs": [
    {
     "name": "stdout",
     "output_type": "stream",
     "text": [
      "── Attaching packages ─────────────────────────────────────── tidyverse 1.3.2 ──\n",
      "✔ ggplot2 3.3.6      ✔ purrr   0.3.4 \n",
      "✔ tibble  3.1.8      ✔ dplyr   1.0.10\n",
      "✔ tidyr   1.2.1      ✔ stringr 1.4.1 \n",
      "✔ readr   2.1.2      ✔ forcats 0.5.2 \n",
      "── Conflicts ────────────────────────────────────────── tidyverse_conflicts() ──\n",
      "✖ dplyr::filter() masks stats::filter()\n",
      "✖ dplyr::lag()    masks stats::lag()\n",
      "\n",
      "    WARNING: The R package \"reticulate\" does not\n",
      "    consider that it could be called from a Python process. This\n",
      "    results in a quasi-obligatory segfault when rpy2 is evaluating\n",
      "    R code using it. On the hand, rpy2 is accounting for the\n",
      "    fact that it might already be running embedded in a Python\n",
      "    process. This is why:\n",
      "    - Python -> rpy2 -> R -> reticulate: crashes\n",
      "    - R -> reticulate -> Python -> rpy2: works\n",
      "\n",
      "    The issue with reticulate is tracked here:\n",
      "    https://github.com/rstudio/reticulate/issues/208\n",
      "    "
     ]
    },
    {
     "name": "stderr",
     "output_type": "stream",
     "text": [
      "R[write to console]: Attaching SeuratObject\n",
      "\n",
      "R[write to console]: Attaching sp\n",
      "\n"
     ]
    },
    {
     "name": "stdout",
     "output_type": "stream",
     "text": [
      "[1] \"/gpfs/ysm/project/krishnaswamy_smita/fc489/yaleCollab/data\"\n"
     ]
    }
   ],
   "source": [
    "%%R -i data_dir\n",
    "library(tidyverse)\n",
    "library(Seurat)\n",
    "\n",
    "paste0(data_dir)"
   ]
  },
  {
   "cell_type": "code",
   "execution_count": 9,
   "metadata": {},
   "outputs": [
    {
     "name": "stdout",
     "output_type": "stream",
     "text": [
      "An object of class Seurat \n",
      "40940 features across 3698 samples within 2 assays \n",
      "Active assay: SCT (20073 features, 10000 variable features)\n",
      " 1 other assay present: RNA\n",
      " 3 dimensional reductions calculated: pca, umap, phate\n"
     ]
    }
   ],
   "source": [
    "%%R\n",
    "\n",
    "d_fibWT = readRDS(paste0(data_dir,\"/Omics/\",\"d_fibWT.rds\"))\n",
    "d_fibWT"
   ]
  },
  {
   "cell_type": "markdown",
   "metadata": {},
   "source": [
    "## Build gene-gene similarity graph\n",
    "\n",
    "Final implementation will use wavelet-transformed features, but we will start \n",
    "by making the gene-gene similarity graph with MAGIC smoothed data.\n",
    "\n",
    "Process:\n",
    "\n",
    "- "
   ]
  },
  {
   "cell_type": "markdown",
   "metadata": {},
   "source": [
    "# KGE"
   ]
  }
 ],
 "metadata": {
  "kernelspec": {
   "display_name": "Python 3 (ipykernel)",
   "language": "python",
   "name": "python3"
  },
  "language_info": {
   "codemirror_mode": {
    "name": "ipython",
    "version": 3
   },
   "file_extension": ".py",
   "mimetype": "text/x-python",
   "name": "python",
   "nbconvert_exporter": "python",
   "pygments_lexer": "ipython3",
   "version": "3.9.13"
  },
  "vscode": {
   "interpreter": {
    "hash": "949777d72b0d2535278d3dc13498b2535136f6dfe0678499012e853ee9abcab1"
   }
  }
 },
 "nbformat": 4,
 "nbformat_minor": 2
}
