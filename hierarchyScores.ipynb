{
 "cells": [
  {
   "attachments": {},
   "cell_type": "markdown",
   "metadata": {},
   "source": [
    "Notebook to explore some approaches for determining and scoring how hierarchical a directed graph is.\n",
    "\n",
    "**Definitions**:\n",
    "\n",
    "- Hierarchy degree: This a network-wide metric that determines how \"hierarchical\" a graph is.\n",
    "From https://doi.org/10.1186/s13059-015-0624-2:\n",
    "    The degree of hierarchy for a given for a given network is not well-defined concept. Ispolatov et al. [27] introduced the idea of dominant direction by minimizing the number of feedback links. While it is a proxy of hierarchical structure to a certain extent, the method does not provide a rigorous statistical confidence. Here, we define a metric to quantify the degree of hierarchy for a given hierarchical network, and then propose a new method called hierarchical score maximization (HSM) to infer the hierarchy of a directed network\n",
    "\n",
    "- Hierarchy metric (at node level): From sna package in R.\n",
    "    Hierarchy measures quantify the extent of asymmetry in a structure; the greater the extent of asym-\n",
    "    metry, the more hierarchical the structure is said to be. (This should not be confused with how\n",
    "    centralized the structure is, i.e., the extent to which centralities of vertex positions are highly con-\n",
    "    centrated.)\n",
    "They discuss and offer 2 different approaches:\n",
    "\n",
    "    - reciprocity: This setting returns one minus the dyadic reciprocity for each input graph (see\n",
    "    grecip)\n",
    "    - krackhardt: This setting returns the Krackhardt hierarchy score for each input graph. The\n",
    "    Krackhardt hierarchy is defined as the fraction of non-null dyads in the reachability graph\n",
    "    which are asymmetric. Thus, when no directed paths are reciprocated (e.g., in an in/outtree),\n",
    "    Krackhardt hierarchy is equal to 1; when all such paths are reciprocated, by contrast (e.g., in\n",
    "    a cycle or clique), the measure falls to 0.\n",
    "        - Hierarchy is one of four measures (connectedness, efficiency, hierarchy, and lubness)\n",
    "        suggested by Krackhardt for summarizing hierarchical structures. Each corresponds to one of\n",
    "        four axioms which are necessary and sufficient for the structure in question to be an outtree;\n",
    "        thus, the measures will be equal to 1 for a given graph iff that graph is an outtree. Deviations\n",
    "        from unity can be interpreted in terms of failure to satisfy one or more of the outtree conditions,\n",
    "        information which may be useful in classifying its structural properties.\n",
    "        Note that hierarchy is inherently density-constrained: as densities climb above 0.5, the proportion\n",
    "        of mutual dyads must (by the pigeonhole principle) increase rapidly, thereby reducing possibili-\n",
    "        ties for asymmetry. Thus, the interpretation of hierarchy scores should take density into account,\n",
    "        particularly if density is artifactual (e.g., due to a particular dichotomization procedure)\n",
    "\n",
    "We will start by computing the Hierarchy degree as defined on its simplest form in the Cheng et al. 2015 paper. Then, we will try to use the R implementation through rpy2 and potentially develop our own.\n",
    "\n"
   ]
  },
  {
   "cell_type": "code",
   "execution_count": 1,
   "metadata": {},
   "outputs": [],
   "source": [
    "import os, pandas as pd, numpy as np\n",
    "import networkx\n",
    "\n",
    "import rpy2, rpy2.situation\n",
    "from rpy2.robjects import r, pandas2ri\n",
    "from rpy2.robjects.packages import importr\n"
   ]
  },
  {
   "cell_type": "code",
   "execution_count": 2,
   "metadata": {},
   "outputs": [
    {
     "name": "stdout",
     "output_type": "stream",
     "text": [
      "\u001b[1mrpy2 version:\u001b[0m\n",
      "3.5.8\n",
      "\u001b[1mPython version:\u001b[0m\n",
      "3.9.16 | packaged by conda-forge | (main, Feb  1 2023, 21:42:20) \n",
      "[Clang 14.0.6 ]\n",
      "\u001b[1mLooking for R's HOME:\u001b[0m\n",
      "    Environment variable R_HOME: /Users/ferran/miniconda3/envs/collabLite/lib/R\n",
      "    Calling `R RHOME`: /Users/ferran/miniconda3/envs/collabLite/lib/R\n",
      "    Environment variable R_LIBS_USER: None\n",
      "\u001b[1mR's additions to LD_LIBRARY_PATH:\u001b[0m\n",
      "/usr/local/lib/R/library/stats/libs/:/usr/local/lib/R/library/stats/libs/\n",
      "\u001b[1mR version:\u001b[0m\n",
      "    In the PATH: R version 4.2.2 (2022-10-31) -- \"Innocent and Trusting\"\n",
      "    Loading R library from rpy2: OK\n",
      "\u001b[1mAdditional directories to load R packages from:\u001b[0m\n",
      "None\n",
      "\u001b[1mC extension compilation:\u001b[0m\n",
      "  include:\n",
      "  ['/Users/ferran/miniconda3/envs/collabLite/lib/R/include']\n",
      "  libraries:\n",
      "  ['R', 'pcre2-8', 'lzma', 'bz2', 'z', 'dl', 'm', 'iconv', 'icuuc', 'icui18n']\n",
      "  library_dirs:\n",
      "  ['/Users/ferran/miniconda3/envs/collabLite/lib', '/Users/ferran/miniconda3/envs/collabLite/lib/R/lib', '/Users/ferran/miniconda3/envs/collabLite/lib']\n",
      "  extra_compile_args:\n",
      "  ['-std=c99']\n",
      "  extra_link_args:\n",
      "  ['-fopenmp', '-Wl,-dead_strip_dylibs', '-Wl,-pie', '-Wl,-headerpad_max_install_names', '-Wl,-dead_strip_dylibs', '-Wl,-rpath,/Users/ferran/miniconda3/envs/collabLite/lib']\n",
      "Directory for the R shared library:\n",
      "lib\n"
     ]
    }
   ],
   "source": [
    "for i in rpy2.situation.iter_info(): # Print Rpy2 info\n",
    "    print(i)\n",
    "\n",
    "pandas2ri.activate()\n",
    "%load_ext rpy2.ipython"
   ]
  },
  {
   "cell_type": "code",
   "execution_count": 3,
   "metadata": {},
   "outputs": [
    {
     "name": "stdout",
     "output_type": "stream",
     "text": [
      "/Users/ferran/PhD/yaleCollab\n"
     ]
    }
   ],
   "source": [
    "print(os.getcwd())\n",
    "data_dir = f\"{os.getcwd()}/data\""
   ]
  },
  {
   "cell_type": "code",
   "execution_count": 4,
   "metadata": {},
   "outputs": [
    {
     "data": {
      "text/html": [
       "<div>\n",
       "<style scoped>\n",
       "    .dataframe tbody tr th:only-of-type {\n",
       "        vertical-align: middle;\n",
       "    }\n",
       "\n",
       "    .dataframe tbody tr th {\n",
       "        vertical-align: top;\n",
       "    }\n",
       "\n",
       "    .dataframe thead th {\n",
       "        text-align: right;\n",
       "    }\n",
       "</style>\n",
       "<table border=\"1\" class=\"dataframe\">\n",
       "  <thead>\n",
       "    <tr style=\"text-align: right;\">\n",
       "      <th></th>\n",
       "      <th>0</th>\n",
       "      <th>1</th>\n",
       "      <th>2</th>\n",
       "    </tr>\n",
       "  </thead>\n",
       "  <tbody>\n",
       "    <tr>\n",
       "      <th>0</th>\n",
       "      <td>CXCL1</td>\n",
       "      <td>Signaling by GPCR</td>\n",
       "      <td>CXCR2</td>\n",
       "    </tr>\n",
       "    <tr>\n",
       "      <th>1</th>\n",
       "      <td>CXCL2</td>\n",
       "      <td>Signaling by GPCR</td>\n",
       "      <td>CXCR2</td>\n",
       "    </tr>\n",
       "    <tr>\n",
       "      <th>2</th>\n",
       "      <td>CXCL3</td>\n",
       "      <td>Signaling by GPCR</td>\n",
       "      <td>CXCR2</td>\n",
       "    </tr>\n",
       "    <tr>\n",
       "      <th>3</th>\n",
       "      <td>CXCL5</td>\n",
       "      <td>Signaling by GPCR</td>\n",
       "      <td>CXCR2</td>\n",
       "    </tr>\n",
       "    <tr>\n",
       "      <th>4</th>\n",
       "      <td>PPBP</td>\n",
       "      <td>Signaling by GPCR</td>\n",
       "      <td>CXCR2</td>\n",
       "    </tr>\n",
       "    <tr>\n",
       "      <th>...</th>\n",
       "      <td>...</td>\n",
       "      <td>...</td>\n",
       "      <td>...</td>\n",
       "    </tr>\n",
       "    <tr>\n",
       "      <th>97241</th>\n",
       "      <td>LGR4</td>\n",
       "      <td>Signaling by WNT</td>\n",
       "      <td>HIST1H2BO</td>\n",
       "    </tr>\n",
       "    <tr>\n",
       "      <th>97242</th>\n",
       "      <td>LGR4</td>\n",
       "      <td>Signaling by WNT</td>\n",
       "      <td>HIST1H2BH</td>\n",
       "    </tr>\n",
       "    <tr>\n",
       "      <th>97243</th>\n",
       "      <td>LGR4</td>\n",
       "      <td>Signaling by WNT</td>\n",
       "      <td>PSMB3</td>\n",
       "    </tr>\n",
       "    <tr>\n",
       "      <th>97244</th>\n",
       "      <td>LGR4</td>\n",
       "      <td>Signaling by WNT</td>\n",
       "      <td>HIST1H2BB</td>\n",
       "    </tr>\n",
       "    <tr>\n",
       "      <th>97245</th>\n",
       "      <td>LGR4</td>\n",
       "      <td>Signaling by WNT</td>\n",
       "      <td>HIST1H2AB</td>\n",
       "    </tr>\n",
       "  </tbody>\n",
       "</table>\n",
       "<p>97246 rows × 3 columns</p>\n",
       "</div>"
      ],
      "text/plain": [
       "           0                  1          2\n",
       "0      CXCL1  Signaling by GPCR      CXCR2\n",
       "1      CXCL2  Signaling by GPCR      CXCR2\n",
       "2      CXCL3  Signaling by GPCR      CXCR2\n",
       "3      CXCL5  Signaling by GPCR      CXCR2\n",
       "4       PPBP  Signaling by GPCR      CXCR2\n",
       "...      ...                ...        ...\n",
       "97241   LGR4   Signaling by WNT  HIST1H2BO\n",
       "97242   LGR4   Signaling by WNT  HIST1H2BH\n",
       "97243   LGR4   Signaling by WNT      PSMB3\n",
       "97244   LGR4   Signaling by WNT  HIST1H2BB\n",
       "97245   LGR4   Signaling by WNT  HIST1H2AB\n",
       "\n",
       "[97246 rows x 3 columns]"
      ]
     },
     "execution_count": 4,
     "metadata": {},
     "output_type": "execute_result"
    }
   ],
   "source": [
    "dLRpath = pd.read_csv(f\"{data_dir}/dLRpath.csv.tar.gz\")\n",
    "dRTpath = pd.read_csv(f\"{data_dir}/dRTpath.csv.tar.gz\")\n",
    "\n",
    "\n",
    "\n",
    "dKGlrt = pd.read_csv(f\"{data_dir}/dKGlrt.csv.tar.gz\", header=None)\n",
    "dKGlrt"
   ]
  },
  {
   "attachments": {},
   "cell_type": "markdown",
   "metadata": {},
   "source": [
    "# HS \n",
    "Simple metric to determine the hierarchy degree of a network. From Cheng et al. 2015\n",
    "\n",
    "Step 1: Assign levels to nodes\n",
    "\n",
    "Step 2: Identify edge types\n",
    "\n",
    "- Downward\n",
    "- Upward\n",
    "- Horizontal\n",
    "\n",
    "HS = (Nd + Nh)/(Nu + Nh)\n",
    "\n",
    "This metric will be affected by the number of levels present.\n",
    "The resulting HS score goes from 0 to +inf, with fully hierarchical networks resulting in an infinite value\n",
    "\n",
    "\n",
    "NOTE: THIS APPROACH HAS BEEN PAUSED AS WE HAVE NO UPWARD EDGES BY DEFINITION (due to the filtering of targets present either as ligands or receptors)\n",
    "In the future, if we remove this filtering, we should explore this"
   ]
  },
  {
   "attachments": {},
   "cell_type": "markdown",
   "metadata": {},
   "source": [
    "Add level information as new column to dKGlrt:"
   ]
  },
  {
   "cell_type": "code",
   "execution_count": 5,
   "metadata": {},
   "outputs": [
    {
     "data": {
      "text/plain": [
       "0         True\n",
       "1         True\n",
       "2         True\n",
       "3         True\n",
       "4         True\n",
       "         ...  \n",
       "97241    False\n",
       "97242    False\n",
       "97243    False\n",
       "97244    False\n",
       "97245    False\n",
       "Length: 97246, dtype: bool"
      ]
     },
     "execution_count": 5,
     "metadata": {},
     "output_type": "execute_result"
    }
   ],
   "source": [
    "dKGlrt[0].isin(dLRpath[\"head\"]) & dKGlrt[2].isin(dLRpath[\"tail\"])"
   ]
  },
  {
   "cell_type": "code",
   "execution_count": 6,
   "metadata": {},
   "outputs": [
    {
     "data": {
      "text/html": [
       "<div>\n",
       "<style scoped>\n",
       "    .dataframe tbody tr th:only-of-type {\n",
       "        vertical-align: middle;\n",
       "    }\n",
       "\n",
       "    .dataframe tbody tr th {\n",
       "        vertical-align: top;\n",
       "    }\n",
       "\n",
       "    .dataframe thead th {\n",
       "        text-align: right;\n",
       "    }\n",
       "</style>\n",
       "<table border=\"1\" class=\"dataframe\">\n",
       "  <thead>\n",
       "    <tr style=\"text-align: right;\">\n",
       "      <th></th>\n",
       "      <th>0</th>\n",
       "      <th>2</th>\n",
       "    </tr>\n",
       "  </thead>\n",
       "  <tbody>\n",
       "    <tr>\n",
       "      <th>0</th>\n",
       "      <td>CXCL1</td>\n",
       "      <td>CXCR2</td>\n",
       "    </tr>\n",
       "    <tr>\n",
       "      <th>1</th>\n",
       "      <td>CXCL2</td>\n",
       "      <td>CXCR2</td>\n",
       "    </tr>\n",
       "    <tr>\n",
       "      <th>2</th>\n",
       "      <td>CXCL3</td>\n",
       "      <td>CXCR2</td>\n",
       "    </tr>\n",
       "    <tr>\n",
       "      <th>3</th>\n",
       "      <td>CXCL5</td>\n",
       "      <td>CXCR2</td>\n",
       "    </tr>\n",
       "    <tr>\n",
       "      <th>4</th>\n",
       "      <td>PPBP</td>\n",
       "      <td>CXCR2</td>\n",
       "    </tr>\n",
       "    <tr>\n",
       "      <th>...</th>\n",
       "      <td>...</td>\n",
       "      <td>...</td>\n",
       "    </tr>\n",
       "    <tr>\n",
       "      <th>97241</th>\n",
       "      <td>LGR4</td>\n",
       "      <td>HIST1H2BO</td>\n",
       "    </tr>\n",
       "    <tr>\n",
       "      <th>97242</th>\n",
       "      <td>LGR4</td>\n",
       "      <td>HIST1H2BH</td>\n",
       "    </tr>\n",
       "    <tr>\n",
       "      <th>97243</th>\n",
       "      <td>LGR4</td>\n",
       "      <td>PSMB3</td>\n",
       "    </tr>\n",
       "    <tr>\n",
       "      <th>97244</th>\n",
       "      <td>LGR4</td>\n",
       "      <td>HIST1H2BB</td>\n",
       "    </tr>\n",
       "    <tr>\n",
       "      <th>97245</th>\n",
       "      <td>LGR4</td>\n",
       "      <td>HIST1H2AB</td>\n",
       "    </tr>\n",
       "  </tbody>\n",
       "</table>\n",
       "<p>94643 rows × 2 columns</p>\n",
       "</div>"
      ],
      "text/plain": [
       "           0          2\n",
       "0      CXCL1      CXCR2\n",
       "1      CXCL2      CXCR2\n",
       "2      CXCL3      CXCR2\n",
       "3      CXCL5      CXCR2\n",
       "4       PPBP      CXCR2\n",
       "...      ...        ...\n",
       "97241   LGR4  HIST1H2BO\n",
       "97242   LGR4  HIST1H2BH\n",
       "97243   LGR4      PSMB3\n",
       "97244   LGR4  HIST1H2BB\n",
       "97245   LGR4  HIST1H2AB\n",
       "\n",
       "[94643 rows x 2 columns]"
      ]
     },
     "execution_count": 6,
     "metadata": {},
     "output_type": "execute_result"
    }
   ],
   "source": [
    "# Nd = len(dKGlrt.loc[])\n",
    "\n",
    "dKGlrt.drop(columns=[1]).loc[(dKGlrt[0].isin(dLRpath[\"head\"]) & dKGlrt[2].isin(dLRpath[\"tail\"])) | (dKGlrt[0].isin(dRTpath[\"head\"]) & dKGlrt[2].isin(dRTpath[\"tail\"])) | (dKGlrt[0].isin(dLRpath[\"head\"]) & dKGlrt[2].isin(dLRpath[\"tail\"]))].drop_duplicates()"
   ]
  },
  {
   "attachments": {},
   "cell_type": "markdown",
   "metadata": {},
   "source": [
    "# Krackhardt hierarchy\n"
   ]
  },
  {
   "cell_type": "code",
   "execution_count": 7,
   "metadata": {},
   "outputs": [
    {
     "name": "stdout",
     "output_type": "stream",
     "text": [
      "Edges:97246, Nodes:2505, Avg Degree:77.64151696606787, Density:0.015503497796738791\n"
     ]
    },
    {
     "data": {
      "text/plain": [
       "<networkx.classes.multidigraph.MultiDiGraph at 0x123dfeac0>"
      ]
     },
     "execution_count": 7,
     "metadata": {},
     "output_type": "execute_result"
    }
   ],
   "source": [
    "G = networkx.from_pandas_edgelist(\n",
    "    dKGlrt,\n",
    "    source=0,target=2,\n",
    "    edge_key=1,\n",
    "    edge_attr=1,\n",
    "    create_using=networkx.MultiDiGraph())\n",
    "G\n",
    "print(f\"Edges:{G.number_of_edges()}, Nodes:{G.number_of_nodes()}, Avg Degree:{sum(dict(G.degree()).values())/G.number_of_nodes()}, Density:{networkx.density(G)}\")\n",
    "G"
   ]
  },
  {
   "cell_type": "code",
   "execution_count": 8,
   "metadata": {},
   "outputs": [],
   "source": [
    "# G = networkx.DiGraph([(1, 2), (2, 3), (1, 5), (2, 4), (4, 6), (5, 6), (3, 1)])"
   ]
  },
  {
   "cell_type": "code",
   "execution_count": 9,
   "metadata": {},
   "outputs": [
    {
     "data": {
      "text/plain": [
       "<networkx.classes.digraph.DiGraph at 0x123d9bbe0>"
      ]
     },
     "execution_count": 9,
     "metadata": {},
     "output_type": "execute_result"
    }
   ],
   "source": [
    "#Graph from OmniPath\n",
    "\n",
    "G = networkx.from_pandas_edgelist(pd.read_csv(f\"{data_dir}/omnipath_curated_interactions.csv\", index_col=0), source='source_genesymbol', target='target_genesymbol', create_using=networkx.DiGraph)\n",
    "G"
   ]
  },
  {
   "attachments": {},
   "cell_type": "markdown",
   "metadata": {},
   "source": [
    "## R approach\n",
    "\n",
    "From the R package `sna`. Treat as the ground truth for a real krackhardt score."
   ]
  },
  {
   "cell_type": "code",
   "execution_count": 10,
   "metadata": {},
   "outputs": [
    {
     "name": "stdout",
     "output_type": "stream",
     "text": [
      "[0.7571511]\n",
      "[0.7571511]\n"
     ]
    }
   ],
   "source": [
    "base = importr(\"base\")\n",
    "sna = importr(\"sna\")\n",
    "\n",
    "krackhardt_score = sna.hierarchy(networkx.to_numpy_array(G), measure=\"krackhardt\")\n",
    "print(sna.hierarchy(networkx.to_numpy_array(networkx.DiGraph(G)), measure=\"krackhardt\"))\n",
    "print(krackhardt_score)"
   ]
  },
  {
   "cell_type": "code",
   "execution_count": 11,
   "metadata": {},
   "outputs": [
    {
     "data": {
      "text/plain": [
       "0.27811062645326634"
      ]
     },
     "execution_count": 11,
     "metadata": {},
     "output_type": "execute_result"
    }
   ],
   "source": [
    "networkx.flow_hierarchy(G)"
   ]
  },
  {
   "attachments": {},
   "cell_type": "markdown",
   "metadata": {},
   "source": [
    "Adjacency matrix doesn't change from MultiDi to Di"
   ]
  },
  {
   "attachments": {},
   "cell_type": "markdown",
   "metadata": {},
   "source": [
    "## Approach A\n",
    "\n",
    "Based on ChatGPT suggestions. UTTER BOLLOCKS"
   ]
  },
  {
   "cell_type": "code",
   "execution_count": 12,
   "metadata": {},
   "outputs": [],
   "source": [
    "# # Convert the multigraph to a directed graph\n",
    "# G = networkx.DiGraph(G)\n",
    "# print(f\"Edges:{G.number_of_edges()}, Nodes:{G.number_of_nodes()}, Avg Degree:{sum(dict(G.degree()).values())/G.number_of_nodes()}, Density:{networkx.density(G)}\")\n",
    "\n",
    "# # Compute the in-degree and out-degree centrality for each node\n",
    "# in_degrees = dict(G.in_degree())\n",
    "# out_degrees = dict(G.out_degree())\n",
    "\n",
    "# # Create a dictionary to store the hierarchy scores for each node\n",
    "# hierarchy_scores = {}\n",
    "\n",
    "# # Compute the hierarchy score for each node\n",
    "# for node in G.nodes():\n",
    "#     # Compute the number of higher-status nodes that the node is connected to\n",
    "#     higher_status_nodes = set()\n",
    "#     for neighbour in G.successors(node):\n",
    "#         if in_degrees[neighbour] > in_degrees[node]:\n",
    "#             higher_status_nodes.add(neighbour)\n",
    "\n",
    "#     # Compute the number of lower-status nodes that the node is connected to\n",
    "#     lower_status_nodes = set()\n",
    "#     for neighbour in G.predecessors(node):\n",
    "#         if out_degrees[neighbour] > out_degrees[node]:\n",
    "#             lower_status_nodes.add(neighbour)\n",
    "\n",
    "#     # Compute the hierarchy score as the difference between the number of higher-status\n",
    "#     # and lower-status nodes that the node is connected to\n",
    "#     hierarchy_scores[node] = len(higher_status_nodes) - len(lower_status_nodes)\n"
   ]
  },
  {
   "cell_type": "code",
   "execution_count": 13,
   "metadata": {},
   "outputs": [],
   "source": [
    "# sum(hierarchy_scores.values())/len(hierarchy_scores)"
   ]
  },
  {
   "attachments": {},
   "cell_type": "markdown",
   "metadata": {},
   "source": [
    "## Approach B\n",
    "\n",
    "Computing for a directed graph G . This is from Bing AI and also utter bollocks (albeit a bit less bollocky)"
   ]
  },
  {
   "cell_type": "code",
   "execution_count": 14,
   "metadata": {},
   "outputs": [],
   "source": [
    "# diG = networkx.DiGraph(G)\n",
    "\n",
    "# n = len(diG)\n",
    "# m = len(diG.edges())\n",
    "\n",
    "# #THe density computation is wrong\n",
    "# max_edges = n*(n-1)//2\n",
    "# density = m / max_edges\n",
    "# density != networkx.density(diG)\n",
    "\n",
    "# density = networkx.density(diG)\n",
    "\n",
    "# reachable_pairs = sum(1 for i in networkx.all_pairs_shortest_path_length(diG))\n",
    "# reachable_pairs\n",
    "\n",
    "# max_reachable_pairs = n*(n-1)\n",
    "# max_reachable_pairs\n",
    "\n",
    "# hierarchy = (reachable_pairs / max_reachable_pairs)*(3-density*3)\n",
    "# hierarchy\n"
   ]
  },
  {
   "attachments": {},
   "cell_type": "markdown",
   "metadata": {},
   "source": [
    "## Approach C\n",
    "\n",
    "Specifying that input is a multidigraph object. Also from Bing AI.\n",
    "\n",
    "    This function takes as input a MultiDiGraph object from NetworkX and returns its Krackhardt hierarchy score. The function first converts the MultiDiGraph to a simple DiGraph and then computes its reachability matrix using Floyd-Warshall algorithm. It then counts the number of non-null dyads in the reachability matrix that are asymmetric and computes and returns the Krackhardt hierarchy score as their fraction.\n"
   ]
  },
  {
   "cell_type": "code",
   "execution_count": 15,
   "metadata": {},
   "outputs": [],
   "source": [
    "\n",
    "def krackhardt_hierarchy_score(G):\n",
    "    \"\"\"\n",
    "    Compute the Krackhardt hierarchy score for a MultiDiGraph.\n",
    "\n",
    "    Parameters\n",
    "    ----------\n",
    "    G : MultiDiGraph\n",
    "        A NetworkX MultiDiGraph.\n",
    "\n",
    "    Returns\n",
    "    -------\n",
    "    float\n",
    "        The Krackhardt hierarchy score for the graph.\n",
    "    \"\"\"\n",
    "    \n",
    "    # Convert the MultiDiGraph to a simple DiGraph\n",
    "    G = networkx.DiGraph(G)\n",
    "\n",
    "    # Compute the reachability matrix\n",
    "    reachability_matrix = networkx.algorithms.shortest_paths.dense.floyd_warshall_numpy(G)\n",
    "\n",
    "    # Count the number of non-null dyads in the reachability matrix that are asymmetric\n",
    "    asymmetric_dyads = 0\n",
    "    non_null_dyads = 0\n",
    "    \n",
    "    n = len(G.nodes())\n",
    "    \n",
    "    for i in range(n):\n",
    "        for j in range(i+1,n):\n",
    "            if reachability_matrix[i,j] != float('inf') or reachability_matrix[j,i] != float('inf'):\n",
    "                non_null_dyads += 1\n",
    "                \n",
    "                if reachability_matrix[i,j] != reachability_matrix[j,i]:\n",
    "                    asymmetric_dyads += 1\n",
    "\n",
    "                    \n",
    "    # Compute and return the Krackhardt hierarchy score\n",
    "    if non_null_dyads == 0:\n",
    "        return None\n",
    "    \n",
    "    return asymmetric_dyads / non_null_dyads\n",
    "\n",
    "# Example usage:\n",
    "# G = networkx.MultiDiGraph()\n",
    "# G.add_edges_from([(1,2), (2,3), (3,4), (4,5),(2,4)])\n",
    "\n",
    "# score = krackhardt_hierarchy_score(G)\n",
    "# print(score)"
   ]
  },
  {
   "cell_type": "code",
   "execution_count": 16,
   "metadata": {},
   "outputs": [],
   "source": [
    "# m_shortpath = networkx.shortest_path(G)"
   ]
  },
  {
   "cell_type": "code",
   "execution_count": 17,
   "metadata": {},
   "outputs": [],
   "source": [
    "# m_allpairshortpathlength = networkx.all_pairs_shortest_path_length(G)"
   ]
  },
  {
   "cell_type": "code",
   "execution_count": 18,
   "metadata": {},
   "outputs": [],
   "source": [
    "# m_algshortpathdensefloydwarsh = networkx.algorithms.shortest_paths.dense.floyd_warshall_numpy(G)"
   ]
  },
  {
   "cell_type": "code",
   "execution_count": 19,
   "metadata": {},
   "outputs": [],
   "source": [
    "# # Compute the adjacency matrix and its transpose\n",
    "# A = networkx.to_numpy_array(G)\n",
    "# At = A.transpose()\n",
    "\n",
    "# # Compute a matrix where entry (i,j) is 1 if there is a directed path from i to j and 0 otherwise\n",
    "# m_reach = (np.linalg.matrix_power(A + At + np.eye(A.shape[0]), A.shape[0]) > 0).astype(int)"
   ]
  },
  {
   "cell_type": "code",
   "execution_count": 20,
   "metadata": {},
   "outputs": [],
   "source": [
    "# m_algtransclos = networkx.algorithms.dag.transitive_closure(G)"
   ]
  },
  {
   "attachments": {},
   "cell_type": "markdown",
   "metadata": {},
   "source": [
    "Modified approach after providing it with the source code for the sna implementation:\n",
    "\n",
    "    This function takes as input a MultiDiGraph object from NetworkX and returns its Krackhardt hierarchy score. The function first converts the MultiDiGraph to a simple DiGraph, then computes its adjacency matrix and its transpose. It then raises their sum plus an identity matrix to a power equal to their size and checks which entries are greater than zero. This produces a binary matrix where entry (i,j) is 1 if there is a directed path from node i to node j, and 0 otherwise. The function then counts how many entries in this matrix are equal to one but not symmetric with respect to its diagonal and computes and returns their fraction as Krackhardt hierarchy score.\n"
   ]
  },
  {
   "cell_type": "code",
   "execution_count": 21,
   "metadata": {},
   "outputs": [],
   "source": [
    "# m_algtransclos.number_of_nodes()"
   ]
  },
  {
   "cell_type": "code",
   "execution_count": 22,
   "metadata": {},
   "outputs": [],
   "source": [
    "# def krackhardt_hierarchy_score(G):\n",
    "#     \"\"\"\n",
    "#     Compute the Krackhardt hierarchy score for a MultiDiGraph.\n",
    "\n",
    "#     Parameters\n",
    "#     ----------\n",
    "#     G : MultiDiGraph\n",
    "#         A NetworkX MultiDiGraph.\n",
    "\n",
    "#     Returns\n",
    "#     -------\n",
    "#     float\n",
    "#         The Krackhardt hierarchy score for the graph.\n",
    "#     \"\"\"\n",
    "    \n",
    "#     # Convert the MultiDiGraph to a simple DiGraph\n",
    "#     G = networkx.DiGraph(G)\n",
    "\n",
    "#     # Compute the adjacency matrix and its transpose\n",
    "#     A = networkx.to_numpy_array(G)\n",
    "#     At = A.transpose()\n",
    "    \n",
    "#     # Compute a matrix where entry (i,j) is 1 if there is a directed path from i to j and 0 otherwise\n",
    "#     reachability_matrix = (np.linalg.matrix_power(A + At + np.eye(A.shape[0]), A.shape[0]) > 0).astype(int)\n",
    "    \n",
    "#     # Count the number of non-null dyads in the reachability matrix that are asymmetric\n",
    "#     asymmetric_dyads = 0\n",
    "#     non_null_dyads = 0\n",
    "\n",
    "#     n = len(G.nodes())\n",
    "\n",
    "#     for i in range(n):\n",
    "#         for j in range(i+1,n):\n",
    "#             if reachability_matrix[i,j] == 1 or reachability_matrix[j,i] == 1:\n",
    "#                 non_null_dyads += 1\n",
    "            \n",
    "#                 if reachability_matrix[i,j] != reachability_matrix[j,i]:\n",
    "#                     asymmetric_dyads += 1\n",
    "\n",
    "                \n",
    "#     # Compute and return the Krackhardt hierarchy score\n",
    "#     if non_null_dyads == 0:\n",
    "#         return None\n",
    "    \n",
    "#     return asymmetric_dyads / non_null_dyads\n",
    "\n",
    "# # Example usage:\n",
    "# # G = networkx.MultiDiGraph()\n",
    "# # G.add_edges_from([(1,2), (2,3), (3,4), (4,5)])\n",
    "# score = krackhardt_hierarchy_score(G)\n",
    "# print(score)"
   ]
  },
  {
   "attachments": {},
   "cell_type": "markdown",
   "metadata": {},
   "source": [
    "Yet another alternative\n",
    "\n",
    "    This function takes as input a MultiDiGraph object from NetworkX and returns its Krackhardt hierarchy score. The function first converts the MultiDiGraph to a simple DiGraph, then computes its transitive closure using NetworkX’s transitive_closure function. It then counts how many edges in this transitive closure are not symmetric with respect to their endpoints and computes and returns their fraction as Krackhardt hierarchy score.\n"
   ]
  },
  {
   "cell_type": "code",
   "execution_count": 23,
   "metadata": {},
   "outputs": [],
   "source": [
    "# def krackhardt_hierarchy_score(G):\n",
    "#     \"\"\"\n",
    "#     Compute the Krackhardt hierarchy score for a MultiDiGraph.\n",
    "\n",
    "#     Parameters\n",
    "#     ----------\n",
    "#     G : MultiDiGraph\n",
    "#         A NetworkX MultiDiGraph.\n",
    "\n",
    "#     Returns\n",
    "#     -------\n",
    "#     float\n",
    "#         The Krackhardt hierarchy score for the graph.\n",
    "#     \"\"\"\n",
    "    \n",
    "#     # Convert the MultiDiGraph to a simple DiGraph\n",
    "#     G = networkx.DiGraph(G)\n",
    "\n",
    "#     # Compute the transitive closure of G\n",
    "#     TC = networkx.algorithms.dag.transitive_closure(G)\n",
    "    \n",
    "#     # Count the number of non-null dyads in TC that are asymmetric\n",
    "#     asymmetric_dyads = 0\n",
    "#     non_null_dyads = 0\n",
    "\n",
    "#     n = len(G.nodes())\n",
    "\n",
    "#     for i in range(n):\n",
    "#         for j in range(i+1,n):\n",
    "#             if TC.has_edge(i,j) or TC.has_edge(j,i):\n",
    "#                 non_null_dyads += 1\n",
    "            \n",
    "#                 if TC.has_edge(i,j) != TC.has_edge(j,i):\n",
    "#                     asymmetric_dyads += 1\n",
    "\n",
    "                \n",
    "#     # Compute and return the Krackhardt hierarchy score\n",
    "#     if non_null_dyads == 0:\n",
    "#         return None\n",
    "    \n",
    "#     return asymmetric_dyads / non_null_dyads\n",
    "\n",
    "# # Example usage:\n",
    "# # G = nx.MultiDiGraph()\n",
    "# # G.add_edges_from([(1,2), (2,3), (3,4), (4,5)])\n",
    "# score = krackhardt_hierarchy_score(G)\n",
    "# print(score)"
   ]
  },
  {
   "attachments": {},
   "cell_type": "markdown",
   "metadata": {},
   "source": [
    "## Krackhardt OG approach\n",
    "\n",
    "From his OG paper:\n",
    "\n",
    "The graph hierarchy condition states that in a digraph D, for each pair of points where one (Pi) can reach another (Pj), the second (Pj) can't reach the first (Pi). \n",
    "For example, in a formal organization chart a high lvl employee can reach through the chain of command her subordinate's subordinate. If the formal organization if working \"properly\", this lower lvl employee can't simultaneously reach the high lvl employee.\n",
    "To measure the degree of hierarchy of digraph D, a new digraph Dr must be created. Dr is defined as the reachability digraph of D. Each point in D exists in Dr; moreover, the line (Pi,Pj) exists in Dr if and only if Pi can reach Pj in D. If D is graph hierarchic, then Dr will have no symmetric lines in it (i.e. if the line (Pi,Pj) exists in Dr then the line (Pj,Pi) does not).\n",
    "\n",
    "The degree of hierarchy then is defined as:\n",
    "\n",
    "    Graph Hierarchy = 1 - [V/MaxV]\n",
    "    Where:\n",
    "        V = Number of unordered pairs of points in Dr that are symmetrically linked\n",
    "        MaxV = Number of unordered pairs of points in Dr where Pi is linked to Pj or viceversa."
   ]
  },
  {
   "cell_type": "code",
   "execution_count": 24,
   "metadata": {},
   "outputs": [
    {
     "data": {
      "text/plain": [
       "0.7571510700839178"
      ]
     },
     "execution_count": 24,
     "metadata": {},
     "output_type": "execute_result"
    }
   ],
   "source": [
    "diG = networkx.DiGraph(G)\n",
    "\n",
    "#First, compute reachability graph\n",
    "\n",
    "# #Manual computation is very slow (iterating through all node pairs)\n",
    "# Dr = networkx.DiGraph()\n",
    "# Dr.add_nodes_from(diG.nodes())\n",
    "# #iterate on node pairs frm diG\n",
    "# for u in diG.nodes():\n",
    "#     for v in diG.nodes():\n",
    "#         if networkx.has_path(diG, u, v):\n",
    "#             Dr.add_edge(u,v)\n",
    "\n",
    "#Transitive closure of graph is a graoh that contains an edge (u,v) if there is a path from u to v in the original graph\n",
    "Dr = networkx.transitive_closure(diG, reflexive=None)\n",
    "\n",
    "# Count the number of non-null dyads in TC that are asymmetric\n",
    "asymmetric_dyads = 0\n",
    "non_null_dyads = 0\n",
    "\n",
    "n = len(Dr.nodes())\n",
    "\n",
    "for i in Dr.nodes():\n",
    "    for j in Dr.nodes():\n",
    "        if Dr.has_edge(i,j) or Dr.has_edge(j,i):\n",
    "            non_null_dyads += 1\n",
    "            if Dr.has_edge(i,j) != Dr.has_edge(j,i):\n",
    "                asymmetric_dyads += 1\n",
    "\n",
    "            \n",
    "# Compute and return the Krackhardt hierarchy score\n",
    "if non_null_dyads == 0:\n",
    "    print(\"fuck\")\n",
    "\n",
    "asymmetric_dyads / non_null_dyads\n"
   ]
  },
  {
   "cell_type": "code",
   "execution_count": 25,
   "metadata": {},
   "outputs": [
    {
     "name": "stdout",
     "output_type": "stream",
     "text": [
      "Edges:36876501, Nodes:8909, Avg Degree:8278.482657986306, Density:0.4646656184321007\n"
     ]
    }
   ],
   "source": [
    "print(f\"Edges:{Dr.number_of_edges()}, Nodes:{Dr.number_of_nodes()}, Avg Degree:{sum(dict(Dr.degree()).values())/Dr.number_of_nodes()}, Density:{networkx.density(Dr)}\")"
   ]
  }
 ],
 "metadata": {
  "kernelspec": {
   "display_name": "collabLite",
   "language": "python",
   "name": "python3"
  },
  "language_info": {
   "codemirror_mode": {
    "name": "ipython",
    "version": 3
   },
   "file_extension": ".py",
   "mimetype": "text/x-python",
   "name": "python",
   "nbconvert_exporter": "python",
   "pygments_lexer": "ipython3",
   "version": "3.9.16"
  },
  "orig_nbformat": 4,
  "vscode": {
   "interpreter": {
    "hash": "29fda5446e8bd2202453b1af54c35c66b7d7f400197f3f99e8b934fda70e36b3"
   }
  }
 },
 "nbformat": 4,
 "nbformat_minor": 2
}
