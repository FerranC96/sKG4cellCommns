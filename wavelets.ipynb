{
 "cells": [
  {
   "cell_type": "code",
   "execution_count": 1,
   "metadata": {},
   "outputs": [],
   "source": [
    "import numpy as np\n",
    "import matplotlib.pyplot as plt\n",
    "from pygsp import graphs, filters, plotting, utils"
   ]
  },
  {
   "cell_type": "code",
   "execution_count": 7,
   "metadata": {},
   "outputs": [
    {
     "data": {
      "text/plain": [
       "pygsp.graphs.nngraphs.bunny.Bunny"
      ]
     },
     "execution_count": 7,
     "metadata": {},
     "output_type": "execute_result"
    }
   ],
   "source": [
    "G"
   ]
  },
  {
   "cell_type": "code",
   "execution_count": 9,
   "metadata": {},
   "outputs": [
    {
     "ename": "TypeError",
     "evalue": "unsupported operand type(s) for /: 'property' and 'int'",
     "output_type": "error",
     "traceback": [
      "\u001b[0;31m---------------------------------------------------------------------------\u001b[0m",
      "\u001b[0;31mTypeError\u001b[0m                                 Traceback (most recent call last)",
      "Cell \u001b[0;32mIn[9], line 1\u001b[0m\n\u001b[0;32m----> 1\u001b[0m g \u001b[39m=\u001b[39m filters\u001b[39m.\u001b[39;49mMexicanHat(G, Nf\u001b[39m=\u001b[39;49m\u001b[39m6\u001b[39;49m)  \u001b[39m# Nf = 6 filters in the filter bank.\u001b[39;00m\n",
      "File \u001b[0;32m~/miniconda3/envs/collab/lib/python3.9/site-packages/pygsp/filters/mexicanhat.py:61\u001b[0m, in \u001b[0;36mMexicanHat.__init__\u001b[0;34m(self, G, Nf, lpfactor, scales, normalize, **kwargs)\u001b[0m\n\u001b[1;32m     58\u001b[0m \u001b[39mdef\u001b[39;00m \u001b[39m__init__\u001b[39m(\u001b[39mself\u001b[39m, G, Nf\u001b[39m=\u001b[39m\u001b[39m6\u001b[39m, lpfactor\u001b[39m=\u001b[39m\u001b[39m20\u001b[39m, scales\u001b[39m=\u001b[39m\u001b[39mNone\u001b[39;00m, normalize\u001b[39m=\u001b[39m\u001b[39mFalse\u001b[39;00m,\n\u001b[1;32m     59\u001b[0m              \u001b[39m*\u001b[39m\u001b[39m*\u001b[39mkwargs):\n\u001b[0;32m---> 61\u001b[0m     lmin \u001b[39m=\u001b[39m G\u001b[39m.\u001b[39;49mlmax \u001b[39m/\u001b[39;49m lpfactor\n\u001b[1;32m     63\u001b[0m     \u001b[39mif\u001b[39;00m scales \u001b[39mis\u001b[39;00m \u001b[39mNone\u001b[39;00m:\n\u001b[1;32m     64\u001b[0m         scales \u001b[39m=\u001b[39m utils\u001b[39m.\u001b[39mcompute_log_scales(lmin, G\u001b[39m.\u001b[39mlmax, Nf\u001b[39m-\u001b[39m\u001b[39m1\u001b[39m)\n",
      "\u001b[0;31mTypeError\u001b[0m: unsupported operand type(s) for /: 'property' and 'int'"
     ]
    }
   ],
   "source": [
    "g = filters.MexicanHat(G, Nf=6)  # Nf = 6 filters in the filter bank."
   ]
  },
  {
   "cell_type": "code",
   "execution_count": 3,
   "metadata": {},
   "outputs": [
    {
     "ename": "NameError",
     "evalue": "name 'g' is not defined",
     "output_type": "error",
     "traceback": [
      "\u001b[0;31m---------------------------------------------------------------------------\u001b[0m",
      "\u001b[0;31mNameError\u001b[0m                                 Traceback (most recent call last)",
      "Cell \u001b[0;32mIn[3], line 1\u001b[0m\n\u001b[0;32m----> 1\u001b[0m s \u001b[39m=\u001b[39m g\u001b[39m.\u001b[39mlocalize(DELTA)\n\u001b[1;32m      3\u001b[0m fig \u001b[39m=\u001b[39m plt\u001b[39m.\u001b[39mfigure(figsize\u001b[39m=\u001b[39m(\u001b[39m10\u001b[39m, \u001b[39m2.5\u001b[39m))\n\u001b[1;32m      4\u001b[0m \u001b[39mfor\u001b[39;00m i \u001b[39min\u001b[39;00m \u001b[39mrange\u001b[39m(\u001b[39m3\u001b[39m):\n",
      "\u001b[0;31mNameError\u001b[0m: name 'g' is not defined"
     ]
    }
   ],
   "source": [
    "s = g.localize(DELTA)\n",
    "\n",
    "fig = plt.figure(figsize=(10, 2.5))\n",
    "for i in range(3):\n",
    "    ax = fig.add_subplot(1, 3, i+1, projection='3d')\n",
    "    G.plot_signal(s[:, i], ax=ax)\n",
    "    _ = ax.set_title('Wavelet {}'.format(i+1))\n",
    "    ax.set_axis_off()\n",
    "fig.tight_layout()"
   ]
  },
  {
   "cell_type": "code",
   "execution_count": null,
   "metadata": {},
   "outputs": [],
   "source": []
  },
  {
   "cell_type": "code",
   "execution_count": null,
   "metadata": {},
   "outputs": [],
   "source": []
  }
 ],
 "metadata": {
  "kernelspec": {
   "display_name": "collab_cuda",
   "language": "python",
   "name": "python3"
  },
  "language_info": {
   "codemirror_mode": {
    "name": "ipython",
    "version": 3
   },
   "file_extension": ".py",
   "mimetype": "text/x-python",
   "name": "python",
   "nbconvert_exporter": "python",
   "pygments_lexer": "ipython3",
   "version": "3.9.16"
  },
  "orig_nbformat": 4
 },
 "nbformat": 4,
 "nbformat_minor": 2
}
