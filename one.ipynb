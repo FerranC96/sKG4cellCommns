{
 "cells": [
  {
   "cell_type": "code",
   "execution_count": null,
   "metadata": {},
   "outputs": [],
   "source": [
    "! python -c \"import pykeen\" || pip install git+https://github.com/pykeen/pykeen.git\n",
    "pykeen.env()"
   ]
  },
  {
   "cell_type": "code",
   "execution_count": 4,
   "metadata": {},
   "outputs": [
    {
     "name": "stdout",
     "output_type": "stream",
     "text": [
      "/Users/ferran/PhD/yaleCollab\n"
     ]
    }
   ],
   "source": [
    "import os\n",
    "print(os.getcwd())\n",
    "base_dir = f\"{os.getcwd()}\""
   ]
  },
  {
   "cell_type": "markdown",
   "metadata": {},
   "source": [
    "# Explore PyKEEN and default data"
   ]
  },
  {
   "cell_type": "code",
   "execution_count": 2,
   "metadata": {},
   "outputs": [
    {
     "name": "stdout",
     "output_type": "stream",
     "text": [
      "/usr/local/lib/python3.9/site-packages/pykeen/datasets/nations/train.txt\n",
      "TriplesFactory(num_entities=14, num_relations=55, create_inverse_triples=False, num_triples=1592, path=\"/usr/local/lib/python3.9/site-packages/pykeen/datasets/nations/train.txt\")\n"
     ]
    }
   ],
   "source": [
    "import pandas as pd\n",
    "\n",
    "from pykeen.triples import TriplesFactory\n",
    "from pykeen.pipeline import pipeline\n",
    "from pykeen.datasets.nations import NATIONS_TRAIN_PATH\n",
    "\n",
    "tf = TriplesFactory.from_path(NATIONS_TRAIN_PATH)\n",
    "\n",
    "print(NATIONS_TRAIN_PATH)\n",
    "print(tf)\n",
    "\n",
    "# training, testing = tf.split()\n",
    "\n",
    "# result = pipeline(\n",
    "\n",
    "#     training=training,\n",
    "\n",
    "#     testing=testing,\n",
    "\n",
    "#     model='TransE',\n",
    "\n",
    "#     epochs=5,  # short epochs for testing - you should go higher\n",
    "\n",
    "# )\n",
    "\n",
    "# result.save_to_directory('doctests/test_unstratified_transe')"
   ]
  },
  {
   "cell_type": "code",
   "execution_count": 3,
   "metadata": {},
   "outputs": [
    {
     "data": {
      "text/html": [
       "<div>\n",
       "<style scoped>\n",
       "    .dataframe tbody tr th:only-of-type {\n",
       "        vertical-align: middle;\n",
       "    }\n",
       "\n",
       "    .dataframe tbody tr th {\n",
       "        vertical-align: top;\n",
       "    }\n",
       "\n",
       "    .dataframe thead th {\n",
       "        text-align: right;\n",
       "    }\n",
       "</style>\n",
       "<table border=\"1\" class=\"dataframe\">\n",
       "  <thead>\n",
       "    <tr style=\"text-align: right;\">\n",
       "      <th></th>\n",
       "      <th>netherlands</th>\n",
       "      <th>militaryalliance</th>\n",
       "      <th>uk</th>\n",
       "    </tr>\n",
       "  </thead>\n",
       "  <tbody>\n",
       "    <tr>\n",
       "      <th>0</th>\n",
       "      <td>egypt</td>\n",
       "      <td>intergovorgs3</td>\n",
       "      <td>usa</td>\n",
       "    </tr>\n",
       "    <tr>\n",
       "      <th>1</th>\n",
       "      <td>jordan</td>\n",
       "      <td>relbooktranslations</td>\n",
       "      <td>usa</td>\n",
       "    </tr>\n",
       "    <tr>\n",
       "      <th>2</th>\n",
       "      <td>poland</td>\n",
       "      <td>timesincewar</td>\n",
       "      <td>ussr</td>\n",
       "    </tr>\n",
       "    <tr>\n",
       "      <th>3</th>\n",
       "      <td>uk</td>\n",
       "      <td>negativebehavior</td>\n",
       "      <td>ussr</td>\n",
       "    </tr>\n",
       "    <tr>\n",
       "      <th>4</th>\n",
       "      <td>poland</td>\n",
       "      <td>relintergovorgs</td>\n",
       "      <td>uk</td>\n",
       "    </tr>\n",
       "    <tr>\n",
       "      <th>...</th>\n",
       "      <td>...</td>\n",
       "      <td>...</td>\n",
       "      <td>...</td>\n",
       "    </tr>\n",
       "    <tr>\n",
       "      <th>1586</th>\n",
       "      <td>cuba</td>\n",
       "      <td>ngoorgs3</td>\n",
       "      <td>usa</td>\n",
       "    </tr>\n",
       "    <tr>\n",
       "      <th>1587</th>\n",
       "      <td>usa</td>\n",
       "      <td>timesincewar</td>\n",
       "      <td>china</td>\n",
       "    </tr>\n",
       "    <tr>\n",
       "      <th>1588</th>\n",
       "      <td>china</td>\n",
       "      <td>treaties</td>\n",
       "      <td>burma</td>\n",
       "    </tr>\n",
       "    <tr>\n",
       "      <th>1589</th>\n",
       "      <td>netherlands</td>\n",
       "      <td>eemigrants</td>\n",
       "      <td>usa</td>\n",
       "    </tr>\n",
       "    <tr>\n",
       "      <th>1590</th>\n",
       "      <td>indonesia</td>\n",
       "      <td>embassy</td>\n",
       "      <td>egypt</td>\n",
       "    </tr>\n",
       "  </tbody>\n",
       "</table>\n",
       "<p>1591 rows × 3 columns</p>\n",
       "</div>"
      ],
      "text/plain": [
       "      netherlands     militaryalliance     uk\n",
       "0           egypt        intergovorgs3    usa\n",
       "1          jordan  relbooktranslations    usa\n",
       "2          poland         timesincewar   ussr\n",
       "3              uk     negativebehavior   ussr\n",
       "4          poland      relintergovorgs     uk\n",
       "...           ...                  ...    ...\n",
       "1586         cuba             ngoorgs3    usa\n",
       "1587          usa         timesincewar  china\n",
       "1588        china             treaties  burma\n",
       "1589  netherlands           eemigrants    usa\n",
       "1590    indonesia              embassy  egypt\n",
       "\n",
       "[1591 rows x 3 columns]"
      ]
     },
     "execution_count": 3,
     "metadata": {},
     "output_type": "execute_result"
    }
   ],
   "source": [
    "pd.read_csv('/usr/local/lib/python3.9/site-packages/pykeen/datasets/nations/train.txt', sep='\\t')"
   ]
  },
  {
   "cell_type": "markdown",
   "metadata": {},
   "source": [
    "Format data for PYKEEN is in the form of a TSV file with the (h,r,t) format.\n",
    "THis means that the edges are indeed directed.\n",
    "\n",
    "WEe can now take either one of two approaches:\n",
    "\n",
    "- Use STRING database ass a proof of concept. All of these interactions will be considered as @signsallnig interactions. KG will end up having 2 types of edges: those from strign and those from cellchat\n",
    "- Proper approach with the Functional INteraction network from reactome. Here interaction edges can be of different types, and string comprehension will have to be built to decode the direction column into individual triplets with the (h,r,t) format"
   ]
  },
  {
   "cell_type": "markdown",
   "metadata": {},
   "source": [
    "## RPY2 cheatsheet"
   ]
  },
  {
   "cell_type": "markdown",
   "metadata": {},
   "source": [
    "Using R from Python"
   ]
  },
  {
   "cell_type": "code",
   "execution_count": 15,
   "metadata": {},
   "outputs": [
    {
     "name": "stdout",
     "output_type": "stream",
     "text": [
      "\u001b[1mrpy2 version:\u001b[0m\n",
      "3.4.5\n",
      "\u001b[1mPython version:\u001b[0m\n",
      "3.9.13 (main, Aug  7 2022, 01:33:23) \n",
      "[Clang 13.1.6 (clang-1316.0.21.2.5)]\n",
      "\u001b[1mLooking for R's HOME:\u001b[0m\n",
      "    Environment variable R_HOME: /usr/local/Cellar/r/4.2.1_2/lib/R\n",
      "    Calling `R RHOME`: /usr/local/Cellar/r/4.2.1_2/lib/R\n",
      "    Environment variable R_LIBS_USER: None\n",
      "\u001b[1mR's additions to LD_LIBRARY_PATH:\u001b[0m\n",
      "/usr/local/lib/R/library/stats/libs/\n",
      "\u001b[1mR version:\u001b[0m\n",
      "    In the PATH: R version 4.2.1 (2022-06-23) -- \"Funny-Looking Kid\"\n",
      "    Loading R library from rpy2: OK\n",
      "\u001b[1mAdditional directories to load R packages from:\u001b[0m\n",
      "None\n",
      "\u001b[1mC extension compilation:\u001b[0m\n",
      "  include:\n",
      "  ['/usr/local/Cellar/r/4.2.1_2/lib/R/include']\n",
      "  libraries:\n",
      "  ['R', 'pcre2-8', 'lzma', 'bz2', 'z', 'icucore', 'dl', 'm', 'iconv']\n",
      "  library_dirs:\n",
      "  ['/usr/local/opt/gettext/lib', '/usr/local/opt/readline/lib', '/usr/local/opt/xz/lib', '/usr/local/lib', '/usr/local/opt/gettext/lib', '/usr/local/opt/readline/lib', '/usr/local/opt/xz/lib', '/usr/local/lib', '/usr/local/Cellar/r/4.2.1_2/lib/R/lib', '/usr/local/Cellar/pcre2/10.40/lib']\n",
      "  extra_compile_args:\n",
      "  []\n",
      "  extra_link_args:\n",
      "  []\n"
     ]
    }
   ],
   "source": [
    "import rpy2\n",
    "import rpy2.situation\n",
    "for row in rpy2.situation.iter_info(): # Print Rpy2 info\n",
    "    print(row)\n",
    "\n",
    "from rpy2.robjects.packages import importr\n",
    "base = importr(\"base\")\n",
    "here = importr(\"here\")\n",
    "\n",
    "if here.here()[0] != base_dir:\n",
    "    raise ValueError"
   ]
  },
  {
   "cell_type": "code",
   "execution_count": null,
   "metadata": {},
   "outputs": [],
   "source": [
    "from rpy2.robjects.packages import importr\n",
    "base = importr(\"base\")\n",
    "here = importr(\"here\")\n",
    "\n",
    "INTepi21 = base.readRDS(here.here(\"CRCTME_story/Integration_CRCTME-Aug21/RData\",\n",
    "\"INTepi21_filt_2022.rds\"))\n",
    "INTepi21"
   ]
  },
  {
   "cell_type": "markdown",
   "metadata": {},
   "source": [
    "Load R chunks"
   ]
  },
  {
   "cell_type": "code",
   "execution_count": null,
   "metadata": {},
   "outputs": [],
   "source": [
    "%load_ext rpy2.ipython"
   ]
  },
  {
   "cell_type": "code",
   "execution_count": null,
   "metadata": {},
   "outputs": [],
   "source": [
    "%%R\n",
    "R.version.string"
   ]
  },
  {
   "cell_type": "code",
   "execution_count": null,
   "metadata": {},
   "outputs": [],
   "source": [
    "%%R -i INTepi21\n",
    "library(base)\n",
    "library(tidyverse)\n",
    "library(Seurat)\n",
    "library(here)\n",
    "\n",
    "INTepi21"
   ]
  },
  {
   "cell_type": "markdown",
   "metadata": {},
   "source": [
    "# STRING + CellchatDB KGE"
   ]
  },
  {
   "cell_type": "code",
   "execution_count": 20,
   "metadata": {},
   "outputs": [
    {
     "name": "stdout",
     "output_type": "stream",
     "text": [
      "\u001b[1mrpy2 version:\u001b[0m\n",
      "3.4.5\n",
      "\u001b[1mPython version:\u001b[0m\n",
      "3.9.13 (main, Aug  7 2022, 01:33:23) \n",
      "[Clang 13.1.6 (clang-1316.0.21.2.5)]\n",
      "\u001b[1mLooking for R's HOME:\u001b[0m\n",
      "    Environment variable R_HOME: /usr/local/Cellar/r/4.2.1_2/lib/R\n",
      "    Calling `R RHOME`: /usr/local/Cellar/r/4.2.1_2/lib/R\n",
      "    Environment variable R_LIBS_USER: None\n",
      "\u001b[1mR's additions to LD_LIBRARY_PATH:\u001b[0m\n",
      "/usr/local/lib/R/library/stats/libs/\n",
      "\u001b[1mR version:\u001b[0m\n",
      "    In the PATH: R version 4.2.1 (2022-06-23) -- \"Funny-Looking Kid\"\n",
      "    Loading R library from rpy2: OK\n",
      "\u001b[1mAdditional directories to load R packages from:\u001b[0m\n",
      "None\n",
      "\u001b[1mC extension compilation:\u001b[0m\n",
      "  include:\n",
      "  ['/usr/local/Cellar/r/4.2.1_2/lib/R/include']\n",
      "  libraries:\n",
      "  ['R', 'pcre2-8', 'lzma', 'bz2', 'z', 'icucore', 'dl', 'm', 'iconv']\n",
      "  library_dirs:\n",
      "  ['/usr/local/opt/gettext/lib', '/usr/local/opt/readline/lib', '/usr/local/opt/xz/lib', '/usr/local/lib', '/usr/local/opt/gettext/lib', '/usr/local/opt/readline/lib', '/usr/local/opt/xz/lib', '/usr/local/lib', '/usr/local/Cellar/r/4.2.1_2/lib/R/lib', '/usr/local/Cellar/pcre2/10.40/lib']\n",
      "  extra_compile_args:\n",
      "  []\n",
      "  extra_link_args:\n",
      "  []\n"
     ]
    }
   ],
   "source": [
    "import rpy2\n",
    "import rpy2.situation\n",
    "for row in rpy2.situation.iter_info(): # Print Rpy2 info\n",
    "    print(row)\n",
    "\n",
    "from rpy2.robjects.packages import importr\n",
    "base = importr(\"base\")\n",
    "here = importr(\"here\")\n",
    "\n",
    "if here.here()[0] != base_dir:\n",
    "    raise ValueError\n",
    "\n",
    "from rpy2.robjects import r, pandas2ri\n",
    "pandas2ri.activate()"
   ]
  },
  {
   "cell_type": "code",
   "execution_count": null,
   "metadata": {},
   "outputs": [],
   "source": [
    "r[\"load\"](\"\")"
   ]
  }
 ],
 "metadata": {
  "kernelspec": {
   "display_name": "Python 3.9.13 64-bit",
   "language": "python",
   "name": "python3"
  },
  "language_info": {
   "codemirror_mode": {
    "name": "ipython",
    "version": 3
   },
   "file_extension": ".py",
   "mimetype": "text/x-python",
   "name": "python",
   "nbconvert_exporter": "python",
   "pygments_lexer": "ipython3",
   "version": "3.9.13"
  },
  "orig_nbformat": 4,
  "vscode": {
   "interpreter": {
    "hash": "949777d72b0d2535278d3dc13498b2535136f6dfe0678499012e853ee9abcab1"
   }
  }
 },
 "nbformat": 4,
 "nbformat_minor": 2
}
