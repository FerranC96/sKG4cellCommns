{
  "cells": [
    {
      "cell_type": "code",
      "execution_count": 7,
      "metadata": {
        "id": "YG7dsu4iQSZd",
        "outputId": "9d6c78cc-0ba4-42aa-8d74-2073cb2694bc",
        "colab": {
          "base_uri": "https://localhost:8080/"
        }
      },
      "outputs": [
        {
          "output_type": "stream",
          "name": "stdout",
          "text": [
            "Traceback (most recent call last):\n",
            "  File \"<string>\", line 1, in <module>\n",
            "ModuleNotFoundError: No module named 'scprep'\n",
            "Looking in indexes: https://pypi.org/simple, https://us-python.pkg.dev/colab-wheels/public/simple/\n",
            "Collecting scprep\n",
            "  Downloading scprep-1.2.0-py3-none-any.whl (93 kB)\n",
            "\u001b[K     |████████████████████████████████| 93 kB 1.9 MB/s \n",
            "\u001b[?25hRequirement already satisfied: scipy>=0.18.1 in /usr/local/lib/python3.7/dist-packages (from scprep) (1.7.3)\n",
            "Requirement already satisfied: pandas<1.4,>=0.25 in /usr/local/lib/python3.7/dist-packages (from scprep) (1.3.5)\n",
            "Requirement already satisfied: scikit-learn>=0.19.1 in /usr/local/lib/python3.7/dist-packages (from scprep) (1.0.2)\n",
            "Requirement already satisfied: numpy>=1.12.0 in /usr/local/lib/python3.7/dist-packages (from scprep) (1.21.6)\n",
            "Requirement already satisfied: decorator>=4.3.0 in /usr/local/lib/python3.7/dist-packages (from scprep) (4.4.2)\n",
            "Requirement already satisfied: packaging in /usr/local/lib/python3.7/dist-packages (from scprep) (21.3)\n",
            "Requirement already satisfied: pytz>=2017.3 in /usr/local/lib/python3.7/dist-packages (from pandas<1.4,>=0.25->scprep) (2022.2.1)\n",
            "Requirement already satisfied: python-dateutil>=2.7.3 in /usr/local/lib/python3.7/dist-packages (from pandas<1.4,>=0.25->scprep) (2.8.2)\n",
            "Requirement already satisfied: six>=1.5 in /usr/local/lib/python3.7/dist-packages (from python-dateutil>=2.7.3->pandas<1.4,>=0.25->scprep) (1.15.0)\n",
            "Requirement already satisfied: joblib>=0.11 in /usr/local/lib/python3.7/dist-packages (from scikit-learn>=0.19.1->scprep) (1.1.0)\n",
            "Requirement already satisfied: threadpoolctl>=2.0.0 in /usr/local/lib/python3.7/dist-packages (from scikit-learn>=0.19.1->scprep) (3.1.0)\n",
            "Requirement already satisfied: pyparsing!=3.0.5,>=2.0.2 in /usr/local/lib/python3.7/dist-packages (from packaging->scprep) (3.0.9)\n",
            "Installing collected packages: scprep\n",
            "Successfully installed scprep-1.2.0\n"
          ]
        }
      ],
      "source": [
        "! python -c \"import pykeen\" || pip install pykeen\n",
        "! python -c \"import scprep\" || pip install scprep"
      ]
    },
    {
      "cell_type": "code",
      "execution_count": 8,
      "metadata": {
        "id": "EyBR1hPrQSZl",
        "outputId": "9cd4c56a-ce28-43d7-bb28-0e0c5c17329e",
        "colab": {
          "base_uri": "https://localhost:8080/"
        }
      },
      "outputs": [
        {
          "output_type": "stream",
          "name": "stdout",
          "text": [
            "/content\n"
          ]
        }
      ],
      "source": [
        "import os\n",
        "import pandas as pd\n",
        "import numpy as np\n",
        "import pykeen\n",
        "import scprep\n",
        "\n",
        "import torch\n",
        "\n",
        "\n",
        "print(os.getcwd())\n",
        "base_dir = f\"{os.getcwd()}\""
      ]
    },
    {
      "cell_type": "markdown",
      "metadata": {
        "id": "DbJbJVoFQSZs"
      },
      "source": [
        "# Explore PyKEEN and default data"
      ]
    },
    {
      "cell_type": "code",
      "execution_count": null,
      "metadata": {
        "id": "WRKRmjG4QSZz"
      },
      "outputs": [],
      "source": [
        "# import pandas as pd\n",
        "\n",
        "# from pykeen.triples import TriplesFactory\n",
        "# from pykeen.pipeline import pipeline\n",
        "# from pykeen.datasets.nations import NATIONS_TRAIN_PATH\n",
        "\n",
        "# tf = TriplesFactory.from_path(NATIONS_TRAIN_PATH)\n",
        "\n",
        "# print(NATIONS_TRAIN_PATH)\n",
        "# print(tf)\n",
        "\n",
        "# # training, testing = tf.split()\n",
        "\n",
        "# # result = pipeline(\n",
        "\n",
        "# #     training=training,\n",
        "\n",
        "# #     testing=testing,\n",
        "\n",
        "# #     model='TransE',\n",
        "\n",
        "# #     epochs=5,  # short epochs for testing - you should go higher\n",
        "\n",
        "# # )\n",
        "\n",
        "# # result.save_to_directory('doctests/test_unstratified_transe')"
      ]
    },
    {
      "cell_type": "code",
      "execution_count": null,
      "metadata": {
        "id": "VegUdttaQSZ3"
      },
      "outputs": [],
      "source": [
        "# pd.read_csv('/usr/local/lib/python3.9/site-packages/pykeen/datasets/nations/train.txt', sep='\\t')"
      ]
    },
    {
      "cell_type": "markdown",
      "metadata": {
        "id": "dgRyqWzzQSZ5"
      },
      "source": [
        "Format data for PYKEEN is in the form of a TSV file with the (h,r,t) format.\n",
        "THis means that the edges are indeed directed.\n",
        "\n",
        "WEe can now take either one of two approaches:\n",
        "\n",
        "- Use STRING database ass a proof of concept. All of these interactions will be considered as @signsallnig interactions. KG will end up having 2 types of edges: those from strign and those from cellchat\n",
        "- Proper approach with the Functional INteraction network from reactome. Here interaction edges can be of different types, and string comprehension will have to be built to decode the direction column into individual triplets with the (h,r,t) format"
      ]
    },
    {
      "cell_type": "markdown",
      "metadata": {
        "id": "J4vNiYUGQSZ8"
      },
      "source": [
        "## RPY2 cheatsheet"
      ]
    },
    {
      "cell_type": "markdown",
      "metadata": {
        "id": "UaWUgNu9QSZ-"
      },
      "source": [
        "Using R from Python"
      ]
    },
    {
      "cell_type": "code",
      "execution_count": null,
      "metadata": {
        "id": "1Bg3JFL9QSaB"
      },
      "outputs": [],
      "source": [
        "# import rpy2\n",
        "# import rpy2.situation\n",
        "# for row in rpy2.situation.iter_info(): # Print Rpy2 info\n",
        "#     print(row)\n",
        "\n",
        "# from rpy2.robjects.packages import importr\n",
        "# base = importr(\"base\")\n",
        "# here = importr(\"here\")\n",
        "\n",
        "# if here.here()[0] != base_dir:\n",
        "#     raise ValueError"
      ]
    },
    {
      "cell_type": "code",
      "execution_count": null,
      "metadata": {
        "id": "ntjx6GVQQSaE"
      },
      "outputs": [],
      "source": [
        "# from rpy2.robjects.packages import importr\n",
        "# base = importr(\"base\")\n",
        "# here = importr(\"here\")\n",
        "\n",
        "# INTepi21 = base.readRDS(here.here(\"CRCTME_story/Integration_CRCTME-Aug21/RData\",\n",
        "# \"INTepi21_filt_2022.rds\"))\n",
        "# INTepi21"
      ]
    },
    {
      "cell_type": "markdown",
      "metadata": {
        "id": "J17ZPci_QSaG"
      },
      "source": [
        "Load R chunks"
      ]
    },
    {
      "cell_type": "code",
      "execution_count": null,
      "metadata": {
        "id": "PQ12GFbsQSaI"
      },
      "outputs": [],
      "source": [
        "# %load_ext rpy2.ipython"
      ]
    },
    {
      "cell_type": "code",
      "execution_count": null,
      "metadata": {
        "id": "eyXtWoElQSaJ"
      },
      "outputs": [],
      "source": [
        "# %%R\n",
        "# R.version.string"
      ]
    },
    {
      "cell_type": "code",
      "execution_count": null,
      "metadata": {
        "id": "6AQ7aJ8sQSaL"
      },
      "outputs": [],
      "source": [
        "# %%R -i INTepi21\n",
        "# library(base)\n",
        "# library(tidyverse)\n",
        "# library(Seurat)\n",
        "# library(here)\n",
        "\n",
        "# INTepi21"
      ]
    },
    {
      "cell_type": "markdown",
      "metadata": {
        "id": "03mZIyN9QSaN"
      },
      "source": [
        "# STRING + CellchatDB KGE"
      ]
    },
    {
      "cell_type": "code",
      "execution_count": null,
      "metadata": {
        "id": "eOPEbeTUQSaO",
        "outputId": "aa1d6191-1520-43f3-8d29-316620cdf352"
      },
      "outputs": [
        {
          "name": "stdout",
          "output_type": "stream",
          "text": [
            "\u001b[1mrpy2 version:\u001b[0m\n",
            "3.4.5\n",
            "\u001b[1mPython version:\u001b[0m\n",
            "3.9.13 (main, Aug  7 2022, 01:33:23) \n",
            "[Clang 13.1.6 (clang-1316.0.21.2.5)]\n",
            "\u001b[1mLooking for R's HOME:\u001b[0m\n",
            "    Environment variable R_HOME: /usr/local/Cellar/r/4.2.1_2/lib/R\n",
            "    Calling `R RHOME`: /usr/local/Cellar/r/4.2.1_2/lib/R\n",
            "    Environment variable R_LIBS_USER: None\n",
            "\u001b[1mR's additions to LD_LIBRARY_PATH:\u001b[0m\n",
            "/usr/local/lib/R/library/stats/libs/\n",
            "\u001b[1mR version:\u001b[0m\n",
            "    In the PATH: R version 4.2.1 (2022-06-23) -- \"Funny-Looking Kid\"\n",
            "    Loading R library from rpy2: OK\n",
            "\u001b[1mAdditional directories to load R packages from:\u001b[0m\n",
            "None\n",
            "\u001b[1mC extension compilation:\u001b[0m\n",
            "  include:\n",
            "  ['/usr/local/Cellar/r/4.2.1_2/lib/R/include']\n",
            "  libraries:\n",
            "  ['R', 'pcre2-8', 'lzma', 'bz2', 'z', 'icucore', 'dl', 'm', 'iconv']\n",
            "  library_dirs:\n",
            "  ['/usr/local/opt/gettext/lib', '/usr/local/opt/readline/lib', '/usr/local/opt/xz/lib', '/usr/local/lib', '/usr/local/opt/gettext/lib', '/usr/local/opt/readline/lib', '/usr/local/opt/xz/lib', '/usr/local/lib', '/usr/local/Cellar/r/4.2.1_2/lib/R/lib', '/usr/local/Cellar/pcre2/10.40/lib']\n",
            "  extra_compile_args:\n",
            "  []\n",
            "  extra_link_args:\n",
            "  []\n"
          ]
        }
      ],
      "source": [
        "import rpy2\n",
        "import rpy2.situation\n",
        "for row in rpy2.situation.iter_info(): # Print Rpy2 info\n",
        "    print(row)\n",
        "\n",
        "from rpy2.robjects.packages import importr\n",
        "base = importr(\"base\")\n",
        "here = importr(\"here\")\n",
        "\n",
        "if here.here()[0] != base_dir:\n",
        "    raise ValueError\n",
        "\n",
        "from rpy2.robjects import r, pandas2ri\n",
        "pandas2ri.activate()"
      ]
    },
    {
      "cell_type": "markdown",
      "metadata": {
        "id": "u5l9kC4eQSaR"
      },
      "source": [
        "Download cellchat DB with the following:\n",
        "\n",
        "`wget https://github.com/sqjin/CellChat/raw/master/data/CellChatDB.mouse.rda`\n",
        "\n",
        "TO use in the cloud, ahve logic that looks for local file, if not present, try to download with ipynb cloud !bash notation and if it fails (for reasons or because user is local) just prompt to download from URL."
      ]
    },
    {
      "cell_type": "code",
      "execution_count": null,
      "metadata": {
        "id": "7pY3eRehQSaT",
        "outputId": "2bdae45b-a9fc-44ff-8428-aa6e87bdb72e"
      },
      "outputs": [
        {
          "data": {
            "text/html": [
              "<div>\n",
              "<style scoped>\n",
              "    .dataframe tbody tr th:only-of-type {\n",
              "        vertical-align: middle;\n",
              "    }\n",
              "\n",
              "    .dataframe tbody tr th {\n",
              "        vertical-align: top;\n",
              "    }\n",
              "\n",
              "    .dataframe thead th {\n",
              "        text-align: right;\n",
              "    }\n",
              "</style>\n",
              "<table border=\"1\" class=\"dataframe\">\n",
              "  <thead>\n",
              "    <tr style=\"text-align: right;\">\n",
              "      <th></th>\n",
              "      <th>interaction_name</th>\n",
              "      <th>pathway_name</th>\n",
              "      <th>ligand</th>\n",
              "      <th>receptor</th>\n",
              "      <th>agonist</th>\n",
              "      <th>antagonist</th>\n",
              "      <th>co_A_receptor</th>\n",
              "      <th>co_I_receptor</th>\n",
              "      <th>evidence</th>\n",
              "      <th>annotation</th>\n",
              "      <th>interaction_name_2</th>\n",
              "    </tr>\n",
              "  </thead>\n",
              "  <tbody>\n",
              "    <tr>\n",
              "      <th>TGFB1_TGFBR1_TGFBR2</th>\n",
              "      <td>TGFB1_TGFBR1_TGFBR2</td>\n",
              "      <td>TGFb</td>\n",
              "      <td>Tgfb1</td>\n",
              "      <td>TGFbR1_R2</td>\n",
              "      <td>TGFb agonist</td>\n",
              "      <td>TGFb antagonist</td>\n",
              "      <td></td>\n",
              "      <td>TGFb inhibition receptor</td>\n",
              "      <td>KEGG: mmu04350</td>\n",
              "      <td>Secreted Signaling</td>\n",
              "      <td>Tgfb1 - (Tgfbr1+Tgfbr2)</td>\n",
              "    </tr>\n",
              "    <tr>\n",
              "      <th>TGFB2_TGFBR1_TGFBR2</th>\n",
              "      <td>TGFB2_TGFBR1_TGFBR2</td>\n",
              "      <td>TGFb</td>\n",
              "      <td>Tgfb2</td>\n",
              "      <td>TGFbR1_R2</td>\n",
              "      <td>TGFb agonist</td>\n",
              "      <td>TGFb antagonist</td>\n",
              "      <td></td>\n",
              "      <td>TGFb inhibition receptor</td>\n",
              "      <td>KEGG: mmu04350</td>\n",
              "      <td>Secreted Signaling</td>\n",
              "      <td>Tgfb2  - (Tgfbr1+Tgfbr2)</td>\n",
              "    </tr>\n",
              "    <tr>\n",
              "      <th>TGFB3_TGFBR1_TGFBR2</th>\n",
              "      <td>TGFB3_TGFBR1_TGFBR2</td>\n",
              "      <td>TGFb</td>\n",
              "      <td>Tgfb3</td>\n",
              "      <td>TGFbR1_R2</td>\n",
              "      <td>TGFb agonist</td>\n",
              "      <td>TGFb antagonist</td>\n",
              "      <td></td>\n",
              "      <td>TGFb inhibition receptor</td>\n",
              "      <td>KEGG: mmu04350</td>\n",
              "      <td>Secreted Signaling</td>\n",
              "      <td>Tgfb3  - (Tgfbr1+Tgfbr2)</td>\n",
              "    </tr>\n",
              "    <tr>\n",
              "      <th>TGFB1_ACVR1B_TGFBR2</th>\n",
              "      <td>TGFB1_ACVR1B_TGFBR2</td>\n",
              "      <td>TGFb</td>\n",
              "      <td>Tgfb1</td>\n",
              "      <td>ACVR1B_TGFbR2</td>\n",
              "      <td>TGFb agonist</td>\n",
              "      <td>TGFb antagonist</td>\n",
              "      <td></td>\n",
              "      <td>TGFb inhibition receptor</td>\n",
              "      <td>PMID: 27449815</td>\n",
              "      <td>Secreted Signaling</td>\n",
              "      <td>Tgfb1  - (Acvr1b+Tgfbr2)</td>\n",
              "    </tr>\n",
              "    <tr>\n",
              "      <th>TGFB1_ACVR1C_TGFBR2</th>\n",
              "      <td>TGFB1_ACVR1C_TGFBR2</td>\n",
              "      <td>TGFb</td>\n",
              "      <td>Tgfb1</td>\n",
              "      <td>ACVR1C_TGFbR2</td>\n",
              "      <td>TGFb agonist</td>\n",
              "      <td>TGFb antagonist</td>\n",
              "      <td></td>\n",
              "      <td>TGFb inhibition receptor</td>\n",
              "      <td>PMID: 27449815</td>\n",
              "      <td>Secreted Signaling</td>\n",
              "      <td>Tgfb1  - (Acvr1c+Tgfbr2)</td>\n",
              "    </tr>\n",
              "    <tr>\n",
              "      <th>...</th>\n",
              "      <td>...</td>\n",
              "      <td>...</td>\n",
              "      <td>...</td>\n",
              "      <td>...</td>\n",
              "      <td>...</td>\n",
              "      <td>...</td>\n",
              "      <td>...</td>\n",
              "      <td>...</td>\n",
              "      <td>...</td>\n",
              "      <td>...</td>\n",
              "      <td>...</td>\n",
              "    </tr>\n",
              "    <tr>\n",
              "      <th>TIGIT_PVR</th>\n",
              "      <td>TIGIT_PVR</td>\n",
              "      <td>TIGIT</td>\n",
              "      <td>Tigit</td>\n",
              "      <td>Pvr</td>\n",
              "      <td></td>\n",
              "      <td></td>\n",
              "      <td></td>\n",
              "      <td></td>\n",
              "      <td>PMID:24987108</td>\n",
              "      <td>Cell-Cell Contact</td>\n",
              "      <td>Tigit  - Pvr</td>\n",
              "    </tr>\n",
              "    <tr>\n",
              "      <th>ITGA4_ITGB1_VCAM1</th>\n",
              "      <td>ITGA4_ITGB1_VCAM1</td>\n",
              "      <td>VCAM</td>\n",
              "      <td>ITGA4_ITGB1</td>\n",
              "      <td>Vcam1</td>\n",
              "      <td></td>\n",
              "      <td></td>\n",
              "      <td></td>\n",
              "      <td></td>\n",
              "      <td>KEGG: mmu04514</td>\n",
              "      <td>Cell-Cell Contact</td>\n",
              "      <td>Vcam1 - (Itga4+Itgb1)</td>\n",
              "    </tr>\n",
              "    <tr>\n",
              "      <th>ITGA9_ITGB1_VCAM1</th>\n",
              "      <td>ITGA9_ITGB1_VCAM1</td>\n",
              "      <td>VCAM</td>\n",
              "      <td>ITGA9_ITGB1</td>\n",
              "      <td>Vcam1</td>\n",
              "      <td></td>\n",
              "      <td></td>\n",
              "      <td></td>\n",
              "      <td></td>\n",
              "      <td>KEGG: mmu04514</td>\n",
              "      <td>Cell-Cell Contact</td>\n",
              "      <td>Vcam1 - (Itga9+Itgb1)</td>\n",
              "    </tr>\n",
              "    <tr>\n",
              "      <th>ITGA4_ITGB7_VCAM1</th>\n",
              "      <td>ITGA4_ITGB7_VCAM1</td>\n",
              "      <td>VCAM</td>\n",
              "      <td>ITGA4_ITGB7</td>\n",
              "      <td>Vcam1</td>\n",
              "      <td></td>\n",
              "      <td></td>\n",
              "      <td></td>\n",
              "      <td></td>\n",
              "      <td>KEGG: mmu04514</td>\n",
              "      <td>Cell-Cell Contact</td>\n",
              "      <td>Vcam1 - (Itga4+Itgb7)</td>\n",
              "    </tr>\n",
              "    <tr>\n",
              "      <th>VSIR_IGSF11</th>\n",
              "      <td>VSIR_IGSF11</td>\n",
              "      <td>VISTA</td>\n",
              "      <td>Vsir</td>\n",
              "      <td>Igsf11</td>\n",
              "      <td></td>\n",
              "      <td></td>\n",
              "      <td></td>\n",
              "      <td></td>\n",
              "      <td>KEGG: mmu04514</td>\n",
              "      <td>Cell-Cell Contact</td>\n",
              "      <td>Vsir  - Igsf11</td>\n",
              "    </tr>\n",
              "  </tbody>\n",
              "</table>\n",
              "<p>2019 rows × 11 columns</p>\n",
              "</div>"
            ],
            "text/plain": [
              "                        interaction_name pathway_name       ligand  \\\n",
              "TGFB1_TGFBR1_TGFBR2  TGFB1_TGFBR1_TGFBR2         TGFb        Tgfb1   \n",
              "TGFB2_TGFBR1_TGFBR2  TGFB2_TGFBR1_TGFBR2         TGFb        Tgfb2   \n",
              "TGFB3_TGFBR1_TGFBR2  TGFB3_TGFBR1_TGFBR2         TGFb        Tgfb3   \n",
              "TGFB1_ACVR1B_TGFBR2  TGFB1_ACVR1B_TGFBR2         TGFb        Tgfb1   \n",
              "TGFB1_ACVR1C_TGFBR2  TGFB1_ACVR1C_TGFBR2         TGFb        Tgfb1   \n",
              "...                                  ...          ...          ...   \n",
              "TIGIT_PVR                      TIGIT_PVR        TIGIT        Tigit   \n",
              "ITGA4_ITGB1_VCAM1      ITGA4_ITGB1_VCAM1         VCAM  ITGA4_ITGB1   \n",
              "ITGA9_ITGB1_VCAM1      ITGA9_ITGB1_VCAM1         VCAM  ITGA9_ITGB1   \n",
              "ITGA4_ITGB7_VCAM1      ITGA4_ITGB7_VCAM1         VCAM  ITGA4_ITGB7   \n",
              "VSIR_IGSF11                  VSIR_IGSF11        VISTA         Vsir   \n",
              "\n",
              "                          receptor       agonist       antagonist  \\\n",
              "TGFB1_TGFBR1_TGFBR2      TGFbR1_R2  TGFb agonist  TGFb antagonist   \n",
              "TGFB2_TGFBR1_TGFBR2      TGFbR1_R2  TGFb agonist  TGFb antagonist   \n",
              "TGFB3_TGFBR1_TGFBR2      TGFbR1_R2  TGFb agonist  TGFb antagonist   \n",
              "TGFB1_ACVR1B_TGFBR2  ACVR1B_TGFbR2  TGFb agonist  TGFb antagonist   \n",
              "TGFB1_ACVR1C_TGFBR2  ACVR1C_TGFbR2  TGFb agonist  TGFb antagonist   \n",
              "...                            ...           ...              ...   \n",
              "TIGIT_PVR                      Pvr                                  \n",
              "ITGA4_ITGB1_VCAM1            Vcam1                                  \n",
              "ITGA9_ITGB1_VCAM1            Vcam1                                  \n",
              "ITGA4_ITGB7_VCAM1            Vcam1                                  \n",
              "VSIR_IGSF11                 Igsf11                                  \n",
              "\n",
              "                    co_A_receptor             co_I_receptor        evidence  \\\n",
              "TGFB1_TGFBR1_TGFBR2                TGFb inhibition receptor  KEGG: mmu04350   \n",
              "TGFB2_TGFBR1_TGFBR2                TGFb inhibition receptor  KEGG: mmu04350   \n",
              "TGFB3_TGFBR1_TGFBR2                TGFb inhibition receptor  KEGG: mmu04350   \n",
              "TGFB1_ACVR1B_TGFBR2                TGFb inhibition receptor  PMID: 27449815   \n",
              "TGFB1_ACVR1C_TGFBR2                TGFb inhibition receptor  PMID: 27449815   \n",
              "...                           ...                       ...             ...   \n",
              "TIGIT_PVR                                                     PMID:24987108   \n",
              "ITGA4_ITGB1_VCAM1                                            KEGG: mmu04514   \n",
              "ITGA9_ITGB1_VCAM1                                            KEGG: mmu04514   \n",
              "ITGA4_ITGB7_VCAM1                                            KEGG: mmu04514   \n",
              "VSIR_IGSF11                                                  KEGG: mmu04514   \n",
              "\n",
              "                             annotation        interaction_name_2  \n",
              "TGFB1_TGFBR1_TGFBR2  Secreted Signaling   Tgfb1 - (Tgfbr1+Tgfbr2)  \n",
              "TGFB2_TGFBR1_TGFBR2  Secreted Signaling  Tgfb2  - (Tgfbr1+Tgfbr2)  \n",
              "TGFB3_TGFBR1_TGFBR2  Secreted Signaling  Tgfb3  - (Tgfbr1+Tgfbr2)  \n",
              "TGFB1_ACVR1B_TGFBR2  Secreted Signaling  Tgfb1  - (Acvr1b+Tgfbr2)  \n",
              "TGFB1_ACVR1C_TGFBR2  Secreted Signaling  Tgfb1  - (Acvr1c+Tgfbr2)  \n",
              "...                                 ...                       ...  \n",
              "TIGIT_PVR             Cell-Cell Contact              Tigit  - Pvr  \n",
              "ITGA4_ITGB1_VCAM1     Cell-Cell Contact     Vcam1 - (Itga4+Itgb1)  \n",
              "ITGA9_ITGB1_VCAM1     Cell-Cell Contact     Vcam1 - (Itga9+Itgb1)  \n",
              "ITGA4_ITGB7_VCAM1     Cell-Cell Contact     Vcam1 - (Itga4+Itgb7)  \n",
              "VSIR_IGSF11           Cell-Cell Contact            Vsir  - Igsf11  \n",
              "\n",
              "[2019 rows x 11 columns]"
            ]
          },
          "execution_count": 101,
          "metadata": {},
          "output_type": "execute_result"
        }
      ],
      "source": [
        "r[\"load\"](\"CellChatDB.mouse.rda\")\n",
        "\n",
        "ccDB_mouse = r[\"CellChatDB.mouse\"]\n",
        "ccDB_mouse[0]"
      ]
    },
    {
      "cell_type": "code",
      "execution_count": null,
      "metadata": {
        "id": "jpl6eXbnQSaV",
        "outputId": "d68490b2-72a2-4fca-bfef-f255d7a312d2"
      },
      "outputs": [
        {
          "data": {
            "text/html": [
              "<div>\n",
              "<style scoped>\n",
              "    .dataframe tbody tr th:only-of-type {\n",
              "        vertical-align: middle;\n",
              "    }\n",
              "\n",
              "    .dataframe tbody tr th {\n",
              "        vertical-align: top;\n",
              "    }\n",
              "\n",
              "    .dataframe thead th {\n",
              "        text-align: right;\n",
              "    }\n",
              "</style>\n",
              "<table border=\"1\" class=\"dataframe\">\n",
              "  <thead>\n",
              "    <tr style=\"text-align: right;\">\n",
              "      <th></th>\n",
              "      <th>Symbol</th>\n",
              "      <th>Name</th>\n",
              "      <th>EntrezGene.ID</th>\n",
              "      <th>Ensembl.Gene.ID</th>\n",
              "      <th>HomoloGene.ID</th>\n",
              "      <th>HGNC.ID</th>\n",
              "    </tr>\n",
              "  </thead>\n",
              "  <tbody>\n",
              "    <tr>\n",
              "      <th>MGI:87853</th>\n",
              "      <td>a</td>\n",
              "      <td>nonagouti</td>\n",
              "      <td>50518</td>\n",
              "      <td>ENSMUSG00000027596</td>\n",
              "      <td>1264</td>\n",
              "      <td>HGNC:745</td>\n",
              "    </tr>\n",
              "    <tr>\n",
              "      <th>MGI:87854</th>\n",
              "      <td>Pzp</td>\n",
              "      <td>PZP, alpha-2-macroglobulin like</td>\n",
              "      <td>11287</td>\n",
              "      <td>ENSMUSG00000030359</td>\n",
              "      <td>104112</td>\n",
              "      <td>null</td>\n",
              "    </tr>\n",
              "    <tr>\n",
              "      <th>MGI:87859</th>\n",
              "      <td>Abl1</td>\n",
              "      <td>c-abl oncogene 1, non-receptor tyrosine kinase</td>\n",
              "      <td>11350</td>\n",
              "      <td>ENSMUSG00000026842</td>\n",
              "      <td>3783</td>\n",
              "      <td>HGNC:76</td>\n",
              "    </tr>\n",
              "    <tr>\n",
              "      <th>MGI:87860</th>\n",
              "      <td>Abl2</td>\n",
              "      <td>v-abl Abelson murine leukemia viral oncogene 2...</td>\n",
              "      <td>11352</td>\n",
              "      <td>ENSMUSG00000026596</td>\n",
              "      <td>5278</td>\n",
              "      <td>HGNC:77</td>\n",
              "    </tr>\n",
              "    <tr>\n",
              "      <th>MGI:87862</th>\n",
              "      <td>Scgb1b27</td>\n",
              "      <td>secretoglobin, family 1B, member 27</td>\n",
              "      <td>11354</td>\n",
              "      <td>ENSMUSG00000066583</td>\n",
              "      <td>114479</td>\n",
              "      <td>null</td>\n",
              "    </tr>\n",
              "    <tr>\n",
              "      <th>...</th>\n",
              "      <td>...</td>\n",
              "      <td>...</td>\n",
              "      <td>...</td>\n",
              "      <td>...</td>\n",
              "      <td>...</td>\n",
              "      <td>...</td>\n",
              "    </tr>\n",
              "    <tr>\n",
              "      <th>MGI:1913728</th>\n",
              "      <td>Cd99</td>\n",
              "      <td>CD99 antigen</td>\n",
              "      <td>673094</td>\n",
              "      <td></td>\n",
              "      <td>48107</td>\n",
              "      <td>HGNC:7082</td>\n",
              "    </tr>\n",
              "    <tr>\n",
              "      <th>MGI:96876</th>\n",
              "      <td>Klra</td>\n",
              "      <td>killer cell lectin-like receptor, subfamily A</td>\n",
              "      <td>17055</td>\n",
              "      <td></td>\n",
              "      <td></td>\n",
              "      <td>HGNC:6372</td>\n",
              "    </tr>\n",
              "    <tr>\n",
              "      <th>MGI:1891386</th>\n",
              "      <td>Ccl21c</td>\n",
              "      <td>chemokine (C-C motif) ligand 21C (leucine)</td>\n",
              "      <td>111654</td>\n",
              "      <td></td>\n",
              "      <td></td>\n",
              "      <td>HGNC:10620</td>\n",
              "    </tr>\n",
              "    <tr>\n",
              "      <th>MGI:107670</th>\n",
              "      <td>Ifna</td>\n",
              "      <td>interferon alpha</td>\n",
              "      <td>4663</td>\n",
              "      <td></td>\n",
              "      <td></td>\n",
              "      <td></td>\n",
              "    </tr>\n",
              "    <tr>\n",
              "      <th>MGI:109477</th>\n",
              "      <td>Raet1a</td>\n",
              "      <td>retinoic acid early transcript 1, alpha</td>\n",
              "      <td>19368</td>\n",
              "      <td></td>\n",
              "      <td></td>\n",
              "      <td></td>\n",
              "    </tr>\n",
              "  </tbody>\n",
              "</table>\n",
              "<p>45551 rows × 6 columns</p>\n",
              "</div>"
            ],
            "text/plain": [
              "               Symbol                                               Name  \\\n",
              "MGI:87853           a                                          nonagouti   \n",
              "MGI:87854         Pzp                    PZP, alpha-2-macroglobulin like   \n",
              "MGI:87859        Abl1     c-abl oncogene 1, non-receptor tyrosine kinase   \n",
              "MGI:87860        Abl2  v-abl Abelson murine leukemia viral oncogene 2...   \n",
              "MGI:87862    Scgb1b27                secretoglobin, family 1B, member 27   \n",
              "...               ...                                                ...   \n",
              "MGI:1913728      Cd99                                       CD99 antigen   \n",
              "MGI:96876        Klra      killer cell lectin-like receptor, subfamily A   \n",
              "MGI:1891386    Ccl21c         chemokine (C-C motif) ligand 21C (leucine)   \n",
              "MGI:107670       Ifna                                   interferon alpha   \n",
              "MGI:109477     Raet1a            retinoic acid early transcript 1, alpha   \n",
              "\n",
              "             EntrezGene.ID     Ensembl.Gene.ID HomoloGene.ID     HGNC.ID  \n",
              "MGI:87853            50518  ENSMUSG00000027596          1264    HGNC:745  \n",
              "MGI:87854            11287  ENSMUSG00000030359        104112        null  \n",
              "MGI:87859            11350  ENSMUSG00000026842          3783     HGNC:76  \n",
              "MGI:87860            11352  ENSMUSG00000026596          5278     HGNC:77  \n",
              "MGI:87862            11354  ENSMUSG00000066583        114479        null  \n",
              "...                    ...                 ...           ...         ...  \n",
              "MGI:1913728         673094                             48107   HGNC:7082  \n",
              "MGI:96876            17055                                     HGNC:6372  \n",
              "MGI:1891386         111654                                    HGNC:10620  \n",
              "MGI:107670            4663                                                \n",
              "MGI:109477           19368                                                \n",
              "\n",
              "[45551 rows x 6 columns]"
            ]
          },
          "execution_count": 102,
          "metadata": {},
          "output_type": "execute_result"
        }
      ],
      "source": [
        "ccDB_mouse[3]"
      ]
    },
    {
      "cell_type": "code",
      "execution_count": null,
      "metadata": {
        "id": "HZxxKBbUQSaX",
        "outputId": "c94ed0ff-214f-47bd-a159-7d8eae966ea4"
      },
      "outputs": [
        {
          "data": {
            "text/html": [
              "<div>\n",
              "<style scoped>\n",
              "    .dataframe tbody tr th:only-of-type {\n",
              "        vertical-align: middle;\n",
              "    }\n",
              "\n",
              "    .dataframe tbody tr th {\n",
              "        vertical-align: top;\n",
              "    }\n",
              "\n",
              "    .dataframe thead th {\n",
              "        text-align: right;\n",
              "    }\n",
              "</style>\n",
              "<table border=\"1\" class=\"dataframe\">\n",
              "  <thead>\n",
              "    <tr style=\"text-align: right;\">\n",
              "      <th></th>\n",
              "      <th>interaction_name</th>\n",
              "      <th>pathway_name</th>\n",
              "      <th>ligand</th>\n",
              "      <th>receptor</th>\n",
              "      <th>agonist</th>\n",
              "      <th>antagonist</th>\n",
              "      <th>co_A_receptor</th>\n",
              "      <th>co_I_receptor</th>\n",
              "      <th>evidence</th>\n",
              "      <th>annotation</th>\n",
              "      <th>interaction_name_2</th>\n",
              "    </tr>\n",
              "  </thead>\n",
              "  <tbody>\n",
              "    <tr>\n",
              "      <th>TGFB1_TGFBR1_TGFBR2</th>\n",
              "      <td>TGFB1_TGFBR1_TGFBR2</td>\n",
              "      <td>TGFb</td>\n",
              "      <td>Tgfb1</td>\n",
              "      <td>[Tgfbr1, Tgfbr2]</td>\n",
              "      <td>TGFb agonist</td>\n",
              "      <td>TGFb antagonist</td>\n",
              "      <td></td>\n",
              "      <td>TGFb inhibition receptor</td>\n",
              "      <td>KEGG: mmu04350</td>\n",
              "      <td>Secreted Signaling</td>\n",
              "      <td>Tgfb1 - (Tgfbr1+Tgfbr2)</td>\n",
              "    </tr>\n",
              "    <tr>\n",
              "      <th>TGFB2_TGFBR1_TGFBR2</th>\n",
              "      <td>TGFB2_TGFBR1_TGFBR2</td>\n",
              "      <td>TGFb</td>\n",
              "      <td>Tgfb2</td>\n",
              "      <td>[Tgfbr1, Tgfbr2]</td>\n",
              "      <td>TGFb agonist</td>\n",
              "      <td>TGFb antagonist</td>\n",
              "      <td></td>\n",
              "      <td>TGFb inhibition receptor</td>\n",
              "      <td>KEGG: mmu04350</td>\n",
              "      <td>Secreted Signaling</td>\n",
              "      <td>Tgfb2  - (Tgfbr1+Tgfbr2)</td>\n",
              "    </tr>\n",
              "    <tr>\n",
              "      <th>TGFB3_TGFBR1_TGFBR2</th>\n",
              "      <td>TGFB3_TGFBR1_TGFBR2</td>\n",
              "      <td>TGFb</td>\n",
              "      <td>Tgfb3</td>\n",
              "      <td>[Tgfbr1, Tgfbr2]</td>\n",
              "      <td>TGFb agonist</td>\n",
              "      <td>TGFb antagonist</td>\n",
              "      <td></td>\n",
              "      <td>TGFb inhibition receptor</td>\n",
              "      <td>KEGG: mmu04350</td>\n",
              "      <td>Secreted Signaling</td>\n",
              "      <td>Tgfb3  - (Tgfbr1+Tgfbr2)</td>\n",
              "    </tr>\n",
              "    <tr>\n",
              "      <th>TGFB1_ACVR1B_TGFBR2</th>\n",
              "      <td>TGFB1_ACVR1B_TGFBR2</td>\n",
              "      <td>TGFb</td>\n",
              "      <td>Tgfb1</td>\n",
              "      <td>[Acvr1b, Tgfbr2]</td>\n",
              "      <td>TGFb agonist</td>\n",
              "      <td>TGFb antagonist</td>\n",
              "      <td></td>\n",
              "      <td>TGFb inhibition receptor</td>\n",
              "      <td>PMID: 27449815</td>\n",
              "      <td>Secreted Signaling</td>\n",
              "      <td>Tgfb1  - (Acvr1b+Tgfbr2)</td>\n",
              "    </tr>\n",
              "    <tr>\n",
              "      <th>TGFB1_ACVR1C_TGFBR2</th>\n",
              "      <td>TGFB1_ACVR1C_TGFBR2</td>\n",
              "      <td>TGFb</td>\n",
              "      <td>Tgfb1</td>\n",
              "      <td>[Acvr1c, Tgfbr2]</td>\n",
              "      <td>TGFb agonist</td>\n",
              "      <td>TGFb antagonist</td>\n",
              "      <td></td>\n",
              "      <td>TGFb inhibition receptor</td>\n",
              "      <td>PMID: 27449815</td>\n",
              "      <td>Secreted Signaling</td>\n",
              "      <td>Tgfb1  - (Acvr1c+Tgfbr2)</td>\n",
              "    </tr>\n",
              "    <tr>\n",
              "      <th>...</th>\n",
              "      <td>...</td>\n",
              "      <td>...</td>\n",
              "      <td>...</td>\n",
              "      <td>...</td>\n",
              "      <td>...</td>\n",
              "      <td>...</td>\n",
              "      <td>...</td>\n",
              "      <td>...</td>\n",
              "      <td>...</td>\n",
              "      <td>...</td>\n",
              "      <td>...</td>\n",
              "    </tr>\n",
              "    <tr>\n",
              "      <th>TIGIT_PVR</th>\n",
              "      <td>TIGIT_PVR</td>\n",
              "      <td>TIGIT</td>\n",
              "      <td>Tigit</td>\n",
              "      <td>Pvr</td>\n",
              "      <td></td>\n",
              "      <td></td>\n",
              "      <td></td>\n",
              "      <td></td>\n",
              "      <td>PMID:24987108</td>\n",
              "      <td>Cell-Cell Contact</td>\n",
              "      <td>Tigit  - Pvr</td>\n",
              "    </tr>\n",
              "    <tr>\n",
              "      <th>ITGA4_ITGB1_VCAM1</th>\n",
              "      <td>ITGA4_ITGB1_VCAM1</td>\n",
              "      <td>VCAM</td>\n",
              "      <td>Vcam1</td>\n",
              "      <td>[Itga4, Itgb1]</td>\n",
              "      <td></td>\n",
              "      <td></td>\n",
              "      <td></td>\n",
              "      <td></td>\n",
              "      <td>KEGG: mmu04514</td>\n",
              "      <td>Cell-Cell Contact</td>\n",
              "      <td>Vcam1 - (Itga4+Itgb1)</td>\n",
              "    </tr>\n",
              "    <tr>\n",
              "      <th>ITGA9_ITGB1_VCAM1</th>\n",
              "      <td>ITGA9_ITGB1_VCAM1</td>\n",
              "      <td>VCAM</td>\n",
              "      <td>Vcam1</td>\n",
              "      <td>[Itga9, Itgb1]</td>\n",
              "      <td></td>\n",
              "      <td></td>\n",
              "      <td></td>\n",
              "      <td></td>\n",
              "      <td>KEGG: mmu04514</td>\n",
              "      <td>Cell-Cell Contact</td>\n",
              "      <td>Vcam1 - (Itga9+Itgb1)</td>\n",
              "    </tr>\n",
              "    <tr>\n",
              "      <th>ITGA4_ITGB7_VCAM1</th>\n",
              "      <td>ITGA4_ITGB7_VCAM1</td>\n",
              "      <td>VCAM</td>\n",
              "      <td>Vcam1</td>\n",
              "      <td>[Itga4, Itgb7]</td>\n",
              "      <td></td>\n",
              "      <td></td>\n",
              "      <td></td>\n",
              "      <td></td>\n",
              "      <td>KEGG: mmu04514</td>\n",
              "      <td>Cell-Cell Contact</td>\n",
              "      <td>Vcam1 - (Itga4+Itgb7)</td>\n",
              "    </tr>\n",
              "    <tr>\n",
              "      <th>VSIR_IGSF11</th>\n",
              "      <td>VSIR_IGSF11</td>\n",
              "      <td>VISTA</td>\n",
              "      <td>Vsir</td>\n",
              "      <td>Igsf11</td>\n",
              "      <td></td>\n",
              "      <td></td>\n",
              "      <td></td>\n",
              "      <td></td>\n",
              "      <td>KEGG: mmu04514</td>\n",
              "      <td>Cell-Cell Contact</td>\n",
              "      <td>Vsir  - Igsf11</td>\n",
              "    </tr>\n",
              "  </tbody>\n",
              "</table>\n",
              "<p>2019 rows × 11 columns</p>\n",
              "</div>"
            ],
            "text/plain": [
              "                        interaction_name pathway_name ligand  \\\n",
              "TGFB1_TGFBR1_TGFBR2  TGFB1_TGFBR1_TGFBR2         TGFb  Tgfb1   \n",
              "TGFB2_TGFBR1_TGFBR2  TGFB2_TGFBR1_TGFBR2         TGFb  Tgfb2   \n",
              "TGFB3_TGFBR1_TGFBR2  TGFB3_TGFBR1_TGFBR2         TGFb  Tgfb3   \n",
              "TGFB1_ACVR1B_TGFBR2  TGFB1_ACVR1B_TGFBR2         TGFb  Tgfb1   \n",
              "TGFB1_ACVR1C_TGFBR2  TGFB1_ACVR1C_TGFBR2         TGFb  Tgfb1   \n",
              "...                                  ...          ...    ...   \n",
              "TIGIT_PVR                      TIGIT_PVR        TIGIT  Tigit   \n",
              "ITGA4_ITGB1_VCAM1      ITGA4_ITGB1_VCAM1         VCAM  Vcam1   \n",
              "ITGA9_ITGB1_VCAM1      ITGA9_ITGB1_VCAM1         VCAM  Vcam1   \n",
              "ITGA4_ITGB7_VCAM1      ITGA4_ITGB7_VCAM1         VCAM  Vcam1   \n",
              "VSIR_IGSF11                  VSIR_IGSF11        VISTA   Vsir   \n",
              "\n",
              "                             receptor       agonist       antagonist  \\\n",
              "TGFB1_TGFBR1_TGFBR2  [Tgfbr1, Tgfbr2]  TGFb agonist  TGFb antagonist   \n",
              "TGFB2_TGFBR1_TGFBR2  [Tgfbr1, Tgfbr2]  TGFb agonist  TGFb antagonist   \n",
              "TGFB3_TGFBR1_TGFBR2  [Tgfbr1, Tgfbr2]  TGFb agonist  TGFb antagonist   \n",
              "TGFB1_ACVR1B_TGFBR2  [Acvr1b, Tgfbr2]  TGFb agonist  TGFb antagonist   \n",
              "TGFB1_ACVR1C_TGFBR2  [Acvr1c, Tgfbr2]  TGFb agonist  TGFb antagonist   \n",
              "...                               ...           ...              ...   \n",
              "TIGIT_PVR                         Pvr                                  \n",
              "ITGA4_ITGB1_VCAM1      [Itga4, Itgb1]                                  \n",
              "ITGA9_ITGB1_VCAM1      [Itga9, Itgb1]                                  \n",
              "ITGA4_ITGB7_VCAM1      [Itga4, Itgb7]                                  \n",
              "VSIR_IGSF11                    Igsf11                                  \n",
              "\n",
              "                    co_A_receptor             co_I_receptor        evidence  \\\n",
              "TGFB1_TGFBR1_TGFBR2                TGFb inhibition receptor  KEGG: mmu04350   \n",
              "TGFB2_TGFBR1_TGFBR2                TGFb inhibition receptor  KEGG: mmu04350   \n",
              "TGFB3_TGFBR1_TGFBR2                TGFb inhibition receptor  KEGG: mmu04350   \n",
              "TGFB1_ACVR1B_TGFBR2                TGFb inhibition receptor  PMID: 27449815   \n",
              "TGFB1_ACVR1C_TGFBR2                TGFb inhibition receptor  PMID: 27449815   \n",
              "...                           ...                       ...             ...   \n",
              "TIGIT_PVR                                                     PMID:24987108   \n",
              "ITGA4_ITGB1_VCAM1                                            KEGG: mmu04514   \n",
              "ITGA9_ITGB1_VCAM1                                            KEGG: mmu04514   \n",
              "ITGA4_ITGB7_VCAM1                                            KEGG: mmu04514   \n",
              "VSIR_IGSF11                                                  KEGG: mmu04514   \n",
              "\n",
              "                             annotation        interaction_name_2  \n",
              "TGFB1_TGFBR1_TGFBR2  Secreted Signaling   Tgfb1 - (Tgfbr1+Tgfbr2)  \n",
              "TGFB2_TGFBR1_TGFBR2  Secreted Signaling  Tgfb2  - (Tgfbr1+Tgfbr2)  \n",
              "TGFB3_TGFBR1_TGFBR2  Secreted Signaling  Tgfb3  - (Tgfbr1+Tgfbr2)  \n",
              "TGFB1_ACVR1B_TGFBR2  Secreted Signaling  Tgfb1  - (Acvr1b+Tgfbr2)  \n",
              "TGFB1_ACVR1C_TGFBR2  Secreted Signaling  Tgfb1  - (Acvr1c+Tgfbr2)  \n",
              "...                                 ...                       ...  \n",
              "TIGIT_PVR             Cell-Cell Contact              Tigit  - Pvr  \n",
              "ITGA4_ITGB1_VCAM1     Cell-Cell Contact     Vcam1 - (Itga4+Itgb1)  \n",
              "ITGA9_ITGB1_VCAM1     Cell-Cell Contact     Vcam1 - (Itga9+Itgb1)  \n",
              "ITGA4_ITGB7_VCAM1     Cell-Cell Contact     Vcam1 - (Itga4+Itgb7)  \n",
              "VSIR_IGSF11           Cell-Cell Contact            Vsir  - Igsf11  \n",
              "\n",
              "[2019 rows x 11 columns]"
            ]
          },
          "execution_count": 103,
          "metadata": {},
          "output_type": "execute_result"
        }
      ],
      "source": [
        "#Print ligands and receptors\n",
        "dCellChat = ccDB_mouse[0]\n",
        "\n",
        "ligands = [str(x.split(\" - \")[0].strip()) for x in dCellChat[\"interaction_name_2\"]]\n",
        "\n",
        "receptors = [x.split(\" - \")[1][1:-1].strip().split(\"+\") if \"+\" in x \n",
        "                else str(x.split(\" - \")[1].strip()) \n",
        "            for x in dCellChat[\"interaction_name_2\"]]\n",
        "#Nested list for coreceptors, otherwise store as string\n",
        "\n",
        "dCellChat[\"ligand\"] = ligands\n",
        "dCellChat[\"receptor\"] = receptors\n",
        "\n",
        "dCellChat"
      ]
    },
    {
      "cell_type": "code",
      "execution_count": null,
      "metadata": {
        "id": "grM7-TB0QSaa",
        "outputId": "a0aba287-d786-40e5-8c71-699369a6f42a"
      },
      "outputs": [
        {
          "data": {
            "text/html": [
              "<div>\n",
              "<style scoped>\n",
              "    .dataframe tbody tr th:only-of-type {\n",
              "        vertical-align: middle;\n",
              "    }\n",
              "\n",
              "    .dataframe tbody tr th {\n",
              "        vertical-align: top;\n",
              "    }\n",
              "\n",
              "    .dataframe thead th {\n",
              "        text-align: right;\n",
              "    }\n",
              "</style>\n",
              "<table border=\"1\" class=\"dataframe\">\n",
              "  <thead>\n",
              "    <tr style=\"text-align: right;\">\n",
              "      <th></th>\n",
              "      <th>head</th>\n",
              "      <th>relation</th>\n",
              "      <th>tail</th>\n",
              "      <th>pathway</th>\n",
              "    </tr>\n",
              "  </thead>\n",
              "  <tbody>\n",
              "    <tr>\n",
              "      <th>0</th>\n",
              "      <td>Tgfb1</td>\n",
              "      <td>LRinteraction</td>\n",
              "      <td>Tgfbr1</td>\n",
              "      <td>TGFb</td>\n",
              "    </tr>\n",
              "    <tr>\n",
              "      <th>1</th>\n",
              "      <td>Tgfb1</td>\n",
              "      <td>LRinteraction</td>\n",
              "      <td>Tgfbr2</td>\n",
              "      <td>TGFb</td>\n",
              "    </tr>\n",
              "    <tr>\n",
              "      <th>2</th>\n",
              "      <td>Tgfb2</td>\n",
              "      <td>LRinteraction</td>\n",
              "      <td>Tgfbr1</td>\n",
              "      <td>TGFb</td>\n",
              "    </tr>\n",
              "    <tr>\n",
              "      <th>3</th>\n",
              "      <td>Tgfb2</td>\n",
              "      <td>LRinteraction</td>\n",
              "      <td>Tgfbr2</td>\n",
              "      <td>TGFb</td>\n",
              "    </tr>\n",
              "    <tr>\n",
              "      <th>4</th>\n",
              "      <td>Tgfb3</td>\n",
              "      <td>LRinteraction</td>\n",
              "      <td>Tgfbr1</td>\n",
              "      <td>TGFb</td>\n",
              "    </tr>\n",
              "    <tr>\n",
              "      <th>...</th>\n",
              "      <td>...</td>\n",
              "      <td>...</td>\n",
              "      <td>...</td>\n",
              "      <td>...</td>\n",
              "    </tr>\n",
              "    <tr>\n",
              "      <th>2935</th>\n",
              "      <td>Vcam1</td>\n",
              "      <td>LRinteraction</td>\n",
              "      <td>Itga4</td>\n",
              "      <td>VCAM</td>\n",
              "    </tr>\n",
              "    <tr>\n",
              "      <th>2936</th>\n",
              "      <td>Vcam1</td>\n",
              "      <td>LRinteraction</td>\n",
              "      <td>Itgb1</td>\n",
              "      <td>VCAM</td>\n",
              "    </tr>\n",
              "    <tr>\n",
              "      <th>2937</th>\n",
              "      <td>Vcam1</td>\n",
              "      <td>LRinteraction</td>\n",
              "      <td>Itga9</td>\n",
              "      <td>VCAM</td>\n",
              "    </tr>\n",
              "    <tr>\n",
              "      <th>2940</th>\n",
              "      <td>Vcam1</td>\n",
              "      <td>LRinteraction</td>\n",
              "      <td>Itgb7</td>\n",
              "      <td>VCAM</td>\n",
              "    </tr>\n",
              "    <tr>\n",
              "      <th>2941</th>\n",
              "      <td>Vsir</td>\n",
              "      <td>LRinteraction</td>\n",
              "      <td>Igsf11</td>\n",
              "      <td>VISTA</td>\n",
              "    </tr>\n",
              "  </tbody>\n",
              "</table>\n",
              "<p>2063 rows × 4 columns</p>\n",
              "</div>"
            ],
            "text/plain": [
              "       head       relation    tail pathway\n",
              "0     Tgfb1  LRinteraction  Tgfbr1    TGFb\n",
              "1     Tgfb1  LRinteraction  Tgfbr2    TGFb\n",
              "2     Tgfb2  LRinteraction  Tgfbr1    TGFb\n",
              "3     Tgfb2  LRinteraction  Tgfbr2    TGFb\n",
              "4     Tgfb3  LRinteraction  Tgfbr1    TGFb\n",
              "...     ...            ...     ...     ...\n",
              "2935  Vcam1  LRinteraction   Itga4    VCAM\n",
              "2936  Vcam1  LRinteraction   Itgb1    VCAM\n",
              "2937  Vcam1  LRinteraction   Itga9    VCAM\n",
              "2940  Vcam1  LRinteraction   Itgb7    VCAM\n",
              "2941   Vsir  LRinteraction  Igsf11   VISTA\n",
              "\n",
              "[2063 rows x 4 columns]"
            ]
          },
          "execution_count": 104,
          "metadata": {},
          "output_type": "execute_result"
        }
      ],
      "source": [
        "#Pivot longer the correceptors\n",
        "df = []\n",
        "#Apply more efficient parsing than iterrows?\n",
        "for i in dCellChat.iterrows():\n",
        "    if type(i[1][\"receptor\"]) is list: #ONly iterate over lists (coreceptors)\n",
        "        for r in i[1][\"receptor\"]:#i[1] to get data, not index\n",
        "            df.append([i[1][\"ligand\"], \"LRinteraction\", r, \n",
        "                        i[1][\"pathway_name\"]])\n",
        "    else:\n",
        "        df.append([i[1][\"ligand\"], \"LRinteraction\", i[1][\"receptor\"], \n",
        "                    i[1][\"pathway_name\"]])\n",
        "\n",
        "dCellChat = pd.DataFrame(df, \n",
        "                columns=[\"head\",\"relation\",\"tail\",\"pathway\"]\n",
        "                ).drop_duplicates() \n",
        "    #Drop duplicates arising from receptor/coreceptor undefinition\n",
        "dCellChat"
      ]
    },
    {
      "cell_type": "markdown",
      "metadata": {
        "id": "BtqyHdfCQSac"
      },
      "source": [
        "Download STRING database using the following:\n",
        " - Murine: `wget https://stringdb-static.org/download/protein.links.v11.5/10090.protein.links.v11.5.txt.gz`\n",
        " - Human: `wget https://stringdb-static.org/download/protein.links.v11.5/9606.protein.links.v11.5.txt.gz`\n",
        "\n",
        "Don't forget to gunzip afterwards. Also, like with the celllchatDB, this could potentially be automated as a bash pipe."
      ]
    },
    {
      "cell_type": "code",
      "execution_count": null,
      "metadata": {
        "id": "42Ydg_4MQSae",
        "outputId": "dcab0428-45cb-49d8-b11a-7f44a28ff111"
      },
      "outputs": [
        {
          "data": {
            "text/html": [
              "<div>\n",
              "<style scoped>\n",
              "    .dataframe tbody tr th:only-of-type {\n",
              "        vertical-align: middle;\n",
              "    }\n",
              "\n",
              "    .dataframe tbody tr th {\n",
              "        vertical-align: top;\n",
              "    }\n",
              "\n",
              "    .dataframe thead th {\n",
              "        text-align: right;\n",
              "    }\n",
              "</style>\n",
              "<table border=\"1\" class=\"dataframe\">\n",
              "  <thead>\n",
              "    <tr style=\"text-align: right;\">\n",
              "      <th></th>\n",
              "      <th>protein1</th>\n",
              "      <th>protein2</th>\n",
              "      <th>combined_score</th>\n",
              "    </tr>\n",
              "  </thead>\n",
              "  <tbody>\n",
              "    <tr>\n",
              "      <th>0</th>\n",
              "      <td>10090.ENSMUSP00000000001</td>\n",
              "      <td>10090.ENSMUSP00000031145</td>\n",
              "      <td>161</td>\n",
              "    </tr>\n",
              "    <tr>\n",
              "      <th>1</th>\n",
              "      <td>10090.ENSMUSP00000000001</td>\n",
              "      <td>10090.ENSMUSP00000071486</td>\n",
              "      <td>208</td>\n",
              "    </tr>\n",
              "    <tr>\n",
              "      <th>2</th>\n",
              "      <td>10090.ENSMUSP00000000001</td>\n",
              "      <td>10090.ENSMUSP00000119330</td>\n",
              "      <td>183</td>\n",
              "    </tr>\n",
              "    <tr>\n",
              "      <th>3</th>\n",
              "      <td>10090.ENSMUSP00000000001</td>\n",
              "      <td>10090.ENSMUSP00000066449</td>\n",
              "      <td>259</td>\n",
              "    </tr>\n",
              "    <tr>\n",
              "      <th>4</th>\n",
              "      <td>10090.ENSMUSP00000000001</td>\n",
              "      <td>10090.ENSMUSP00000061539</td>\n",
              "      <td>229</td>\n",
              "    </tr>\n",
              "    <tr>\n",
              "      <th>...</th>\n",
              "      <td>...</td>\n",
              "      <td>...</td>\n",
              "      <td>...</td>\n",
              "    </tr>\n",
              "    <tr>\n",
              "      <th>14496353</th>\n",
              "      <td>10090.ENSMUSP00000141183</td>\n",
              "      <td>10090.ENSMUSP00000130793</td>\n",
              "      <td>150</td>\n",
              "    </tr>\n",
              "    <tr>\n",
              "      <th>14496354</th>\n",
              "      <td>10090.ENSMUSP00000141183</td>\n",
              "      <td>10090.ENSMUSP00000135905</td>\n",
              "      <td>150</td>\n",
              "    </tr>\n",
              "    <tr>\n",
              "      <th>14496355</th>\n",
              "      <td>10090.ENSMUSP00000141183</td>\n",
              "      <td>10090.ENSMUSP00000139505</td>\n",
              "      <td>248</td>\n",
              "    </tr>\n",
              "    <tr>\n",
              "      <th>14496356</th>\n",
              "      <td>10090.ENSMUSP00000141183</td>\n",
              "      <td>10090.ENSMUSP00000048340</td>\n",
              "      <td>211</td>\n",
              "    </tr>\n",
              "    <tr>\n",
              "      <th>14496357</th>\n",
              "      <td>10090.ENSMUSP00000141183</td>\n",
              "      <td>10090.ENSMUSP00000043120</td>\n",
              "      <td>199</td>\n",
              "    </tr>\n",
              "  </tbody>\n",
              "</table>\n",
              "<p>14496358 rows × 3 columns</p>\n",
              "</div>"
            ],
            "text/plain": [
              "                          protein1                  protein2  combined_score\n",
              "0         10090.ENSMUSP00000000001  10090.ENSMUSP00000031145             161\n",
              "1         10090.ENSMUSP00000000001  10090.ENSMUSP00000071486             208\n",
              "2         10090.ENSMUSP00000000001  10090.ENSMUSP00000119330             183\n",
              "3         10090.ENSMUSP00000000001  10090.ENSMUSP00000066449             259\n",
              "4         10090.ENSMUSP00000000001  10090.ENSMUSP00000061539             229\n",
              "...                            ...                       ...             ...\n",
              "14496353  10090.ENSMUSP00000141183  10090.ENSMUSP00000130793             150\n",
              "14496354  10090.ENSMUSP00000141183  10090.ENSMUSP00000135905             150\n",
              "14496355  10090.ENSMUSP00000141183  10090.ENSMUSP00000139505             248\n",
              "14496356  10090.ENSMUSP00000141183  10090.ENSMUSP00000048340             211\n",
              "14496357  10090.ENSMUSP00000141183  10090.ENSMUSP00000043120             199\n",
              "\n",
              "[14496358 rows x 3 columns]"
            ]
          },
          "execution_count": 105,
          "metadata": {},
          "output_type": "execute_result"
        }
      ],
      "source": [
        "dSTRING = pd.read_csv(\"murineSTRING.txt\", sep=\" \")\n",
        "dSTRING"
      ]
    },
    {
      "cell_type": "code",
      "execution_count": null,
      "metadata": {
        "id": "NnDIVd3GQSaf",
        "outputId": "1ed81010-2af8-4e0a-c99a-3e126b005830"
      },
      "outputs": [
        {
          "data": {
            "text/plain": [
              "14496358"
            ]
          },
          "execution_count": 106,
          "metadata": {},
          "output_type": "execute_result"
        }
      ],
      "source": [
        "dSTRING.shape[0]"
      ]
    },
    {
      "cell_type": "code",
      "execution_count": null,
      "metadata": {
        "id": "429GxpZKQSag",
        "outputId": "42056773-7617-4ec1-9141-f05926a2d368"
      },
      "outputs": [
        {
          "data": {
            "text/html": [
              "<div>\n",
              "<style scoped>\n",
              "    .dataframe tbody tr th:only-of-type {\n",
              "        vertical-align: middle;\n",
              "    }\n",
              "\n",
              "    .dataframe tbody tr th {\n",
              "        vertical-align: top;\n",
              "    }\n",
              "\n",
              "    .dataframe thead th {\n",
              "        text-align: right;\n",
              "    }\n",
              "</style>\n",
              "<table border=\"1\" class=\"dataframe\">\n",
              "  <thead>\n",
              "    <tr style=\"text-align: right;\">\n",
              "      <th></th>\n",
              "      <th>head</th>\n",
              "      <th>relation</th>\n",
              "      <th>tail</th>\n",
              "    </tr>\n",
              "  </thead>\n",
              "  <tbody>\n",
              "    <tr>\n",
              "      <th>13</th>\n",
              "      <td>ENSMUSP00000000001</td>\n",
              "      <td>FIstring</td>\n",
              "      <td>ENSMUSP00000062392</td>\n",
              "    </tr>\n",
              "    <tr>\n",
              "      <th>49</th>\n",
              "      <td>ENSMUSP00000000001</td>\n",
              "      <td>FIstring</td>\n",
              "      <td>ENSMUSP00000027603</td>\n",
              "    </tr>\n",
              "    <tr>\n",
              "      <th>53</th>\n",
              "      <td>ENSMUSP00000000001</td>\n",
              "      <td>FIstring</td>\n",
              "      <td>ENSMUSP00000029482</td>\n",
              "    </tr>\n",
              "    <tr>\n",
              "      <th>70</th>\n",
              "      <td>ENSMUSP00000000001</td>\n",
              "      <td>FIstring</td>\n",
              "      <td>ENSMUSP00000080162</td>\n",
              "    </tr>\n",
              "    <tr>\n",
              "      <th>86</th>\n",
              "      <td>ENSMUSP00000000001</td>\n",
              "      <td>FIstring</td>\n",
              "      <td>ENSMUSP00000053818</td>\n",
              "    </tr>\n",
              "    <tr>\n",
              "      <th>...</th>\n",
              "      <td>...</td>\n",
              "      <td>...</td>\n",
              "      <td>...</td>\n",
              "    </tr>\n",
              "    <tr>\n",
              "      <th>14495803</th>\n",
              "      <td>ENSMUSP00000141166</td>\n",
              "      <td>FIstring</td>\n",
              "      <td>ENSMUSP00000075242</td>\n",
              "    </tr>\n",
              "    <tr>\n",
              "      <th>14495849</th>\n",
              "      <td>ENSMUSP00000141166</td>\n",
              "      <td>FIstring</td>\n",
              "      <td>ENSMUSP00000029871</td>\n",
              "    </tr>\n",
              "    <tr>\n",
              "      <th>14495897</th>\n",
              "      <td>ENSMUSP00000141166</td>\n",
              "      <td>FIstring</td>\n",
              "      <td>ENSMUSP00000025083</td>\n",
              "    </tr>\n",
              "    <tr>\n",
              "      <th>14495916</th>\n",
              "      <td>ENSMUSP00000141166</td>\n",
              "      <td>FIstring</td>\n",
              "      <td>ENSMUSP00000036438</td>\n",
              "    </tr>\n",
              "    <tr>\n",
              "      <th>14496061</th>\n",
              "      <td>ENSMUSP00000141169</td>\n",
              "      <td>FIstring</td>\n",
              "      <td>ENSMUSP00000057722</td>\n",
              "    </tr>\n",
              "  </tbody>\n",
              "</table>\n",
              "<p>464754 rows × 3 columns</p>\n",
              "</div>"
            ],
            "text/plain": [
              "                        head  relation                tail\n",
              "13        ENSMUSP00000000001  FIstring  ENSMUSP00000062392\n",
              "49        ENSMUSP00000000001  FIstring  ENSMUSP00000027603\n",
              "53        ENSMUSP00000000001  FIstring  ENSMUSP00000029482\n",
              "70        ENSMUSP00000000001  FIstring  ENSMUSP00000080162\n",
              "86        ENSMUSP00000000001  FIstring  ENSMUSP00000053818\n",
              "...                      ...       ...                 ...\n",
              "14495803  ENSMUSP00000141166  FIstring  ENSMUSP00000075242\n",
              "14495849  ENSMUSP00000141166  FIstring  ENSMUSP00000029871\n",
              "14495897  ENSMUSP00000141166  FIstring  ENSMUSP00000025083\n",
              "14495916  ENSMUSP00000141166  FIstring  ENSMUSP00000036438\n",
              "14496061  ENSMUSP00000141169  FIstring  ENSMUSP00000057722\n",
              "\n",
              "[464754 rows x 3 columns]"
            ]
          },
          "execution_count": 107,
          "metadata": {},
          "output_type": "execute_result"
        }
      ],
      "source": [
        "#Make dataframe with (h,r,t) format for high confidence interactions (>700 score)\n",
        "df = dSTRING.loc[dSTRING[\"combined_score\"]>700, [\"protein1\",\"protein2\"]]\n",
        "\n",
        "dSTRING = pd.DataFrame({\"head\": df[\"protein1\"].str.extract(pat=r\"\\.(.+$)\",\n",
        "                                                expand=False),\n",
        "                        \"relation\": np.repeat(\"FIstring\", df.shape[0]),\n",
        "                        \"tail\":df[\"protein2\"].str.extract(pat=r\"\\.(.+$)\",\n",
        "                                                expand=False)\n",
        "                        })\n",
        "dSTRING"
      ]
    },
    {
      "cell_type": "markdown",
      "metadata": {
        "id": "DFUSEN1CQSai"
      },
      "source": [
        "Use biomart to go from ENSEMBL PROTEIN IDs to gene symbols.\n",
        "NO need to get interspecies orthologues as both genes and protein DBs are murine."
      ]
    },
    {
      "cell_type": "code",
      "execution_count": null,
      "metadata": {
        "id": "c5sawbUXQSak"
      },
      "outputs": [],
      "source": [
        "from biomart import BiomartServer"
      ]
    },
    {
      "cell_type": "code",
      "execution_count": null,
      "metadata": {
        "id": "x32-ygIOQSal",
        "outputId": "6d03db9d-94d8-4479-ca41-3eec33b3cdee"
      },
      "outputs": [
        {
          "name": "stdout",
          "output_type": "stream",
          "text": [
            "[BiomartServer:'http://useast.ensembl.org/biomart/martservice'] Fetching datasets\n",
            "[BiomartServer:'http://useast.ensembl.org/biomart/martservice'] Fetching databases\n",
            "[BiomartDatabase:'Ensembl Genes 107'] Fetching datasets\n",
            "[BiomartDatabase:'Mouse strains 107'] Fetching datasets\n",
            "[BiomartDatabase:'Sequence'] Fetching datasets\n",
            "[BiomartDatabase:'Ontology'] Fetching datasets\n",
            "[BiomartDatabase:'Genomic features 107'] Fetching datasets\n",
            "[BiomartDatabase:'Ensembl Variation 107'] Fetching datasets\n",
            "[BiomartDatabase:'Ensembl Regulation 107'] Fetching datasets\n",
            "[BiomartDataset:'mmusculus_gene_ensembl'] Searching using following params:\n",
            "{'attributes': ['ensembl_peptide_id', 'mgi_symbol']}\n",
            "[BiomartDataset:'mmusculus_gene_ensembl'] Fetching attributes\n",
            "[BiomartDataset] search query:\n",
            "b'<Query virtualSchemaName=\"default\" formatter=\"TSV\" header=\"0\" uniqueRows=\"1\" datasetConfigVersion=\"0.6\" count=\"\"><Dataset name=\"mmusculus_gene_ensembl\" interface=\"default\"><Attribute name=\"ensembl_peptide_id\" /><Attribute name=\"mgi_symbol\" /></Dataset></Query>'\n"
          ]
        }
      ],
      "source": [
        "#Function this?\n",
        "\n",
        "server = BiomartServer(\"http://useast.ensembl.org/biomart\")\n",
        "server.verbose = True\n",
        "\n",
        "mart = server.datasets[\"mmusculus_gene_ensembl\"]\n",
        "\n",
        "# #Below gets list of embslID for string nodes, but request fails due to too many items in filter\n",
        "# query_items = list(pd.concat([dSTRING[\"head\"],dSTRING[\"tail\"]]).drop_duplicates())\n",
        "\n",
        "# response = mart.search({\"attributes\":[\"ensembl_peptide_id\",\"mgi_symbol\"],\n",
        "#                         \"filters\": {\"ensembl_peptide_id\":query_items}})\n",
        "# response\n",
        "\n",
        "\n",
        "#Dumb approach\n",
        "response = mart.search({\"attributes\":[\"ensembl_peptide_id\",\"mgi_symbol\"]})\n",
        "\n",
        "transDF = []\n",
        "\n",
        "for line in response.raw.data.decode(\"utf-8\").splitlines():\n",
        "    line = line.split(\"\\t\")\n",
        "    if len(line[0]) > 0: #Only get gene symbols with ENSP ID\n",
        "        transDF.append(line)\n",
        "\n",
        "transDF = pd.DataFrame(transDF, \n",
        "                columns=[\"ensembl_peptide_id\",\"mgi_symbol\"]\n",
        "                ).drop_duplicates() \n"
      ]
    },
    {
      "cell_type": "code",
      "execution_count": null,
      "metadata": {
        "id": "Vm91V3GmQSan",
        "outputId": "b58cb5f6-c7b3-40bc-87ed-5f4695c1f4a3"
      },
      "outputs": [
        {
          "data": {
            "text/html": [
              "<div>\n",
              "<style scoped>\n",
              "    .dataframe tbody tr th:only-of-type {\n",
              "        vertical-align: middle;\n",
              "    }\n",
              "\n",
              "    .dataframe tbody tr th {\n",
              "        vertical-align: top;\n",
              "    }\n",
              "\n",
              "    .dataframe thead th {\n",
              "        text-align: right;\n",
              "    }\n",
              "</style>\n",
              "<table border=\"1\" class=\"dataframe\">\n",
              "  <thead>\n",
              "    <tr style=\"text-align: right;\">\n",
              "      <th></th>\n",
              "      <th>ensembl_peptide_id</th>\n",
              "      <th>mgi_symbol</th>\n",
              "    </tr>\n",
              "  </thead>\n",
              "  <tbody>\n",
              "    <tr>\n",
              "      <th>0</th>\n",
              "      <td>ENSMUSP00000080991</td>\n",
              "      <td>mt-Nd1</td>\n",
              "    </tr>\n",
              "    <tr>\n",
              "      <th>1</th>\n",
              "      <td>ENSMUSP00000080992</td>\n",
              "      <td>mt-Nd2</td>\n",
              "    </tr>\n",
              "    <tr>\n",
              "      <th>2</th>\n",
              "      <td>ENSMUSP00000080993</td>\n",
              "      <td>mt-Co1</td>\n",
              "    </tr>\n",
              "    <tr>\n",
              "      <th>3</th>\n",
              "      <td>ENSMUSP00000080994</td>\n",
              "      <td>mt-Co2</td>\n",
              "    </tr>\n",
              "    <tr>\n",
              "      <th>4</th>\n",
              "      <td>ENSMUSP00000080995</td>\n",
              "      <td>mt-Atp8</td>\n",
              "    </tr>\n",
              "    <tr>\n",
              "      <th>...</th>\n",
              "      <td>...</td>\n",
              "      <td>...</td>\n",
              "    </tr>\n",
              "    <tr>\n",
              "      <th>67147</th>\n",
              "      <td>ENSMUSP00000129592</td>\n",
              "      <td>Ptprj</td>\n",
              "    </tr>\n",
              "    <tr>\n",
              "      <th>67148</th>\n",
              "      <td>ENSMUSP00000159520</td>\n",
              "      <td>Kynu</td>\n",
              "    </tr>\n",
              "    <tr>\n",
              "      <th>67149</th>\n",
              "      <td>ENSMUSP00000028223</td>\n",
              "      <td>Kynu</td>\n",
              "    </tr>\n",
              "    <tr>\n",
              "      <th>67150</th>\n",
              "      <td>ENSMUSP00000108445</td>\n",
              "      <td>Kynu</td>\n",
              "    </tr>\n",
              "    <tr>\n",
              "      <th>67151</th>\n",
              "      <td>ENSMUSP00000061775</td>\n",
              "      <td>Kynu</td>\n",
              "    </tr>\n",
              "  </tbody>\n",
              "</table>\n",
              "<p>67152 rows × 2 columns</p>\n",
              "</div>"
            ],
            "text/plain": [
              "       ensembl_peptide_id mgi_symbol\n",
              "0      ENSMUSP00000080991     mt-Nd1\n",
              "1      ENSMUSP00000080992     mt-Nd2\n",
              "2      ENSMUSP00000080993     mt-Co1\n",
              "3      ENSMUSP00000080994     mt-Co2\n",
              "4      ENSMUSP00000080995    mt-Atp8\n",
              "...                   ...        ...\n",
              "67147  ENSMUSP00000129592      Ptprj\n",
              "67148  ENSMUSP00000159520       Kynu\n",
              "67149  ENSMUSP00000028223       Kynu\n",
              "67150  ENSMUSP00000108445       Kynu\n",
              "67151  ENSMUSP00000061775       Kynu\n",
              "\n",
              "[67152 rows x 2 columns]"
            ]
          },
          "execution_count": 110,
          "metadata": {},
          "output_type": "execute_result"
        }
      ],
      "source": [
        "transDF"
      ]
    },
    {
      "cell_type": "markdown",
      "metadata": {
        "id": "PBR2P1rcQSap"
      },
      "source": [
        "Apply translation dataframe to dSTRING:"
      ]
    },
    {
      "cell_type": "code",
      "execution_count": null,
      "metadata": {
        "id": "oJ08BzarQSaq"
      },
      "outputs": [],
      "source": [
        "transDict = transDF.set_index(\"ensembl_peptide_id\"\n",
        "                ).to_dict(\n",
        "                    #Transform DF into a dictionary but first set index\n",
        "                )[\"mgi_symbol\"]#Nested dict, so get first (and only item)\n",
        "# transDict"
      ]
    },
    {
      "cell_type": "markdown",
      "metadata": {
        "id": "T3AQF1bmQSar"
      },
      "source": [
        "Update dSTRING. Current gene symbol method instroduces NaN:\n",
        "\n",
        "- Remove for now.\n",
        "- Future use ENSBLID for genes and peptides, as we will have 2 types of nodes"
      ]
    },
    {
      "cell_type": "code",
      "execution_count": null,
      "metadata": {
        "id": "H-MiSzwbQSas"
      },
      "outputs": [],
      "source": [
        "dSTRING[\"head\"] = dSTRING[\"head\"].map(transDict)\n",
        "dSTRING[\"tail\"] = dSTRING[\"tail\"].map(transDict)"
      ]
    },
    {
      "cell_type": "code",
      "execution_count": null,
      "metadata": {
        "id": "oaylzlAFQSat",
        "outputId": "1bcdf20a-9a17-4448-fb77-0f2932fbd1de"
      },
      "outputs": [
        {
          "name": "stdout",
          "output_type": "stream",
          "text": [
            "(464754, 3)\n"
          ]
        },
        {
          "data": {
            "text/html": [
              "<div>\n",
              "<style scoped>\n",
              "    .dataframe tbody tr th:only-of-type {\n",
              "        vertical-align: middle;\n",
              "    }\n",
              "\n",
              "    .dataframe tbody tr th {\n",
              "        vertical-align: top;\n",
              "    }\n",
              "\n",
              "    .dataframe thead th {\n",
              "        text-align: right;\n",
              "    }\n",
              "</style>\n",
              "<table border=\"1\" class=\"dataframe\">\n",
              "  <thead>\n",
              "    <tr style=\"text-align: right;\">\n",
              "      <th></th>\n",
              "      <th>head</th>\n",
              "      <th>relation</th>\n",
              "      <th>tail</th>\n",
              "    </tr>\n",
              "  </thead>\n",
              "  <tbody>\n",
              "    <tr>\n",
              "      <th>13</th>\n",
              "      <td>Gnai3</td>\n",
              "      <td>FIstring</td>\n",
              "      <td>Prkca</td>\n",
              "    </tr>\n",
              "    <tr>\n",
              "      <th>49</th>\n",
              "      <td>Gnai3</td>\n",
              "      <td>FIstring</td>\n",
              "      <td>Rgs18</td>\n",
              "    </tr>\n",
              "    <tr>\n",
              "      <th>53</th>\n",
              "      <td>Gnai3</td>\n",
              "      <td>FIstring</td>\n",
              "      <td>Gpsm2</td>\n",
              "    </tr>\n",
              "    <tr>\n",
              "      <th>70</th>\n",
              "      <td>Gnai3</td>\n",
              "      <td>FIstring</td>\n",
              "      <td>Adrb3</td>\n",
              "    </tr>\n",
              "    <tr>\n",
              "      <th>86</th>\n",
              "      <td>Gnai3</td>\n",
              "      <td>FIstring</td>\n",
              "      <td>Gnat2</td>\n",
              "    </tr>\n",
              "    <tr>\n",
              "      <th>...</th>\n",
              "      <td>...</td>\n",
              "      <td>...</td>\n",
              "      <td>...</td>\n",
              "    </tr>\n",
              "    <tr>\n",
              "      <th>14495803</th>\n",
              "      <td>Gm28635</td>\n",
              "      <td>FIstring</td>\n",
              "      <td>Arhgap35</td>\n",
              "    </tr>\n",
              "    <tr>\n",
              "      <th>14495849</th>\n",
              "      <td>Gm28635</td>\n",
              "      <td>FIstring</td>\n",
              "      <td>Cdh17</td>\n",
              "    </tr>\n",
              "    <tr>\n",
              "      <th>14495897</th>\n",
              "      <td>Gm28635</td>\n",
              "      <td>FIstring</td>\n",
              "      <td>Kif5b</td>\n",
              "    </tr>\n",
              "    <tr>\n",
              "      <th>14495916</th>\n",
              "      <td>Gm28635</td>\n",
              "      <td>FIstring</td>\n",
              "      <td>Tjp3</td>\n",
              "    </tr>\n",
              "    <tr>\n",
              "      <th>14496061</th>\n",
              "      <td>Carf</td>\n",
              "      <td>FIstring</td>\n",
              "      <td>Cpa5</td>\n",
              "    </tr>\n",
              "  </tbody>\n",
              "</table>\n",
              "<p>437242 rows × 3 columns</p>\n",
              "</div>"
            ],
            "text/plain": [
              "             head  relation      tail\n",
              "13          Gnai3  FIstring     Prkca\n",
              "49          Gnai3  FIstring     Rgs18\n",
              "53          Gnai3  FIstring     Gpsm2\n",
              "70          Gnai3  FIstring     Adrb3\n",
              "86          Gnai3  FIstring     Gnat2\n",
              "...           ...       ...       ...\n",
              "14495803  Gm28635  FIstring  Arhgap35\n",
              "14495849  Gm28635  FIstring     Cdh17\n",
              "14495897  Gm28635  FIstring     Kif5b\n",
              "14495916  Gm28635  FIstring      Tjp3\n",
              "14496061     Carf  FIstring      Cpa5\n",
              "\n",
              "[437242 rows x 3 columns]"
            ]
          },
          "execution_count": 113,
          "metadata": {},
          "output_type": "execute_result"
        }
      ],
      "source": [
        "print(dSTRING.shape)\n",
        "dSTRING.dropna(inplace=True)\n",
        "dSTRING"
      ]
    },
    {
      "cell_type": "code",
      "execution_count": null,
      "metadata": {
        "id": "6-glU_7dQSav",
        "outputId": "63003eb5-feee-4216-e0fb-574f06a67a18"
      },
      "outputs": [
        {
          "name": "stdout",
          "output_type": "stream",
          "text": [
            "(2063, 4)\n"
          ]
        },
        {
          "data": {
            "text/html": [
              "<div>\n",
              "<style scoped>\n",
              "    .dataframe tbody tr th:only-of-type {\n",
              "        vertical-align: middle;\n",
              "    }\n",
              "\n",
              "    .dataframe tbody tr th {\n",
              "        vertical-align: top;\n",
              "    }\n",
              "\n",
              "    .dataframe thead th {\n",
              "        text-align: right;\n",
              "    }\n",
              "</style>\n",
              "<table border=\"1\" class=\"dataframe\">\n",
              "  <thead>\n",
              "    <tr style=\"text-align: right;\">\n",
              "      <th></th>\n",
              "      <th>head</th>\n",
              "      <th>relation</th>\n",
              "      <th>tail</th>\n",
              "      <th>pathway</th>\n",
              "    </tr>\n",
              "  </thead>\n",
              "  <tbody>\n",
              "    <tr>\n",
              "      <th>0</th>\n",
              "      <td>Tgfb1</td>\n",
              "      <td>LRinteraction</td>\n",
              "      <td>Tgfbr1</td>\n",
              "      <td>TGFb</td>\n",
              "    </tr>\n",
              "    <tr>\n",
              "      <th>1</th>\n",
              "      <td>Tgfb1</td>\n",
              "      <td>LRinteraction</td>\n",
              "      <td>Tgfbr2</td>\n",
              "      <td>TGFb</td>\n",
              "    </tr>\n",
              "    <tr>\n",
              "      <th>2</th>\n",
              "      <td>Tgfb2</td>\n",
              "      <td>LRinteraction</td>\n",
              "      <td>Tgfbr1</td>\n",
              "      <td>TGFb</td>\n",
              "    </tr>\n",
              "    <tr>\n",
              "      <th>3</th>\n",
              "      <td>Tgfb2</td>\n",
              "      <td>LRinteraction</td>\n",
              "      <td>Tgfbr2</td>\n",
              "      <td>TGFb</td>\n",
              "    </tr>\n",
              "    <tr>\n",
              "      <th>4</th>\n",
              "      <td>Tgfb3</td>\n",
              "      <td>LRinteraction</td>\n",
              "      <td>Tgfbr1</td>\n",
              "      <td>TGFb</td>\n",
              "    </tr>\n",
              "    <tr>\n",
              "      <th>...</th>\n",
              "      <td>...</td>\n",
              "      <td>...</td>\n",
              "      <td>...</td>\n",
              "      <td>...</td>\n",
              "    </tr>\n",
              "    <tr>\n",
              "      <th>2935</th>\n",
              "      <td>Vcam1</td>\n",
              "      <td>LRinteraction</td>\n",
              "      <td>Itga4</td>\n",
              "      <td>VCAM</td>\n",
              "    </tr>\n",
              "    <tr>\n",
              "      <th>2936</th>\n",
              "      <td>Vcam1</td>\n",
              "      <td>LRinteraction</td>\n",
              "      <td>Itgb1</td>\n",
              "      <td>VCAM</td>\n",
              "    </tr>\n",
              "    <tr>\n",
              "      <th>2937</th>\n",
              "      <td>Vcam1</td>\n",
              "      <td>LRinteraction</td>\n",
              "      <td>Itga9</td>\n",
              "      <td>VCAM</td>\n",
              "    </tr>\n",
              "    <tr>\n",
              "      <th>2940</th>\n",
              "      <td>Vcam1</td>\n",
              "      <td>LRinteraction</td>\n",
              "      <td>Itgb7</td>\n",
              "      <td>VCAM</td>\n",
              "    </tr>\n",
              "    <tr>\n",
              "      <th>2941</th>\n",
              "      <td>Vsir</td>\n",
              "      <td>LRinteraction</td>\n",
              "      <td>Igsf11</td>\n",
              "      <td>VISTA</td>\n",
              "    </tr>\n",
              "  </tbody>\n",
              "</table>\n",
              "<p>2063 rows × 4 columns</p>\n",
              "</div>"
            ],
            "text/plain": [
              "       head       relation    tail pathway\n",
              "0     Tgfb1  LRinteraction  Tgfbr1    TGFb\n",
              "1     Tgfb1  LRinteraction  Tgfbr2    TGFb\n",
              "2     Tgfb2  LRinteraction  Tgfbr1    TGFb\n",
              "3     Tgfb2  LRinteraction  Tgfbr2    TGFb\n",
              "4     Tgfb3  LRinteraction  Tgfbr1    TGFb\n",
              "...     ...            ...     ...     ...\n",
              "2935  Vcam1  LRinteraction   Itga4    VCAM\n",
              "2936  Vcam1  LRinteraction   Itgb1    VCAM\n",
              "2937  Vcam1  LRinteraction   Itga9    VCAM\n",
              "2940  Vcam1  LRinteraction   Itgb7    VCAM\n",
              "2941   Vsir  LRinteraction  Igsf11   VISTA\n",
              "\n",
              "[2063 rows x 4 columns]"
            ]
          },
          "execution_count": 114,
          "metadata": {},
          "output_type": "execute_result"
        }
      ],
      "source": [
        "print(dCellChat.shape)\n",
        "dCellChat.dropna(inplace=True)\n",
        "dCellChat"
      ]
    },
    {
      "cell_type": "markdown",
      "metadata": {
        "id": "rIAoGOKAQSaw"
      },
      "source": [
        "Save processed database, individually and as one."
      ]
    },
    {
      "cell_type": "code",
      "execution_count": null,
      "metadata": {
        "id": "OqNwnb5UQSax"
      },
      "outputs": [],
      "source": [
        "dSTRING.to_csv(\"dSTRING.tsv\", sep=\"\\t\", index=False)\n",
        "dCellChat.to_csv(\"dCellChat.tsv\", sep=\"\\t\", index=False)"
      ]
    },
    {
      "cell_type": "code",
      "execution_count": null,
      "metadata": {
        "id": "b2oknoyYQSay",
        "outputId": "1b47809e-942f-483f-844d-e9c5e7342289"
      },
      "outputs": [
        {
          "data": {
            "text/html": [
              "<div>\n",
              "<style scoped>\n",
              "    .dataframe tbody tr th:only-of-type {\n",
              "        vertical-align: middle;\n",
              "    }\n",
              "\n",
              "    .dataframe tbody tr th {\n",
              "        vertical-align: top;\n",
              "    }\n",
              "\n",
              "    .dataframe thead th {\n",
              "        text-align: right;\n",
              "    }\n",
              "</style>\n",
              "<table border=\"1\" class=\"dataframe\">\n",
              "  <thead>\n",
              "    <tr style=\"text-align: right;\">\n",
              "      <th></th>\n",
              "      <th>head</th>\n",
              "      <th>relation</th>\n",
              "      <th>tail</th>\n",
              "      <th>pathway</th>\n",
              "    </tr>\n",
              "  </thead>\n",
              "  <tbody>\n",
              "    <tr>\n",
              "      <th>0</th>\n",
              "      <td>Tgfb1</td>\n",
              "      <td>LRinteraction</td>\n",
              "      <td>Tgfbr1</td>\n",
              "      <td>TGFb</td>\n",
              "    </tr>\n",
              "    <tr>\n",
              "      <th>1</th>\n",
              "      <td>Tgfb1</td>\n",
              "      <td>LRinteraction</td>\n",
              "      <td>Tgfbr2</td>\n",
              "      <td>TGFb</td>\n",
              "    </tr>\n",
              "    <tr>\n",
              "      <th>2</th>\n",
              "      <td>Tgfb2</td>\n",
              "      <td>LRinteraction</td>\n",
              "      <td>Tgfbr1</td>\n",
              "      <td>TGFb</td>\n",
              "    </tr>\n",
              "    <tr>\n",
              "      <th>3</th>\n",
              "      <td>Tgfb2</td>\n",
              "      <td>LRinteraction</td>\n",
              "      <td>Tgfbr2</td>\n",
              "      <td>TGFb</td>\n",
              "    </tr>\n",
              "    <tr>\n",
              "      <th>4</th>\n",
              "      <td>Tgfb3</td>\n",
              "      <td>LRinteraction</td>\n",
              "      <td>Tgfbr1</td>\n",
              "      <td>TGFb</td>\n",
              "    </tr>\n",
              "    <tr>\n",
              "      <th>...</th>\n",
              "      <td>...</td>\n",
              "      <td>...</td>\n",
              "      <td>...</td>\n",
              "      <td>...</td>\n",
              "    </tr>\n",
              "    <tr>\n",
              "      <th>14495803</th>\n",
              "      <td>Gm28635</td>\n",
              "      <td>FIstring</td>\n",
              "      <td>Arhgap35</td>\n",
              "      <td>NaN</td>\n",
              "    </tr>\n",
              "    <tr>\n",
              "      <th>14495849</th>\n",
              "      <td>Gm28635</td>\n",
              "      <td>FIstring</td>\n",
              "      <td>Cdh17</td>\n",
              "      <td>NaN</td>\n",
              "    </tr>\n",
              "    <tr>\n",
              "      <th>14495897</th>\n",
              "      <td>Gm28635</td>\n",
              "      <td>FIstring</td>\n",
              "      <td>Kif5b</td>\n",
              "      <td>NaN</td>\n",
              "    </tr>\n",
              "    <tr>\n",
              "      <th>14495916</th>\n",
              "      <td>Gm28635</td>\n",
              "      <td>FIstring</td>\n",
              "      <td>Tjp3</td>\n",
              "      <td>NaN</td>\n",
              "    </tr>\n",
              "    <tr>\n",
              "      <th>14496061</th>\n",
              "      <td>Carf</td>\n",
              "      <td>FIstring</td>\n",
              "      <td>Cpa5</td>\n",
              "      <td>NaN</td>\n",
              "    </tr>\n",
              "  </tbody>\n",
              "</table>\n",
              "<p>439026 rows × 4 columns</p>\n",
              "</div>"
            ],
            "text/plain": [
              "             head       relation      tail pathway\n",
              "0           Tgfb1  LRinteraction    Tgfbr1    TGFb\n",
              "1           Tgfb1  LRinteraction    Tgfbr2    TGFb\n",
              "2           Tgfb2  LRinteraction    Tgfbr1    TGFb\n",
              "3           Tgfb2  LRinteraction    Tgfbr2    TGFb\n",
              "4           Tgfb3  LRinteraction    Tgfbr1    TGFb\n",
              "...           ...            ...       ...     ...\n",
              "14495803  Gm28635       FIstring  Arhgap35     NaN\n",
              "14495849  Gm28635       FIstring     Cdh17     NaN\n",
              "14495897  Gm28635       FIstring     Kif5b     NaN\n",
              "14495916  Gm28635       FIstring      Tjp3     NaN\n",
              "14496061     Carf       FIstring      Cpa5     NaN\n",
              "\n",
              "[439026 rows x 4 columns]"
            ]
          },
          "execution_count": 173,
          "metadata": {},
          "output_type": "execute_result"
        }
      ],
      "source": [
        "dINT = pd.concat([dCellChat, dSTRING]).drop_duplicates()\n",
        "dINT"
      ]
    },
    {
      "cell_type": "code",
      "execution_count": null,
      "metadata": {
        "id": "3SE-qAecQSa0"
      },
      "outputs": [],
      "source": [
        "dINT.to_csv(\"dINT.tsv\", sep=\"\\t\", index=False)\n",
        "#BEWARE of header being save. If imported directly into pykeen it will think there's extra nodes/relations"
      ]
    },
    {
      "cell_type": "code",
      "execution_count": null,
      "metadata": {
        "id": "GMH6josQQSa1"
      },
      "outputs": [],
      "source": [
        "dINT.drop(\"pathway\", axis=1).drop_duplicates().to_csv(\"dINT_simpl.tsv\", sep=\"\\t\", index=False, header=False)"
      ]
    },
    {
      "cell_type": "markdown",
      "metadata": {
        "id": "ED-BXHJfQSa2"
      },
      "source": [
        "# Constructing the Knowledge Graph Embedding"
      ]
    },
    {
      "cell_type": "code",
      "execution_count": null,
      "metadata": {
        "id": "iCEct4n1QSa3"
      },
      "outputs": [],
      "source": [
        "from pykeen.pipeline import pipeline\n",
        "from pykeen.triples import TriplesFactory"
      ]
    },
    {
      "cell_type": "markdown",
      "metadata": {
        "id": "pc9lJdfMQSa4"
      },
      "source": [
        "Use train/test and validation splits for early stopping"
      ]
    },
    {
      "cell_type": "code",
      "execution_count": null,
      "metadata": {
        "id": "hUw-fKtqQSa5",
        "outputId": "a9848315-39cf-47b1-d2ac-4bcadb888fa6"
      },
      "outputs": [
        {
          "data": {
            "text/plain": [
              "TriplesFactory(num_entities=16232, num_relations=2, create_inverse_triples=False, num_triples=439023, path=\"/Users/ferran/PhD/yaleCollab/dINT_simpl.tsv\")"
            ]
          },
          "execution_count": 37,
          "metadata": {},
          "output_type": "execute_result"
        }
      ],
      "source": [
        "path2Data = \"dINT_simpl.tsv\"\n",
        "\n",
        "tf = TriplesFactory.from_path(path2Data)\n",
        "tf"
      ]
    },
    {
      "cell_type": "code",
      "execution_count": null,
      "metadata": {
        "id": "bwj2KUgZQSa7"
      },
      "outputs": [],
      "source": [
        "print(tf.mapped_triples)\n",
        "print(tf.mapped_triples.numpy().shape)\n",
        "print(len(tf.entity_id_to_label))\n",
        "# tf.entity_id_to_label"
      ]
    },
    {
      "cell_type": "code",
      "execution_count": null,
      "metadata": {
        "id": "O_9CkbnyQSa8",
        "outputId": "0d08d157-0bd5-4057-c173-af2b5f255bdb"
      },
      "outputs": [
        {
          "name": "stdout",
          "output_type": "stream",
          "text": [
            "1\n"
          ]
        }
      ],
      "source": [
        "for k,v in tf.entity_id_to_label.items():\n",
        "    if v == \"0610009B22Rik\":\n",
        "        print(k)"
      ]
    },
    {
      "cell_type": "code",
      "execution_count": null,
      "metadata": {
        "id": "msqyjKBrQSa9"
      },
      "outputs": [],
      "source": [
        "import json\n",
        "\n",
        "with open(\"entityIDS.json\",\"w\") as outf:\n",
        "    json.dump(tf.entity_id_to_label, outf)"
      ]
    },
    {
      "cell_type": "markdown",
      "metadata": {
        "id": "deuMye8QQSbF"
      },
      "source": [
        "## Use defaults and 50 dimensional embedding spaces"
      ]
    },
    {
      "cell_type": "code",
      "execution_count": null,
      "metadata": {
        "id": "ZPXN1LC3QSbH",
        "outputId": "a253db72-fcb3-4820-d8f0-6e1b0197ac71"
      },
      "outputs": [
        {
          "name": "stderr",
          "output_type": "stream",
          "text": [
            "WARNING:pykeen.utils:using automatically assigned random_state=1018377381\n",
            "INFO:pykeen.triples.splitting:done splitting triples to groups of sizes [334990, 43902, 43903]\n",
            "WARNING:pykeen.utils:No cuda devices were available. The model runs on CPU\n",
            "INFO:pykeen.pipeline.api:Using device: None\n",
            "INFO:pykeen.stoppers.early_stopping:Inferred checkpoint path for best model weights: /Users/ferran/.data/pykeen/checkpoints/best-model-weights-0f49fa89-4868-48b5-9370-7e6bd88ebd65.pt\n",
            "Training epochs on cpu:  90%|█████████ | 9/10 [02:11<00:13, 13.25s/epoch, loss=0.0195, prev_loss=0.0212]INFO:pykeen.evaluation.evaluator:Currently automatic memory optimization only supports GPUs, but you're using a CPU. Therefore, the batch_size will be set to the default value.\n",
            "INFO:pykeen.evaluation.evaluator:No evaluation batch_size provided. Setting batch_size to '32'.\n",
            "INFO:pykeen.evaluation.evaluator:Evaluation took 338.67s seconds\n",
            "INFO:pykeen.stoppers.early_stopping:New best result at epoch 10: 0.35280049199371344. Saved model weights to /Users/ferran/.data/pykeen/checkpoints/best-model-weights-0f49fa89-4868-48b5-9370-7e6bd88ebd65.pt\n",
            "INFO:pykeen.training.training_loop:=> Saved checkpoint after having finished epoch 10.\n",
            "Training epochs on cpu: 100%|██████████| 10/10 [07:50<00:00, 47.05s/epoch, loss=0.0195, prev_loss=0.0212] \n",
            "INFO:pykeen.evaluation.evaluator:Currently automatic memory optimization only supports GPUs, but you're using a CPU. Therefore, the batch_size will be set to the default value.\n",
            "INFO:pykeen.evaluation.evaluator:No evaluation batch_size provided. Setting batch_size to '32'.\n",
            "Evaluating on cpu: 100%|██████████| 43.9k/43.9k [05:52<00:00, 124triple/s]\n",
            "INFO:pykeen.evaluation.evaluator:Evaluation took 353.51s seconds\n",
            "INFO:pykeen.triples.triples_factory:Stored TriplesFactory(num_entities=16232, num_relations=2, create_inverse_triples=False, num_triples=351218, path=\"/Users/ferran/PhD/yaleCollab/dINT_simpl.tsv\") to file:///Users/ferran/PhD/yaleCollab/one50_unstratified_stopped_transe/training_triples\n",
            "INFO:pykeen.pipeline.api:Saved to directory: file:///Users/ferran/PhD/yaleCollab/one50_unstratified_stopped_transe\n"
          ]
        },
        {
          "name": "stdout",
          "output_type": "stream",
          "text": [
            "CPU times: user 12min 35s, sys: 1min 11s, total: 13min 47s\n",
            "Wall time: 13min 46s\n"
          ]
        }
      ],
      "source": [
        "%%time\n",
        "\n",
        "training, testing, validation = tf.split([.8, .1, .1])\n",
        "\n",
        "result = pipeline(\n",
        "    training=training,\n",
        "    testing=testing,\n",
        "    validation=validation,\n",
        "    model=\"TransE\",\n",
        "    model_kwargs=dict(embedding_dim=50),\n",
        "    training_loop='sLCWA',\n",
        "    negative_sampler='basic',\n",
        "    stopper=\"early\",\n",
        "    random_seed=42,\n",
        "    epochs=10,  # short epochs for testing - you should go\n",
        "                # higher, especially with early stopper enabled\n",
        "                \n",
        ")\n",
        "\n",
        "result.save_to_directory(\"one50_unstratified_stopped_transe\")"
      ]
    },
    {
      "cell_type": "code",
      "execution_count": null,
      "metadata": {
        "id": "TuepEnJdQSbJ",
        "outputId": "d06b0e85-67f1-4621-d483-988b68979e10"
      },
      "outputs": [
        {
          "name": "stdout",
          "output_type": "stream",
          "text": [
            "TransE(\n",
            "  (loss): MarginRankingLoss(\n",
            "    (margin_activation): ReLU()\n",
            "  )\n",
            "  (interaction): TransEInteraction()\n",
            "  (entity_representations): ModuleList(\n",
            "    (0): Embedding(\n",
            "      (_embeddings): Embedding(16232, 50)\n",
            "    )\n",
            "  )\n",
            "  (relation_representations): ModuleList(\n",
            "    (0): Embedding(\n",
            "      (_embeddings): Embedding(2, 50)\n",
            "    )\n",
            "  )\n",
            "  (weight_regularizers): ModuleList()\n",
            ")\n"
          ]
        },
        {
          "data": {
            "text/plain": [
              "<AxesSubplot:title={'center':'Losses Plot'}, xlabel='Epoch', ylabel='marginranking Loss'>"
            ]
          },
          "execution_count": 56,
          "metadata": {},
          "output_type": "execute_result"
        },
        {
          "data": {
            "image/png": "[encoded data removed]",
            "text/plain": [
              "<Figure size 432x288 with 1 Axes>"
            ]
          },
          "metadata": {},
          "output_type": "display_data"
        }
      ],
      "source": [
        "#model used TransE has only one representation for entities and relations, \n",
        "# so modules objects will be of length 1\n",
        "print(result.model)\n",
        "result.plot_losses()\n",
        "# result.plot_early_stopping()"
      ]
    },
    {
      "cell_type": "code",
      "execution_count": null,
      "metadata": {
        "id": "HtnFXNnXQSbL"
      },
      "outputs": [],
      "source": [
        "from typing import List\n",
        "import pykeen.nn\n",
        "\n",
        "entity_representation_modules: List['pykeen.nn.Representation'] = result.model.entity_representations\n",
        "relation_representation_modules: List['pykeen.nn.Representation'] = result.model.relation_representations"
      ]
    },
    {
      "cell_type": "code",
      "execution_count": null,
      "metadata": {
        "id": "Z0MTGnwsQSbM"
      },
      "outputs": [],
      "source": [
        "entity_embeddings: pykeen.nn.Embedding = entity_representation_modules[0]\n",
        "relation_embeddings: pykeen.nn.Embedding = relation_representation_modules[0]"
      ]
    },
    {
      "cell_type": "code",
      "execution_count": null,
      "metadata": {
        "id": "MwzX_okUQSbN",
        "outputId": "2b810af8-304a-42db-d2e8-ee6f84a7f67b"
      },
      "outputs": [
        {
          "name": "stdout",
          "output_type": "stream",
          "text": [
            "Embedding(\n",
            "  (_embeddings): Embedding(16232, 50)\n",
            ")\n",
            "Embedding(\n",
            "  (_embeddings): Embedding(2, 50)\n",
            ")\n"
          ]
        }
      ],
      "source": [
        "print(entity_embeddings)\n",
        "print(relation_embeddings)"
      ]
    },
    {
      "cell_type": "code",
      "execution_count": null,
      "metadata": {
        "id": "o0NKyu7-QSbP"
      },
      "outputs": [],
      "source": [
        "#Access embeddings by index (default arg returns all)\n",
        "entity_embedding_tensor: torch.FloatTensor = entity_embeddings(indices=None)\n",
        "relation_embedding_tensor: torch.FloatTensor = relation_embeddings(indices=None)"
      ]
    },
    {
      "cell_type": "code",
      "execution_count": null,
      "metadata": {
        "id": "MS-4iTR6QSbQ",
        "outputId": "9b74a089-2f4d-432a-e00b-8114dd2d2bb0"
      },
      "outputs": [
        {
          "name": "stdout",
          "output_type": "stream",
          "text": [
            "We have 16232 entities embedded on 50 dimensions\n",
            "We have 2 relations embedded on 50 dimensions\n"
          ]
        }
      ],
      "source": [
        "entcount = 0\n",
        "for i in entity_embedding_tensor:\n",
        "    entcount+=1\n",
        "print(f\"We have {entcount} entities embedded on {len(i)} dimensions\")\n",
        "\n",
        "relcount = 0\n",
        "for i in relation_embedding_tensor:\n",
        "    relcount+=1\n",
        "print(f\"We have {relcount} relations embedded on {len(i)} dimensions\")"
      ]
    },
    {
      "cell_type": "markdown",
      "metadata": {
        "id": "8xTfxN13QSbS"
      },
      "source": [
        "I don't understand why we have 3 types of relations, when the input data should only have 2!:\n",
        "\n",
        "* FIXED!: THis was happening because I forgot to rmv the header...."
      ]
    },
    {
      "cell_type": "code",
      "execution_count": null,
      "metadata": {
        "id": "HvnVWEjwQSbT",
        "outputId": "062fdc72-94fa-4de9-a83b-860ee4f8c061"
      },
      "outputs": [
        {
          "data": {
            "text/plain": [
              "array(['LRinteraction', 'FIstring'], dtype=object)"
            ]
          },
          "execution_count": 190,
          "metadata": {},
          "output_type": "execute_result"
        }
      ],
      "source": [
        "dINT[\"relation\"].unique()"
      ]
    },
    {
      "cell_type": "markdown",
      "metadata": {
        "id": "vjcBgxQGQSbU"
      },
      "source": [
        "Model should have been saved within one50... dir.\n",
        "For future uses during development,  reload this default model. Later on, once we have added our own data or if prelim results are unsatisfactory, optimize methods and hyperparam."
      ]
    },
    {
      "cell_type": "markdown",
      "metadata": {
        "id": "KgVOyPHLQSbV"
      },
      "source": [
        "# DR, clustering and visualisation"
      ]
    },
    {
      "cell_type": "markdown",
      "metadata": {
        "id": "QkAps85zQSbW"
      },
      "source": [
        "Now that we have a 50D KGE representing our data we can apply DR to generate a 2D space on which to visualise the entitites/nodes.\n",
        "\n",
        "> From [pykeen docs](https://pykeen.readthedocs.io/en/stable/tutorial/translational_toy_example.html)\n",
        "\n",
        ">*There was a lot of interesting follow-up discussion at !99 during which this code was implemented for re-use. One of the interesting points is that the relation plot is only applicable for translational distance models like TransE. Further, when models whose embeddings are higher than 2, a dimensionality reduction method must be used. For this, one of many of the tools from scikit-learn can be chosen. However, to make sure that the entities and relations are projected on the same axis, the dimensionality reduction model is first trained on the entity embeddings, then applied on both the entity embeddings and relation embeddings. Further, non-linear models like KPCA should not be used when plotting relations, since these _should_ correspond to linear transformations in embedding space.*\n",
        "\n",
        "Furthermore, we should be able to cluster them and colour by cluster too. Hopefully there should be some overlap btwn the unsupervised clusters and pathway (biological/functional) annotations"
      ]
    },
    {
      "cell_type": "code",
      "execution_count": null,
      "metadata": {
        "id": "-fmY7SBvQSbY",
        "outputId": "93ad6463-bb96-4e08-b5e4-06cdc9d3f972"
      },
      "outputs": [
        {
          "data": {
            "text/plain": [
              "TransE(\n",
              "  (loss): MarginRankingLoss(\n",
              "    (margin_activation): ReLU()\n",
              "  )\n",
              "  (interaction): TransEInteraction()\n",
              "  (entity_representations): ModuleList(\n",
              "    (0): Embedding(\n",
              "      (_embeddings): Embedding(16232, 50)\n",
              "    )\n",
              "  )\n",
              "  (relation_representations): ModuleList(\n",
              "    (0): Embedding(\n",
              "      (_embeddings): Embedding(2, 50)\n",
              "    )\n",
              "  )\n",
              "  (weight_regularizers): ModuleList()\n",
              ")"
            ]
          },
          "execution_count": 13,
          "metadata": {},
          "output_type": "execute_result"
        }
      ],
      "source": [
        "trained_model = torch.load(\"one50_unstratified_stopped_transe/trained_model.pkl\")\n",
        "trained_model"
      ]
    },
    {
      "cell_type": "code",
      "execution_count": null,
      "metadata": {
        "id": "bHrfsxILQSba",
        "outputId": "3582ffa3-87cf-4557-eeb9-47295f712750"
      },
      "outputs": [
        {
          "data": {
            "text/plain": [
              "array([[ 0.019457  ,  0.08779304,  0.07596195, ..., -0.03821058,\n",
              "        -0.21000484, -0.19302951],\n",
              "       [ 0.05486259,  0.13551868, -0.08792026, ..., -0.17098741,\n",
              "        -0.09818703,  0.19641729],\n",
              "       [ 0.12717593,  0.003318  ,  0.07573958, ...,  0.00599198,\n",
              "        -0.12838149,  0.02735348],\n",
              "       ...,\n",
              "       [ 0.01967096, -0.25154817,  0.09352905, ...,  0.09732759,\n",
              "        -0.00295671, -0.05159178],\n",
              "       [ 0.24381754, -0.09071688,  0.12558883, ...,  0.13016768,\n",
              "        -0.00063644,  0.09144283],\n",
              "       [ 0.09037016, -0.23543361,  0.09393445, ...,  0.15796362,\n",
              "        -0.00540877,  0.00322125]], dtype=float32)"
            ]
          },
          "execution_count": 14,
          "metadata": {},
          "output_type": "execute_result"
        }
      ],
      "source": [
        "#Construct nodes dataframe: detach() for now is meaningless as compute is CPU\n",
        "\n",
        "entity_embeddings = trained_model.entity_representations[0](indices=None).detach().numpy()\n",
        "entity_embeddings"
      ]
    },
    {
      "cell_type": "markdown",
      "metadata": {
        "id": "KbsChfYVQSbb"
      },
      "source": [
        "To access a map of entities and relations to ID we must use the TriplesFactory object, so plz save it mate!"
      ]
    },
    {
      "cell_type": "code",
      "execution_count": null,
      "metadata": {
        "id": "-AscvO7xQSbc"
      },
      "outputs": [],
      "source": [
        "import json\n",
        "\n",
        "with open(\"entityIDS.json\") as infile:\n",
        "    entityIDS = json.load(infile)\n",
        "\n",
        "# entityIDS"
      ]
    },
    {
      "cell_type": "code",
      "execution_count": null,
      "metadata": {
        "id": "E_w77dXaQSbd",
        "outputId": "db861f0b-c118-4653-ec11-d88c91feae49"
      },
      "outputs": [
        {
          "data": {
            "text/html": [
              "<div>\n",
              "<style scoped>\n",
              "    .dataframe tbody tr th:only-of-type {\n",
              "        vertical-align: middle;\n",
              "    }\n",
              "\n",
              "    .dataframe tbody tr th {\n",
              "        vertical-align: top;\n",
              "    }\n",
              "\n",
              "    .dataframe thead th {\n",
              "        text-align: right;\n",
              "    }\n",
              "</style>\n",
              "<table border=\"1\" class=\"dataframe\">\n",
              "  <thead>\n",
              "    <tr style=\"text-align: right;\">\n",
              "      <th></th>\n",
              "      <th>0</th>\n",
              "      <th>1</th>\n",
              "      <th>2</th>\n",
              "      <th>3</th>\n",
              "      <th>4</th>\n",
              "      <th>5</th>\n",
              "      <th>6</th>\n",
              "      <th>7</th>\n",
              "      <th>8</th>\n",
              "      <th>9</th>\n",
              "      <th>...</th>\n",
              "      <th>40</th>\n",
              "      <th>41</th>\n",
              "      <th>42</th>\n",
              "      <th>43</th>\n",
              "      <th>44</th>\n",
              "      <th>45</th>\n",
              "      <th>46</th>\n",
              "      <th>47</th>\n",
              "      <th>48</th>\n",
              "      <th>49</th>\n",
              "    </tr>\n",
              "  </thead>\n",
              "  <tbody>\n",
              "    <tr>\n",
              "      <th></th>\n",
              "      <td>0.019457</td>\n",
              "      <td>0.087793</td>\n",
              "      <td>0.075962</td>\n",
              "      <td>-0.207849</td>\n",
              "      <td>0.119941</td>\n",
              "      <td>0.083714</td>\n",
              "      <td>0.031919</td>\n",
              "      <td>-0.177164</td>\n",
              "      <td>0.168293</td>\n",
              "      <td>-0.235517</td>\n",
              "      <td>...</td>\n",
              "      <td>-0.081181</td>\n",
              "      <td>-0.087506</td>\n",
              "      <td>0.289390</td>\n",
              "      <td>-0.202629</td>\n",
              "      <td>-0.232671</td>\n",
              "      <td>0.002109</td>\n",
              "      <td>0.018698</td>\n",
              "      <td>-0.038211</td>\n",
              "      <td>-0.210005</td>\n",
              "      <td>-0.193030</td>\n",
              "    </tr>\n",
              "    <tr>\n",
              "      <th>0610009B22Rik</th>\n",
              "      <td>0.054863</td>\n",
              "      <td>0.135519</td>\n",
              "      <td>-0.087920</td>\n",
              "      <td>-0.029824</td>\n",
              "      <td>-0.184402</td>\n",
              "      <td>-0.016395</td>\n",
              "      <td>0.093975</td>\n",
              "      <td>-0.003884</td>\n",
              "      <td>0.185336</td>\n",
              "      <td>-0.290509</td>\n",
              "      <td>...</td>\n",
              "      <td>-0.110672</td>\n",
              "      <td>0.077213</td>\n",
              "      <td>0.188933</td>\n",
              "      <td>0.129407</td>\n",
              "      <td>0.297762</td>\n",
              "      <td>-0.104044</td>\n",
              "      <td>-0.009220</td>\n",
              "      <td>-0.170987</td>\n",
              "      <td>-0.098187</td>\n",
              "      <td>0.196417</td>\n",
              "    </tr>\n",
              "    <tr>\n",
              "      <th>0610010K14Rik</th>\n",
              "      <td>0.127176</td>\n",
              "      <td>0.003318</td>\n",
              "      <td>0.075740</td>\n",
              "      <td>0.081813</td>\n",
              "      <td>-0.014230</td>\n",
              "      <td>0.272282</td>\n",
              "      <td>-0.137860</td>\n",
              "      <td>0.044193</td>\n",
              "      <td>-0.211423</td>\n",
              "      <td>0.097349</td>\n",
              "      <td>...</td>\n",
              "      <td>-0.007962</td>\n",
              "      <td>0.298000</td>\n",
              "      <td>0.086700</td>\n",
              "      <td>-0.207087</td>\n",
              "      <td>-0.048039</td>\n",
              "      <td>-0.167859</td>\n",
              "      <td>0.307144</td>\n",
              "      <td>0.005992</td>\n",
              "      <td>-0.128381</td>\n",
              "      <td>0.027353</td>\n",
              "    </tr>\n",
              "    <tr>\n",
              "      <th>0610040J01Rik</th>\n",
              "      <td>-0.108861</td>\n",
              "      <td>0.042057</td>\n",
              "      <td>-0.084533</td>\n",
              "      <td>-0.105771</td>\n",
              "      <td>0.080763</td>\n",
              "      <td>-0.068589</td>\n",
              "      <td>-0.110380</td>\n",
              "      <td>-0.157835</td>\n",
              "      <td>0.058100</td>\n",
              "      <td>0.165897</td>\n",
              "      <td>...</td>\n",
              "      <td>0.227152</td>\n",
              "      <td>0.005384</td>\n",
              "      <td>0.020007</td>\n",
              "      <td>-0.085966</td>\n",
              "      <td>-0.089837</td>\n",
              "      <td>0.167648</td>\n",
              "      <td>-0.210918</td>\n",
              "      <td>0.091719</td>\n",
              "      <td>0.059068</td>\n",
              "      <td>-0.141545</td>\n",
              "    </tr>\n",
              "    <tr>\n",
              "      <th>1110004F10Rik</th>\n",
              "      <td>0.008144</td>\n",
              "      <td>0.068054</td>\n",
              "      <td>-0.005740</td>\n",
              "      <td>-0.142302</td>\n",
              "      <td>0.022075</td>\n",
              "      <td>-0.113955</td>\n",
              "      <td>-0.111913</td>\n",
              "      <td>-0.077338</td>\n",
              "      <td>0.105471</td>\n",
              "      <td>0.219723</td>\n",
              "      <td>...</td>\n",
              "      <td>-0.168579</td>\n",
              "      <td>-0.133227</td>\n",
              "      <td>-0.165981</td>\n",
              "      <td>-0.155507</td>\n",
              "      <td>0.019961</td>\n",
              "      <td>-0.087179</td>\n",
              "      <td>-0.212431</td>\n",
              "      <td>0.026116</td>\n",
              "      <td>0.036709</td>\n",
              "      <td>-0.158244</td>\n",
              "    </tr>\n",
              "    <tr>\n",
              "      <th>...</th>\n",
              "      <td>...</td>\n",
              "      <td>...</td>\n",
              "      <td>...</td>\n",
              "      <td>...</td>\n",
              "      <td>...</td>\n",
              "      <td>...</td>\n",
              "      <td>...</td>\n",
              "      <td>...</td>\n",
              "      <td>...</td>\n",
              "      <td>...</td>\n",
              "      <td>...</td>\n",
              "      <td>...</td>\n",
              "      <td>...</td>\n",
              "      <td>...</td>\n",
              "      <td>...</td>\n",
              "      <td>...</td>\n",
              "      <td>...</td>\n",
              "      <td>...</td>\n",
              "      <td>...</td>\n",
              "      <td>...</td>\n",
              "      <td>...</td>\n",
              "    </tr>\n",
              "    <tr>\n",
              "      <th>mt-Nd3</th>\n",
              "      <td>0.070465</td>\n",
              "      <td>-0.029055</td>\n",
              "      <td>0.143706</td>\n",
              "      <td>0.313893</td>\n",
              "      <td>-0.115391</td>\n",
              "      <td>-0.203659</td>\n",
              "      <td>0.072741</td>\n",
              "      <td>-0.030219</td>\n",
              "      <td>0.142279</td>\n",
              "      <td>0.053968</td>\n",
              "      <td>...</td>\n",
              "      <td>-0.182829</td>\n",
              "      <td>-0.284645</td>\n",
              "      <td>-0.006026</td>\n",
              "      <td>-0.249784</td>\n",
              "      <td>-0.163879</td>\n",
              "      <td>0.226286</td>\n",
              "      <td>0.020546</td>\n",
              "      <td>0.177117</td>\n",
              "      <td>-0.008182</td>\n",
              "      <td>-0.019040</td>\n",
              "    </tr>\n",
              "    <tr>\n",
              "      <th>mt-Nd4</th>\n",
              "      <td>0.109107</td>\n",
              "      <td>-0.260516</td>\n",
              "      <td>0.134097</td>\n",
              "      <td>0.312004</td>\n",
              "      <td>0.020866</td>\n",
              "      <td>-0.206730</td>\n",
              "      <td>0.070304</td>\n",
              "      <td>0.042068</td>\n",
              "      <td>0.241827</td>\n",
              "      <td>-0.026155</td>\n",
              "      <td>...</td>\n",
              "      <td>-0.143915</td>\n",
              "      <td>-0.282426</td>\n",
              "      <td>-0.030162</td>\n",
              "      <td>-0.209875</td>\n",
              "      <td>-0.046357</td>\n",
              "      <td>0.205827</td>\n",
              "      <td>0.001434</td>\n",
              "      <td>0.151815</td>\n",
              "      <td>-0.013504</td>\n",
              "      <td>0.003306</td>\n",
              "    </tr>\n",
              "    <tr>\n",
              "      <th>mt-Nd4l</th>\n",
              "      <td>0.019671</td>\n",
              "      <td>-0.251548</td>\n",
              "      <td>0.093529</td>\n",
              "      <td>0.253221</td>\n",
              "      <td>-0.173212</td>\n",
              "      <td>-0.184696</td>\n",
              "      <td>0.122070</td>\n",
              "      <td>-0.017267</td>\n",
              "      <td>0.175466</td>\n",
              "      <td>-0.095987</td>\n",
              "      <td>...</td>\n",
              "      <td>-0.158391</td>\n",
              "      <td>-0.291835</td>\n",
              "      <td>0.030602</td>\n",
              "      <td>0.029707</td>\n",
              "      <td>0.049391</td>\n",
              "      <td>-0.006589</td>\n",
              "      <td>0.098745</td>\n",
              "      <td>0.097328</td>\n",
              "      <td>-0.002957</td>\n",
              "      <td>-0.051592</td>\n",
              "    </tr>\n",
              "    <tr>\n",
              "      <th>mt-Nd5</th>\n",
              "      <td>0.243818</td>\n",
              "      <td>-0.090717</td>\n",
              "      <td>0.125589</td>\n",
              "      <td>0.311155</td>\n",
              "      <td>0.257015</td>\n",
              "      <td>-0.204160</td>\n",
              "      <td>0.113248</td>\n",
              "      <td>-0.114310</td>\n",
              "      <td>0.082488</td>\n",
              "      <td>0.066766</td>\n",
              "      <td>...</td>\n",
              "      <td>-0.026658</td>\n",
              "      <td>-0.250067</td>\n",
              "      <td>-0.022394</td>\n",
              "      <td>0.142195</td>\n",
              "      <td>0.038209</td>\n",
              "      <td>0.235296</td>\n",
              "      <td>0.100383</td>\n",
              "      <td>0.130168</td>\n",
              "      <td>-0.000636</td>\n",
              "      <td>0.091443</td>\n",
              "    </tr>\n",
              "    <tr>\n",
              "      <th>mt-Nd6</th>\n",
              "      <td>0.090370</td>\n",
              "      <td>-0.235434</td>\n",
              "      <td>0.093934</td>\n",
              "      <td>0.281601</td>\n",
              "      <td>0.196089</td>\n",
              "      <td>-0.208938</td>\n",
              "      <td>0.062370</td>\n",
              "      <td>0.062687</td>\n",
              "      <td>0.208510</td>\n",
              "      <td>-0.085020</td>\n",
              "      <td>...</td>\n",
              "      <td>-0.059691</td>\n",
              "      <td>-0.235430</td>\n",
              "      <td>-0.046773</td>\n",
              "      <td>0.065457</td>\n",
              "      <td>0.135856</td>\n",
              "      <td>0.178142</td>\n",
              "      <td>-0.055446</td>\n",
              "      <td>0.157964</td>\n",
              "      <td>-0.005409</td>\n",
              "      <td>0.003221</td>\n",
              "    </tr>\n",
              "  </tbody>\n",
              "</table>\n",
              "<p>16232 rows × 50 columns</p>\n",
              "</div>"
            ],
            "text/plain": [
              "                     0         1         2         3         4         5   \\\n",
              "               0.019457  0.087793  0.075962 -0.207849  0.119941  0.083714   \n",
              "0610009B22Rik  0.054863  0.135519 -0.087920 -0.029824 -0.184402 -0.016395   \n",
              "0610010K14Rik  0.127176  0.003318  0.075740  0.081813 -0.014230  0.272282   \n",
              "0610040J01Rik -0.108861  0.042057 -0.084533 -0.105771  0.080763 -0.068589   \n",
              "1110004F10Rik  0.008144  0.068054 -0.005740 -0.142302  0.022075 -0.113955   \n",
              "...                 ...       ...       ...       ...       ...       ...   \n",
              "mt-Nd3         0.070465 -0.029055  0.143706  0.313893 -0.115391 -0.203659   \n",
              "mt-Nd4         0.109107 -0.260516  0.134097  0.312004  0.020866 -0.206730   \n",
              "mt-Nd4l        0.019671 -0.251548  0.093529  0.253221 -0.173212 -0.184696   \n",
              "mt-Nd5         0.243818 -0.090717  0.125589  0.311155  0.257015 -0.204160   \n",
              "mt-Nd6         0.090370 -0.235434  0.093934  0.281601  0.196089 -0.208938   \n",
              "\n",
              "                     6         7         8         9   ...        40  \\\n",
              "               0.031919 -0.177164  0.168293 -0.235517  ... -0.081181   \n",
              "0610009B22Rik  0.093975 -0.003884  0.185336 -0.290509  ... -0.110672   \n",
              "0610010K14Rik -0.137860  0.044193 -0.211423  0.097349  ... -0.007962   \n",
              "0610040J01Rik -0.110380 -0.157835  0.058100  0.165897  ...  0.227152   \n",
              "1110004F10Rik -0.111913 -0.077338  0.105471  0.219723  ... -0.168579   \n",
              "...                 ...       ...       ...       ...  ...       ...   \n",
              "mt-Nd3         0.072741 -0.030219  0.142279  0.053968  ... -0.182829   \n",
              "mt-Nd4         0.070304  0.042068  0.241827 -0.026155  ... -0.143915   \n",
              "mt-Nd4l        0.122070 -0.017267  0.175466 -0.095987  ... -0.158391   \n",
              "mt-Nd5         0.113248 -0.114310  0.082488  0.066766  ... -0.026658   \n",
              "mt-Nd6         0.062370  0.062687  0.208510 -0.085020  ... -0.059691   \n",
              "\n",
              "                     41        42        43        44        45        46  \\\n",
              "              -0.087506  0.289390 -0.202629 -0.232671  0.002109  0.018698   \n",
              "0610009B22Rik  0.077213  0.188933  0.129407  0.297762 -0.104044 -0.009220   \n",
              "0610010K14Rik  0.298000  0.086700 -0.207087 -0.048039 -0.167859  0.307144   \n",
              "0610040J01Rik  0.005384  0.020007 -0.085966 -0.089837  0.167648 -0.210918   \n",
              "1110004F10Rik -0.133227 -0.165981 -0.155507  0.019961 -0.087179 -0.212431   \n",
              "...                 ...       ...       ...       ...       ...       ...   \n",
              "mt-Nd3        -0.284645 -0.006026 -0.249784 -0.163879  0.226286  0.020546   \n",
              "mt-Nd4        -0.282426 -0.030162 -0.209875 -0.046357  0.205827  0.001434   \n",
              "mt-Nd4l       -0.291835  0.030602  0.029707  0.049391 -0.006589  0.098745   \n",
              "mt-Nd5        -0.250067 -0.022394  0.142195  0.038209  0.235296  0.100383   \n",
              "mt-Nd6        -0.235430 -0.046773  0.065457  0.135856  0.178142 -0.055446   \n",
              "\n",
              "                     47        48        49  \n",
              "              -0.038211 -0.210005 -0.193030  \n",
              "0610009B22Rik -0.170987 -0.098187  0.196417  \n",
              "0610010K14Rik  0.005992 -0.128381  0.027353  \n",
              "0610040J01Rik  0.091719  0.059068 -0.141545  \n",
              "1110004F10Rik  0.026116  0.036709 -0.158244  \n",
              "...                 ...       ...       ...  \n",
              "mt-Nd3         0.177117 -0.008182 -0.019040  \n",
              "mt-Nd4         0.151815 -0.013504  0.003306  \n",
              "mt-Nd4l        0.097328 -0.002957 -0.051592  \n",
              "mt-Nd5         0.130168 -0.000636  0.091443  \n",
              "mt-Nd6         0.157964 -0.005409  0.003221  \n",
              "\n",
              "[16232 rows x 50 columns]"
            ]
          },
          "execution_count": 16,
          "metadata": {},
          "output_type": "execute_result"
        }
      ],
      "source": [
        "testdf = pd.DataFrame(entity_embeddings, index=entityIDS.values())\n",
        "testdf"
      ]
    },
    {
      "cell_type": "markdown",
      "metadata": {
        "id": "no7rnqs_QSbf"
      },
      "source": [
        "## Compute PCA\n",
        "\n",
        "Compute PCA and check %var explained by first 2 components.\n",
        "Use them as prelim space on which to view scatter plot of gene/protein embeddings and then colour downstream by metadata (pathway info and clusters)"
      ]
    },
    {
      "cell_type": "code",
      "execution_count": null,
      "metadata": {
        "id": "z7_UuvJKQSbg"
      },
      "outputs": [],
      "source": [
        "import scprep\n",
        "from sklearn.decomposition import PCA\n",
        "from sklearn.cluster import KMeans\n",
        "\n",
        "RDdataframe = PCA(n_components=2).fit_transform(testdf)\n",
        "RDdataframe = pd.DataFrame(RDdataframe, index=entityIDS.values())\n",
        "RDdataframe.index.name = \"GeneSymbol\"\n",
        "RDdataframe"
      ]
    },
    {
      "cell_type": "markdown",
      "metadata": {
        "id": "GLe9bqoeQSbh"
      },
      "source": [
        "## Clustering"
      ]
    },
    {
      "cell_type": "code",
      "execution_count": null,
      "metadata": {
        "id": "eX8Dk57qQSbi",
        "outputId": "46a79277-323a-4b91-ae3e-da35fc785336"
      },
      "outputs": [
        {
          "name": "stderr",
          "output_type": "stream",
          "text": [
            "/usr/local/lib/python3.9/site-packages/IPython/core/interactiveshell.py:3361: DtypeWarning: Columns (3) have mixed types.Specify dtype option on import or set low_memory=False.\n",
            "  exec(code_obj, self.user_global_ns, self.user_ns)\n"
          ]
        },
        {
          "name": "stdout",
          "output_type": "stream",
          "text": [
            "Number of pathways in CellChatDB:  230\n"
          ]
        },
        {
          "data": {
            "text/plain": [
              "array([ 2, 10,  8, ...,  0,  0,  0], dtype=int32)"
            ]
          },
          "execution_count": 21,
          "metadata": {},
          "output_type": "execute_result"
        }
      ],
      "source": [
        "print(\"Number of pathways in CellChatDB: \", len(pd.read_csv(\"dINT.tsv\", sep=\"\\t\")[\"pathway\"].unique()))\n",
        "n_clusters = 12\n",
        "clusters = KMeans(n_clusters=n_clusters, random_state=42).fit_predict(testdf)\n",
        "clusters"
      ]
    },
    {
      "cell_type": "code",
      "execution_count": null,
      "metadata": {
        "id": "VE4cdIJwQSbk"
      },
      "outputs": [],
      "source": [
        "#Append cluster column to RD dataframe.\n",
        "RDdataframe.insert(len(RDdataframe.columns), \"clust\", clusters)"
      ]
    },
    {
      "cell_type": "code",
      "execution_count": null,
      "metadata": {
        "id": "IS1TzTsbQSbl",
        "outputId": "4efcbffc-5c02-4e0a-c4b7-e74c9205a735"
      },
      "outputs": [
        {
          "data": {
            "text/html": [
              "<div>\n",
              "<style scoped>\n",
              "    .dataframe tbody tr th:only-of-type {\n",
              "        vertical-align: middle;\n",
              "    }\n",
              "\n",
              "    .dataframe tbody tr th {\n",
              "        vertical-align: top;\n",
              "    }\n",
              "\n",
              "    .dataframe thead th {\n",
              "        text-align: right;\n",
              "    }\n",
              "</style>\n",
              "<table border=\"1\" class=\"dataframe\">\n",
              "  <thead>\n",
              "    <tr style=\"text-align: right;\">\n",
              "      <th></th>\n",
              "      <th>0</th>\n",
              "      <th>1</th>\n",
              "      <th>clust</th>\n",
              "    </tr>\n",
              "    <tr>\n",
              "      <th>GeneSymbol</th>\n",
              "      <th></th>\n",
              "      <th></th>\n",
              "      <th></th>\n",
              "    </tr>\n",
              "  </thead>\n",
              "  <tbody>\n",
              "    <tr>\n",
              "      <th></th>\n",
              "      <td>0.061198</td>\n",
              "      <td>0.168258</td>\n",
              "      <td>2</td>\n",
              "    </tr>\n",
              "    <tr>\n",
              "      <th>0610009B22Rik</th>\n",
              "      <td>-0.114831</td>\n",
              "      <td>-0.048106</td>\n",
              "      <td>10</td>\n",
              "    </tr>\n",
              "    <tr>\n",
              "      <th>0610010K14Rik</th>\n",
              "      <td>0.119326</td>\n",
              "      <td>0.313578</td>\n",
              "      <td>8</td>\n",
              "    </tr>\n",
              "    <tr>\n",
              "      <th>0610040J01Rik</th>\n",
              "      <td>-0.006011</td>\n",
              "      <td>0.056494</td>\n",
              "      <td>0</td>\n",
              "    </tr>\n",
              "    <tr>\n",
              "      <th>1110004F10Rik</th>\n",
              "      <td>0.030857</td>\n",
              "      <td>-0.027825</td>\n",
              "      <td>6</td>\n",
              "    </tr>\n",
              "    <tr>\n",
              "      <th>...</th>\n",
              "      <td>...</td>\n",
              "      <td>...</td>\n",
              "      <td>...</td>\n",
              "    </tr>\n",
              "    <tr>\n",
              "      <th>mt-Nd3</th>\n",
              "      <td>0.006951</td>\n",
              "      <td>-0.058934</td>\n",
              "      <td>0</td>\n",
              "    </tr>\n",
              "    <tr>\n",
              "      <th>mt-Nd4</th>\n",
              "      <td>-0.004138</td>\n",
              "      <td>-0.064950</td>\n",
              "      <td>0</td>\n",
              "    </tr>\n",
              "    <tr>\n",
              "      <th>mt-Nd4l</th>\n",
              "      <td>0.080365</td>\n",
              "      <td>-0.052546</td>\n",
              "      <td>0</td>\n",
              "    </tr>\n",
              "    <tr>\n",
              "      <th>mt-Nd5</th>\n",
              "      <td>-0.040858</td>\n",
              "      <td>-0.170187</td>\n",
              "      <td>0</td>\n",
              "    </tr>\n",
              "    <tr>\n",
              "      <th>mt-Nd6</th>\n",
              "      <td>0.017291</td>\n",
              "      <td>-0.131077</td>\n",
              "      <td>0</td>\n",
              "    </tr>\n",
              "  </tbody>\n",
              "</table>\n",
              "<p>16232 rows × 3 columns</p>\n",
              "</div>"
            ],
            "text/plain": [
              "                      0         1  clust\n",
              "GeneSymbol                              \n",
              "               0.061198  0.168258      2\n",
              "0610009B22Rik -0.114831 -0.048106     10\n",
              "0610010K14Rik  0.119326  0.313578      8\n",
              "0610040J01Rik -0.006011  0.056494      0\n",
              "1110004F10Rik  0.030857 -0.027825      6\n",
              "...                 ...       ...    ...\n",
              "mt-Nd3         0.006951 -0.058934      0\n",
              "mt-Nd4        -0.004138 -0.064950      0\n",
              "mt-Nd4l        0.080365 -0.052546      0\n",
              "mt-Nd5        -0.040858 -0.170187      0\n",
              "mt-Nd6         0.017291 -0.131077      0\n",
              "\n",
              "[16232 rows x 3 columns]"
            ]
          },
          "execution_count": 26,
          "metadata": {},
          "output_type": "execute_result"
        }
      ],
      "source": [
        "RDdataframe"
      ]
    },
    {
      "cell_type": "markdown",
      "metadata": {
        "id": "Zb2adFkSQSbm"
      },
      "source": [
        "Get pathway info via REACTOME database (WIP)\n",
        "\n",
        "- ReactomePathways DB has 2 columns, one for the pathway ID and another for the string name:\n",
        "    - `curl -o ReactomePathways.txt https://reactome.org/download/current/ReactomePathways.txt`\n",
        "<!-- - Ewas2Pathway DB links reactome protein/PTM ID with 2 pathway ID, lowest and higher level. -->\n",
        "- ENSEMBL2Reactmoe DB can be used to link ENSEMBL with reactome pathways\n",
        "    - `curl -o Ensembl2Reactome.txt https://reactome.org/download/current/Ensembl2Reactome.txt`\n",
        "    - `curl -o Ensembl2Reactome_ALL.txt https://reactome.org/download/current/Ensembl2Reactome_All_Levels.txt`\n",
        "\n",
        "Notes:\n",
        "Future application could use Reactome IDS, for gene Symbols can be trivially converted and ENSP ID can also be converted from STRINGs or REACTOME's own Functional Interaction network DBS -> Need to pick the baseline EWAS ID for a non PTMd/modified entity. \n",
        "\n",
        "Also nOte that ideally Antibodies from a cytof panel woud need to be fuzzy matched against Reactome EWAS names to get a REactome ID specific to a certain PTM. OTherwise, use ENSP ID to ReactomeEWAS"
      ]
    },
    {
      "cell_type": "code",
      "execution_count": null,
      "metadata": {
        "id": "5GTBpPLjQSbo"
      },
      "outputs": [],
      "source": [
        "from biomart import BiomartServer\n",
        "\n",
        "\n",
        "\n",
        "#Load reactome database\n",
        "dENSMUSpathwayR = pd.read_csv(\"Ensembl2Reactome.txt\", sep=\"\\t\", header=None)\n",
        "dENSMUSpathwayR = dENSMUSpathwayR.loc[dENSMUSpathwayR[5]==\"Mus musculus\"]\n",
        "#Number of pathways\n",
        "print(len(dENSMUSpathwayR[1].unique()))\n",
        "print(len(dENSMUSpathwayR[3].unique()))\n",
        "\n",
        "#Biomart\n",
        "server = BiomartServer(\"http://useast.ensembl.org/biomart\")\n",
        "server.verbose = True\n",
        "\n",
        "mart = server.datasets[\"mmusculus_gene_ensembl\"]\n",
        "\n",
        "response = mart.search({\"attributes\":[\"ensembl_peptide_id\",\"mgi_symbol\"]})\n",
        "\n",
        "transDF = []\n",
        "\n",
        "for line in response.raw.data.decode(\"utf-8\").splitlines():\n",
        "    line = line.split(\"\\t\")\n",
        "    if len(line[0]) > 0: #Only get gene symbols with ENSP ID\n",
        "        transDF.append(line)\n",
        "\n",
        "transDF = pd.DataFrame(transDF, \n",
        "                columns=[\"ensembl_peptide_id\",\"mgi_symbol\"]\n",
        "                ).drop_duplicates()\n",
        "\n",
        "transDict = transDF.set_index(\"ensembl_peptide_id\"\n",
        "                ).to_dict(\n",
        "                    #Transform DF into a dictionary but first set index\n",
        "                )[\"mgi_symbol\"]#Nested dict, so get first (and only item)\n",
        "transDict\n",
        "\n",
        "dENSMUSpathwayR[0] = dENSMUSpathwayR[0].map(transDict)\n",
        "dENSMUSpathwayR.dropna(inplace=True)\n",
        "\n",
        "#We have lost \"only\" 3 pathways from ENSP to geneSymbol missmatches\n",
        "print(len(dENSMUSpathwayR[1].unique()))\n",
        "\n",
        "#Turn into dictionary for mapping:\n",
        "dENSMUSpathwayR = pd.DataFrame(dENSMUSpathwayR, \n",
        "                columns=[0,3]\n",
        "                ).drop_duplicates()\n",
        "\n",
        "dENSMUSpathwayR = dENSMUSpathwayR.set_index(0\n",
        "                ).to_dict(\n",
        "                    #Transform DF into a dictionary but first set index\n",
        "                )[3]#Nested dict, so get first (and only item)\n",
        "\n",
        "# dENSMUSpathwayR"
      ]
    },
    {
      "cell_type": "code",
      "execution_count": null,
      "metadata": {
        "id": "AGT5zDFiQSbs",
        "outputId": "b916241a-2b3e-46ff-e51c-9beb27d41f5e"
      },
      "outputs": [
        {
          "data": {
            "text/html": [
              "<div>\n",
              "<style scoped>\n",
              "    .dataframe tbody tr th:only-of-type {\n",
              "        vertical-align: middle;\n",
              "    }\n",
              "\n",
              "    .dataframe tbody tr th {\n",
              "        vertical-align: top;\n",
              "    }\n",
              "\n",
              "    .dataframe thead th {\n",
              "        text-align: right;\n",
              "    }\n",
              "</style>\n",
              "<table border=\"1\" class=\"dataframe\">\n",
              "  <thead>\n",
              "    <tr style=\"text-align: right;\">\n",
              "      <th></th>\n",
              "      <th>0</th>\n",
              "      <th>1</th>\n",
              "      <th>clust</th>\n",
              "      <th>pathway</th>\n",
              "    </tr>\n",
              "    <tr>\n",
              "      <th>GeneSymbol</th>\n",
              "      <th></th>\n",
              "      <th></th>\n",
              "      <th></th>\n",
              "      <th></th>\n",
              "    </tr>\n",
              "  </thead>\n",
              "  <tbody>\n",
              "    <tr>\n",
              "      <th>NaN</th>\n",
              "      <td>0.061198</td>\n",
              "      <td>0.168258</td>\n",
              "      <td>2</td>\n",
              "      <td>NaN</td>\n",
              "    </tr>\n",
              "    <tr>\n",
              "      <th>0610009B22Rik</th>\n",
              "      <td>-0.114831</td>\n",
              "      <td>-0.048106</td>\n",
              "      <td>10</td>\n",
              "      <td>NaN</td>\n",
              "    </tr>\n",
              "    <tr>\n",
              "      <th>0610010K14Rik</th>\n",
              "      <td>0.119326</td>\n",
              "      <td>0.313578</td>\n",
              "      <td>8</td>\n",
              "      <td>NaN</td>\n",
              "    </tr>\n",
              "    <tr>\n",
              "      <th>0610040J01Rik</th>\n",
              "      <td>-0.006011</td>\n",
              "      <td>0.056494</td>\n",
              "      <td>0</td>\n",
              "      <td>NaN</td>\n",
              "    </tr>\n",
              "    <tr>\n",
              "      <th>1110004F10Rik</th>\n",
              "      <td>0.030857</td>\n",
              "      <td>-0.027825</td>\n",
              "      <td>6</td>\n",
              "      <td>NaN</td>\n",
              "    </tr>\n",
              "    <tr>\n",
              "      <th>...</th>\n",
              "      <td>...</td>\n",
              "      <td>...</td>\n",
              "      <td>...</td>\n",
              "      <td>...</td>\n",
              "    </tr>\n",
              "    <tr>\n",
              "      <th>mt-Nd3</th>\n",
              "      <td>0.006951</td>\n",
              "      <td>-0.058934</td>\n",
              "      <td>0</td>\n",
              "      <td>Complex I biogenesis</td>\n",
              "    </tr>\n",
              "    <tr>\n",
              "      <th>mt-Nd4</th>\n",
              "      <td>-0.004138</td>\n",
              "      <td>-0.064950</td>\n",
              "      <td>0</td>\n",
              "      <td>Complex I biogenesis</td>\n",
              "    </tr>\n",
              "    <tr>\n",
              "      <th>mt-Nd4l</th>\n",
              "      <td>0.080365</td>\n",
              "      <td>-0.052546</td>\n",
              "      <td>0</td>\n",
              "      <td>NaN</td>\n",
              "    </tr>\n",
              "    <tr>\n",
              "      <th>mt-Nd5</th>\n",
              "      <td>-0.040858</td>\n",
              "      <td>-0.170187</td>\n",
              "      <td>0</td>\n",
              "      <td>Complex I biogenesis</td>\n",
              "    </tr>\n",
              "    <tr>\n",
              "      <th>mt-Nd6</th>\n",
              "      <td>0.017291</td>\n",
              "      <td>-0.131077</td>\n",
              "      <td>0</td>\n",
              "      <td>Complex I biogenesis</td>\n",
              "    </tr>\n",
              "  </tbody>\n",
              "</table>\n",
              "<p>16232 rows × 4 columns</p>\n",
              "</div>"
            ],
            "text/plain": [
              "                      0         1  clust               pathway\n",
              "GeneSymbol                                                    \n",
              "NaN            0.061198  0.168258      2                   NaN\n",
              "0610009B22Rik -0.114831 -0.048106     10                   NaN\n",
              "0610010K14Rik  0.119326  0.313578      8                   NaN\n",
              "0610040J01Rik -0.006011  0.056494      0                   NaN\n",
              "1110004F10Rik  0.030857 -0.027825      6                   NaN\n",
              "...                 ...       ...    ...                   ...\n",
              "mt-Nd3         0.006951 -0.058934      0  Complex I biogenesis\n",
              "mt-Nd4        -0.004138 -0.064950      0  Complex I biogenesis\n",
              "mt-Nd4l        0.080365 -0.052546      0                   NaN\n",
              "mt-Nd5        -0.040858 -0.170187      0  Complex I biogenesis\n",
              "mt-Nd6         0.017291 -0.131077      0  Complex I biogenesis\n",
              "\n",
              "[16232 rows x 4 columns]"
            ]
          },
          "execution_count": 54,
          "metadata": {},
          "output_type": "execute_result"
        }
      ],
      "source": [
        "RDdataframe.index.map(dENSMUSpathwayR)\n",
        "\n",
        "RDdataframe[\"pathway\"] = RDdataframe.index.map(dENSMUSpathwayR)\n",
        "RDdataframe"
      ]
    },
    {
      "cell_type": "markdown",
      "metadata": {
        "id": "_WlcdHycQSbt"
      },
      "source": [
        "**FUTURE?** \n",
        "Use instead higher level pathawys, for lower level results in over 1k pathways (and we just need a proof of concept that it is working)"
      ]
    },
    {
      "cell_type": "code",
      "execution_count": null,
      "metadata": {
        "id": "VButKASPQSbu"
      },
      "outputs": [],
      "source": [
        "dENSMUSpathwayR = pd.read_csv(\"Ensembl2Reactome_ALL.txt\", sep=\"\\t\", header=None)\n",
        "dENSMUSpathwayR = dENSMUSpathwayR.loc[dENSMUSpathwayR[5]==\"Mus musculus\"]\n",
        "dENSMUSpathwayR"
      ]
    },
    {
      "cell_type": "markdown",
      "metadata": {
        "id": "qJpM-k--QSbw"
      },
      "source": [
        "## Viz"
      ]
    },
    {
      "cell_type": "markdown",
      "metadata": {
        "id": "v5QS7FJ3QSbx"
      },
      "source": [
        "Clusters"
      ]
    },
    {
      "cell_type": "code",
      "execution_count": null,
      "metadata": {
        "id": "0kEEK7AXQSby",
        "outputId": "b4ce2ecc-cdfc-41cb-9d01-8e5b4c4ab155"
      },
      "outputs": [
        {
          "name": "stderr",
          "output_type": "stream",
          "text": [
            "/Users/ferran/Library/Python/3.9/lib/python/site-packages/scprep/plot/utils.py:104: UserWarning: Matplotlib is currently using module://matplotlib_inline.backend_inline, which is a non-GUI backend, so cannot show the figure.\n",
            "  fig.show()\n"
          ]
        },
        {
          "data": {
            "text/plain": [
              "<AxesSubplot:title={'center':'Clusters'}, xlabel='PC-1', ylabel='PC-2'>"
            ]
          },
          "execution_count": 24,
          "metadata": {},
          "output_type": "execute_result"
        },
        {
          "data": {
            "image/png": "[encoded data removed]",
            "text/plain": [
              "<Figure size 432x288 with 1 Axes>"
            ]
          },
          "metadata": {
            "needs_background": "light"
          },
          "output_type": "display_data"
        }
      ],
      "source": [
        "scprep.plot.scatter2d(RDdataframe, c=RDdataframe[\"clust\"], \n",
        "    title=\"Clusters\", label_prefix=\"PC-\", \n",
        "    legend_loc=(1.05, 0), shuffle=True,\n",
        "    dpi=480)"
      ]
    },
    {
      "cell_type": "markdown",
      "metadata": {
        "id": "kY-T4jvUQSb0"
      },
      "source": [
        "View silhouette scores of current k=12 clusters (in the future. actully use scores to decide on k as shown in\n",
        "[Selecting the number of clusters with silhouette analysis on KMeans clustering](https://scikit-learn.org/stable/auto_examples/cluster/plot_kmeans_silhouette_analysis.html?highlight=silhouette))"
      ]
    },
    {
      "cell_type": "code",
      "execution_count": null,
      "metadata": {
        "id": "LZrOE_qNQSb1",
        "outputId": "e34948db-264c-4f44-a59d-ac8203bd9c11"
      },
      "outputs": [
        {
          "data": {
            "text/html": [
              "<div>\n",
              "<style scoped>\n",
              "    .dataframe tbody tr th:only-of-type {\n",
              "        vertical-align: middle;\n",
              "    }\n",
              "\n",
              "    .dataframe tbody tr th {\n",
              "        vertical-align: top;\n",
              "    }\n",
              "\n",
              "    .dataframe thead th {\n",
              "        text-align: right;\n",
              "    }\n",
              "</style>\n",
              "<table border=\"1\" class=\"dataframe\">\n",
              "  <thead>\n",
              "    <tr style=\"text-align: right;\">\n",
              "      <th></th>\n",
              "      <th>0</th>\n",
              "      <th>1</th>\n",
              "      <th>2</th>\n",
              "      <th>3</th>\n",
              "      <th>4</th>\n",
              "      <th>5</th>\n",
              "      <th>6</th>\n",
              "      <th>7</th>\n",
              "      <th>8</th>\n",
              "      <th>9</th>\n",
              "      <th>...</th>\n",
              "      <th>40</th>\n",
              "      <th>41</th>\n",
              "      <th>42</th>\n",
              "      <th>43</th>\n",
              "      <th>44</th>\n",
              "      <th>45</th>\n",
              "      <th>46</th>\n",
              "      <th>47</th>\n",
              "      <th>48</th>\n",
              "      <th>49</th>\n",
              "    </tr>\n",
              "  </thead>\n",
              "  <tbody>\n",
              "    <tr>\n",
              "      <th></th>\n",
              "      <td>0.019457</td>\n",
              "      <td>0.087793</td>\n",
              "      <td>0.075962</td>\n",
              "      <td>-0.207849</td>\n",
              "      <td>0.119941</td>\n",
              "      <td>0.083714</td>\n",
              "      <td>0.031919</td>\n",
              "      <td>-0.177164</td>\n",
              "      <td>0.168293</td>\n",
              "      <td>-0.235517</td>\n",
              "      <td>...</td>\n",
              "      <td>-0.081181</td>\n",
              "      <td>-0.087506</td>\n",
              "      <td>0.289390</td>\n",
              "      <td>-0.202629</td>\n",
              "      <td>-0.232671</td>\n",
              "      <td>0.002109</td>\n",
              "      <td>0.018698</td>\n",
              "      <td>-0.038211</td>\n",
              "      <td>-0.210005</td>\n",
              "      <td>-0.193030</td>\n",
              "    </tr>\n",
              "    <tr>\n",
              "      <th>0610009B22Rik</th>\n",
              "      <td>0.054863</td>\n",
              "      <td>0.135519</td>\n",
              "      <td>-0.087920</td>\n",
              "      <td>-0.029824</td>\n",
              "      <td>-0.184402</td>\n",
              "      <td>-0.016395</td>\n",
              "      <td>0.093975</td>\n",
              "      <td>-0.003884</td>\n",
              "      <td>0.185336</td>\n",
              "      <td>-0.290509</td>\n",
              "      <td>...</td>\n",
              "      <td>-0.110672</td>\n",
              "      <td>0.077213</td>\n",
              "      <td>0.188933</td>\n",
              "      <td>0.129407</td>\n",
              "      <td>0.297762</td>\n",
              "      <td>-0.104044</td>\n",
              "      <td>-0.009220</td>\n",
              "      <td>-0.170987</td>\n",
              "      <td>-0.098187</td>\n",
              "      <td>0.196417</td>\n",
              "    </tr>\n",
              "    <tr>\n",
              "      <th>0610010K14Rik</th>\n",
              "      <td>0.127176</td>\n",
              "      <td>0.003318</td>\n",
              "      <td>0.075740</td>\n",
              "      <td>0.081813</td>\n",
              "      <td>-0.014230</td>\n",
              "      <td>0.272282</td>\n",
              "      <td>-0.137860</td>\n",
              "      <td>0.044193</td>\n",
              "      <td>-0.211423</td>\n",
              "      <td>0.097349</td>\n",
              "      <td>...</td>\n",
              "      <td>-0.007962</td>\n",
              "      <td>0.298000</td>\n",
              "      <td>0.086700</td>\n",
              "      <td>-0.207087</td>\n",
              "      <td>-0.048039</td>\n",
              "      <td>-0.167859</td>\n",
              "      <td>0.307144</td>\n",
              "      <td>0.005992</td>\n",
              "      <td>-0.128381</td>\n",
              "      <td>0.027353</td>\n",
              "    </tr>\n",
              "    <tr>\n",
              "      <th>0610040J01Rik</th>\n",
              "      <td>-0.108861</td>\n",
              "      <td>0.042057</td>\n",
              "      <td>-0.084533</td>\n",
              "      <td>-0.105771</td>\n",
              "      <td>0.080763</td>\n",
              "      <td>-0.068589</td>\n",
              "      <td>-0.110380</td>\n",
              "      <td>-0.157835</td>\n",
              "      <td>0.058100</td>\n",
              "      <td>0.165897</td>\n",
              "      <td>...</td>\n",
              "      <td>0.227152</td>\n",
              "      <td>0.005384</td>\n",
              "      <td>0.020007</td>\n",
              "      <td>-0.085966</td>\n",
              "      <td>-0.089837</td>\n",
              "      <td>0.167648</td>\n",
              "      <td>-0.210918</td>\n",
              "      <td>0.091719</td>\n",
              "      <td>0.059068</td>\n",
              "      <td>-0.141545</td>\n",
              "    </tr>\n",
              "    <tr>\n",
              "      <th>1110004F10Rik</th>\n",
              "      <td>0.008144</td>\n",
              "      <td>0.068054</td>\n",
              "      <td>-0.005740</td>\n",
              "      <td>-0.142302</td>\n",
              "      <td>0.022075</td>\n",
              "      <td>-0.113955</td>\n",
              "      <td>-0.111913</td>\n",
              "      <td>-0.077338</td>\n",
              "      <td>0.105471</td>\n",
              "      <td>0.219723</td>\n",
              "      <td>...</td>\n",
              "      <td>-0.168579</td>\n",
              "      <td>-0.133227</td>\n",
              "      <td>-0.165981</td>\n",
              "      <td>-0.155507</td>\n",
              "      <td>0.019961</td>\n",
              "      <td>-0.087179</td>\n",
              "      <td>-0.212431</td>\n",
              "      <td>0.026116</td>\n",
              "      <td>0.036709</td>\n",
              "      <td>-0.158244</td>\n",
              "    </tr>\n",
              "    <tr>\n",
              "      <th>...</th>\n",
              "      <td>...</td>\n",
              "      <td>...</td>\n",
              "      <td>...</td>\n",
              "      <td>...</td>\n",
              "      <td>...</td>\n",
              "      <td>...</td>\n",
              "      <td>...</td>\n",
              "      <td>...</td>\n",
              "      <td>...</td>\n",
              "      <td>...</td>\n",
              "      <td>...</td>\n",
              "      <td>...</td>\n",
              "      <td>...</td>\n",
              "      <td>...</td>\n",
              "      <td>...</td>\n",
              "      <td>...</td>\n",
              "      <td>...</td>\n",
              "      <td>...</td>\n",
              "      <td>...</td>\n",
              "      <td>...</td>\n",
              "      <td>...</td>\n",
              "    </tr>\n",
              "    <tr>\n",
              "      <th>mt-Nd3</th>\n",
              "      <td>0.070465</td>\n",
              "      <td>-0.029055</td>\n",
              "      <td>0.143706</td>\n",
              "      <td>0.313893</td>\n",
              "      <td>-0.115391</td>\n",
              "      <td>-0.203659</td>\n",
              "      <td>0.072741</td>\n",
              "      <td>-0.030219</td>\n",
              "      <td>0.142279</td>\n",
              "      <td>0.053968</td>\n",
              "      <td>...</td>\n",
              "      <td>-0.182829</td>\n",
              "      <td>-0.284645</td>\n",
              "      <td>-0.006026</td>\n",
              "      <td>-0.249784</td>\n",
              "      <td>-0.163879</td>\n",
              "      <td>0.226286</td>\n",
              "      <td>0.020546</td>\n",
              "      <td>0.177117</td>\n",
              "      <td>-0.008182</td>\n",
              "      <td>-0.019040</td>\n",
              "    </tr>\n",
              "    <tr>\n",
              "      <th>mt-Nd4</th>\n",
              "      <td>0.109107</td>\n",
              "      <td>-0.260516</td>\n",
              "      <td>0.134097</td>\n",
              "      <td>0.312004</td>\n",
              "      <td>0.020866</td>\n",
              "      <td>-0.206730</td>\n",
              "      <td>0.070304</td>\n",
              "      <td>0.042068</td>\n",
              "      <td>0.241827</td>\n",
              "      <td>-0.026155</td>\n",
              "      <td>...</td>\n",
              "      <td>-0.143915</td>\n",
              "      <td>-0.282426</td>\n",
              "      <td>-0.030162</td>\n",
              "      <td>-0.209875</td>\n",
              "      <td>-0.046357</td>\n",
              "      <td>0.205827</td>\n",
              "      <td>0.001434</td>\n",
              "      <td>0.151815</td>\n",
              "      <td>-0.013504</td>\n",
              "      <td>0.003306</td>\n",
              "    </tr>\n",
              "    <tr>\n",
              "      <th>mt-Nd4l</th>\n",
              "      <td>0.019671</td>\n",
              "      <td>-0.251548</td>\n",
              "      <td>0.093529</td>\n",
              "      <td>0.253221</td>\n",
              "      <td>-0.173212</td>\n",
              "      <td>-0.184696</td>\n",
              "      <td>0.122070</td>\n",
              "      <td>-0.017267</td>\n",
              "      <td>0.175466</td>\n",
              "      <td>-0.095987</td>\n",
              "      <td>...</td>\n",
              "      <td>-0.158391</td>\n",
              "      <td>-0.291835</td>\n",
              "      <td>0.030602</td>\n",
              "      <td>0.029707</td>\n",
              "      <td>0.049391</td>\n",
              "      <td>-0.006589</td>\n",
              "      <td>0.098745</td>\n",
              "      <td>0.097328</td>\n",
              "      <td>-0.002957</td>\n",
              "      <td>-0.051592</td>\n",
              "    </tr>\n",
              "    <tr>\n",
              "      <th>mt-Nd5</th>\n",
              "      <td>0.243818</td>\n",
              "      <td>-0.090717</td>\n",
              "      <td>0.125589</td>\n",
              "      <td>0.311155</td>\n",
              "      <td>0.257015</td>\n",
              "      <td>-0.204160</td>\n",
              "      <td>0.113248</td>\n",
              "      <td>-0.114310</td>\n",
              "      <td>0.082488</td>\n",
              "      <td>0.066766</td>\n",
              "      <td>...</td>\n",
              "      <td>-0.026658</td>\n",
              "      <td>-0.250067</td>\n",
              "      <td>-0.022394</td>\n",
              "      <td>0.142195</td>\n",
              "      <td>0.038209</td>\n",
              "      <td>0.235296</td>\n",
              "      <td>0.100383</td>\n",
              "      <td>0.130168</td>\n",
              "      <td>-0.000636</td>\n",
              "      <td>0.091443</td>\n",
              "    </tr>\n",
              "    <tr>\n",
              "      <th>mt-Nd6</th>\n",
              "      <td>0.090370</td>\n",
              "      <td>-0.235434</td>\n",
              "      <td>0.093934</td>\n",
              "      <td>0.281601</td>\n",
              "      <td>0.196089</td>\n",
              "      <td>-0.208938</td>\n",
              "      <td>0.062370</td>\n",
              "      <td>0.062687</td>\n",
              "      <td>0.208510</td>\n",
              "      <td>-0.085020</td>\n",
              "      <td>...</td>\n",
              "      <td>-0.059691</td>\n",
              "      <td>-0.235430</td>\n",
              "      <td>-0.046773</td>\n",
              "      <td>0.065457</td>\n",
              "      <td>0.135856</td>\n",
              "      <td>0.178142</td>\n",
              "      <td>-0.055446</td>\n",
              "      <td>0.157964</td>\n",
              "      <td>-0.005409</td>\n",
              "      <td>0.003221</td>\n",
              "    </tr>\n",
              "  </tbody>\n",
              "</table>\n",
              "<p>16232 rows × 50 columns</p>\n",
              "</div>"
            ],
            "text/plain": [
              "                     0         1         2         3         4         5   \\\n",
              "               0.019457  0.087793  0.075962 -0.207849  0.119941  0.083714   \n",
              "0610009B22Rik  0.054863  0.135519 -0.087920 -0.029824 -0.184402 -0.016395   \n",
              "0610010K14Rik  0.127176  0.003318  0.075740  0.081813 -0.014230  0.272282   \n",
              "0610040J01Rik -0.108861  0.042057 -0.084533 -0.105771  0.080763 -0.068589   \n",
              "1110004F10Rik  0.008144  0.068054 -0.005740 -0.142302  0.022075 -0.113955   \n",
              "...                 ...       ...       ...       ...       ...       ...   \n",
              "mt-Nd3         0.070465 -0.029055  0.143706  0.313893 -0.115391 -0.203659   \n",
              "mt-Nd4         0.109107 -0.260516  0.134097  0.312004  0.020866 -0.206730   \n",
              "mt-Nd4l        0.019671 -0.251548  0.093529  0.253221 -0.173212 -0.184696   \n",
              "mt-Nd5         0.243818 -0.090717  0.125589  0.311155  0.257015 -0.204160   \n",
              "mt-Nd6         0.090370 -0.235434  0.093934  0.281601  0.196089 -0.208938   \n",
              "\n",
              "                     6         7         8         9   ...        40  \\\n",
              "               0.031919 -0.177164  0.168293 -0.235517  ... -0.081181   \n",
              "0610009B22Rik  0.093975 -0.003884  0.185336 -0.290509  ... -0.110672   \n",
              "0610010K14Rik -0.137860  0.044193 -0.211423  0.097349  ... -0.007962   \n",
              "0610040J01Rik -0.110380 -0.157835  0.058100  0.165897  ...  0.227152   \n",
              "1110004F10Rik -0.111913 -0.077338  0.105471  0.219723  ... -0.168579   \n",
              "...                 ...       ...       ...       ...  ...       ...   \n",
              "mt-Nd3         0.072741 -0.030219  0.142279  0.053968  ... -0.182829   \n",
              "mt-Nd4         0.070304  0.042068  0.241827 -0.026155  ... -0.143915   \n",
              "mt-Nd4l        0.122070 -0.017267  0.175466 -0.095987  ... -0.158391   \n",
              "mt-Nd5         0.113248 -0.114310  0.082488  0.066766  ... -0.026658   \n",
              "mt-Nd6         0.062370  0.062687  0.208510 -0.085020  ... -0.059691   \n",
              "\n",
              "                     41        42        43        44        45        46  \\\n",
              "              -0.087506  0.289390 -0.202629 -0.232671  0.002109  0.018698   \n",
              "0610009B22Rik  0.077213  0.188933  0.129407  0.297762 -0.104044 -0.009220   \n",
              "0610010K14Rik  0.298000  0.086700 -0.207087 -0.048039 -0.167859  0.307144   \n",
              "0610040J01Rik  0.005384  0.020007 -0.085966 -0.089837  0.167648 -0.210918   \n",
              "1110004F10Rik -0.133227 -0.165981 -0.155507  0.019961 -0.087179 -0.212431   \n",
              "...                 ...       ...       ...       ...       ...       ...   \n",
              "mt-Nd3        -0.284645 -0.006026 -0.249784 -0.163879  0.226286  0.020546   \n",
              "mt-Nd4        -0.282426 -0.030162 -0.209875 -0.046357  0.205827  0.001434   \n",
              "mt-Nd4l       -0.291835  0.030602  0.029707  0.049391 -0.006589  0.098745   \n",
              "mt-Nd5        -0.250067 -0.022394  0.142195  0.038209  0.235296  0.100383   \n",
              "mt-Nd6        -0.235430 -0.046773  0.065457  0.135856  0.178142 -0.055446   \n",
              "\n",
              "                     47        48        49  \n",
              "              -0.038211 -0.210005 -0.193030  \n",
              "0610009B22Rik -0.170987 -0.098187  0.196417  \n",
              "0610010K14Rik  0.005992 -0.128381  0.027353  \n",
              "0610040J01Rik  0.091719  0.059068 -0.141545  \n",
              "1110004F10Rik  0.026116  0.036709 -0.158244  \n",
              "...                 ...       ...       ...  \n",
              "mt-Nd3         0.177117 -0.008182 -0.019040  \n",
              "mt-Nd4         0.151815 -0.013504  0.003306  \n",
              "mt-Nd4l        0.097328 -0.002957 -0.051592  \n",
              "mt-Nd5         0.130168 -0.000636  0.091443  \n",
              "mt-Nd6         0.157964 -0.005409  0.003221  \n",
              "\n",
              "[16232 rows x 50 columns]"
            ]
          },
          "execution_count": 17,
          "metadata": {},
          "output_type": "execute_result"
        }
      ],
      "source": [
        "testdf"
      ]
    },
    {
      "cell_type": "code",
      "execution_count": null,
      "metadata": {
        "id": "XOqjSCwxQSb2",
        "outputId": "2cbee29d-b793-46fa-b15f-d30449c14d84"
      },
      "outputs": [
        {
          "name": "stderr",
          "output_type": "stream",
          "text": [
            "/usr/local/lib/python3.9/site-packages/sklearn/utils/validation.py:993: DataConversionWarning: A column-vector y was passed when a 1d array was expected. Please change the shape of y to (n_samples, ), for example using ravel().\n",
            "  y = column_or_1d(y, warn=True)\n"
          ]
        },
        {
          "name": "stdout",
          "output_type": "stream",
          "text": [
            "For n_clusters = 12 The average silhouette_score is : 0.025749259\n"
          ]
        },
        {
          "name": "stderr",
          "output_type": "stream",
          "text": [
            "/usr/local/lib/python3.9/site-packages/sklearn/utils/validation.py:993: DataConversionWarning: A column-vector y was passed when a 1d array was expected. Please change the shape of y to (n_samples, ), for example using ravel().\n",
            "  y = column_or_1d(y, warn=True)\n"
          ]
        },
        {
          "name": "stdout",
          "output_type": "stream",
          "text": [
            "[0.03375454 0.00922732 0.05547972 ... 0.07015898 0.07838462 0.06793103]\n"
          ]
        }
      ],
      "source": [
        "from sklearn.metrics import silhouette_samples, silhouette_score\n",
        "\n",
        "#We are suing the 50D embedding space. Given our awful k selection, we end up \n",
        "# with a very low silhouette avergae. If computing distances on PCA space, \n",
        "# the silhouette score even becomes negative lol\n",
        "\n",
        "    # The silhouette_score gives the average value for all the samples.\n",
        "    # This gives a perspective into the density and separation of the formed\n",
        "    # clusters\n",
        "silhouette_avg = silhouette_score(testdf, RDdataframe[[\"clust\"]])\n",
        "print(\n",
        "    \"For n_clusters =\",\n",
        "    len(RDdataframe[\"clust\"].unique()),\n",
        "    \"The average silhouette_score is :\",\n",
        "    silhouette_avg,\n",
        ")\n",
        "\n",
        "# Compute the silhouette scores for each sample\n",
        "sample_silhouette_values = silhouette_samples(testdf, RDdataframe[[\"clust\"]])\n",
        "print(sample_silhouette_values)"
      ]
    },
    {
      "cell_type": "code",
      "execution_count": null,
      "metadata": {
        "id": "vcQwTEaUQSb4",
        "outputId": "9bb10d90-5c37-4c41-9711-ede0aabcf226"
      },
      "outputs": [
        {
          "data": {
            "image/png": "[encoded data removed]",
            "text/plain": [
              "<Figure size 432x288 with 1 Axes>"
            ]
          },
          "metadata": {
            "needs_background": "light"
          },
          "output_type": "display_data"
        },
        {
          "data": {
            "image/png": "[encoded data removed]",
            "text/plain": [
              "<Figure size 432x288 with 1 Axes>"
            ]
          },
          "metadata": {
            "needs_background": "light"
          },
          "output_type": "display_data"
        },
        {
          "data": {
            "image/png": "[encoded data removed]",
            "text/plain": [
              "<Figure size 432x288 with 1 Axes>"
            ]
          },
          "metadata": {
            "needs_background": "light"
          },
          "output_type": "display_data"
        },
        {
          "data": {
            "image/png": "[encoded data removed]",
            "text/plain": [
              "<Figure size 432x288 with 1 Axes>"
            ]
          },
          "metadata": {
            "needs_background": "light"
          },
          "output_type": "display_data"
        },
        {
          "data": {
            "image/png": "[encoded data removed]",
            "text/plain": [
              "<Figure size 432x288 with 1 Axes>"
            ]
          },
          "metadata": {
            "needs_background": "light"
          },
          "output_type": "display_data"
        },
        {
          "data": {
            "image/png": "[encoded data removed]",
            "text/plain": [
              "<Figure size 432x288 with 1 Axes>"
            ]
          },
          "metadata": {
            "needs_background": "light"
          },
          "output_type": "display_data"
        },
        {
          "data": {
            "image/png": "[encoded data removed]",
            "text/plain": [
              "<Figure size 432x288 with 1 Axes>"
            ]
          },
          "metadata": {
            "needs_background": "light"
          },
          "output_type": "display_data"
        },
        {
          "data": {
            "image/png": "[encoded data removed]",
            "text/plain": [
              "<Figure size 432x288 with 1 Axes>"
            ]
          },
          "metadata": {
            "needs_background": "light"
          },
          "output_type": "display_data"
        },
        {
          "data": {
            "image/png": "[encoded data removed]",
            "text/plain": [
              "<Figure size 432x288 with 1 Axes>"
            ]
          },
          "metadata": {
            "needs_background": "light"
          },
          "output_type": "display_data"
        },
        {
          "data": {
            "image/png": "[encoded data removed]",
            "text/plain": [
              "<Figure size 432x288 with 1 Axes>"
            ]
          },
          "metadata": {
            "needs_background": "light"
          },
          "output_type": "display_data"
        },
        {
          "data": {
            "image/png": "[encoded data removed]",
            "text/plain": [
              "<Figure size 432x288 with 1 Axes>"
            ]
          },
          "metadata": {
            "needs_background": "light"
          },
          "output_type": "display_data"
        },
        {
          "data": {
            "image/png": "[encoded data removed]",
            "text/plain": [
              "<Figure size 432x288 with 1 Axes>"
            ]
          },
          "metadata": {
            "needs_background": "light"
          },
          "output_type": "display_data"
        }
      ],
      "source": [
        "import matplotlib.pyplot as plt\n",
        "import matplotlib.cm as cm\n",
        "\n",
        "y_lower = 10\n",
        "for i in RDdataframe[\"clust\"].unique():\n",
        "    fig, ax = plt.subplots()\n",
        "    # Aggregate the silhouette scores for samples belonging to\n",
        "    # cluster i, and sort them\n",
        "    ith_cluster_silhouette_values = sample_silhouette_values[RDdataframe[\"clust\"] == i]\n",
        "\n",
        "    ith_cluster_silhouette_values.sort()\n",
        "\n",
        "    size_cluster_i = ith_cluster_silhouette_values.shape[0]\n",
        "    y_upper = y_lower + size_cluster_i\n",
        "\n",
        "    color = cm.nipy_spectral(float(i) / len(RDdataframe[\"clust\"].unique()))\n",
        "    ax.fill_betweenx(\n",
        "        np.arange(y_lower, y_upper),\n",
        "        0,\n",
        "        ith_cluster_silhouette_values,\n",
        "        facecolor=color,\n",
        "        edgecolor=color,\n",
        "        alpha=0.7,\n",
        "    )\n",
        "\n",
        "    # Label the silhouette plots with their cluster numbers at the middle\n",
        "    ax.text(-0.05, y_lower + 0.5 * size_cluster_i, str(i))\n",
        "\n",
        "    # Compute the new y_lower for next plot\n",
        "    y_lower = y_upper + 10  # 10 for the 0 samples\n",
        "\n"
      ]
    },
    {
      "cell_type": "markdown",
      "metadata": {
        "id": "RMetRAbcQScG"
      },
      "source": [
        "NOTE: It is abundantly clear that k=12 is far too high of a number ..."
      ]
    },
    {
      "cell_type": "markdown",
      "metadata": {
        "id": "UUi-Y_b9QScI"
      },
      "source": [
        "Single pathway \"at random\""
      ]
    },
    {
      "cell_type": "code",
      "execution_count": null,
      "metadata": {
        "id": "qpjeHvd2QScJ"
      },
      "outputs": [],
      "source": [
        "# pathawayOFinterest = \"Glutathione conjugation\"\n",
        "pathawayOFinterest = \"Mitochondrial translation termination\"\n",
        "\n",
        "hits = RDdataframe.index.isin(RDdataframe.loc[RDdataframe[\"pathway\"]==pathawayOFinterest].index)"
      ]
    },
    {
      "cell_type": "code",
      "execution_count": null,
      "metadata": {
        "id": "4bRxKPbvQScK",
        "outputId": "e087e5e0-cb2e-4e8d-926e-70765186338d"
      },
      "outputs": [
        {
          "name": "stderr",
          "output_type": "stream",
          "text": [
            "/Users/ferran/Library/Python/3.9/lib/python/site-packages/scprep/plot/utils.py:104: UserWarning: Matplotlib is currently using module://matplotlib_inline.backend_inline, which is a non-GUI backend, so cannot show the figure.\n",
            "  fig.show()\n"
          ]
        },
        {
          "data": {
            "text/plain": [
              "<AxesSubplot:xlabel='PC-1', ylabel='PC-2'>"
            ]
          },
          "execution_count": 66,
          "metadata": {},
          "output_type": "execute_result"
        },
        {
          "data": {
            "image/png": "[encoded data removed]",
            "text/plain": [
              "<Figure size 432x288 with 1 Axes>"
            ]
          },
          "metadata": {
            "needs_background": "light"
          },
          "output_type": "display_data"
        }
      ],
      "source": [
        "scprep.plot.scatter2d(RDdataframe,\n",
        "    c=RDdataframe[\"clust\"],\n",
        "    mask=hits, \n",
        "    label_prefix=\"PC-\", shuffle=True)"
      ]
    },
    {
      "cell_type": "markdown",
      "metadata": {
        "id": "G80CwLULQScM"
      },
      "source": [
        "Biggest pathways"
      ]
    },
    {
      "cell_type": "code",
      "execution_count": null,
      "metadata": {
        "id": "TTu3BNnOQScN",
        "outputId": "bcab5799-20e5-4d3b-bd3b-3570cbb39efa"
      },
      "outputs": [
        {
          "data": {
            "text/html": [
              "<div>\n",
              "<style scoped>\n",
              "    .dataframe tbody tr th:only-of-type {\n",
              "        vertical-align: middle;\n",
              "    }\n",
              "\n",
              "    .dataframe tbody tr th {\n",
              "        vertical-align: top;\n",
              "    }\n",
              "\n",
              "    .dataframe thead th {\n",
              "        text-align: right;\n",
              "    }\n",
              "</style>\n",
              "<table border=\"1\" class=\"dataframe\">\n",
              "  <thead>\n",
              "    <tr style=\"text-align: right;\">\n",
              "      <th></th>\n",
              "      <th>pathway</th>\n",
              "      <th>counts</th>\n",
              "    </tr>\n",
              "  </thead>\n",
              "  <tbody>\n",
              "    <tr>\n",
              "      <th>56</th>\n",
              "      <td>Antigen processing: Ubiquitination &amp; Proteasom...</td>\n",
              "      <td>271</td>\n",
              "    </tr>\n",
              "    <tr>\n",
              "      <th>496</th>\n",
              "      <td>Neutrophil degranulation</td>\n",
              "      <td>231</td>\n",
              "    </tr>\n",
              "    <tr>\n",
              "      <th>271</th>\n",
              "      <td>G alpha (i) signalling events</td>\n",
              "      <td>111</td>\n",
              "    </tr>\n",
              "    <tr>\n",
              "      <th>502</th>\n",
              "      <td>Nonsense Mediated Decay (NMD) enhanced by the ...</td>\n",
              "      <td>103</td>\n",
              "    </tr>\n",
              "    <tr>\n",
              "      <th>941</th>\n",
              "      <td>mRNA Splicing - Major Pathway</td>\n",
              "      <td>82</td>\n",
              "    </tr>\n",
              "    <tr>\n",
              "      <th>...</th>\n",
              "      <td>...</td>\n",
              "      <td>...</td>\n",
              "    </tr>\n",
              "    <tr>\n",
              "      <th>153</th>\n",
              "      <td>Cleavage of the damaged purine</td>\n",
              "      <td>1</td>\n",
              "    </tr>\n",
              "    <tr>\n",
              "      <th>151</th>\n",
              "      <td>Classical antibody-mediated complement activation</td>\n",
              "      <td>1</td>\n",
              "    </tr>\n",
              "    <tr>\n",
              "      <th>145</th>\n",
              "      <td>Chylomicron remodeling</td>\n",
              "      <td>1</td>\n",
              "    </tr>\n",
              "    <tr>\n",
              "      <th>144</th>\n",
              "      <td>Chylomicron clearance</td>\n",
              "      <td>1</td>\n",
              "    </tr>\n",
              "    <tr>\n",
              "      <th>548</th>\n",
              "      <td>Phase 3 - rapid repolarisation</td>\n",
              "      <td>1</td>\n",
              "    </tr>\n",
              "  </tbody>\n",
              "</table>\n",
              "<p>949 rows × 2 columns</p>\n",
              "</div>"
            ],
            "text/plain": [
              "                                               pathway  counts\n",
              "56   Antigen processing: Ubiquitination & Proteasom...     271\n",
              "496                           Neutrophil degranulation     231\n",
              "271                      G alpha (i) signalling events     111\n",
              "502  Nonsense Mediated Decay (NMD) enhanced by the ...     103\n",
              "941                      mRNA Splicing - Major Pathway      82\n",
              "..                                                 ...     ...\n",
              "153                     Cleavage of the damaged purine       1\n",
              "151  Classical antibody-mediated complement activation       1\n",
              "145                             Chylomicron remodeling       1\n",
              "144                              Chylomicron clearance       1\n",
              "548                     Phase 3 - rapid repolarisation       1\n",
              "\n",
              "[949 rows x 2 columns]"
            ]
          },
          "execution_count": 12,
          "metadata": {},
          "output_type": "execute_result"
        }
      ],
      "source": [
        "RDdataframe.groupby([\"pathway\"]).size().reset_index(name=\"counts\").sort_values(by=[\"counts\"], ascending=False)"
      ]
    },
    {
      "cell_type": "code",
      "execution_count": null,
      "metadata": {
        "id": "N7TUmakfQScO",
        "outputId": "b974c7cf-8c96-4a15-a13a-e57f0c9a1bb5"
      },
      "outputs": [
        {
          "name": "stderr",
          "output_type": "stream",
          "text": [
            "/Users/ferran/Library/Python/3.9/lib/python/site-packages/scprep/plot/utils.py:104: UserWarning: Matplotlib is currently using module://matplotlib_inline.backend_inline, which is a non-GUI backend, so cannot show the figure.\n",
            "  fig.show()\n",
            "/Users/ferran/Library/Python/3.9/lib/python/site-packages/scprep/plot/utils.py:104: UserWarning: Matplotlib is currently using module://matplotlib_inline.backend_inline, which is a non-GUI backend, so cannot show the figure.\n",
            "  fig.show()\n",
            "/Users/ferran/Library/Python/3.9/lib/python/site-packages/scprep/plot/utils.py:104: UserWarning: Matplotlib is currently using module://matplotlib_inline.backend_inline, which is a non-GUI backend, so cannot show the figure.\n",
            "  fig.show()\n",
            "/Users/ferran/Library/Python/3.9/lib/python/site-packages/scprep/plot/utils.py:104: UserWarning: Matplotlib is currently using module://matplotlib_inline.backend_inline, which is a non-GUI backend, so cannot show the figure.\n",
            "  fig.show()\n",
            "/Users/ferran/Library/Python/3.9/lib/python/site-packages/scprep/plot/utils.py:104: UserWarning: Matplotlib is currently using module://matplotlib_inline.backend_inline, which is a non-GUI backend, so cannot show the figure.\n",
            "  fig.show()\n"
          ]
        },
        {
          "data": {
            "image/png": "[encoded data removed]",
            "text/plain": [
              "<Figure size 432x288 with 1 Axes>"
            ]
          },
          "metadata": {
            "needs_background": "light"
          },
          "output_type": "display_data"
        },
        {
          "data": {
            "image/png": "[encoded data removed]",
            "text/plain": [
              "<Figure size 432x288 with 1 Axes>"
            ]
          },
          "metadata": {
            "needs_background": "light"
          },
          "output_type": "display_data"
        },
        {
          "data": {
            "image/png": "[encoded data removed]",
            "text/plain": [
              "<Figure size 432x288 with 1 Axes>"
            ]
          },
          "metadata": {
            "needs_background": "light"
          },
          "output_type": "display_data"
        },
        {
          "data": {
            "image/png": "[encoded data removed]",
            "text/plain": [
              "<Figure size 432x288 with 1 Axes>"
            ]
          },
          "metadata": {
            "needs_background": "light"
          },
          "output_type": "display_data"
        },
        {
          "data": {
            "image/png": "[encoded data removed]",
            "text/plain": [
              "<Figure size 432x288 with 1 Axes>"
            ]
          },
          "metadata": {
            "needs_background": "light"
          },
          "output_type": "display_data"
        }
      ],
      "source": [
        "top5pathways = list(RDdataframe.groupby([\"pathway\"]).size().reset_index(name=\"counts\").nlargest(5, \"counts\")[\"pathway\"])\n",
        "top5pathways\n",
        "\n",
        "for i in top5pathways:\n",
        "    hits = RDdataframe.index.isin(RDdataframe.loc[RDdataframe[\"pathway\"]==i].index)\n",
        "    scprep.plot.scatter2d(RDdataframe,\n",
        "        c=RDdataframe[\"clust\"],\n",
        "        mask=hits, \n",
        "        title = i, label_prefix=\"PC-\", \n",
        "        legend_loc=(1.05, 0), shuffle=True,\n",
        "        dpi=480, figsize=(6,4))"
      ]
    },
    {
      "cell_type": "markdown",
      "metadata": {
        "id": "ApP2FewxQScQ"
      },
      "source": [
        "Silhoutte scores of pathways:\n",
        "Dirty approach just ot compute AVG silhouette score for all of them.\n",
        "Also take the top 5 above and compute their silhouette sample scores."
      ]
    },
    {
      "cell_type": "markdown",
      "metadata": {
        "id": "K8gRcL9pQScR"
      },
      "source": [
        "ALL PATHWAYS"
      ]
    },
    {
      "cell_type": "code",
      "execution_count": null,
      "metadata": {
        "id": "Ht9CeA_0QScS",
        "outputId": "5f4e7134-18e7-4505-b656-ea042cbc3c47"
      },
      "outputs": [
        {
          "name": "stderr",
          "output_type": "stream",
          "text": [
            "/usr/local/lib/python3.9/site-packages/sklearn/utils/validation.py:993: DataConversionWarning: A column-vector y was passed when a 1d array was expected. Please change the shape of y to (n_samples, ), for example using ravel().\n",
            "  y = column_or_1d(y, warn=True)\n"
          ]
        },
        {
          "name": "stdout",
          "output_type": "stream",
          "text": [
            "For n_clusters = 949 The average silhouette_score is : -0.11503294\n"
          ]
        },
        {
          "name": "stderr",
          "output_type": "stream",
          "text": [
            "/usr/local/lib/python3.9/site-packages/sklearn/utils/validation.py:993: DataConversionWarning: A column-vector y was passed when a 1d array was expected. Please change the shape of y to (n_samples, ), for example using ravel().\n",
            "  y = column_or_1d(y, warn=True)\n"
          ]
        },
        {
          "name": "stdout",
          "output_type": "stream",
          "text": [
            "[-0.04672507 -0.20247729 -0.19101284 ...  0.08329076  0.07800802\n",
            "  0.06192103]\n"
          ]
        },
        {
          "data": {
            "image/png": "[encoded data removed]",
            "text/plain": [
              "<Figure size 432x288 with 1 Axes>"
            ]
          },
          "metadata": {
            "needs_background": "light"
          },
          "output_type": "display_data"
        },
        {
          "data": {
            "image/png": "[encoded data removed]",
            "text/plain": [
              "<Figure size 432x288 with 1 Axes>"
            ]
          },
          "metadata": {
            "needs_background": "light"
          },
          "output_type": "display_data"
        },
        {
          "data": {
            "image/png": "[encoded data removed]",
            "text/plain": [
              "<Figure size 432x288 with 1 Axes>"
            ]
          },
          "metadata": {
            "needs_background": "light"
          },
          "output_type": "display_data"
        },
        {
          "data": {
            "image/png": "[encoded data removed]",
            "text/plain": [
              "<Figure size 432x288 with 1 Axes>"
            ]
          },
          "metadata": {
            "needs_background": "light"
          },
          "output_type": "display_data"
        },
        {
          "data": {
            "image/png": "[encoded data removed]",
            "text/plain": [
              "<Figure size 432x288 with 1 Axes>"
            ]
          },
          "metadata": {
            "needs_background": "light"
          },
          "output_type": "display_data"
        }
      ],
      "source": [
        "import matplotlib.pyplot as plt\n",
        "import matplotlib.cm as cm\n",
        "from sklearn.metrics import silhouette_samples, silhouette_score\n",
        "\n",
        "#We are suing the 50D embedding space. Given our awful k selection, we end up \n",
        "# with a very low silhouette avergae. If computing distances on PCA space, \n",
        "# the silhouette score even becomes negative lol\n",
        "\n",
        "    # The silhouette_score gives the average value for all the samples.\n",
        "    # This gives a perspective into the density and separation of the formed\n",
        "    # clusters\n",
        "\n",
        "df2 = RDdataframe.dropna()\n",
        "df1 = testdf.loc[testdf.index.isin(df2.index)]\n",
        "\n",
        "silhouette_avg = silhouette_score(df1, df2[[\"pathway\"]])\n",
        "print(\n",
        "    \"For n_clusters =\",\n",
        "    len(df2[\"pathway\"].unique()),\n",
        "    \"The average silhouette_score is :\",\n",
        "    silhouette_avg,\n",
        ")\n",
        "\n",
        "# Compute the silhouette scores for each sample\n",
        "sample_silhouette_values = silhouette_samples(df1, df2[[\"pathway\"]])\n",
        "print(sample_silhouette_values)\n",
        "\n",
        "y_lower = 10\n",
        "counter = 0\n",
        "for i in top5pathways:\n",
        "    fig, ax = plt.subplots()\n",
        "    # Aggregate the silhouette scores for samples belonging to\n",
        "    # cluster i, and sort them\n",
        "    ith_cluster_silhouette_values = sample_silhouette_values[df2[\"pathway\"] == i]\n",
        "\n",
        "    ith_cluster_silhouette_values.sort()\n",
        "\n",
        "    size_cluster_i = ith_cluster_silhouette_values.shape[0]\n",
        "    y_upper = y_lower + size_cluster_i\n",
        "\n",
        "    color = cm.nipy_spectral(float(counter) / len(top5pathways))\n",
        "    ax.fill_betweenx(\n",
        "        np.arange(y_lower, y_upper),\n",
        "        0,\n",
        "        ith_cluster_silhouette_values,\n",
        "        facecolor=color,\n",
        "        edgecolor=color,\n",
        "        alpha=0.7,\n",
        "    )\n",
        "\n",
        "    # Label the silhouette plots with their cluster numbers at the middle\n",
        "    ax.text(-0.05, y_lower + 0.5 * size_cluster_i, str(i))\n",
        "\n",
        "    # Compute the new y_lower for next plot\n",
        "    y_lower = y_upper + 10  # 10 for the 0 samples\n",
        "    counter+=1"
      ]
    },
    {
      "cell_type": "markdown",
      "metadata": {
        "id": "F52OxGr7QScV"
      },
      "source": [
        "Subset to entities belonging to the top 5 pathways only"
      ]
    },
    {
      "cell_type": "code",
      "execution_count": null,
      "metadata": {
        "id": "tJ8G7Td7QScW",
        "outputId": "342f7516-8184-4940-8e5c-d6b3e2822ff6"
      },
      "outputs": [
        {
          "name": "stdout",
          "output_type": "stream",
          "text": [
            "For n_clusters = 5 The average silhouette_score is : 0.06178188\n",
            "[-1.46988481e-02 -3.57877687e-02 -2.21006107e-02  3.76463793e-02\n",
            " -2.89285127e-02 -3.80517729e-02 -6.21075393e-04 -5.67128025e-02\n",
            "  7.53953159e-02  1.00347316e-02 -5.19343466e-03  6.46981448e-02\n",
            " -8.19759734e-04  2.57152808e-03  2.74726115e-02  7.43442327e-02\n",
            "  9.53564644e-02  6.49985075e-02  8.81480947e-02  4.23729494e-02\n",
            "  7.75073543e-02 -8.89795832e-04  1.20348930e-02 -6.00128016e-03\n",
            " -6.66644890e-03  3.95716242e-02  6.14319928e-02  4.19974253e-02\n",
            "  6.79746196e-02  2.14805566e-02 -1.15668001e-02 -3.67033444e-02\n",
            "  3.82798695e-04 -9.36352015e-02  1.33138411e-02 -1.57940965e-02\n",
            " -5.01585379e-02 -4.65147048e-02 -3.89890149e-02  6.79213479e-02\n",
            "  2.65883300e-02  2.24564504e-02  7.21492767e-02  6.44755065e-02\n",
            "  2.79934537e-02 -1.30170733e-01  1.23002939e-01 -4.30711592e-03\n",
            "  2.07314208e-01  5.05623594e-02  5.00601046e-02 -5.83274849e-02\n",
            " -6.74198195e-02  1.76461530e-03 -2.07826309e-02 -1.41692329e-02\n",
            " -1.77575182e-02 -5.17408773e-02 -5.61334146e-03 -2.89626811e-02\n",
            "  6.18741214e-02  1.48220882e-02 -4.02919091e-02  1.14336111e-01\n",
            "  1.00571409e-01  9.19291526e-02  6.08561151e-02  6.36323988e-02\n",
            " -6.71366528e-02  8.91914293e-02  1.51139526e-02  6.32203221e-02\n",
            "  9.30617452e-02  5.82542121e-02  1.10469460e-01  1.08412974e-01\n",
            "  1.05366185e-01  9.19501632e-02  8.40898380e-02  1.00941509e-01\n",
            "  7.08500147e-02  1.17769308e-01  5.99560477e-02  9.56258327e-02\n",
            " -4.46969606e-02 -5.47605427e-03  1.47971569e-03  3.03361844e-03\n",
            " -1.06126703e-02 -2.07295548e-02 -1.57449003e-02 -1.93980783e-02\n",
            " -2.80560423e-02  5.04991375e-02  8.01542103e-02 -1.81500465e-02\n",
            "  7.48929679e-02  1.10414304e-01 -6.13202676e-02 -2.54352875e-02\n",
            "  1.07980249e-02  3.26723248e-01 -5.74799813e-02 -6.45472854e-02\n",
            "  6.29950017e-02 -1.07241375e-03  7.91558437e-03 -8.98882095e-03\n",
            "  3.62128764e-03 -1.60305551e-03  6.51636207e-03  3.89168337e-02\n",
            "  6.41523525e-02  2.95577925e-02 -4.04119305e-02 -8.56799632e-03\n",
            " -2.05312595e-02 -1.88089032e-02 -2.62884889e-02 -4.77729551e-02\n",
            " -2.42884923e-02 -2.49202419e-02 -3.31567391e-03  1.43506341e-02\n",
            "  2.22492609e-02  1.41541651e-02  9.46681574e-03 -2.54303031e-02\n",
            "  1.90739781e-01  1.23805024e-01  1.61277384e-01  9.87762585e-02\n",
            "  9.09794644e-02  8.21937174e-02 -8.98573846e-02  8.41002241e-02\n",
            "  7.92026073e-02  1.14540011e-01  1.06424339e-01 -6.12568296e-02\n",
            " -7.03792423e-02  8.25114548e-02  7.75808692e-02 -1.22156478e-01\n",
            " -1.34459138e-01  1.17742561e-01  8.92784745e-02  8.36929083e-02\n",
            "  7.91080296e-03  2.49159113e-01  1.62211955e-02  1.43715192e-03\n",
            "  6.09778101e-03 -1.29075125e-01 -5.33514544e-02 -2.02493165e-02\n",
            " -3.06795333e-02  1.34880217e-02  2.57017538e-02 -3.68218757e-02\n",
            " -6.64843023e-02 -1.97422598e-03 -6.97003081e-02  2.68900860e-03\n",
            " -2.01568976e-02  8.46084114e-03  7.96990935e-03  8.71230382e-03\n",
            "  1.66310351e-02 -5.63724935e-02 -9.40252282e-03 -2.02113856e-03\n",
            " -2.79639270e-02 -3.23845237e-03 -3.69679220e-02  7.04106614e-02\n",
            "  3.93206701e-02 -2.17081737e-02 -3.08791902e-02 -2.65623387e-02\n",
            " -4.11361307e-02 -9.71612148e-03 -3.69888134e-02  1.41261578e-01\n",
            "  1.26192167e-01  6.39100596e-02  5.25251478e-02  7.58408150e-03\n",
            " -8.58129188e-03  2.10076660e-01  1.25315506e-02  1.56383008e-01\n",
            " -2.16753036e-02  7.81011432e-02  4.08080146e-02  9.01802927e-02\n",
            "  4.24717404e-02  5.09933531e-02  6.12604134e-02  8.40136707e-02\n",
            "  4.53741103e-02  8.25954229e-02  7.09614605e-02  1.11226104e-01\n",
            "  1.41469995e-02  6.66353852e-02 -4.89527471e-02  6.83247074e-02\n",
            "  3.46711315e-02  6.58085942e-02  7.98442736e-02  6.50686771e-02\n",
            "  7.20800087e-02  7.67830312e-02 -1.51992962e-02  1.19519578e-02\n",
            "  1.94443800e-02  1.30643591e-01  8.24306905e-02  3.90395559e-02\n",
            "  7.58340135e-02  7.56044686e-02  1.15514129e-01  2.50146799e-02\n",
            "  1.41941786e-01  4.61826958e-02  7.05066621e-02  1.25480399e-01\n",
            "  4.30747233e-02  9.01098996e-02 -2.01318432e-02  3.15212868e-02\n",
            " -2.11816244e-02 -3.69056351e-02 -5.38537018e-02 -2.89796218e-02\n",
            " -5.34039885e-02 -1.70423184e-02  4.51912023e-02  3.49987984e-01\n",
            "  3.98191921e-02 -1.94348861e-02  1.08601311e-02 -8.82815383e-03\n",
            " -4.73671593e-04  4.82993200e-02  5.37377298e-02 -1.87094659e-02\n",
            " -3.77754718e-02 -2.37902775e-02  7.44498149e-03  4.06176783e-02\n",
            " -1.69665173e-01 -3.83792166e-03 -6.38464792e-03  2.48702187e-02\n",
            "  1.79503160e-03  2.80521326e-02 -2.31565498e-02  7.35539123e-02\n",
            "  7.10776970e-02 -1.67955477e-02  3.21272910e-02  2.48024222e-02\n",
            " -5.04937321e-02  1.11247534e-02  6.17441945e-02  7.16992691e-02\n",
            "  8.45468044e-03  3.84759653e-04 -1.47095443e-06 -4.17124592e-02\n",
            " -5.94204850e-03  2.22223729e-01  1.42188042e-01 -5.94147621e-03\n",
            "  1.62660908e-02  1.87788531e-02  3.50614265e-03  5.14001527e-04\n",
            " -2.43263366e-03  2.10826676e-02 -9.53554455e-03  3.54287736e-02\n",
            " -1.60357058e-02 -4.54118894e-03  2.09196471e-02 -5.11924028e-02\n",
            " -5.68340197e-02 -6.42242783e-04  6.42913114e-03 -7.35125914e-02\n",
            " -6.87628090e-02 -9.42930877e-02  7.20120147e-02  7.53045082e-02\n",
            "  3.22757140e-02  3.49110030e-02  9.16156247e-02 -7.47834072e-02\n",
            " -4.29441407e-02 -1.25567347e-01  1.01227634e-01 -2.87088752e-02\n",
            " -1.65753681e-02 -3.42422388e-02  9.86003503e-03  1.42903393e-02\n",
            "  6.32894933e-02 -3.29960249e-02 -1.77963786e-02  3.21421064e-02\n",
            "  6.70764945e-04  6.99193776e-02  6.79467097e-02  7.74168074e-02\n",
            "  7.98367709e-02  5.20427376e-02  4.57999893e-02  5.50731458e-02\n",
            "  3.01340111e-02  6.54967725e-02  2.07659118e-02 -4.47585098e-02\n",
            "  1.69689278e-03 -6.27777576e-02  2.64474680e-03 -1.17020141e-02\n",
            "  8.46682640e-04 -5.44054108e-03  3.72192524e-02  1.28025813e-02\n",
            "  6.32405281e-02  5.34542128e-02  6.60642050e-03 -7.94512555e-02\n",
            "  5.06288968e-02 -1.33970557e-02 -3.02574150e-02  4.56344616e-03\n",
            " -1.12704793e-02 -4.13160212e-02 -1.78732984e-02  3.52790467e-02\n",
            " -3.09878290e-02  6.92530489e-03 -7.43798353e-03 -4.16867435e-02\n",
            " -1.88438650e-02  1.13671571e-02  1.05238028e-01  3.23503196e-01\n",
            "  1.97568476e-01  2.26472080e-01  2.53191292e-01  2.98413038e-01\n",
            "  2.20837131e-01  2.29688957e-01  2.28670850e-01  3.10102373e-01\n",
            "  2.67506510e-01  2.09851891e-01  2.47672901e-01  3.18042189e-01\n",
            "  1.71178982e-01  3.04526180e-01  1.16541594e-01  2.84307778e-01\n",
            "  3.37191939e-01  1.93519711e-01  2.89585084e-01  3.15863788e-01\n",
            "  1.81722835e-01  2.84244120e-01  3.02723944e-01  2.03465477e-01\n",
            "  2.83923060e-01  3.07778090e-01  3.14133227e-01  1.98431924e-01\n",
            "  3.19281340e-01  3.03926975e-01  3.67182016e-01  3.26713353e-01\n",
            "  2.46914610e-01  3.33597541e-01  2.70949334e-01  3.23287845e-01\n",
            "  3.45903814e-01  2.88968235e-01  2.20599040e-01  3.20197850e-01\n",
            "  2.95555592e-01  3.12587231e-01  2.96907425e-01  2.63817340e-01\n",
            "  2.38506332e-01  1.81646854e-01  2.26544604e-01  1.87175080e-01\n",
            "  2.30604917e-01  3.23983461e-01  3.38014990e-01  3.08933496e-01\n",
            "  1.85358986e-01  3.04887891e-01  3.37030500e-01  2.69762397e-01\n",
            "  3.63928378e-01  2.84944475e-01  3.16602468e-01  3.48984778e-01\n",
            "  3.68558377e-01  3.53494734e-01  2.85579592e-01  3.15863609e-01\n",
            "  3.44337463e-01  2.82603621e-01  2.82184839e-01  2.47072950e-01\n",
            "  5.96831813e-02  2.67194480e-01  3.05183589e-01  1.81230549e-02\n",
            "  3.34522454e-04  5.30116186e-02  3.92488539e-02 -1.60115007e-02\n",
            " -2.39246469e-02  8.33536610e-02  5.14890328e-02  3.40813473e-02\n",
            "  3.66273671e-02 -6.65881578e-03 -3.66235938e-04 -9.33095999e-03\n",
            "  2.03181058e-02  2.44869478e-02  4.85608056e-02  1.68212736e-03\n",
            "  1.19534228e-02  4.02845554e-02  1.08276522e-02 -7.68085476e-03\n",
            " -2.13195942e-02  7.26895407e-02  7.97827393e-02  3.05976253e-02\n",
            "  6.68511540e-03 -2.41601840e-02 -2.95879170e-02 -1.40481042e-02\n",
            "  5.48109785e-02  3.35281342e-02 -6.02914654e-02  4.78907414e-02\n",
            " -2.69554164e-02 -1.76878739e-02 -1.68337487e-02 -1.03684487e-02\n",
            " -7.14642182e-03  1.36207744e-01  1.39367944e-02  4.60905060e-02\n",
            " -7.44593935e-03 -1.98997743e-02 -2.04384350e-03 -3.10901225e-01\n",
            "  3.26126739e-02 -6.23130836e-02  1.68715492e-02 -4.24734652e-02\n",
            " -2.75648907e-02  7.74846449e-02 -1.41177317e-02 -2.33950149e-02\n",
            " -1.00813899e-02 -1.88564043e-02 -5.23047335e-03 -1.90355107e-02\n",
            " -1.43171977e-02  4.50569429e-02  4.49377149e-02 -5.77017441e-02\n",
            "  4.25329320e-02 -1.07507318e-01  1.92501489e-02  5.43532334e-02\n",
            " -9.41298679e-02 -1.41256154e-01 -6.33336380e-02 -6.56078905e-02\n",
            "  6.39759470e-03  5.61466217e-02 -3.51265818e-02 -1.64054148e-02\n",
            " -2.64866278e-02  1.02803610e-01  4.08394029e-03  7.76326358e-02\n",
            "  1.13770887e-01  8.30366760e-02  1.76925048e-01  7.24987090e-02\n",
            "  1.29905269e-01  7.40402862e-02  1.15880936e-01  1.42844349e-01\n",
            "  1.38294503e-01  8.78874958e-02  1.32135987e-01  1.27427369e-01\n",
            "  8.41280967e-02  1.21105693e-01  1.09844647e-01  8.20942000e-02\n",
            "  1.59942031e-01  4.45182808e-02 -3.31621021e-02  1.36113226e-01\n",
            "  4.85191569e-02  5.43170422e-02  1.16105944e-01  1.23345412e-01\n",
            "  1.15694068e-01  5.16937822e-02  9.83716175e-02  1.35999188e-01\n",
            "  1.00751638e-01  8.47202912e-02  5.65315112e-02  1.47998989e-01\n",
            "  1.25874072e-01  1.28758460e-01  1.03352442e-01  8.25590938e-02\n",
            "  1.32134169e-01  1.03943840e-01  1.30979061e-01  1.08963856e-03\n",
            " -1.58659033e-02  1.16712034e-01  1.13205053e-01 -2.38551367e-02\n",
            "  3.14664990e-01 -3.00636943e-02  1.06558762e-02 -6.13984838e-03\n",
            " -5.16719371e-02  1.49675300e-02 -2.71845683e-02 -4.88191610e-03\n",
            "  5.59025705e-02 -1.69772115e-02 -8.35199375e-03  1.17044783e-06\n",
            " -3.42818536e-03  8.17176923e-02  1.74817532e-01  8.50789919e-02\n",
            " -1.36517007e-02  8.78185481e-02  4.95290235e-02  8.46788287e-02\n",
            "  7.15219155e-02  6.19533621e-02  7.58490115e-02  2.70685796e-02\n",
            "  8.90992731e-02  4.59014624e-02  4.42411117e-02  3.83414850e-02\n",
            "  8.97928774e-02  6.13165721e-02  8.62114131e-03 -8.96916352e-03\n",
            "  4.25652489e-02 -2.80209146e-02 -4.44776341e-02 -5.02813868e-02\n",
            " -1.76164799e-03 -4.55326140e-02  1.81657653e-02 -3.30265202e-02\n",
            "  4.57086191e-02  1.32140014e-02  6.14860794e-03  1.04947947e-01\n",
            " -9.10861604e-03  1.27583683e-01  2.21855193e-03  1.83735996e-01\n",
            "  1.37882605e-01  1.02308273e-01  1.72469646e-01  6.75065890e-02\n",
            "  1.58670083e-01  9.05956998e-02  2.47655958e-01  1.76590070e-01\n",
            "  1.60095230e-01  1.21913195e-01  1.18355833e-01  6.84744269e-02\n",
            "  8.52578580e-02  1.37980163e-01  1.81003243e-01  1.48700863e-01\n",
            "  2.26115867e-01  1.08362779e-01  1.90747082e-01  1.56632513e-01\n",
            "  1.43514574e-01  1.83343619e-01  1.46900654e-01  1.66138604e-01\n",
            "  1.26806960e-01  1.42337769e-01  1.98293954e-01  1.80367783e-01\n",
            "  8.96209478e-02  1.84671119e-01  1.38470605e-01  1.87499091e-01\n",
            "  2.09598541e-01  1.42062634e-01  9.43530053e-02  1.51338741e-01\n",
            "  1.63170367e-01  2.32811779e-01  1.71438783e-01  8.52766484e-02\n",
            "  2.00347647e-01  8.61958116e-02  1.96490347e-01  1.60294354e-01\n",
            "  9.18952078e-02  8.67842734e-02  1.55784115e-01  1.16447374e-01\n",
            "  1.28789946e-01  7.24554583e-02  1.58811286e-01  1.43143788e-01\n",
            "  7.71170631e-02  1.72541425e-01  1.62780181e-01  8.89223590e-02\n",
            "  1.66509822e-01  1.56091362e-01  1.88164681e-01  1.73894256e-01\n",
            "  1.22827426e-01  1.68356508e-01  1.68521497e-02  1.77965134e-01\n",
            "  1.83441594e-01  2.02522457e-01  7.04072863e-02  1.25609010e-01\n",
            "  1.35030150e-01  2.25842774e-01  2.12719887e-01  2.56956726e-01\n",
            "  2.18412802e-01  1.35889605e-01  1.05778933e-01 -2.51235273e-02\n",
            " -1.78104956e-02 -2.97581684e-02 -5.16988076e-02 -1.76941510e-02\n",
            " -3.45906913e-02 -2.01131459e-02 -1.95464902e-02 -2.68014316e-02\n",
            " -3.71504482e-03 -2.84848977e-02  5.17747104e-02  1.43436566e-02\n",
            " -8.77130311e-03  5.18247345e-03  2.05221470e-04 -3.08683459e-02\n",
            "  1.10150473e-02 -5.96033670e-02 -2.32464429e-02  1.63332984e-01\n",
            "  1.30625844e-01 -7.13818967e-02 -2.88516525e-02 -1.04256682e-02\n",
            " -1.17789824e-02  4.41837050e-02  8.84940997e-02  6.48275912e-02\n",
            "  5.60836270e-02  1.01084836e-01  5.95422648e-02  4.66386601e-02\n",
            "  6.93754181e-02  6.83212802e-02 -4.87688705e-02  1.01131597e-03\n",
            "  4.00762074e-02  5.82358427e-02 -1.10436969e-01  8.89457688e-02\n",
            "  8.90523195e-02  3.55948843e-02  5.52074984e-02 -1.01589508e-01\n",
            " -6.11259304e-02  1.04192697e-01  1.12416418e-02 -6.46841750e-02\n",
            " -2.03969814e-02 -2.60890294e-02  1.41044157e-02 -1.14154816e-02\n",
            " -2.58531831e-02 -1.00178331e-01  1.76617187e-02  1.18420664e-02\n",
            " -8.45111012e-02  6.80156946e-02 -9.79694426e-02 -1.01937450e-01\n",
            " -4.84067164e-02  1.16567247e-01 -3.56187411e-02 -5.81121072e-03\n",
            " -4.23157215e-03  2.66613550e-02  1.15532994e-01  1.78227931e-01\n",
            "  6.64353818e-02  4.90472168e-02  1.35217264e-01  1.08756430e-01\n",
            " -6.98027527e-03  1.31028801e-01  1.28334671e-01  5.41052185e-02\n",
            "  6.13092519e-02  1.15169480e-01 -5.33299260e-02  1.65363193e-01\n",
            "  1.55385792e-01  1.37739807e-01  8.39200243e-02  8.58895108e-02\n",
            "  9.86021832e-02  1.27706140e-01  1.01939984e-01  8.33651200e-02\n",
            "  9.65674743e-02  2.72374917e-02  6.75901547e-02  1.56257242e-01\n",
            "  1.07143410e-01  1.54457942e-01  6.58862218e-02  7.97462538e-02\n",
            "  2.86351275e-02  6.54732287e-02  1.10642292e-01  7.93813094e-02\n",
            "  9.87123400e-02  7.61867017e-02  1.00820579e-01  3.79696377e-02\n",
            "  8.81465003e-02 -3.50538082e-02  8.41290429e-02  8.65499452e-02\n",
            "  3.24450694e-02  5.21706603e-02  1.08432351e-02  1.70089602e-02\n",
            " -2.43744180e-02 -6.98332954e-03 -7.45588169e-03  8.95771161e-02\n",
            "  9.39214006e-02  7.27036223e-02  1.22008316e-01  1.21700102e-02\n",
            " -2.12101974e-02  8.94525871e-02  1.82177387e-02 -5.79684079e-02\n",
            "  5.79650402e-02  1.31294295e-01 -6.80007190e-02 -2.00003851e-02\n",
            " -3.86884362e-02 -6.03397237e-03]\n"
          ]
        },
        {
          "name": "stderr",
          "output_type": "stream",
          "text": [
            "/usr/local/lib/python3.9/site-packages/sklearn/utils/validation.py:993: DataConversionWarning: A column-vector y was passed when a 1d array was expected. Please change the shape of y to (n_samples, ), for example using ravel().\n",
            "  y = column_or_1d(y, warn=True)\n",
            "/usr/local/lib/python3.9/site-packages/sklearn/utils/validation.py:993: DataConversionWarning: A column-vector y was passed when a 1d array was expected. Please change the shape of y to (n_samples, ), for example using ravel().\n",
            "  y = column_or_1d(y, warn=True)\n"
          ]
        },
        {
          "data": {
            "image/png": "[encoded data removed]",
            "text/plain": [
              "<Figure size 432x288 with 1 Axes>"
            ]
          },
          "metadata": {
            "needs_background": "light"
          },
          "output_type": "display_data"
        },
        {
          "data": {
            "image/png": "[encoded data removed]",
            "text/plain": [
              "<Figure size 432x288 with 1 Axes>"
            ]
          },
          "metadata": {
            "needs_background": "light"
          },
          "output_type": "display_data"
        },
        {
          "data": {
            "image/png": "[encoded data removed]",
            "text/plain": [
              "<Figure size 432x288 with 1 Axes>"
            ]
          },
          "metadata": {
            "needs_background": "light"
          },
          "output_type": "display_data"
        },
        {
          "data": {
            "image/png": "[encoded data removed]",
            "text/plain": [
              "<Figure size 432x288 with 1 Axes>"
            ]
          },
          "metadata": {
            "needs_background": "light"
          },
          "output_type": "display_data"
        },
        {
          "data": {
            "image/png": "[encoded data removed]",
            "text/plain": [
              "<Figure size 432x288 with 1 Axes>"
            ]
          },
          "metadata": {
            "needs_background": "light"
          },
          "output_type": "display_data"
        }
      ],
      "source": [
        "import matplotlib.pyplot as plt\n",
        "import matplotlib.cm as cm\n",
        "from sklearn.metrics import silhouette_samples, silhouette_score\n",
        "\n",
        "#We are suing the 50D embedding space. Given our awful k selection, we end up \n",
        "# with a very low silhouette avergae. If computing distances on PCA space, \n",
        "# the silhouette score even becomes negative lol\n",
        "\n",
        "    # The silhouette_score gives the average value for all the samples.\n",
        "    # This gives a perspective into the density and separation of the formed\n",
        "    # clusters\n",
        "\n",
        "df2 = RDdataframe.loc[RDdataframe[\"pathway\"].isin(top5pathways)].dropna()\n",
        "df1 = testdf.loc[testdf.index.isin(df2.index)]\n",
        "\n",
        "silhouette_avg = silhouette_score(df1, df2[[\"pathway\"]])\n",
        "print(\n",
        "    \"For n_clusters =\",\n",
        "    len(df2[\"pathway\"].unique()),\n",
        "    \"The average silhouette_score is :\",\n",
        "    silhouette_avg,\n",
        ")\n",
        "\n",
        "# Compute the silhouette scores for each sample\n",
        "sample_silhouette_values = silhouette_samples(df1, df2[[\"pathway\"]])\n",
        "print(sample_silhouette_values)\n",
        "\n",
        "y_lower = 10\n",
        "counter = 0\n",
        "for i in top5pathways:\n",
        "    fig, ax = plt.subplots()\n",
        "    # Aggregate the silhouette scores for samples belonging to\n",
        "    # cluster i, and sort them\n",
        "    ith_cluster_silhouette_values = sample_silhouette_values[df2[\"pathway\"] == i]\n",
        "\n",
        "    ith_cluster_silhouette_values.sort()\n",
        "\n",
        "    size_cluster_i = ith_cluster_silhouette_values.shape[0]\n",
        "    y_upper = y_lower + size_cluster_i\n",
        "\n",
        "    color = cm.nipy_spectral(float(counter) / len(top5pathways))\n",
        "    ax.fill_betweenx(\n",
        "        np.arange(y_lower, y_upper),\n",
        "        0,\n",
        "        ith_cluster_silhouette_values,\n",
        "        facecolor=color,\n",
        "        edgecolor=color,\n",
        "        alpha=0.7,\n",
        "    )\n",
        "\n",
        "    # Label the silhouette plots with their cluster numbers at the middle\n",
        "    ax.text(-0.05, y_lower + 0.5 * size_cluster_i, str(i))\n",
        "\n",
        "    # Compute the new y_lower for next plot\n",
        "    y_lower = y_upper + 10  # 10 for the 0 samples\n",
        "    counter+=1"
      ]
    },
    {
      "cell_type": "markdown",
      "metadata": {
        "id": "pdauB98GQScY"
      },
      "source": [
        "Now, this looks promisisng. Among the top pathways, we can see how the silhouette scores kind of match the patterns seen on the PCA embedding, where some pathways are clearly localised in a region of the space (and linked with a subset of clusters), while others seem to be dispersed throughout.\n",
        "\n",
        "Biological signaficance of this should be somewhat easy to hypothesise on..."
      ]
    },
    {
      "cell_type": "markdown",
      "metadata": {
        "id": "d8rHTigyQSca"
      },
      "source": [
        "### TO-DO:\n",
        "\n",
        "For now, b4 lab meeting and input from PIs, the immediate things to work on are:\n",
        "\n",
        "- Exploration of KG metrics: i.e. connectivity, n of entities, and of relations\n",
        "    - It would be intersting to see entities with the highests in and out degrees, or perhaps look into graph centrality measures akin to the downstream analyses they have in CellChat....?)\n",
        "- Validate/QC current KGE:\n",
        "    - Permutation-based validation of pathways: Check if entities belonging to a pathway lay closer on the embedding than 2 entities at random. \n",
        "    Would need to define a **distance metric** and to permute at random.\n",
        "    - \"Manual\" exploration of the biggest pathways (those with the biggest number of entities).\n",
        "        - How big are they?\n",
        "        - Can they be compared with the unsupervised entity clusters?\n",
        "    - Silhouette analysis (or similar?)\n",
        "- ...\n",
        "- Shift to REACTOME FI database: Key point here is that that database allows for information on multiple types of interaction (relations) following pseudo-boolean logic\n",
        "- Shift to ENSEMBL IDs (prot or gene)? -> Not necessary but might be useful especially if we end up distinguishing btwn genes and proteins.\n",
        "\n",
        "Ask for feedback from Smita on key points:\n",
        "\n",
        "- Gene/Protein distinction?\n",
        "- Pathway entities with belongs to pathway relation (as in Hetionet)?"
      ]
    },
    {
      "cell_type": "markdown",
      "metadata": {
        "id": "22LFL__5QScb"
      },
      "source": [
        "## Save/Load metada"
      ]
    },
    {
      "cell_type": "code",
      "execution_count": null,
      "metadata": {
        "id": "x0KVQcz4QScc"
      },
      "outputs": [],
      "source": [
        "RDdataframe.to_csv(\"RDdataframe.csv\")"
      ]
    },
    {
      "cell_type": "code",
      "execution_count": null,
      "metadata": {
        "id": "rM8tN4SYQScd",
        "outputId": "0ffa6f05-6966-4f7a-eaff-5178a5d4f65f"
      },
      "outputs": [
        {
          "data": {
            "text/html": [
              "<div>\n",
              "<style scoped>\n",
              "    .dataframe tbody tr th:only-of-type {\n",
              "        vertical-align: middle;\n",
              "    }\n",
              "\n",
              "    .dataframe tbody tr th {\n",
              "        vertical-align: top;\n",
              "    }\n",
              "\n",
              "    .dataframe thead th {\n",
              "        text-align: right;\n",
              "    }\n",
              "</style>\n",
              "<table border=\"1\" class=\"dataframe\">\n",
              "  <thead>\n",
              "    <tr style=\"text-align: right;\">\n",
              "      <th></th>\n",
              "      <th>0</th>\n",
              "      <th>1</th>\n",
              "      <th>clust</th>\n",
              "      <th>pathway</th>\n",
              "    </tr>\n",
              "    <tr>\n",
              "      <th>GeneSymbol</th>\n",
              "      <th></th>\n",
              "      <th></th>\n",
              "      <th></th>\n",
              "      <th></th>\n",
              "    </tr>\n",
              "  </thead>\n",
              "  <tbody>\n",
              "    <tr>\n",
              "      <th>NaN</th>\n",
              "      <td>0.061198</td>\n",
              "      <td>0.168258</td>\n",
              "      <td>2</td>\n",
              "      <td>NaN</td>\n",
              "    </tr>\n",
              "    <tr>\n",
              "      <th>0610009B22Rik</th>\n",
              "      <td>-0.114831</td>\n",
              "      <td>-0.048106</td>\n",
              "      <td>10</td>\n",
              "      <td>NaN</td>\n",
              "    </tr>\n",
              "    <tr>\n",
              "      <th>0610010K14Rik</th>\n",
              "      <td>0.119326</td>\n",
              "      <td>0.313578</td>\n",
              "      <td>8</td>\n",
              "      <td>NaN</td>\n",
              "    </tr>\n",
              "    <tr>\n",
              "      <th>0610040J01Rik</th>\n",
              "      <td>-0.006011</td>\n",
              "      <td>0.056494</td>\n",
              "      <td>0</td>\n",
              "      <td>NaN</td>\n",
              "    </tr>\n",
              "    <tr>\n",
              "      <th>1110004F10Rik</th>\n",
              "      <td>0.030857</td>\n",
              "      <td>-0.027825</td>\n",
              "      <td>6</td>\n",
              "      <td>NaN</td>\n",
              "    </tr>\n",
              "    <tr>\n",
              "      <th>...</th>\n",
              "      <td>...</td>\n",
              "      <td>...</td>\n",
              "      <td>...</td>\n",
              "      <td>...</td>\n",
              "    </tr>\n",
              "    <tr>\n",
              "      <th>mt-Nd3</th>\n",
              "      <td>0.006951</td>\n",
              "      <td>-0.058934</td>\n",
              "      <td>0</td>\n",
              "      <td>Complex I biogenesis</td>\n",
              "    </tr>\n",
              "    <tr>\n",
              "      <th>mt-Nd4</th>\n",
              "      <td>-0.004138</td>\n",
              "      <td>-0.064950</td>\n",
              "      <td>0</td>\n",
              "      <td>Complex I biogenesis</td>\n",
              "    </tr>\n",
              "    <tr>\n",
              "      <th>mt-Nd4l</th>\n",
              "      <td>0.080365</td>\n",
              "      <td>-0.052546</td>\n",
              "      <td>0</td>\n",
              "      <td>NaN</td>\n",
              "    </tr>\n",
              "    <tr>\n",
              "      <th>mt-Nd5</th>\n",
              "      <td>-0.040858</td>\n",
              "      <td>-0.170187</td>\n",
              "      <td>0</td>\n",
              "      <td>Complex I biogenesis</td>\n",
              "    </tr>\n",
              "    <tr>\n",
              "      <th>mt-Nd6</th>\n",
              "      <td>0.017291</td>\n",
              "      <td>-0.131077</td>\n",
              "      <td>0</td>\n",
              "      <td>Complex I biogenesis</td>\n",
              "    </tr>\n",
              "  </tbody>\n",
              "</table>\n",
              "<p>16232 rows × 4 columns</p>\n",
              "</div>"
            ],
            "text/plain": [
              "                      0         1  clust               pathway\n",
              "GeneSymbol                                                    \n",
              "NaN            0.061198  0.168258      2                   NaN\n",
              "0610009B22Rik -0.114831 -0.048106     10                   NaN\n",
              "0610010K14Rik  0.119326  0.313578      8                   NaN\n",
              "0610040J01Rik -0.006011  0.056494      0                   NaN\n",
              "1110004F10Rik  0.030857 -0.027825      6                   NaN\n",
              "...                 ...       ...    ...                   ...\n",
              "mt-Nd3         0.006951 -0.058934      0  Complex I biogenesis\n",
              "mt-Nd4        -0.004138 -0.064950      0  Complex I biogenesis\n",
              "mt-Nd4l        0.080365 -0.052546      0                   NaN\n",
              "mt-Nd5        -0.040858 -0.170187      0  Complex I biogenesis\n",
              "mt-Nd6         0.017291 -0.131077      0  Complex I biogenesis\n",
              "\n",
              "[16232 rows x 4 columns]"
            ]
          },
          "execution_count": 2,
          "metadata": {},
          "output_type": "execute_result"
        }
      ],
      "source": [
        "RDdataframe = pd.read_csv(\"RDdataframe.csv\", index_col=\"GeneSymbol\")\n",
        "RDdataframe"
      ]
    }
  ],
  "metadata": {
    "kernelspec": {
      "display_name": "Python 3.9.13 64-bit",
      "language": "python",
      "name": "python3"
    },
    "language_info": {
      "codemirror_mode": {
        "name": "ipython",
        "version": 3
      },
      "file_extension": ".py",
      "mimetype": "text/x-python",
      "name": "python",
      "nbconvert_exporter": "python",
      "pygments_lexer": "ipython3",
      "version": "3.9.13"
    },
    "orig_nbformat": 4,
    "vscode": {
      "interpreter": {
        "hash": "949777d72b0d2535278d3dc13498b2535136f6dfe0678499012e853ee9abcab1"
      }
    },
    "colab": {
      "provenance": []
    },
    "accelerator": "GPU",
    "gpuClass": "standard"
  },
  "nbformat": 4,
  "nbformat_minor": 0
}