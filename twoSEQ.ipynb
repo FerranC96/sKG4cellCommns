{
 "cells": [
  {
   "cell_type": "code",
   "execution_count": null,
   "metadata": {},
   "outputs": [],
   "source": [
    "# #To be used on cloud platforms\n",
    "\n",
    "# ! python -c \"import pykeen\" || pip install pykeen\n",
    "# ! python -c \"import scprep\" || pip install scprep"
   ]
  },
  {
   "cell_type": "code",
   "execution_count": 16,
   "metadata": {},
   "outputs": [],
   "source": [
    "import os, pandas as pd, numpy as np, scanpy, networkx, scprep\n",
    "import rpy2, rpy2.situation\n"
   ]
  },
  {
   "cell_type": "code",
   "execution_count": 17,
   "metadata": {},
   "outputs": [
    {
     "name": "stdout",
     "output_type": "stream",
     "text": [
      "/Users/ferran/PhD/yaleCollab\n"
     ]
    }
   ],
   "source": [
    "print(os.getcwd())\n",
    "data_dir = f\"{os.getcwd()}/data\"\n",
    "kge_dir = f\"{os.getcwd()}/KGEs\""
   ]
  },
  {
   "cell_type": "markdown",
   "metadata": {},
   "source": [
    "# DataBases\n",
    "\n",
    "The integrated database is the object ingested by pykeen's *TriplesFactory*."
   ]
  },
  {
   "cell_type": "code",
   "execution_count": 3,
   "metadata": {},
   "outputs": [
    {
     "name": "stdout",
     "output_type": "stream",
     "text": [
      "    head       relation    tail pathway\n",
      "0  Tgfb1  LRinteraction  Tgfbr1    TGFb\n",
      "1  Tgfb1  LRinteraction  Tgfbr2    TGFb\n",
      "2  Tgfb2  LRinteraction  Tgfbr1    TGFb\n",
      "3  Tgfb2  LRinteraction  Tgfbr2    TGFb\n",
      "4  Tgfb3  LRinteraction  Tgfbr1    TGFb\n",
      "    head  relation   tail\n",
      "0  Gnai3  FIstring  Prkca\n",
      "1  Gnai3  FIstring  Rgs18\n",
      "2  Gnai3  FIstring  Gpsm2\n",
      "3  Gnai3  FIstring  Adrb3\n",
      "4  Gnai3  FIstring  Gnat2\n"
     ]
    }
   ],
   "source": [
    "print(pd.read_csv(f\"{data_dir}/dCellChat.tsv\", sep=\"\\t\").head())\n",
    "print(pd.read_csv(f\"{data_dir}/dSTRING.tsv\", sep=\"\\t\").head())"
   ]
  },
  {
   "cell_type": "code",
   "execution_count": 4,
   "metadata": {},
   "outputs": [
    {
     "data": {
      "text/html": [
       "<div>\n",
       "<style scoped>\n",
       "    .dataframe tbody tr th:only-of-type {\n",
       "        vertical-align: middle;\n",
       "    }\n",
       "\n",
       "    .dataframe tbody tr th {\n",
       "        vertical-align: top;\n",
       "    }\n",
       "\n",
       "    .dataframe thead th {\n",
       "        text-align: right;\n",
       "    }\n",
       "</style>\n",
       "<table border=\"1\" class=\"dataframe\">\n",
       "  <thead>\n",
       "    <tr style=\"text-align: right;\">\n",
       "      <th></th>\n",
       "      <th>0</th>\n",
       "      <th>1</th>\n",
       "      <th>2</th>\n",
       "    </tr>\n",
       "  </thead>\n",
       "  <tbody>\n",
       "    <tr>\n",
       "      <th>0</th>\n",
       "      <td>Tgfb1</td>\n",
       "      <td>LRinteraction</td>\n",
       "      <td>Tgfbr1</td>\n",
       "    </tr>\n",
       "    <tr>\n",
       "      <th>1</th>\n",
       "      <td>Tgfb1</td>\n",
       "      <td>LRinteraction</td>\n",
       "      <td>Tgfbr2</td>\n",
       "    </tr>\n",
       "    <tr>\n",
       "      <th>2</th>\n",
       "      <td>Tgfb2</td>\n",
       "      <td>LRinteraction</td>\n",
       "      <td>Tgfbr1</td>\n",
       "    </tr>\n",
       "    <tr>\n",
       "      <th>3</th>\n",
       "      <td>Tgfb2</td>\n",
       "      <td>LRinteraction</td>\n",
       "      <td>Tgfbr2</td>\n",
       "    </tr>\n",
       "    <tr>\n",
       "      <th>4</th>\n",
       "      <td>Tgfb3</td>\n",
       "      <td>LRinteraction</td>\n",
       "      <td>Tgfbr1</td>\n",
       "    </tr>\n",
       "    <tr>\n",
       "      <th>...</th>\n",
       "      <td>...</td>\n",
       "      <td>...</td>\n",
       "      <td>...</td>\n",
       "    </tr>\n",
       "    <tr>\n",
       "      <th>439018</th>\n",
       "      <td>Gm28635</td>\n",
       "      <td>FIstring</td>\n",
       "      <td>Arhgap35</td>\n",
       "    </tr>\n",
       "    <tr>\n",
       "      <th>439019</th>\n",
       "      <td>Gm28635</td>\n",
       "      <td>FIstring</td>\n",
       "      <td>Cdh17</td>\n",
       "    </tr>\n",
       "    <tr>\n",
       "      <th>439020</th>\n",
       "      <td>Gm28635</td>\n",
       "      <td>FIstring</td>\n",
       "      <td>Kif5b</td>\n",
       "    </tr>\n",
       "    <tr>\n",
       "      <th>439021</th>\n",
       "      <td>Gm28635</td>\n",
       "      <td>FIstring</td>\n",
       "      <td>Tjp3</td>\n",
       "    </tr>\n",
       "    <tr>\n",
       "      <th>439022</th>\n",
       "      <td>Carf</td>\n",
       "      <td>FIstring</td>\n",
       "      <td>Cpa5</td>\n",
       "    </tr>\n",
       "  </tbody>\n",
       "</table>\n",
       "<p>439023 rows × 3 columns</p>\n",
       "</div>"
      ],
      "text/plain": [
       "              0              1         2\n",
       "0         Tgfb1  LRinteraction    Tgfbr1\n",
       "1         Tgfb1  LRinteraction    Tgfbr2\n",
       "2         Tgfb2  LRinteraction    Tgfbr1\n",
       "3         Tgfb2  LRinteraction    Tgfbr2\n",
       "4         Tgfb3  LRinteraction    Tgfbr1\n",
       "...         ...            ...       ...\n",
       "439018  Gm28635       FIstring  Arhgap35\n",
       "439019  Gm28635       FIstring     Cdh17\n",
       "439020  Gm28635       FIstring     Kif5b\n",
       "439021  Gm28635       FIstring      Tjp3\n",
       "439022     Carf       FIstring      Cpa5\n",
       "\n",
       "[439023 rows x 3 columns]"
      ]
     },
     "execution_count": 4,
     "metadata": {},
     "output_type": "execute_result"
    }
   ],
   "source": [
    "pd.read_csv(f\"{data_dir}/dINT_simpl.tsv\", sep=\"\\t\", header=None)"
   ]
  },
  {
   "cell_type": "markdown",
   "metadata": {},
   "source": [
    "From the integrated database, let's make a pandas dataframe that has only the \n",
    "source and target columns and then use that to make a NetworkX Graph object \n",
    "with `from_pandas_edgelist`\n",
    "\n",
    "Then, once the scRNAseq has been loaded in, we can also subset the genes in \n",
    "this dataframe to those present in the scRNA-seq count matrix."
   ]
  },
  {
   "cell_type": "code",
   "execution_count": 8,
   "metadata": {},
   "outputs": [
    {
     "name": "stdout",
     "output_type": "stream",
     "text": [
      "(439023, 2)\n"
     ]
    },
    {
     "data": {
      "text/html": [
       "<div>\n",
       "<style scoped>\n",
       "    .dataframe tbody tr th:only-of-type {\n",
       "        vertical-align: middle;\n",
       "    }\n",
       "\n",
       "    .dataframe tbody tr th {\n",
       "        vertical-align: top;\n",
       "    }\n",
       "\n",
       "    .dataframe thead th {\n",
       "        text-align: right;\n",
       "    }\n",
       "</style>\n",
       "<table border=\"1\" class=\"dataframe\">\n",
       "  <thead>\n",
       "    <tr style=\"text-align: right;\">\n",
       "      <th></th>\n",
       "      <th>0</th>\n",
       "      <th>2</th>\n",
       "    </tr>\n",
       "  </thead>\n",
       "  <tbody>\n",
       "    <tr>\n",
       "      <th>0</th>\n",
       "      <td>Tgfb1</td>\n",
       "      <td>Tgfbr1</td>\n",
       "    </tr>\n",
       "    <tr>\n",
       "      <th>1</th>\n",
       "      <td>Tgfb1</td>\n",
       "      <td>Tgfbr2</td>\n",
       "    </tr>\n",
       "    <tr>\n",
       "      <th>2</th>\n",
       "      <td>Tgfb2</td>\n",
       "      <td>Tgfbr1</td>\n",
       "    </tr>\n",
       "    <tr>\n",
       "      <th>3</th>\n",
       "      <td>Tgfb2</td>\n",
       "      <td>Tgfbr2</td>\n",
       "    </tr>\n",
       "    <tr>\n",
       "      <th>4</th>\n",
       "      <td>Tgfb3</td>\n",
       "      <td>Tgfbr1</td>\n",
       "    </tr>\n",
       "    <tr>\n",
       "      <th>...</th>\n",
       "      <td>...</td>\n",
       "      <td>...</td>\n",
       "    </tr>\n",
       "    <tr>\n",
       "      <th>438929</th>\n",
       "      <td>Paqr8</td>\n",
       "      <td>Efhc1</td>\n",
       "    </tr>\n",
       "    <tr>\n",
       "      <th>438930</th>\n",
       "      <td>Teddm3</td>\n",
       "      <td>Tmem198b</td>\n",
       "    </tr>\n",
       "    <tr>\n",
       "      <th>438931</th>\n",
       "      <td>Teddm3</td>\n",
       "      <td>Slc7a15</td>\n",
       "    </tr>\n",
       "    <tr>\n",
       "      <th>438943</th>\n",
       "      <td>Cys1</td>\n",
       "      <td>Fut2</td>\n",
       "    </tr>\n",
       "    <tr>\n",
       "      <th>438944</th>\n",
       "      <td>Cys1</td>\n",
       "      <td>Cth</td>\n",
       "    </tr>\n",
       "  </tbody>\n",
       "</table>\n",
       "<p>348028 rows × 2 columns</p>\n",
       "</div>"
      ],
      "text/plain": [
       "             0         2\n",
       "0        Tgfb1    Tgfbr1\n",
       "1        Tgfb1    Tgfbr2\n",
       "2        Tgfb2    Tgfbr1\n",
       "3        Tgfb2    Tgfbr2\n",
       "4        Tgfb3    Tgfbr1\n",
       "...        ...       ...\n",
       "438929   Paqr8     Efhc1\n",
       "438930  Teddm3  Tmem198b\n",
       "438931  Teddm3   Slc7a15\n",
       "438943    Cys1      Fut2\n",
       "438944    Cys1       Cth\n",
       "\n",
       "[348028 rows x 2 columns]"
      ]
     },
     "execution_count": 8,
     "metadata": {},
     "output_type": "execute_result"
    }
   ],
   "source": [
    "dEdgeList = pd.read_csv(f\"{data_dir}/dINT_simpl.tsv\", sep=\"\\t\", header=None)[[0,2]]\n",
    "print(dEdgeList.shape)\n",
    "\n",
    "#Filter rows if either column not in list(dGenesSEQ)\n",
    "dEdgeList = dEdgeList.loc[dEdgeList[0].isin(list(dGenesSeq)) & dEdgeList[2].isin(list(dGenesSeq))]\n",
    "dEdgeList"
   ]
  },
  {
   "cell_type": "markdown",
   "metadata": {},
   "source": [
    "# scRNAseq data\n",
    "\n",
    "We will have to use rpy to import the seurat object with the data. From there we already have code (from RNA Velo NBs) to extract metadata. Need to extract count matrices."
   ]
  },
  {
   "cell_type": "code",
   "execution_count": 18,
   "metadata": {},
   "outputs": [
    {
     "name": "stdout",
     "output_type": "stream",
     "text": [
      "\u001b[1mrpy2 version:\u001b[0m\n",
      "3.4.5\n",
      "\u001b[1mPython version:\u001b[0m\n",
      "3.9.13 (main, Aug  7 2022, 01:33:23) \n",
      "[Clang 13.1.6 (clang-1316.0.21.2.5)]\n",
      "\u001b[1mLooking for R's HOME:\u001b[0m\n",
      "    Environment variable R_HOME: /usr/local/Cellar/r/4.2.1_2/lib/R\n",
      "    Calling `R RHOME`: /usr/local/Cellar/r/4.2.1_4/lib/R\n",
      "    Environment variable R_LIBS_USER: None\n",
      "    Warning: The environment variable R_HOME differs from the default R in the PATH.\n",
      "\u001b[1mR's additions to LD_LIBRARY_PATH:\u001b[0m\n",
      "\n",
      "\u001b[1mR version:\u001b[0m\n",
      "    In the PATH: R version 4.2.1 (2022-06-23) -- \"Funny-Looking Kid\"\n",
      "    Loading R library from rpy2: OK\n",
      "\u001b[1mAdditional directories to load R packages from:\u001b[0m\n",
      "None\n",
      "\u001b[1mC extension compilation:\u001b[0m\n"
     ]
    },
    {
     "ename": "FileNotFoundError",
     "evalue": "[Errno 2] No such file or directory: '/usr/local/Cellar/r/4.2.1_2/lib/R/bin/R'",
     "output_type": "error",
     "traceback": [
      "\u001b[0;31m---------------------------------------------------------------------------\u001b[0m",
      "\u001b[0;31mFileNotFoundError\u001b[0m                         Traceback (most recent call last)",
      "\u001b[1;32m/Users/ferran/PhD/yaleCollab/twoSEQ.ipynb Cell 10\u001b[0m in \u001b[0;36m<cell line: 1>\u001b[0;34m()\u001b[0m\n\u001b[0;32m----> <a href='vscode-notebook-cell://ssh-remote%2Bpc8-148.cancer.ucl.ac.uk/Users/ferran/PhD/yaleCollab/twoSEQ.ipynb#X12sdnNjb2RlLXJlbW90ZQ%3D%3D?line=0'>1</a>\u001b[0m \u001b[39mfor\u001b[39;00m i \u001b[39min\u001b[39;00m rpy2\u001b[39m.\u001b[39msituation\u001b[39m.\u001b[39miter_info(): \u001b[39m# Print Rpy2 info\u001b[39;00m\n\u001b[1;32m      <a href='vscode-notebook-cell://ssh-remote%2Bpc8-148.cancer.ucl.ac.uk/Users/ferran/PhD/yaleCollab/twoSEQ.ipynb#X12sdnNjb2RlLXJlbW90ZQ%3D%3D?line=1'>2</a>\u001b[0m     \u001b[39mprint\u001b[39m(i)\n",
      "File \u001b[0;32m/usr/local/lib/python3.9/site-packages/rpy2/situation.py:365\u001b[0m, in \u001b[0;36miter_info\u001b[0;34m()\u001b[0m\n\u001b[1;32m    363\u001b[0m \u001b[39melse\u001b[39;00m:\n\u001b[1;32m    364\u001b[0m     \u001b[39mtry\u001b[39;00m:\n\u001b[0;32m--> 365\u001b[0m         c_ext\u001b[39m.\u001b[39madd_lib(\u001b[39m*\u001b[39mget_r_flags(r_home, \u001b[39m'\u001b[39;49m\u001b[39m--ldflags\u001b[39;49m\u001b[39m'\u001b[39;49m))\n\u001b[1;32m    366\u001b[0m         c_ext\u001b[39m.\u001b[39madd_include(\u001b[39m*\u001b[39mget_r_flags(r_home, \u001b[39m'\u001b[39m\u001b[39m--cppflags\u001b[39m\u001b[39m'\u001b[39m))\n\u001b[1;32m    367\u001b[0m         \u001b[39myield\u001b[39;00m \u001b[39m'\u001b[39m\u001b[39m  include:\u001b[39m\u001b[39m'\u001b[39m\n",
      "File \u001b[0;32m/usr/local/lib/python3.9/site-packages/rpy2/situation.py:226\u001b[0m, in \u001b[0;36mget_r_flags\u001b[0;34m(r_home, flags)\u001b[0m\n\u001b[1;32m    221\u001b[0m parser\u001b[39m.\u001b[39madd_argument(\u001b[39m'\u001b[39m\u001b[39m-L\u001b[39m\u001b[39m'\u001b[39m, action\u001b[39m=\u001b[39m\u001b[39m'\u001b[39m\u001b[39mappend\u001b[39m\u001b[39m'\u001b[39m)\n\u001b[1;32m    222\u001b[0m parser\u001b[39m.\u001b[39madd_argument(\u001b[39m'\u001b[39m\u001b[39m-l\u001b[39m\u001b[39m'\u001b[39m, action\u001b[39m=\u001b[39m\u001b[39m'\u001b[39m\u001b[39mappend\u001b[39m\u001b[39m'\u001b[39m)\n\u001b[1;32m    224\u001b[0m res \u001b[39m=\u001b[39m shlex\u001b[39m.\u001b[39msplit(\n\u001b[1;32m    225\u001b[0m     \u001b[39m'\u001b[39m\u001b[39m \u001b[39m\u001b[39m'\u001b[39m\u001b[39m.\u001b[39mjoin(\n\u001b[0;32m--> 226\u001b[0m         _get_r_cmd_config(r_home, flags,\n\u001b[1;32m    227\u001b[0m                           allow_empty\u001b[39m=\u001b[39;49m\u001b[39mFalse\u001b[39;49;00m)))\n\u001b[1;32m    228\u001b[0m \u001b[39mreturn\u001b[39;00m parser\u001b[39m.\u001b[39mparse_known_args(res)\n",
      "File \u001b[0;32m/usr/local/lib/python3.9/site-packages/rpy2/situation.py:194\u001b[0m, in \u001b[0;36m_get_r_cmd_config\u001b[0;34m(r_home, about, allow_empty)\u001b[0m\n\u001b[1;32m    192\u001b[0m r_exec \u001b[39m=\u001b[39m get_r_exec(r_home)\n\u001b[1;32m    193\u001b[0m cmd \u001b[39m=\u001b[39m (r_exec, \u001b[39m'\u001b[39m\u001b[39mCMD\u001b[39m\u001b[39m'\u001b[39m, \u001b[39m'\u001b[39m\u001b[39mconfig\u001b[39m\u001b[39m'\u001b[39m, about)\n\u001b[0;32m--> 194\u001b[0m output \u001b[39m=\u001b[39m subprocess\u001b[39m.\u001b[39;49mcheck_output(\n\u001b[1;32m    195\u001b[0m     cmd,\n\u001b[1;32m    196\u001b[0m     universal_newlines\u001b[39m=\u001b[39;49m\u001b[39mTrue\u001b[39;49;00m\n\u001b[1;32m    197\u001b[0m )\u001b[39m.\u001b[39msplit(os\u001b[39m.\u001b[39mlinesep)\n\u001b[1;32m    198\u001b[0m \u001b[39m# Twist if 'R RHOME' spits out a warning\u001b[39;00m\n\u001b[1;32m    199\u001b[0m \u001b[39mif\u001b[39;00m output[\u001b[39m0\u001b[39m]\u001b[39m.\u001b[39mstartswith(\u001b[39m'\u001b[39m\u001b[39mWARNING\u001b[39m\u001b[39m'\u001b[39m):\n",
      "File \u001b[0;32m/usr/local/Cellar/python@3.9/3.9.13_2/Frameworks/Python.framework/Versions/3.9/lib/python3.9/subprocess.py:424\u001b[0m, in \u001b[0;36mcheck_output\u001b[0;34m(timeout, *popenargs, **kwargs)\u001b[0m\n",
      "File \u001b[0;32m/usr/local/Cellar/python@3.9/3.9.13_2/Frameworks/Python.framework/Versions/3.9/lib/python3.9/subprocess.py:505\u001b[0m, in \u001b[0;36mrun\u001b[0;34m(input, capture_output, timeout, check, *popenargs, **kwargs)\u001b[0m\n",
      "File \u001b[0;32m/usr/local/Cellar/python@3.9/3.9.13_2/Frameworks/Python.framework/Versions/3.9/lib/python3.9/subprocess.py:951\u001b[0m, in \u001b[0;36m__init__\u001b[0;34m(self, args, bufsize, executable, stdin, stdout, stderr, preexec_fn, close_fds, shell, cwd, env, universal_newlines, startupinfo, creationflags, restore_signals, start_new_session, pass_fds, user, group, extra_groups, encoding, errors, text, umask)\u001b[0m\n",
      "File \u001b[0;32m/usr/local/Cellar/python@3.9/3.9.13_2/Frameworks/Python.framework/Versions/3.9/lib/python3.9/subprocess.py:1821\u001b[0m, in \u001b[0;36m_execute_child\u001b[0;34m(self, args, executable, preexec_fn, close_fds, pass_fds, cwd, env, startupinfo, creationflags, shell, p2cread, p2cwrite, c2pread, c2pwrite, errread, errwrite, restore_signals, gid, gids, uid, umask, start_new_session)\u001b[0m\n",
      "\u001b[0;31mFileNotFoundError\u001b[0m: [Errno 2] No such file or directory: '/usr/local/Cellar/r/4.2.1_2/lib/R/bin/R'"
     ]
    }
   ],
   "source": [
    "for i in rpy2.situation.iter_info(): # Print Rpy2 info\n",
    "    print(i)"
   ]
  },
  {
   "cell_type": "markdown",
   "metadata": {},
   "source": [
    "## Prep data"
   ]
  },
  {
   "cell_type": "code",
   "execution_count": 3,
   "metadata": {},
   "outputs": [],
   "source": [
    "%load_ext rpy2.ipython"
   ]
  },
  {
   "cell_type": "code",
   "execution_count": 4,
   "metadata": {},
   "outputs": [
    {
     "name": "stderr",
     "output_type": "stream",
     "text": [
      "R[write to console]: ── Attaching packages ─────────────────────────────────────── tidyverse 1.3.1 ──\n",
      "\n",
      "R[write to console]: ✔ ggplot2 3.3.6     ✔ purrr   0.3.4\n",
      "✔ tibble  3.1.7     ✔ dplyr   1.0.9\n",
      "✔ tidyr   1.2.0     ✔ stringr 1.4.0\n",
      "✔ readr   2.1.2     ✔ forcats 0.5.1\n",
      "\n",
      "R[write to console]: ── Conflicts ────────────────────────────────────────── tidyverse_conflicts() ──\n",
      "✖ dplyr::filter() masks stats::filter()\n",
      "✖ dplyr::lag()    masks stats::lag()\n",
      "\n",
      "R[write to console]: Attaching SeuratObject\n",
      "\n",
      "R[write to console]: Attaching sp\n",
      "\n"
     ]
    },
    {
     "name": "stdout",
     "output_type": "stream",
     "text": [
      "[1] \"/Users/ferran/PhD/yaleCollab/data\"\n"
     ]
    }
   ],
   "source": [
    "%%R -i data_dir\n",
    "library(tidyverse)\n",
    "library(Seurat)\n",
    "library(SeuratDisk)\n",
    "\n",
    "paste0(data_dir)"
   ]
  },
  {
   "cell_type": "code",
   "execution_count": 5,
   "metadata": {},
   "outputs": [
    {
     "name": "stdout",
     "output_type": "stream",
     "text": [
      "An object of class Seurat \n",
      "40940 features across 3698 samples within 2 assays \n",
      "Active assay: SCT (20073 features, 10000 variable features)\n",
      " 1 other assay present: RNA\n",
      " 3 dimensional reductions calculated: pca, umap, phate\n"
     ]
    }
   ],
   "source": [
    "%%R -o dGenesSeq\n",
    "\n",
    "d_fibWT = readRDS(paste0(data_dir,\"/Omics/\",\"d_fibWT.rds\"))\n",
    "print(d_fibWT)\n",
    "#Get genes present in Seurat object\n",
    "dGenesSeq = rownames(d_fibWT@assays$RNA@data)\n",
    "#Convert seurat object to anndata\n",
    "SaveH5Seurat(d_fibWT, filename = paste0(data_dir,\"/Omics/\",\"d_fibWT.h5Seurat\"))\n",
    "Convert(paste0(data_dir,\"/Omics/\",\"d_fibWT.h5Seurat\"), dest = \"h5ad\")\n",
    "\n"
   ]
  },
  {
   "cell_type": "markdown",
   "metadata": {},
   "source": [
    "Export list of genes detected in scRNA-seq dataset.\n",
    "This will be used to subset the Knowledge Graph"
   ]
  },
  {
   "cell_type": "code",
   "execution_count": 7,
   "metadata": {},
   "outputs": [
    {
     "data": {
      "text/plain": [
       "20867"
      ]
     },
     "execution_count": 7,
     "metadata": {},
     "output_type": "execute_result"
    }
   ],
   "source": [
    "len(list(dGenesSEQ))"
   ]
  },
  {
   "cell_type": "code",
   "execution_count": null,
   "metadata": {},
   "outputs": [],
   "source": [
    "dRnaSeq = scanpy.read_h5ad(f\"{data_dir}/Omics/d_fibWT.h4ad\")"
   ]
  },
  {
   "cell_type": "markdown",
   "metadata": {},
   "source": [
    "### Normalise and denoise gene expression data\n",
    "\n",
    "First subset to genes in KG, then use MAGIC to smooth, and then normalise so \n",
    "that the gene expression distributions are equally big for each cell."
   ]
  },
  {
   "cell_type": "code",
   "execution_count": 12,
   "metadata": {},
   "outputs": [
    {
     "data": {
      "text/plain": [
       "0          Tgfb1\n",
       "2          Tgfb2\n",
       "4          Tgfb3\n",
       "12          Bmp2\n",
       "17          Bmp4\n",
       "           ...  \n",
       "348019      Cipc\n",
       "348023     Paqr8\n",
       "348024    Teddm3\n",
       "348026      Cys1\n",
       "348512     Gpr19\n",
       "Name: value, Length: 12229, dtype: object"
      ]
     },
     "execution_count": 12,
     "metadata": {},
     "output_type": "execute_result"
    }
   ],
   "source": [
    "gKG = dEdgeList.melt()[\"value\"].drop_duplicates()\n",
    "gKG"
   ]
  },
  {
   "cell_type": "code",
   "execution_count": 13,
   "metadata": {},
   "outputs": [
    {
     "name": "stderr",
     "output_type": "stream",
     "text": [
      "R[write to console]: Error in library(SeuratDisk) : there is no package called ‘SeuratDisk’\n",
      "\n",
      "R[write to console]: In addition: \n",
      "R[write to console]: Warning message:\n",
      "\n",
      "R[write to console]: In fun(libname, pkgname) :\n",
      "R[write to console]: \n",
      " \n",
      "R[write to console]:  rgeos: versions of GEOS runtime 3.11.0-CAPI-1.17.0\n",
      "and GEOS at installation 3.10.3-CAPI-1.16.1differ\n",
      "\n"
     ]
    },
    {
     "name": "stdout",
     "output_type": "stream",
     "text": [
      "\n",
      "Error in library(SeuratDisk) : there is no package called ‘SeuratDisk’\n"
     ]
    },
    {
     "ename": "RInterpreterError",
     "evalue": "Failed to parse and evaluate line '\\nlibrary(SeuratDisk)\\n'.\nR error message: 'Error in library(SeuratDisk) : there is no package called ‘SeuratDisk’'",
     "output_type": "error",
     "traceback": [
      "\u001b[0;31m---------------------------------------------------------------------------\u001b[0m",
      "\u001b[0;31mRRuntimeError\u001b[0m                             Traceback (most recent call last)",
      "File \u001b[0;32m/usr/local/lib/python3.9/site-packages/rpy2/ipython/rmagic.py:268\u001b[0m, in \u001b[0;36mRMagics.eval\u001b[0;34m(self, code)\u001b[0m\n\u001b[1;32m    266\u001b[0m \u001b[39mtry\u001b[39;00m:\n\u001b[1;32m    267\u001b[0m     \u001b[39m# Need the newline in case the last line in code is a comment.\u001b[39;00m\n\u001b[0;32m--> 268\u001b[0m     value, visible \u001b[39m=\u001b[39m ro\u001b[39m.\u001b[39;49mr(\u001b[39m\"\u001b[39;49m\u001b[39mwithVisible(\u001b[39;49m\u001b[39m{\u001b[39;49m\u001b[39m%s\u001b[39;49;00m\u001b[39m\\n\u001b[39;49;00m\u001b[39m})\u001b[39;49m\u001b[39m\"\u001b[39;49m \u001b[39m%\u001b[39;49m code)\n\u001b[1;32m    269\u001b[0m \u001b[39mexcept\u001b[39;00m (ri\u001b[39m.\u001b[39membedded\u001b[39m.\u001b[39mRRuntimeError, \u001b[39mValueError\u001b[39;00m) \u001b[39mas\u001b[39;00m exception:\n\u001b[1;32m    270\u001b[0m     \u001b[39m# Otherwise next return seems to have copy of error.\u001b[39;00m\n",
      "File \u001b[0;32m/usr/local/lib/python3.9/site-packages/rpy2/robjects/__init__.py:438\u001b[0m, in \u001b[0;36mR.__call__\u001b[0;34m(self, string)\u001b[0m\n\u001b[1;32m    437\u001b[0m p \u001b[39m=\u001b[39m rinterface\u001b[39m.\u001b[39mparse(string)\n\u001b[0;32m--> 438\u001b[0m res \u001b[39m=\u001b[39m \u001b[39mself\u001b[39;49m\u001b[39m.\u001b[39;49meval(p)\n\u001b[1;32m    439\u001b[0m \u001b[39mreturn\u001b[39;00m conversion\u001b[39m.\u001b[39mrpy2py(res)\n",
      "File \u001b[0;32m/usr/local/lib/python3.9/site-packages/rpy2/robjects/functions.py:198\u001b[0m, in \u001b[0;36mSignatureTranslatedFunction.__call__\u001b[0;34m(self, *args, **kwargs)\u001b[0m\n\u001b[1;32m    197\u001b[0m         kwargs[r_k] \u001b[39m=\u001b[39m v\n\u001b[0;32m--> 198\u001b[0m \u001b[39mreturn\u001b[39;00m (\u001b[39msuper\u001b[39;49m(SignatureTranslatedFunction, \u001b[39mself\u001b[39;49m)\n\u001b[1;32m    199\u001b[0m         \u001b[39m.\u001b[39;49m\u001b[39m__call__\u001b[39;49m(\u001b[39m*\u001b[39;49margs, \u001b[39m*\u001b[39;49m\u001b[39m*\u001b[39;49mkwargs))\n",
      "File \u001b[0;32m/usr/local/lib/python3.9/site-packages/rpy2/robjects/functions.py:125\u001b[0m, in \u001b[0;36mFunction.__call__\u001b[0;34m(self, *args, **kwargs)\u001b[0m\n\u001b[1;32m    124\u001b[0m         new_kwargs[k] \u001b[39m=\u001b[39m conversion\u001b[39m.\u001b[39mpy2rpy(v)\n\u001b[0;32m--> 125\u001b[0m res \u001b[39m=\u001b[39m \u001b[39msuper\u001b[39;49m(Function, \u001b[39mself\u001b[39;49m)\u001b[39m.\u001b[39;49m\u001b[39m__call__\u001b[39;49m(\u001b[39m*\u001b[39;49mnew_args, \u001b[39m*\u001b[39;49m\u001b[39m*\u001b[39;49mnew_kwargs)\n\u001b[1;32m    126\u001b[0m res \u001b[39m=\u001b[39m conversion\u001b[39m.\u001b[39mrpy2py(res)\n",
      "File \u001b[0;32m/usr/local/lib/python3.9/site-packages/rpy2/rinterface_lib/conversion.py:45\u001b[0m, in \u001b[0;36m_cdata_res_to_rinterface.<locals>._\u001b[0;34m(*args, **kwargs)\u001b[0m\n\u001b[1;32m     44\u001b[0m \u001b[39mdef\u001b[39;00m \u001b[39m_\u001b[39m(\u001b[39m*\u001b[39margs, \u001b[39m*\u001b[39m\u001b[39m*\u001b[39mkwargs):\n\u001b[0;32m---> 45\u001b[0m     cdata \u001b[39m=\u001b[39m function(\u001b[39m*\u001b[39;49margs, \u001b[39m*\u001b[39;49m\u001b[39m*\u001b[39;49mkwargs)\n\u001b[1;32m     46\u001b[0m     \u001b[39m# TODO: test cdata is of the expected CType\u001b[39;00m\n",
      "File \u001b[0;32m/usr/local/lib/python3.9/site-packages/rpy2/rinterface.py:680\u001b[0m, in \u001b[0;36mSexpClosure.__call__\u001b[0;34m(self, *args, **kwargs)\u001b[0m\n\u001b[1;32m    679\u001b[0m     \u001b[39mif\u001b[39;00m error_occured[\u001b[39m0\u001b[39m]:\n\u001b[0;32m--> 680\u001b[0m         \u001b[39mraise\u001b[39;00m embedded\u001b[39m.\u001b[39mRRuntimeError(_rinterface\u001b[39m.\u001b[39m_geterrmessage())\n\u001b[1;32m    681\u001b[0m \u001b[39mreturn\u001b[39;00m res\n",
      "\u001b[0;31mRRuntimeError\u001b[0m: Error in library(SeuratDisk) : there is no package called ‘SeuratDisk’\n",
      "\nDuring handling of the above exception, another exception occurred:\n",
      "\u001b[0;31mRInterpreterError\u001b[0m                         Traceback (most recent call last)",
      "\u001b[1;32m/Users/ferran/PhD/yaleCollab/twoSEQ.ipynb Cell 20\u001b[0m in \u001b[0;36m<cell line: 1>\u001b[0;34m()\u001b[0m\n\u001b[0;32m----> <a href='vscode-notebook-cell://ssh-remote%2Bpc8-148.cancer.ucl.ac.uk/Users/ferran/PhD/yaleCollab/twoSEQ.ipynb#X33sdnNjb2RlLXJlbW90ZQ%3D%3D?line=0'>1</a>\u001b[0m get_ipython()\u001b[39m.\u001b[39;49mrun_cell_magic(\u001b[39m'\u001b[39;49m\u001b[39mR\u001b[39;49m\u001b[39m'\u001b[39;49m, \u001b[39m'\u001b[39;49m\u001b[39m'\u001b[39;49m, \u001b[39m'\u001b[39;49m\u001b[39m\\n\u001b[39;49;00m\u001b[39mlibrary(SeuratDisk)\u001b[39;49m\u001b[39m\\n\u001b[39;49;00m\u001b[39m'\u001b[39;49m)\n",
      "File \u001b[0;32m/usr/local/lib/python3.9/site-packages/IPython/core/interactiveshell.py:2338\u001b[0m, in \u001b[0;36mInteractiveShell.run_cell_magic\u001b[0;34m(self, magic_name, line, cell)\u001b[0m\n\u001b[1;32m   2336\u001b[0m \u001b[39mwith\u001b[39;00m \u001b[39mself\u001b[39m\u001b[39m.\u001b[39mbuiltin_trap:\n\u001b[1;32m   2337\u001b[0m     args \u001b[39m=\u001b[39m (magic_arg_s, cell)\n\u001b[0;32m-> 2338\u001b[0m     result \u001b[39m=\u001b[39m fn(\u001b[39m*\u001b[39;49margs, \u001b[39m*\u001b[39;49m\u001b[39m*\u001b[39;49mkwargs)\n\u001b[1;32m   2339\u001b[0m \u001b[39mreturn\u001b[39;00m result\n",
      "File \u001b[0;32m/usr/local/lib/python3.9/site-packages/rpy2/ipython/rmagic.py:783\u001b[0m, in \u001b[0;36mRMagics.R\u001b[0;34m(self, line, cell, local_ns)\u001b[0m\n\u001b[1;32m    781\u001b[0m     \u001b[39mif\u001b[39;00m \u001b[39mnot\u001b[39;00m e\u001b[39m.\u001b[39mstdout\u001b[39m.\u001b[39mendswith(e\u001b[39m.\u001b[39merr):\n\u001b[1;32m    782\u001b[0m         \u001b[39mprint\u001b[39m(e\u001b[39m.\u001b[39merr)\n\u001b[0;32m--> 783\u001b[0m     \u001b[39mraise\u001b[39;00m e\n\u001b[1;32m    784\u001b[0m \u001b[39mfinally\u001b[39;00m:\n\u001b[1;32m    785\u001b[0m     \u001b[39mif\u001b[39;00m \u001b[39mself\u001b[39m\u001b[39m.\u001b[39mdevice \u001b[39min\u001b[39;00m [\u001b[39m'\u001b[39m\u001b[39mpng\u001b[39m\u001b[39m'\u001b[39m, \u001b[39m'\u001b[39m\u001b[39msvg\u001b[39m\u001b[39m'\u001b[39m]:\n",
      "File \u001b[0;32m/usr/local/lib/python3.9/site-packages/rpy2/ipython/rmagic.py:763\u001b[0m, in \u001b[0;36mRMagics.R\u001b[0;34m(self, line, cell, local_ns)\u001b[0m\n\u001b[1;32m    761\u001b[0m         return_output \u001b[39m=\u001b[39m \u001b[39mFalse\u001b[39;00m\n\u001b[1;32m    762\u001b[0m \u001b[39melse\u001b[39;00m:\n\u001b[0;32m--> 763\u001b[0m     text_result, result, visible \u001b[39m=\u001b[39m \u001b[39mself\u001b[39;49m\u001b[39m.\u001b[39;49meval(code)\n\u001b[1;32m    764\u001b[0m     text_output \u001b[39m+\u001b[39m\u001b[39m=\u001b[39m text_result\n\u001b[1;32m    765\u001b[0m     \u001b[39mif\u001b[39;00m visible:\n",
      "File \u001b[0;32m/usr/local/lib/python3.9/site-packages/rpy2/ipython/rmagic.py:272\u001b[0m, in \u001b[0;36mRMagics.eval\u001b[0;34m(self, code)\u001b[0m\n\u001b[1;32m    269\u001b[0m \u001b[39mexcept\u001b[39;00m (ri\u001b[39m.\u001b[39membedded\u001b[39m.\u001b[39mRRuntimeError, \u001b[39mValueError\u001b[39;00m) \u001b[39mas\u001b[39;00m exception:\n\u001b[1;32m    270\u001b[0m     \u001b[39m# Otherwise next return seems to have copy of error.\u001b[39;00m\n\u001b[1;32m    271\u001b[0m     warning_or_other_msg \u001b[39m=\u001b[39m \u001b[39mself\u001b[39m\u001b[39m.\u001b[39mflush()\n\u001b[0;32m--> 272\u001b[0m     \u001b[39mraise\u001b[39;00m RInterpreterError(code, \u001b[39mstr\u001b[39m(exception),\n\u001b[1;32m    273\u001b[0m                             warning_or_other_msg)\n\u001b[1;32m    274\u001b[0m text_output \u001b[39m=\u001b[39m \u001b[39mself\u001b[39m\u001b[39m.\u001b[39mflush()\n\u001b[1;32m    275\u001b[0m \u001b[39mreturn\u001b[39;00m text_output, value, visible[\u001b[39m0\u001b[39m]\n",
      "\u001b[0;31mRInterpreterError\u001b[0m: Failed to parse and evaluate line '\\nlibrary(SeuratDisk)\\n'.\nR error message: 'Error in library(SeuratDisk) : there is no package called ‘SeuratDisk’'"
     ]
    }
   ],
   "source": [
    "%%R\n",
    "\n"
   ]
  },
  {
   "cell_type": "markdown",
   "metadata": {},
   "source": [
    "# Project cell data on gene graph\n",
    "\n",
    "First we'll need to build and adjancency matrix from the KG. \n",
    "Then we will compute DEMD with the adjacency matrix and the distributions of \n",
    "normalised gene expression for each cell on our dataset."
   ]
  },
  {
   "cell_type": "markdown",
   "metadata": {},
   "source": [
    "## Adjacency matrix from KG\n",
    "\n",
    "Using [networkx](https://networkx.org/documentation/stable/install.html) package"
   ]
  },
  {
   "cell_type": "code",
   "execution_count": 23,
   "metadata": {},
   "outputs": [
    {
     "data": {
      "text/plain": [
       "<networkx.classes.graph.Graph at 0x192362670>"
      ]
     },
     "execution_count": 23,
     "metadata": {},
     "output_type": "execute_result"
    }
   ],
   "source": [
    "#First make graph\n",
    "G = networkx.from_pandas_edgelist(dEdgeList, 0, 2)\n",
    "G"
   ]
  },
  {
   "cell_type": "code",
   "execution_count": 24,
   "metadata": {},
   "outputs": [
    {
     "name": "stderr",
     "output_type": "stream",
     "text": [
      "/var/folders/9p/ypn2045x1cxbq9ptcfk4_k7m0000gn/T/ipykernel_32942/3832294983.py:2: FutureWarning: adjacency_matrix will return a scipy.sparse array instead of a matrix in Networkx 3.0.\n",
      "  AdjMat = networkx.adjacency_matrix(G)\n"
     ]
    },
    {
     "data": {
      "text/plain": [
       "<12229x12229 sparse matrix of type '<class 'numpy.int64'>'\n",
       "\twith 347279 stored elements in Compressed Sparse Row format>"
      ]
     },
     "execution_count": 24,
     "metadata": {},
     "output_type": "execute_result"
    }
   ],
   "source": [
    "#Adjacency matrix\n",
    "AdjMat = networkx.adjacency_matrix(G)\n",
    "AdjMat"
   ]
  },
  {
   "cell_type": "markdown",
   "metadata": {},
   "source": [
    "## Compute Distances"
   ]
  }
 ],
 "metadata": {
  "kernelspec": {
   "display_name": "Python 3 (ipykernel)",
   "language": "python",
   "name": "python3"
  },
  "language_info": {
   "codemirror_mode": {
    "name": "ipython",
    "version": 3
   },
   "file_extension": ".py",
   "mimetype": "text/x-python",
   "name": "python",
   "nbconvert_exporter": "python",
   "pygments_lexer": "ipython3",
   "version": "3.9.13"
  },
  "vscode": {
   "interpreter": {
    "hash": "949777d72b0d2535278d3dc13498b2535136f6dfe0678499012e853ee9abcab1"
   }
  }
 },
 "nbformat": 4,
 "nbformat_minor": 2
}
