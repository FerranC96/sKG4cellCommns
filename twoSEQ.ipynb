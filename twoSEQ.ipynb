{
 "cells": [
  {
   "cell_type": "code",
   "execution_count": null,
   "metadata": {},
   "outputs": [],
   "source": [
    "# #To be used on cloud platforms\n",
    "\n",
    "# ! python -c \"import pykeen\" || pip install pykeen\n",
    "# ! python -c \"import scprep\" || pip install scprep"
   ]
  },
  {
   "cell_type": "code",
   "execution_count": 1,
   "metadata": {},
   "outputs": [],
   "source": [
    "import os, pandas as pd, numpy as np, networkx, scprep\n",
    "import rpy2, rpy2.situation\n"
   ]
  },
  {
   "cell_type": "code",
   "execution_count": 2,
   "metadata": {},
   "outputs": [
    {
     "name": "stdout",
     "output_type": "stream",
     "text": [
      "/Users/ferran/PhD/yaleCollab\n"
     ]
    }
   ],
   "source": [
    "print(os.getcwd())\n",
    "data_dir = f\"{os.getcwd()}/data\"\n",
    "kge_dir = f\"{os.getcwd()}/KGEs\""
   ]
  },
  {
   "cell_type": "markdown",
   "metadata": {},
   "source": [
    "# DataBases\n",
    "\n",
    "The integrated database is the object ingested by pykeen's *TriplesFactory*."
   ]
  },
  {
   "cell_type": "code",
   "execution_count": 3,
   "metadata": {},
   "outputs": [
    {
     "name": "stdout",
     "output_type": "stream",
     "text": [
      "    head       relation    tail pathway\n",
      "0  Tgfb1  LRinteraction  Tgfbr1    TGFb\n",
      "1  Tgfb1  LRinteraction  Tgfbr2    TGFb\n",
      "2  Tgfb2  LRinteraction  Tgfbr1    TGFb\n",
      "3  Tgfb2  LRinteraction  Tgfbr2    TGFb\n",
      "4  Tgfb3  LRinteraction  Tgfbr1    TGFb\n",
      "    head  relation   tail\n",
      "0  Gnai3  FIstring  Prkca\n",
      "1  Gnai3  FIstring  Rgs18\n",
      "2  Gnai3  FIstring  Gpsm2\n",
      "3  Gnai3  FIstring  Adrb3\n",
      "4  Gnai3  FIstring  Gnat2\n"
     ]
    }
   ],
   "source": [
    "print(pd.read_csv(f\"{data_dir}/dCellChat.tsv\", sep=\"\\t\").head())\n",
    "print(pd.read_csv(f\"{data_dir}/dSTRING.tsv\", sep=\"\\t\").head())"
   ]
  },
  {
   "cell_type": "code",
   "execution_count": 4,
   "metadata": {},
   "outputs": [
    {
     "data": {
      "text/html": [
       "<div>\n",
       "<style scoped>\n",
       "    .dataframe tbody tr th:only-of-type {\n",
       "        vertical-align: middle;\n",
       "    }\n",
       "\n",
       "    .dataframe tbody tr th {\n",
       "        vertical-align: top;\n",
       "    }\n",
       "\n",
       "    .dataframe thead th {\n",
       "        text-align: right;\n",
       "    }\n",
       "</style>\n",
       "<table border=\"1\" class=\"dataframe\">\n",
       "  <thead>\n",
       "    <tr style=\"text-align: right;\">\n",
       "      <th></th>\n",
       "      <th>0</th>\n",
       "      <th>1</th>\n",
       "      <th>2</th>\n",
       "    </tr>\n",
       "  </thead>\n",
       "  <tbody>\n",
       "    <tr>\n",
       "      <th>0</th>\n",
       "      <td>Tgfb1</td>\n",
       "      <td>LRinteraction</td>\n",
       "      <td>Tgfbr1</td>\n",
       "    </tr>\n",
       "    <tr>\n",
       "      <th>1</th>\n",
       "      <td>Tgfb1</td>\n",
       "      <td>LRinteraction</td>\n",
       "      <td>Tgfbr2</td>\n",
       "    </tr>\n",
       "    <tr>\n",
       "      <th>2</th>\n",
       "      <td>Tgfb2</td>\n",
       "      <td>LRinteraction</td>\n",
       "      <td>Tgfbr1</td>\n",
       "    </tr>\n",
       "    <tr>\n",
       "      <th>3</th>\n",
       "      <td>Tgfb2</td>\n",
       "      <td>LRinteraction</td>\n",
       "      <td>Tgfbr2</td>\n",
       "    </tr>\n",
       "    <tr>\n",
       "      <th>4</th>\n",
       "      <td>Tgfb3</td>\n",
       "      <td>LRinteraction</td>\n",
       "      <td>Tgfbr1</td>\n",
       "    </tr>\n",
       "    <tr>\n",
       "      <th>...</th>\n",
       "      <td>...</td>\n",
       "      <td>...</td>\n",
       "      <td>...</td>\n",
       "    </tr>\n",
       "    <tr>\n",
       "      <th>439018</th>\n",
       "      <td>Gm28635</td>\n",
       "      <td>FIstring</td>\n",
       "      <td>Arhgap35</td>\n",
       "    </tr>\n",
       "    <tr>\n",
       "      <th>439019</th>\n",
       "      <td>Gm28635</td>\n",
       "      <td>FIstring</td>\n",
       "      <td>Cdh17</td>\n",
       "    </tr>\n",
       "    <tr>\n",
       "      <th>439020</th>\n",
       "      <td>Gm28635</td>\n",
       "      <td>FIstring</td>\n",
       "      <td>Kif5b</td>\n",
       "    </tr>\n",
       "    <tr>\n",
       "      <th>439021</th>\n",
       "      <td>Gm28635</td>\n",
       "      <td>FIstring</td>\n",
       "      <td>Tjp3</td>\n",
       "    </tr>\n",
       "    <tr>\n",
       "      <th>439022</th>\n",
       "      <td>Carf</td>\n",
       "      <td>FIstring</td>\n",
       "      <td>Cpa5</td>\n",
       "    </tr>\n",
       "  </tbody>\n",
       "</table>\n",
       "<p>439023 rows × 3 columns</p>\n",
       "</div>"
      ],
      "text/plain": [
       "              0              1         2\n",
       "0         Tgfb1  LRinteraction    Tgfbr1\n",
       "1         Tgfb1  LRinteraction    Tgfbr2\n",
       "2         Tgfb2  LRinteraction    Tgfbr1\n",
       "3         Tgfb2  LRinteraction    Tgfbr2\n",
       "4         Tgfb3  LRinteraction    Tgfbr1\n",
       "...         ...            ...       ...\n",
       "439018  Gm28635       FIstring  Arhgap35\n",
       "439019  Gm28635       FIstring     Cdh17\n",
       "439020  Gm28635       FIstring     Kif5b\n",
       "439021  Gm28635       FIstring      Tjp3\n",
       "439022     Carf       FIstring      Cpa5\n",
       "\n",
       "[439023 rows x 3 columns]"
      ]
     },
     "execution_count": 4,
     "metadata": {},
     "output_type": "execute_result"
    }
   ],
   "source": [
    "pd.read_csv(f\"{data_dir}/dINT_simpl.tsv\", sep=\"\\t\", header=None)"
   ]
  },
  {
   "cell_type": "markdown",
   "metadata": {},
   "source": [
    "From the integrated database, let's make a pandas dataframe that has only the \n",
    "source and target columns and then use that to make a NetworkX Graph object \n",
    "with `from_pandas_edgelist`\n",
    "\n",
    "Then, once the scRNAseq has been loaded in, we can also subset the genes in \n",
    "this dataframe to those present in the scRNA-seq count matrix."
   ]
  },
  {
   "cell_type": "code",
   "execution_count": 20,
   "metadata": {},
   "outputs": [
    {
     "name": "stdout",
     "output_type": "stream",
     "text": [
      "(439023, 2)\n"
     ]
    },
    {
     "data": {
      "text/html": [
       "<div>\n",
       "<style scoped>\n",
       "    .dataframe tbody tr th:only-of-type {\n",
       "        vertical-align: middle;\n",
       "    }\n",
       "\n",
       "    .dataframe tbody tr th {\n",
       "        vertical-align: top;\n",
       "    }\n",
       "\n",
       "    .dataframe thead th {\n",
       "        text-align: right;\n",
       "    }\n",
       "</style>\n",
       "<table border=\"1\" class=\"dataframe\">\n",
       "  <thead>\n",
       "    <tr style=\"text-align: right;\">\n",
       "      <th></th>\n",
       "      <th>0</th>\n",
       "      <th>2</th>\n",
       "    </tr>\n",
       "  </thead>\n",
       "  <tbody>\n",
       "    <tr>\n",
       "      <th>0</th>\n",
       "      <td>Tgfb1</td>\n",
       "      <td>Tgfbr1</td>\n",
       "    </tr>\n",
       "    <tr>\n",
       "      <th>1</th>\n",
       "      <td>Tgfb1</td>\n",
       "      <td>Tgfbr2</td>\n",
       "    </tr>\n",
       "    <tr>\n",
       "      <th>2</th>\n",
       "      <td>Tgfb2</td>\n",
       "      <td>Tgfbr1</td>\n",
       "    </tr>\n",
       "    <tr>\n",
       "      <th>3</th>\n",
       "      <td>Tgfb2</td>\n",
       "      <td>Tgfbr2</td>\n",
       "    </tr>\n",
       "    <tr>\n",
       "      <th>4</th>\n",
       "      <td>Tgfb3</td>\n",
       "      <td>Tgfbr1</td>\n",
       "    </tr>\n",
       "    <tr>\n",
       "      <th>...</th>\n",
       "      <td>...</td>\n",
       "      <td>...</td>\n",
       "    </tr>\n",
       "    <tr>\n",
       "      <th>438929</th>\n",
       "      <td>Paqr8</td>\n",
       "      <td>Efhc1</td>\n",
       "    </tr>\n",
       "    <tr>\n",
       "      <th>438930</th>\n",
       "      <td>Teddm3</td>\n",
       "      <td>Tmem198b</td>\n",
       "    </tr>\n",
       "    <tr>\n",
       "      <th>438931</th>\n",
       "      <td>Teddm3</td>\n",
       "      <td>Slc7a15</td>\n",
       "    </tr>\n",
       "    <tr>\n",
       "      <th>438943</th>\n",
       "      <td>Cys1</td>\n",
       "      <td>Fut2</td>\n",
       "    </tr>\n",
       "    <tr>\n",
       "      <th>438944</th>\n",
       "      <td>Cys1</td>\n",
       "      <td>Cth</td>\n",
       "    </tr>\n",
       "  </tbody>\n",
       "</table>\n",
       "<p>348028 rows × 2 columns</p>\n",
       "</div>"
      ],
      "text/plain": [
       "             0         2\n",
       "0        Tgfb1    Tgfbr1\n",
       "1        Tgfb1    Tgfbr2\n",
       "2        Tgfb2    Tgfbr1\n",
       "3        Tgfb2    Tgfbr2\n",
       "4        Tgfb3    Tgfbr1\n",
       "...        ...       ...\n",
       "438929   Paqr8     Efhc1\n",
       "438930  Teddm3  Tmem198b\n",
       "438931  Teddm3   Slc7a15\n",
       "438943    Cys1      Fut2\n",
       "438944    Cys1       Cth\n",
       "\n",
       "[348028 rows x 2 columns]"
      ]
     },
     "execution_count": 20,
     "metadata": {},
     "output_type": "execute_result"
    }
   ],
   "source": [
    "dEdgeList = pd.read_csv(f\"{data_dir}/dINT_simpl.tsv\", sep=\"\\t\", header=None)[[0,2]]\n",
    "print(dEdgeList.shape)\n",
    "\n",
    "#Filter rows if either column not in list(dGenesSEQ)\n",
    "dEdgeList = dEdgeList.loc[dEdgeList[0].isin(list(dGenesSEQ)) & dEdgeList[2].isin(list(dGenesSEQ))]\n",
    "dEdgeList"
   ]
  },
  {
   "cell_type": "markdown",
   "metadata": {},
   "source": [
    "# scRNAseq data\n",
    "\n",
    "We will have to use rpy to import the seurat object with the data. From there we already have code (from RNA Velo NBs) to extract metadata. Need to extract count matrices."
   ]
  },
  {
   "cell_type": "code",
   "execution_count": 6,
   "metadata": {},
   "outputs": [
    {
     "name": "stdout",
     "output_type": "stream",
     "text": [
      "\u001b[1mrpy2 version:\u001b[0m\n",
      "3.4.5\n",
      "\u001b[1mPython version:\u001b[0m\n",
      "3.9.13 (main, Aug  7 2022, 01:33:23) \n",
      "[Clang 13.1.6 (clang-1316.0.21.2.5)]\n",
      "\u001b[1mLooking for R's HOME:\u001b[0m\n",
      "    Environment variable R_HOME: None\n",
      "    Calling `R RHOME`: /usr/local/Cellar/r/4.2.1_2/lib/R\n",
      "    Environment variable R_LIBS_USER: None\n",
      "\u001b[1mR's additions to LD_LIBRARY_PATH:\u001b[0m\n",
      "/usr/local/lib/R/library/stats/libs/\n",
      "\u001b[1mR version:\u001b[0m\n",
      "    In the PATH: R version 4.2.1 (2022-06-23) -- \"Funny-Looking Kid\"\n",
      "    Loading R library from rpy2: OK\n",
      "\u001b[1mAdditional directories to load R packages from:\u001b[0m\n",
      "None\n",
      "\u001b[1mC extension compilation:\u001b[0m\n",
      "  include:\n",
      "  ['/usr/local/Cellar/r/4.2.1_2/lib/R/include']\n",
      "  libraries:\n",
      "  ['R', 'pcre2-8', 'lzma', 'bz2', 'z', 'icucore', 'dl', 'm', 'iconv']\n",
      "  library_dirs:\n",
      "  ['/usr/local/opt/gettext/lib', '/usr/local/opt/readline/lib', '/usr/local/opt/xz/lib', '/usr/local/lib', '/usr/local/opt/gettext/lib', '/usr/local/opt/readline/lib', '/usr/local/opt/xz/lib', '/usr/local/lib', '/usr/local/Cellar/r/4.2.1_2/lib/R/lib', '/usr/local/Cellar/pcre2/10.40/lib']\n",
      "  extra_compile_args:\n",
      "  []\n",
      "  extra_link_args:\n",
      "  []\n"
     ]
    }
   ],
   "source": [
    "for i in rpy2.situation.iter_info(): # Print Rpy2 info\n",
    "    print(i)"
   ]
  },
  {
   "cell_type": "markdown",
   "metadata": {},
   "source": [
    "## Prep data"
   ]
  },
  {
   "cell_type": "code",
   "execution_count": 3,
   "metadata": {},
   "outputs": [],
   "source": [
    "%load_ext rpy2.ipython"
   ]
  },
  {
   "cell_type": "code",
   "execution_count": 4,
   "metadata": {},
   "outputs": [
    {
     "name": "stderr",
     "output_type": "stream",
     "text": [
      "R[write to console]: ── Attaching packages ─────────────────────────────────────── tidyverse 1.3.1 ──\n",
      "\n",
      "R[write to console]: ✔ ggplot2 3.3.6     ✔ purrr   0.3.4\n",
      "✔ tibble  3.1.7     ✔ dplyr   1.0.9\n",
      "✔ tidyr   1.2.0     ✔ stringr 1.4.0\n",
      "✔ readr   2.1.2     ✔ forcats 0.5.1\n",
      "\n",
      "R[write to console]: ── Conflicts ────────────────────────────────────────── tidyverse_conflicts() ──\n",
      "✖ dplyr::filter() masks stats::filter()\n",
      "✖ dplyr::lag()    masks stats::lag()\n",
      "\n",
      "R[write to console]: Attaching SeuratObject\n",
      "\n",
      "R[write to console]: Attaching sp\n",
      "\n"
     ]
    },
    {
     "name": "stdout",
     "output_type": "stream",
     "text": [
      "[1] \"/Users/ferran/PhD/yaleCollab/data\"\n"
     ]
    }
   ],
   "source": [
    "%%R -i data_dir\n",
    "library(tidyverse)\n",
    "library(Seurat)\n",
    "\n",
    "paste0(data_dir)"
   ]
  },
  {
   "cell_type": "code",
   "execution_count": 5,
   "metadata": {},
   "outputs": [
    {
     "name": "stdout",
     "output_type": "stream",
     "text": [
      "An object of class Seurat \n",
      "40940 features across 3698 samples within 2 assays \n",
      "Active assay: SCT (20073 features, 10000 variable features)\n",
      " 1 other assay present: RNA\n",
      " 3 dimensional reductions calculated: pca, umap, phate\n"
     ]
    }
   ],
   "source": [
    "%%R\n",
    "\n",
    "d_fibWT = readRDS(paste0(data_dir,\"/Omics/\",\"d_fibWT.rds\"))\n",
    "d_fibWT"
   ]
  },
  {
   "cell_type": "markdown",
   "metadata": {},
   "source": [
    "Export list of genes detected in scRNA-seq dataset.\n",
    "This will be used to subset the Knowledge Graph"
   ]
  },
  {
   "cell_type": "code",
   "execution_count": 6,
   "metadata": {},
   "outputs": [],
   "source": [
    "%%R -o dGenesSEQ\n",
    "\n",
    "dGenesSEQ = rownames(d_fibWT@assays$RNA@data)\n",
    "# d_fibWT@assays$RNA@data\n",
    "# d_fibWT@assays$RNA@counts"
   ]
  },
  {
   "cell_type": "code",
   "execution_count": 11,
   "metadata": {},
   "outputs": [
    {
     "data": {
      "text/plain": [
       "20867"
      ]
     },
     "execution_count": 11,
     "metadata": {},
     "output_type": "execute_result"
    }
   ],
   "source": [
    "len(list(dGenesSEQ))"
   ]
  },
  {
   "cell_type": "markdown",
   "metadata": {},
   "source": [
    "### Normalise and denoise gene expression data\n",
    "\n",
    "First subset to genes in KG, then use MAGIC to smooth, and then normalise so \n",
    "that the gene expression distributions are equally big for each cell."
   ]
  },
  {
   "cell_type": "code",
   "execution_count": null,
   "metadata": {},
   "outputs": [],
   "source": []
  },
  {
   "cell_type": "markdown",
   "metadata": {},
   "source": [
    "# Project cell data on gene graph\n",
    "\n",
    "First we'll need to build and adjancency matrix from the KG. \n",
    "Then we will compute DEMD with the adjacency matrix and the distributions of \n",
    "normalised gene expression for each cell on our dataset."
   ]
  },
  {
   "cell_type": "markdown",
   "metadata": {},
   "source": [
    "## Adjacency matrix from KG\n",
    "\n",
    "Using [networkx](https://networkx.org/documentation/stable/install.html) package"
   ]
  },
  {
   "cell_type": "code",
   "execution_count": 23,
   "metadata": {},
   "outputs": [
    {
     "data": {
      "text/plain": [
       "<networkx.classes.graph.Graph at 0x192362670>"
      ]
     },
     "execution_count": 23,
     "metadata": {},
     "output_type": "execute_result"
    }
   ],
   "source": [
    "#First make graph\n",
    "G = networkx.from_pandas_edgelist(dEdgeList, 0, 2)\n",
    "G"
   ]
  },
  {
   "cell_type": "code",
   "execution_count": 24,
   "metadata": {},
   "outputs": [
    {
     "name": "stderr",
     "output_type": "stream",
     "text": [
      "/var/folders/9p/ypn2045x1cxbq9ptcfk4_k7m0000gn/T/ipykernel_32942/3832294983.py:2: FutureWarning: adjacency_matrix will return a scipy.sparse array instead of a matrix in Networkx 3.0.\n",
      "  AdjMat = networkx.adjacency_matrix(G)\n"
     ]
    },
    {
     "data": {
      "text/plain": [
       "<12229x12229 sparse matrix of type '<class 'numpy.int64'>'\n",
       "\twith 347279 stored elements in Compressed Sparse Row format>"
      ]
     },
     "execution_count": 24,
     "metadata": {},
     "output_type": "execute_result"
    }
   ],
   "source": [
    "#Adjacency matrix\n",
    "AdjMat = networkx.adjacency_matrix(G)\n",
    "AdjMat"
   ]
  },
  {
   "cell_type": "markdown",
   "metadata": {},
   "source": [
    "## Compute Distances"
   ]
  }
 ],
 "metadata": {
  "kernelspec": {
   "display_name": "Python 3 (ipykernel)",
   "language": "python",
   "name": "python3"
  },
  "language_info": {
   "codemirror_mode": {
    "name": "ipython",
    "version": 3
   },
   "file_extension": ".py",
   "mimetype": "text/x-python",
   "name": "python",
   "nbconvert_exporter": "python",
   "pygments_lexer": "ipython3",
   "version": "3.9.13"
  },
  "vscode": {
   "interpreter": {
    "hash": "949777d72b0d2535278d3dc13498b2535136f6dfe0678499012e853ee9abcab1"
   }
  }
 },
 "nbformat": 4,
 "nbformat_minor": 2
}
