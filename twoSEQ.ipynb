{
 "cells": [
  {
   "cell_type": "code",
   "execution_count": null,
   "metadata": {},
   "outputs": [],
   "source": [
    "# #To be used on cloud platforms\n",
    "\n",
    "# ! python -c \"import pykeen\" || pip install pykeen\n",
    "# ! python -c \"import scprep\" || pip install scprep"
   ]
  },
  {
   "cell_type": "code",
   "execution_count": 1,
   "metadata": {},
   "outputs": [
    {
     "name": "stderr",
     "output_type": "stream",
     "text": [
      "/usr/local/lib/python3.9/site-packages/tqdm/auto.py:22: TqdmWarning: IProgress not found. Please update jupyter and ipywidgets. See https://ipywidgets.readthedocs.io/en/stable/user_install.html\n",
      "  from .autonotebook import tqdm as notebook_tqdm\n"
     ]
    }
   ],
   "source": [
    "import os, pandas as pd, numpy as np, torch, pykeen, scprep\n"
   ]
  },
  {
   "cell_type": "code",
   "execution_count": 2,
   "metadata": {},
   "outputs": [
    {
     "name": "stdout",
     "output_type": "stream",
     "text": [
      "/Users/ferran/PhD/yaleCollab\n"
     ]
    }
   ],
   "source": [
    "print(os.getcwd())\n",
    "data_dir = f\"{os.getcwd()}/data\"\n",
    "kge_dir = f\"{os.getcwd()}/KGEs\""
   ]
  },
  {
   "cell_type": "markdown",
   "metadata": {},
   "source": [
    "# DataBases\n",
    "\n",
    "The integrated database is the object ingested by pykeen's *TriplesFactory*."
   ]
  },
  {
   "cell_type": "code",
   "execution_count": 4,
   "metadata": {},
   "outputs": [
    {
     "data": {
      "text/html": [
       "<div>\n",
       "<style scoped>\n",
       "    .dataframe tbody tr th:only-of-type {\n",
       "        vertical-align: middle;\n",
       "    }\n",
       "\n",
       "    .dataframe tbody tr th {\n",
       "        vertical-align: top;\n",
       "    }\n",
       "\n",
       "    .dataframe thead th {\n",
       "        text-align: right;\n",
       "    }\n",
       "</style>\n",
       "<table border=\"1\" class=\"dataframe\">\n",
       "  <thead>\n",
       "    <tr style=\"text-align: right;\">\n",
       "      <th></th>\n",
       "      <th>head</th>\n",
       "      <th>relation</th>\n",
       "      <th>tail</th>\n",
       "      <th>pathway</th>\n",
       "    </tr>\n",
       "  </thead>\n",
       "  <tbody>\n",
       "    <tr>\n",
       "      <th>0</th>\n",
       "      <td>Tgfb1</td>\n",
       "      <td>LRinteraction</td>\n",
       "      <td>Tgfbr1</td>\n",
       "      <td>TGFb</td>\n",
       "    </tr>\n",
       "    <tr>\n",
       "      <th>1</th>\n",
       "      <td>Tgfb1</td>\n",
       "      <td>LRinteraction</td>\n",
       "      <td>Tgfbr2</td>\n",
       "      <td>TGFb</td>\n",
       "    </tr>\n",
       "    <tr>\n",
       "      <th>2</th>\n",
       "      <td>Tgfb2</td>\n",
       "      <td>LRinteraction</td>\n",
       "      <td>Tgfbr1</td>\n",
       "      <td>TGFb</td>\n",
       "    </tr>\n",
       "    <tr>\n",
       "      <th>3</th>\n",
       "      <td>Tgfb2</td>\n",
       "      <td>LRinteraction</td>\n",
       "      <td>Tgfbr2</td>\n",
       "      <td>TGFb</td>\n",
       "    </tr>\n",
       "    <tr>\n",
       "      <th>4</th>\n",
       "      <td>Tgfb3</td>\n",
       "      <td>LRinteraction</td>\n",
       "      <td>Tgfbr1</td>\n",
       "      <td>TGFb</td>\n",
       "    </tr>\n",
       "    <tr>\n",
       "      <th>...</th>\n",
       "      <td>...</td>\n",
       "      <td>...</td>\n",
       "      <td>...</td>\n",
       "      <td>...</td>\n",
       "    </tr>\n",
       "    <tr>\n",
       "      <th>2058</th>\n",
       "      <td>Vcam1</td>\n",
       "      <td>LRinteraction</td>\n",
       "      <td>Itga4</td>\n",
       "      <td>VCAM</td>\n",
       "    </tr>\n",
       "    <tr>\n",
       "      <th>2059</th>\n",
       "      <td>Vcam1</td>\n",
       "      <td>LRinteraction</td>\n",
       "      <td>Itgb1</td>\n",
       "      <td>VCAM</td>\n",
       "    </tr>\n",
       "    <tr>\n",
       "      <th>2060</th>\n",
       "      <td>Vcam1</td>\n",
       "      <td>LRinteraction</td>\n",
       "      <td>Itga9</td>\n",
       "      <td>VCAM</td>\n",
       "    </tr>\n",
       "    <tr>\n",
       "      <th>2061</th>\n",
       "      <td>Vcam1</td>\n",
       "      <td>LRinteraction</td>\n",
       "      <td>Itgb7</td>\n",
       "      <td>VCAM</td>\n",
       "    </tr>\n",
       "    <tr>\n",
       "      <th>2062</th>\n",
       "      <td>Vsir</td>\n",
       "      <td>LRinteraction</td>\n",
       "      <td>Igsf11</td>\n",
       "      <td>VISTA</td>\n",
       "    </tr>\n",
       "  </tbody>\n",
       "</table>\n",
       "<p>2063 rows × 4 columns</p>\n",
       "</div>"
      ],
      "text/plain": [
       "       head       relation    tail pathway\n",
       "0     Tgfb1  LRinteraction  Tgfbr1    TGFb\n",
       "1     Tgfb1  LRinteraction  Tgfbr2    TGFb\n",
       "2     Tgfb2  LRinteraction  Tgfbr1    TGFb\n",
       "3     Tgfb2  LRinteraction  Tgfbr2    TGFb\n",
       "4     Tgfb3  LRinteraction  Tgfbr1    TGFb\n",
       "...     ...            ...     ...     ...\n",
       "2058  Vcam1  LRinteraction   Itga4    VCAM\n",
       "2059  Vcam1  LRinteraction   Itgb1    VCAM\n",
       "2060  Vcam1  LRinteraction   Itga9    VCAM\n",
       "2061  Vcam1  LRinteraction   Itgb7    VCAM\n",
       "2062   Vsir  LRinteraction  Igsf11   VISTA\n",
       "\n",
       "[2063 rows x 4 columns]"
      ]
     },
     "execution_count": 4,
     "metadata": {},
     "output_type": "execute_result"
    }
   ],
   "source": [
    "pd.read_csv(f\"{data_dir}/dCellChat.tsv\", sep=\"\\t\")"
   ]
  },
  {
   "cell_type": "code",
   "execution_count": 5,
   "metadata": {},
   "outputs": [
    {
     "data": {
      "text/html": [
       "<div>\n",
       "<style scoped>\n",
       "    .dataframe tbody tr th:only-of-type {\n",
       "        vertical-align: middle;\n",
       "    }\n",
       "\n",
       "    .dataframe tbody tr th {\n",
       "        vertical-align: top;\n",
       "    }\n",
       "\n",
       "    .dataframe thead th {\n",
       "        text-align: right;\n",
       "    }\n",
       "</style>\n",
       "<table border=\"1\" class=\"dataframe\">\n",
       "  <thead>\n",
       "    <tr style=\"text-align: right;\">\n",
       "      <th></th>\n",
       "      <th>head</th>\n",
       "      <th>relation</th>\n",
       "      <th>tail</th>\n",
       "    </tr>\n",
       "  </thead>\n",
       "  <tbody>\n",
       "    <tr>\n",
       "      <th>0</th>\n",
       "      <td>Gnai3</td>\n",
       "      <td>FIstring</td>\n",
       "      <td>Prkca</td>\n",
       "    </tr>\n",
       "    <tr>\n",
       "      <th>1</th>\n",
       "      <td>Gnai3</td>\n",
       "      <td>FIstring</td>\n",
       "      <td>Rgs18</td>\n",
       "    </tr>\n",
       "    <tr>\n",
       "      <th>2</th>\n",
       "      <td>Gnai3</td>\n",
       "      <td>FIstring</td>\n",
       "      <td>Gpsm2</td>\n",
       "    </tr>\n",
       "    <tr>\n",
       "      <th>3</th>\n",
       "      <td>Gnai3</td>\n",
       "      <td>FIstring</td>\n",
       "      <td>Adrb3</td>\n",
       "    </tr>\n",
       "    <tr>\n",
       "      <th>4</th>\n",
       "      <td>Gnai3</td>\n",
       "      <td>FIstring</td>\n",
       "      <td>Gnat2</td>\n",
       "    </tr>\n",
       "    <tr>\n",
       "      <th>...</th>\n",
       "      <td>...</td>\n",
       "      <td>...</td>\n",
       "      <td>...</td>\n",
       "    </tr>\n",
       "    <tr>\n",
       "      <th>437237</th>\n",
       "      <td>Gm28635</td>\n",
       "      <td>FIstring</td>\n",
       "      <td>Arhgap35</td>\n",
       "    </tr>\n",
       "    <tr>\n",
       "      <th>437238</th>\n",
       "      <td>Gm28635</td>\n",
       "      <td>FIstring</td>\n",
       "      <td>Cdh17</td>\n",
       "    </tr>\n",
       "    <tr>\n",
       "      <th>437239</th>\n",
       "      <td>Gm28635</td>\n",
       "      <td>FIstring</td>\n",
       "      <td>Kif5b</td>\n",
       "    </tr>\n",
       "    <tr>\n",
       "      <th>437240</th>\n",
       "      <td>Gm28635</td>\n",
       "      <td>FIstring</td>\n",
       "      <td>Tjp3</td>\n",
       "    </tr>\n",
       "    <tr>\n",
       "      <th>437241</th>\n",
       "      <td>Carf</td>\n",
       "      <td>FIstring</td>\n",
       "      <td>Cpa5</td>\n",
       "    </tr>\n",
       "  </tbody>\n",
       "</table>\n",
       "<p>437242 rows × 3 columns</p>\n",
       "</div>"
      ],
      "text/plain": [
       "           head  relation      tail\n",
       "0         Gnai3  FIstring     Prkca\n",
       "1         Gnai3  FIstring     Rgs18\n",
       "2         Gnai3  FIstring     Gpsm2\n",
       "3         Gnai3  FIstring     Adrb3\n",
       "4         Gnai3  FIstring     Gnat2\n",
       "...         ...       ...       ...\n",
       "437237  Gm28635  FIstring  Arhgap35\n",
       "437238  Gm28635  FIstring     Cdh17\n",
       "437239  Gm28635  FIstring     Kif5b\n",
       "437240  Gm28635  FIstring      Tjp3\n",
       "437241     Carf  FIstring      Cpa5\n",
       "\n",
       "[437242 rows x 3 columns]"
      ]
     },
     "execution_count": 5,
     "metadata": {},
     "output_type": "execute_result"
    }
   ],
   "source": [
    "pd.read_csv(f\"{data_dir}/dSTRING.tsv\", sep=\"\\t\")"
   ]
  },
  {
   "cell_type": "code",
   "execution_count": 7,
   "metadata": {},
   "outputs": [
    {
     "data": {
      "text/html": [
       "<div>\n",
       "<style scoped>\n",
       "    .dataframe tbody tr th:only-of-type {\n",
       "        vertical-align: middle;\n",
       "    }\n",
       "\n",
       "    .dataframe tbody tr th {\n",
       "        vertical-align: top;\n",
       "    }\n",
       "\n",
       "    .dataframe thead th {\n",
       "        text-align: right;\n",
       "    }\n",
       "</style>\n",
       "<table border=\"1\" class=\"dataframe\">\n",
       "  <thead>\n",
       "    <tr style=\"text-align: right;\">\n",
       "      <th></th>\n",
       "      <th>0</th>\n",
       "      <th>1</th>\n",
       "      <th>2</th>\n",
       "    </tr>\n",
       "  </thead>\n",
       "  <tbody>\n",
       "    <tr>\n",
       "      <th>0</th>\n",
       "      <td>Tgfb1</td>\n",
       "      <td>LRinteraction</td>\n",
       "      <td>Tgfbr1</td>\n",
       "    </tr>\n",
       "    <tr>\n",
       "      <th>1</th>\n",
       "      <td>Tgfb1</td>\n",
       "      <td>LRinteraction</td>\n",
       "      <td>Tgfbr2</td>\n",
       "    </tr>\n",
       "    <tr>\n",
       "      <th>2</th>\n",
       "      <td>Tgfb2</td>\n",
       "      <td>LRinteraction</td>\n",
       "      <td>Tgfbr1</td>\n",
       "    </tr>\n",
       "    <tr>\n",
       "      <th>3</th>\n",
       "      <td>Tgfb2</td>\n",
       "      <td>LRinteraction</td>\n",
       "      <td>Tgfbr2</td>\n",
       "    </tr>\n",
       "    <tr>\n",
       "      <th>4</th>\n",
       "      <td>Tgfb3</td>\n",
       "      <td>LRinteraction</td>\n",
       "      <td>Tgfbr1</td>\n",
       "    </tr>\n",
       "    <tr>\n",
       "      <th>...</th>\n",
       "      <td>...</td>\n",
       "      <td>...</td>\n",
       "      <td>...</td>\n",
       "    </tr>\n",
       "    <tr>\n",
       "      <th>439018</th>\n",
       "      <td>Gm28635</td>\n",
       "      <td>FIstring</td>\n",
       "      <td>Arhgap35</td>\n",
       "    </tr>\n",
       "    <tr>\n",
       "      <th>439019</th>\n",
       "      <td>Gm28635</td>\n",
       "      <td>FIstring</td>\n",
       "      <td>Cdh17</td>\n",
       "    </tr>\n",
       "    <tr>\n",
       "      <th>439020</th>\n",
       "      <td>Gm28635</td>\n",
       "      <td>FIstring</td>\n",
       "      <td>Kif5b</td>\n",
       "    </tr>\n",
       "    <tr>\n",
       "      <th>439021</th>\n",
       "      <td>Gm28635</td>\n",
       "      <td>FIstring</td>\n",
       "      <td>Tjp3</td>\n",
       "    </tr>\n",
       "    <tr>\n",
       "      <th>439022</th>\n",
       "      <td>Carf</td>\n",
       "      <td>FIstring</td>\n",
       "      <td>Cpa5</td>\n",
       "    </tr>\n",
       "  </tbody>\n",
       "</table>\n",
       "<p>439023 rows × 3 columns</p>\n",
       "</div>"
      ],
      "text/plain": [
       "              0              1         2\n",
       "0         Tgfb1  LRinteraction    Tgfbr1\n",
       "1         Tgfb1  LRinteraction    Tgfbr2\n",
       "2         Tgfb2  LRinteraction    Tgfbr1\n",
       "3         Tgfb2  LRinteraction    Tgfbr2\n",
       "4         Tgfb3  LRinteraction    Tgfbr1\n",
       "...         ...            ...       ...\n",
       "439018  Gm28635       FIstring  Arhgap35\n",
       "439019  Gm28635       FIstring     Cdh17\n",
       "439020  Gm28635       FIstring     Kif5b\n",
       "439021  Gm28635       FIstring      Tjp3\n",
       "439022     Carf       FIstring      Cpa5\n",
       "\n",
       "[439023 rows x 3 columns]"
      ]
     },
     "execution_count": 7,
     "metadata": {},
     "output_type": "execute_result"
    }
   ],
   "source": [
    "pd.read_csv(f\"{data_dir}/dINT_simpl.tsv\", sep=\"\\t\", header=None)"
   ]
  },
  {
   "cell_type": "markdown",
   "metadata": {},
   "source": [
    "# scRNAseq data"
   ]
  },
  {
   "cell_type": "markdown",
   "metadata": {},
   "source": [
    "## Prep data"
   ]
  },
  {
   "cell_type": "markdown",
   "metadata": {},
   "source": [
    "## Build gene-gen graph"
   ]
  },
  {
   "cell_type": "markdown",
   "metadata": {},
   "source": [
    "# KGE"
   ]
  }
 ],
 "metadata": {
  "kernelspec": {
   "display_name": "Python 3.9.13 64-bit",
   "language": "python",
   "name": "python3"
  },
  "language_info": {
   "codemirror_mode": {
    "name": "ipython",
    "version": 3
   },
   "file_extension": ".py",
   "mimetype": "text/x-python",
   "name": "python",
   "nbconvert_exporter": "python",
   "pygments_lexer": "ipython3",
   "version": "3.9.13"
  },
  "orig_nbformat": 4,
  "vscode": {
   "interpreter": {
    "hash": "949777d72b0d2535278d3dc13498b2535136f6dfe0678499012e853ee9abcab1"
   }
  }
 },
 "nbformat": 4,
 "nbformat_minor": 2
}
