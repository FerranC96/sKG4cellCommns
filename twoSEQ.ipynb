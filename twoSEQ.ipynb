{
 "cells": [
  {
   "cell_type": "code",
   "execution_count": 1,
   "metadata": {},
   "outputs": [],
   "source": [
    "# #To be used on cloud platforms\n",
    "\n",
    "# ! python -c \"import pykeen\" || pip install pykeen\n",
    "# ! python -c \"import scprep\" || pip install scprep"
   ]
  },
  {
   "cell_type": "code",
   "execution_count": 2,
   "metadata": {},
   "outputs": [],
   "source": [
    "import os, pandas as pd, numpy as np, scanpy, networkx, scprep\n",
    "import rpy2, rpy2.situation, anndata2ri\n"
   ]
  },
  {
   "cell_type": "code",
   "execution_count": 3,
   "metadata": {},
   "outputs": [
    {
     "name": "stdout",
     "output_type": "stream",
     "text": [
      "/Users/ferran/PhD/yaleCollab\n"
     ]
    }
   ],
   "source": [
    "print(os.getcwd())\n",
    "data_dir = f\"{os.getcwd()}/data\"\n",
    "kge_dir = f\"{os.getcwd()}/KGEs\""
   ]
  },
  {
   "cell_type": "markdown",
   "metadata": {},
   "source": [
    "# Prep"
   ]
  },
  {
   "cell_type": "markdown",
   "metadata": {},
   "source": [
    "## Load scRNAseq data\n",
    "\n",
    "We will have to use rpy to import the seurat object with the data. From there we already have code (from RNA Velo NBs) to extract metadata. Need to extract count matrices."
   ]
  },
  {
   "cell_type": "code",
   "execution_count": 4,
   "metadata": {},
   "outputs": [
    {
     "name": "stdout",
     "output_type": "stream",
     "text": [
      "\u001b[1mrpy2 version:\u001b[0m\n",
      "3.5.1\n",
      "\u001b[1mPython version:\u001b[0m\n",
      "3.9.13 | packaged by conda-forge | (main, May 27 2022, 17:01:00) \n",
      "[Clang 13.0.1 ]\n",
      "\u001b[1mLooking for R's HOME:\u001b[0m\n",
      "    Environment variable R_HOME: /Users/ferran/miniconda3/envs/ctest/lib/R\n",
      "    Calling `R RHOME`: /Users/ferran/miniconda3/envs/ctest/lib/R\n",
      "    Environment variable R_LIBS_USER: None\n",
      "\u001b[1mR's additions to LD_LIBRARY_PATH:\u001b[0m\n",
      "/usr/local/lib/R/library/stats/libs/:/usr/local/lib/R/library/stats/libs/\n",
      "\u001b[1mR version:\u001b[0m\n",
      "    In the PATH: R version 4.1.3 (2022-03-10) -- \"One Push-Up\"\n",
      "    Loading R library from rpy2: OK\n",
      "\u001b[1mAdditional directories to load R packages from:\u001b[0m\n",
      "None\n",
      "\u001b[1mC extension compilation:\u001b[0m\n",
      "  include:\n",
      "  ['/Users/ferran/miniconda3/envs/ctest/lib/R/include']\n",
      "  libraries:\n",
      "  ['R', 'pcre2-8', 'lzma', 'bz2', 'z', 'dl', 'm', 'iconv', 'icuuc', 'icui18n']\n",
      "  library_dirs:\n",
      "  ['/Users/ferran/miniconda3/envs/ctest/lib', '/Users/ferran/miniconda3/envs/ctest/lib/R/lib', '/Users/ferran/miniconda3/envs/ctest/lib']\n",
      "  extra_compile_args:\n",
      "  []\n",
      "  extra_link_args:\n",
      "  ['-fopenmp', '-Wl,-dead_strip_dylibs', '-Wl,-pie', '-Wl,-headerpad_max_install_names', '-Wl,-dead_strip_dylibs', '-Wl,-rpath,/Users/ferran/miniconda3/envs/ctest/lib']\n"
     ]
    }
   ],
   "source": [
    "for i in rpy2.situation.iter_info(): # Print Rpy2 info\n",
    "    print(i)"
   ]
  },
  {
   "cell_type": "code",
   "execution_count": 5,
   "metadata": {},
   "outputs": [],
   "source": [
    "anndata2ri.activate() #This HAS TO be run b4 loading the rpy2 extension\n",
    "%load_ext rpy2.ipython\n"
   ]
  },
  {
   "cell_type": "code",
   "execution_count": 6,
   "metadata": {},
   "outputs": [
    {
     "name": "stdout",
     "output_type": "stream",
     "text": [
      "── Attaching packages ─────────────────────────────────────── tidyverse 1.3.2 ──\n",
      "✔ ggplot2 3.3.6      ✔ purrr   0.3.4 \n",
      "✔ tibble  3.1.8      ✔ dplyr   1.0.10\n",
      "✔ tidyr   1.2.1      ✔ stringr 1.4.1 \n",
      "✔ readr   2.1.2      ✔ forcats 0.5.2 \n",
      "── Conflicts ────────────────────────────────────────── tidyverse_conflicts() ──\n",
      "✖ dplyr::filter() masks stats::filter()\n",
      "✖ dplyr::lag()    masks stats::lag()\n",
      "\n",
      "    WARNING: The R package \"reticulate\" does not\n",
      "    consider that it could be called from a Python process. This\n",
      "    results in a quasi-obligatory segfault when rpy2 is evaluating\n",
      "    R code using it. On the hand, rpy2 is accounting for the\n",
      "    fact that it might already be running embedded in a Python\n",
      "    process. This is why:\n",
      "    - Python -> rpy2 -> R -> reticulate: crashes\n",
      "    - R -> reticulate -> Python -> rpy2: works\n",
      "\n",
      "    The issue with reticulate is tracked here:\n",
      "    https://github.com/rstudio/reticulate/issues/208\n",
      "    "
     ]
    },
    {
     "name": "stderr",
     "output_type": "stream",
     "text": [
      "R[write to console]: Attaching SeuratObject\n",
      "\n",
      "R[write to console]: Attaching sp\n",
      "\n"
     ]
    },
    {
     "name": "stdout",
     "output_type": "stream",
     "text": [
      "[1] \"/Users/ferran/PhD/yaleCollab/data\"\n"
     ]
    }
   ],
   "source": [
    "%%R -i data_dir\n",
    "library(tidyverse)\n",
    "library(Seurat)\n",
    "\n",
    "paste0(data_dir)"
   ]
  },
  {
   "cell_type": "code",
   "execution_count": 7,
   "metadata": {},
   "outputs": [
    {
     "name": "stdout",
     "output_type": "stream",
     "text": [
      "An object of class Seurat \n",
      "40940 features across 3698 samples within 2 assays \n",
      "Active assay: RNA (20867 features, 10000 variable features)\n",
      " 1 other assay present: SCT\n",
      " 3 dimensional reductions calculated: pca, umap, phate\n"
     ]
    },
    {
     "name": "stderr",
     "output_type": "stream",
     "text": [
      "/Users/ferran/miniconda3/envs/ctest/lib/python3.9/site-packages/anndata2ri/r2py.py:106: FutureWarning: X.dtype being converted to np.float32 from float64. In the next version of anndata (0.9) conversion will not be automatic. Pass dtype explicitly to avoid this warning. Pass `AnnData(X, dtype=X.dtype, ...)` to get the future behavour.\n",
      "  return AnnData(exprs, obs, var, uns, obsm or None, layers=layers)\n"
     ]
    }
   ],
   "source": [
    "%%R -o dGenesSeq,dRnaSeq\n",
    "\n",
    "d_fibWT = readRDS(paste0(data_dir,\"/Omics/\",\"d_fibWT.rds\"))\n",
    "d_fibWT@active.assay <- \"RNA\" #Ensure RNA is default assay\n",
    "print(d_fibWT)\n",
    "#Get genes present in Seurat object\n",
    "dGenesSeq = rownames(d_fibWT@assays$RNA@data)\n",
    "#Convert seurat object to anndata\n",
    "dRnaSeq = as.SingleCellExperiment(d_fibWT)\n",
    "rm(d_fibWT)"
   ]
  },
  {
   "cell_type": "markdown",
   "metadata": {},
   "source": [
    "Export list of genes detected in scRNA-seq dataset.\n",
    "This will be used to subset the Knowledge Graph"
   ]
  },
  {
   "cell_type": "code",
   "execution_count": 8,
   "metadata": {},
   "outputs": [
    {
     "data": {
      "text/plain": [
       "20867"
      ]
     },
     "execution_count": 8,
     "metadata": {},
     "output_type": "execute_result"
    }
   ],
   "source": [
    "len(list(dGenesSeq))"
   ]
  },
  {
   "cell_type": "code",
   "execution_count": 9,
   "metadata": {},
   "outputs": [
    {
     "data": {
      "text/plain": [
       "AnnData object with n_obs × n_vars = 3698 × 20867\n",
       "    obs: 'orig.ident', 'nCount_RNA', 'nFeature_RNA', 'mito_content', 'rfp_content', 'gfp_content', 'nCount_SCT', 'nFeature_SCT', 'S.Score', 'G2M.Score', 'Phase', 'old.ident', 'CCDiff', 'SCT_snn_res.0.6', 'seurat_clusters', 'curatedCLUST', 'old.clust', 'finalPOPS', 'ident'\n",
       "    layers: 'logcounts'"
      ]
     },
     "execution_count": 9,
     "metadata": {},
     "output_type": "execute_result"
    }
   ],
   "source": [
    "dRnaSeq"
   ]
  },
  {
   "cell_type": "markdown",
   "metadata": {},
   "source": [
    "## KG DataBases\n",
    "\n",
    "The integrated database is the object ingested by pykeen's *TriplesFactory*.\n",
    "\n",
    "Then, once the scRNAseq has been loaded in, we can also subset the genes in \n",
    "this dataframe to those present in the scRNA-seq count matrix."
   ]
  },
  {
   "cell_type": "code",
   "execution_count": 10,
   "metadata": {},
   "outputs": [
    {
     "name": "stdout",
     "output_type": "stream",
     "text": [
      "(439023, 2)\n"
     ]
    },
    {
     "data": {
      "text/html": [
       "<div>\n",
       "<style scoped>\n",
       "    .dataframe tbody tr th:only-of-type {\n",
       "        vertical-align: middle;\n",
       "    }\n",
       "\n",
       "    .dataframe tbody tr th {\n",
       "        vertical-align: top;\n",
       "    }\n",
       "\n",
       "    .dataframe thead th {\n",
       "        text-align: right;\n",
       "    }\n",
       "</style>\n",
       "<table border=\"1\" class=\"dataframe\">\n",
       "  <thead>\n",
       "    <tr style=\"text-align: right;\">\n",
       "      <th></th>\n",
       "      <th>0</th>\n",
       "      <th>2</th>\n",
       "    </tr>\n",
       "  </thead>\n",
       "  <tbody>\n",
       "    <tr>\n",
       "      <th>0</th>\n",
       "      <td>Tgfb1</td>\n",
       "      <td>Tgfbr1</td>\n",
       "    </tr>\n",
       "    <tr>\n",
       "      <th>1</th>\n",
       "      <td>Tgfb1</td>\n",
       "      <td>Tgfbr2</td>\n",
       "    </tr>\n",
       "    <tr>\n",
       "      <th>2</th>\n",
       "      <td>Tgfb2</td>\n",
       "      <td>Tgfbr1</td>\n",
       "    </tr>\n",
       "    <tr>\n",
       "      <th>3</th>\n",
       "      <td>Tgfb2</td>\n",
       "      <td>Tgfbr2</td>\n",
       "    </tr>\n",
       "    <tr>\n",
       "      <th>4</th>\n",
       "      <td>Tgfb3</td>\n",
       "      <td>Tgfbr1</td>\n",
       "    </tr>\n",
       "    <tr>\n",
       "      <th>...</th>\n",
       "      <td>...</td>\n",
       "      <td>...</td>\n",
       "    </tr>\n",
       "    <tr>\n",
       "      <th>438929</th>\n",
       "      <td>Paqr8</td>\n",
       "      <td>Efhc1</td>\n",
       "    </tr>\n",
       "    <tr>\n",
       "      <th>438930</th>\n",
       "      <td>Teddm3</td>\n",
       "      <td>Tmem198b</td>\n",
       "    </tr>\n",
       "    <tr>\n",
       "      <th>438931</th>\n",
       "      <td>Teddm3</td>\n",
       "      <td>Slc7a15</td>\n",
       "    </tr>\n",
       "    <tr>\n",
       "      <th>438943</th>\n",
       "      <td>Cys1</td>\n",
       "      <td>Fut2</td>\n",
       "    </tr>\n",
       "    <tr>\n",
       "      <th>438944</th>\n",
       "      <td>Cys1</td>\n",
       "      <td>Cth</td>\n",
       "    </tr>\n",
       "  </tbody>\n",
       "</table>\n",
       "<p>348028 rows × 2 columns</p>\n",
       "</div>"
      ],
      "text/plain": [
       "             0         2\n",
       "0        Tgfb1    Tgfbr1\n",
       "1        Tgfb1    Tgfbr2\n",
       "2        Tgfb2    Tgfbr1\n",
       "3        Tgfb2    Tgfbr2\n",
       "4        Tgfb3    Tgfbr1\n",
       "...        ...       ...\n",
       "438929   Paqr8     Efhc1\n",
       "438930  Teddm3  Tmem198b\n",
       "438931  Teddm3   Slc7a15\n",
       "438943    Cys1      Fut2\n",
       "438944    Cys1       Cth\n",
       "\n",
       "[348028 rows x 2 columns]"
      ]
     },
     "execution_count": 10,
     "metadata": {},
     "output_type": "execute_result"
    }
   ],
   "source": [
    "dEdgeList = pd.read_csv(f\"{data_dir}/dINT_simpl.tsv\", sep=\"\\t\", header=None)[[0,2]]\n",
    "print(dEdgeList.shape)\n",
    "\n",
    "#Filter rows if either column not in list(dGenesSEQ)\n",
    "dEdgeList = dEdgeList.loc[dEdgeList[0].isin(list(dGenesSeq)) & dEdgeList[2].isin(list(dGenesSeq))]\n",
    "dEdgeList"
   ]
  },
  {
   "cell_type": "markdown",
   "metadata": {},
   "source": [
    "## Process scRNA data"
   ]
  },
  {
   "cell_type": "markdown",
   "metadata": {},
   "source": [
    "### Normalise and denoise gene expression data\n",
    "\n",
    "Use MAGIC with all genes to denoise, smooth and inpute missing values.\n",
    "Then subset to genes present in KG.\n",
    "Then normalise so that the gene expression distributions are equally big for each cell."
   ]
  },
  {
   "cell_type": "code",
   "execution_count": 11,
   "metadata": {},
   "outputs": [],
   "source": [
    "#MAGIC"
   ]
  },
  {
   "cell_type": "code",
   "execution_count": 12,
   "metadata": {},
   "outputs": [
    {
     "data": {
      "text/plain": [
       "0          Tgfb1\n",
       "2          Tgfb2\n",
       "4          Tgfb3\n",
       "12          Bmp2\n",
       "17          Bmp4\n",
       "           ...  \n",
       "348019      Cipc\n",
       "348023     Paqr8\n",
       "348024    Teddm3\n",
       "348026      Cys1\n",
       "348512     Gpr19\n",
       "Name: value, Length: 12229, dtype: object"
      ]
     },
     "execution_count": 12,
     "metadata": {},
     "output_type": "execute_result"
    }
   ],
   "source": [
    "gKG = dEdgeList.melt()[\"value\"].drop_duplicates()\n",
    "gKG"
   ]
  },
  {
   "cell_type": "markdown",
   "metadata": {},
   "source": [
    "# Approach 1-DEMD: Project cell data on gene graph\n",
    "\n",
    "First we'll need to build and adjancency matrix from the KG. \n",
    "Then we will compute DEMD with the adjacency matrix and the distributions of \n",
    "normalised gene expression for each cell on our dataset."
   ]
  },
  {
   "cell_type": "markdown",
   "metadata": {},
   "source": [
    "## Adjacency matrix from KG\n",
    "\n",
    "Using [networkx](https://networkx.org/documentation/stable/install.html) package.\n",
    "\n",
    "From the integrated database, we've made a pandas dataframe that has only the \n",
    "source and target columns and then use that to make a NetworkX Graph object \n",
    "with `from_pandas_edgelist`"
   ]
  },
  {
   "cell_type": "code",
   "execution_count": 13,
   "metadata": {},
   "outputs": [],
   "source": [
    "# #First make graph\n",
    "# G = networkx.from_pandas_edgelist(dEdgeList, 0, 2)\n",
    "# G"
   ]
  },
  {
   "cell_type": "code",
   "execution_count": 14,
   "metadata": {},
   "outputs": [],
   "source": [
    "# #Adjacency matrix\n",
    "# AdjMat = networkx.adjacency_matrix(G)\n",
    "# AdjMat"
   ]
  },
  {
   "cell_type": "markdown",
   "metadata": {},
   "source": [
    "## Compute Distances"
   ]
  },
  {
   "cell_type": "markdown",
   "metadata": {},
   "source": [
    "# Approach 2-Wavelets\n",
    "\n",
    "According to Smita should increase biological interpretability \n",
    "(big wavelets capture a biological process/feature)"
   ]
  },
  {
   "cell_type": "code",
   "execution_count": null,
   "metadata": {},
   "outputs": [],
   "source": []
  }
 ],
 "metadata": {
  "kernelspec": {
   "display_name": "Python 3.9.13 ('ctest')",
   "language": "python",
   "name": "python3"
  },
  "language_info": {
   "codemirror_mode": {
    "name": "ipython",
    "version": 3
   },
   "file_extension": ".py",
   "mimetype": "text/x-python",
   "name": "python",
   "nbconvert_exporter": "python",
   "pygments_lexer": "ipython3",
   "version": "3.9.13"
  },
  "vscode": {
   "interpreter": {
    "hash": "91ec059dc1bb9382f25a2cc4e2499abd88519d17f3d6a8aa1035118aa7563391"
   }
  }
 },
 "nbformat": 4,
 "nbformat_minor": 2
}
